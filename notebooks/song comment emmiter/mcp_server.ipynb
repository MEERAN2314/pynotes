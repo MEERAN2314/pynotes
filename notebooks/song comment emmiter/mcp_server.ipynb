{
 "cells": [
  {
   "cell_type": "code",
   "execution_count": 6,
   "id": "99253858-9007-4dc1-91ed-63eefe875640",
   "metadata": {},
   "outputs": [
    {
     "ename": "TypeError",
     "evalue": "name must be an instance of str",
     "output_type": "error",
     "traceback": [
      "\u001b[0;31m---------------------------------------------------------------------------\u001b[0m",
      "\u001b[0;31mTypeError\u001b[0m                                 Traceback (most recent call last)",
      "Cell \u001b[0;32mIn[6], line 19\u001b[0m\n\u001b[1;32m     12\u001b[0m \u001b[38;5;66;03m# MongoDB connection\u001b[39;00m\n\u001b[1;32m     13\u001b[0m client \u001b[38;5;241m=\u001b[39m MongoClient(\n\u001b[1;32m     14\u001b[0m     os\u001b[38;5;241m.\u001b[39mgetenv(\u001b[38;5;124m\"\u001b[39m\u001b[38;5;124mMONGODB_URI\u001b[39m\u001b[38;5;124m\"\u001b[39m),\n\u001b[1;32m     15\u001b[0m     serverSelectionTimeoutMS\u001b[38;5;241m=\u001b[39m\u001b[38;5;241m5000\u001b[39m,  \u001b[38;5;66;03m# 5 second timeout\u001b[39;00m\n\u001b[1;32m     16\u001b[0m     socketTimeoutMS\u001b[38;5;241m=\u001b[39m\u001b[38;5;241m30000\u001b[39m,  \u001b[38;5;66;03m# 30 second socket timeout\u001b[39;00m\n\u001b[1;32m     17\u001b[0m     connectTimeoutMS\u001b[38;5;241m=\u001b[39m\u001b[38;5;241m30000\u001b[39m  \u001b[38;5;66;03m# 30 second connection timeout\u001b[39;00m\n\u001b[1;32m     18\u001b[0m )\n\u001b[0;32m---> 19\u001b[0m db \u001b[38;5;241m=\u001b[39m \u001b[43mclient\u001b[49m\u001b[43m[\u001b[49m\u001b[43mos\u001b[49m\u001b[38;5;241;43m.\u001b[39;49m\u001b[43mgetenv\u001b[49m\u001b[43m(\u001b[49m\u001b[38;5;124;43m\"\u001b[39;49m\u001b[38;5;124;43mDB_NAME\u001b[39;49m\u001b[38;5;124;43m\"\u001b[39;49m\u001b[43m)\u001b[49m\u001b[43m]\u001b[49m\n\u001b[1;32m     20\u001b[0m comments_collection \u001b[38;5;241m=\u001b[39m db[\u001b[38;5;124m'\u001b[39m\u001b[38;5;124msong_comments\u001b[39m\u001b[38;5;124m'\u001b[39m]\n\u001b[1;32m     22\u001b[0m \u001b[38;5;129m@app\u001b[39m\u001b[38;5;241m.\u001b[39mroute(\u001b[38;5;124m'\u001b[39m\u001b[38;5;124m/store_comments\u001b[39m\u001b[38;5;124m'\u001b[39m, methods\u001b[38;5;241m=\u001b[39m[\u001b[38;5;124m'\u001b[39m\u001b[38;5;124mPOST\u001b[39m\u001b[38;5;124m'\u001b[39m])\n\u001b[1;32m     23\u001b[0m \u001b[38;5;28;01mdef\u001b[39;00m\u001b[38;5;250m \u001b[39m\u001b[38;5;21mstore_comments\u001b[39m():\n",
      "File \u001b[0;32m~/miniconda3/envs/py312/lib/python3.12/site-packages/pymongo/mongo_client.py:1597\u001b[0m, in \u001b[0;36mMongoClient.__getitem__\u001b[0;34m(self, name)\u001b[0m\n\u001b[1;32m   1588\u001b[0m \u001b[38;5;28;01mdef\u001b[39;00m\u001b[38;5;250m \u001b[39m\u001b[38;5;21m__getitem__\u001b[39m(\u001b[38;5;28mself\u001b[39m, name: \u001b[38;5;28mstr\u001b[39m) \u001b[38;5;241m-\u001b[39m\u001b[38;5;241m>\u001b[39m database\u001b[38;5;241m.\u001b[39mDatabase[_DocumentType]:\n\u001b[1;32m   1589\u001b[0m \u001b[38;5;250m    \u001b[39m\u001b[38;5;124;03m\"\"\"Get a database by name.\u001b[39;00m\n\u001b[1;32m   1590\u001b[0m \n\u001b[1;32m   1591\u001b[0m \u001b[38;5;124;03m    Raises :class:`~pymongo.errors.InvalidName` if an invalid\u001b[39;00m\n\u001b[0;32m   (...)\u001b[0m\n\u001b[1;32m   1595\u001b[0m \u001b[38;5;124;03m      - `name`: the name of the database to get\u001b[39;00m\n\u001b[1;32m   1596\u001b[0m \u001b[38;5;124;03m    \"\"\"\u001b[39;00m\n\u001b[0;32m-> 1597\u001b[0m     \u001b[38;5;28;01mreturn\u001b[39;00m \u001b[43mdatabase\u001b[49m\u001b[38;5;241;43m.\u001b[39;49m\u001b[43mDatabase\u001b[49m\u001b[43m(\u001b[49m\u001b[38;5;28;43mself\u001b[39;49m\u001b[43m,\u001b[49m\u001b[43m \u001b[49m\u001b[43mname\u001b[49m\u001b[43m)\u001b[49m\n",
      "File \u001b[0;32m~/miniconda3/envs/py312/lib/python3.12/site-packages/pymongo/database.py:137\u001b[0m, in \u001b[0;36mDatabase.__init__\u001b[0;34m(self, client, name, codec_options, read_preference, write_concern, read_concern)\u001b[0m\n\u001b[1;32m    129\u001b[0m \u001b[38;5;28msuper\u001b[39m()\u001b[38;5;241m.\u001b[39m\u001b[38;5;21m__init__\u001b[39m(\n\u001b[1;32m    130\u001b[0m     codec_options \u001b[38;5;129;01mor\u001b[39;00m client\u001b[38;5;241m.\u001b[39mcodec_options,\n\u001b[1;32m    131\u001b[0m     read_preference \u001b[38;5;129;01mor\u001b[39;00m client\u001b[38;5;241m.\u001b[39mread_preference,\n\u001b[1;32m    132\u001b[0m     write_concern \u001b[38;5;129;01mor\u001b[39;00m client\u001b[38;5;241m.\u001b[39mwrite_concern,\n\u001b[1;32m    133\u001b[0m     read_concern \u001b[38;5;129;01mor\u001b[39;00m client\u001b[38;5;241m.\u001b[39mread_concern,\n\u001b[1;32m    134\u001b[0m )\n\u001b[1;32m    136\u001b[0m \u001b[38;5;28;01mif\u001b[39;00m \u001b[38;5;129;01mnot\u001b[39;00m \u001b[38;5;28misinstance\u001b[39m(name, \u001b[38;5;28mstr\u001b[39m):\n\u001b[0;32m--> 137\u001b[0m     \u001b[38;5;28;01mraise\u001b[39;00m \u001b[38;5;167;01mTypeError\u001b[39;00m(\u001b[38;5;124m\"\u001b[39m\u001b[38;5;124mname must be an instance of str\u001b[39m\u001b[38;5;124m\"\u001b[39m)\n\u001b[1;32m    139\u001b[0m \u001b[38;5;28;01mif\u001b[39;00m name \u001b[38;5;241m!=\u001b[39m \u001b[38;5;124m\"\u001b[39m\u001b[38;5;124m$external\u001b[39m\u001b[38;5;124m\"\u001b[39m:\n\u001b[1;32m    140\u001b[0m     _check_name(name)\n",
      "\u001b[0;31mTypeError\u001b[0m: name must be an instance of str"
     ]
    }
   ],
   "source": [
    "from flask import Flask, request, jsonify\n",
    "from flask_cors import CORS\n",
    "from pymongo import MongoClient\n",
    "from dotenv import load_dotenv\n",
    "import os\n",
    "\n",
    "load_dotenv()\n",
    "\n",
    "app = Flask(__name__)\n",
    "CORS(app)\n",
    "\n",
    "# MongoDB connection\n",
    "client = MongoClient(\n",
    "    os.getenv(\"MONGODB_URI\"),\n",
    "    serverSelectionTimeoutMS=5000,  # 5 second timeout\n",
    "    socketTimeoutMS=30000,  # 30 second socket timeout\n",
    "    connectTimeoutMS=30000  # 30 second connection timeout\n",
    ")\n",
    "db = client[os.getenv(\"DB_NAME\")]\n",
    "comments_collection = db['song_comments']\n",
    "\n",
    "@app.route('/store_comments', methods=['POST'])\n",
    "def store_comments():\n",
    "    data = request.json\n",
    "    try:\n",
    "        result = comments_collection.insert_many(data['comments'])\n",
    "        return jsonify({\n",
    "            \"status\": \"success\",\n",
    "            \"inserted_ids\": len(result.inserted_ids)\n",
    "        }), 200\n",
    "    except Exception as e:\n",
    "        return jsonify({\n",
    "            \"status\": \"error\",\n",
    "            \"message\": str(e)\n",
    "        }), 500\n",
    "\n",
    "@app.route('/get_comments', methods=['GET'])\n",
    "def get_comments():\n",
    "    try:\n",
    "        song_id = request.args.get('song_id')\n",
    "        limit = int(request.args.get('limit', 10))\n",
    "        sort_by = request.args.get('sort_by', 'rating')\n",
    "        \n",
    "        query = {\"song_id\": song_id}\n",
    "        comments = list(comments_collection.find(query, {'_id': 0}))\n",
    "        \n",
    "        # Sort comments\n",
    "        if sort_by == 'rating':\n",
    "            comments.sort(key=lambda x: x['rating'], reverse=True)\n",
    "        elif sort_by == 'positive':\n",
    "            comments.sort(key=lambda x: x['sentiment'], reverse=True)\n",
    "        elif sort_by == 'negative':\n",
    "            comments.sort(key=lambda x: x['sentiment'])\n",
    "        \n",
    "        return jsonify({\n",
    "            \"status\": \"success\",\n",
    "            \"comments\": comments[:limit]\n",
    "        }), 200\n",
    "    except Exception as e:\n",
    "        return jsonify({\n",
    "            \"status\": \"error\",\n",
    "            \"message\": str(e)\n",
    "        }), 500\n",
    "\n",
    "if __name__ == '__main__':\n",
    "    app.run(host='0.0.0.0', port=5000)"
   ]
  },
  {
   "cell_type": "code",
   "execution_count": null,
   "id": "52abf4b2-2c6a-42af-b0aa-7c8fbd606953",
   "metadata": {},
   "outputs": [],
   "source": []
  }
 ],
 "metadata": {
  "kernelspec": {
   "display_name": "Python 3 (ipykernel)",
   "language": "python",
   "name": "python3"
  },
  "language_info": {
   "codemirror_mode": {
    "name": "ipython",
    "version": 3
   },
   "file_extension": ".py",
   "mimetype": "text/x-python",
   "name": "python",
   "nbconvert_exporter": "python",
   "pygments_lexer": "ipython3",
   "version": "3.12.11"
  }
 },
 "nbformat": 4,
 "nbformat_minor": 5
}
