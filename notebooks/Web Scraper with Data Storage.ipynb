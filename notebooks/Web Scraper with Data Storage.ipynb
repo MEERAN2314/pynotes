{
 "cells": [
  {
   "cell_type": "code",
   "execution_count": 1,
   "id": "eb29f8d9-81b4-4f9a-b913-1d145bdcc2d7",
   "metadata": {},
   "outputs": [],
   "source": [
    "import requests\n",
    "from bs4 import BeautifulSoup\n",
    "import sqlite3"
   ]
  },
  {
   "cell_type": "code",
   "execution_count": 2,
   "id": "24b026ce-81d2-40e8-a036-86b283c52a6e",
   "metadata": {},
   "outputs": [],
   "source": [
    "def scrape_quotes():\n",
    "    url = \"http://quotes.toscrape.com\"\n",
    "    response = requests.get(url)\n",
    "    soup = BeautifulSoup(response.text, \"html.parser\")\n",
    "    quotes = soup.find_all(\"span\", class_=\"text\")\n",
    "    \n",
    "    conn = sqlite3.connect(\"quotes.db\")\n",
    "    c = conn.cursor()\n",
    "    c.execute(\"CREATE TABLE IF NOT EXISTS quotes (text TEXT, author TEXT)\")\n",
    "    \n",
    "    for quote in quotes:\n",
    "        text = quote.get_text()\n",
    "        author = quote.find_next(\"small\").get_text()\n",
    "        c.execute(\"INSERT INTO quotes VALUES (?, ?)\", (text, author))\n",
    "    \n",
    "    conn.commit()\n",
    "    conn.close()"
   ]
  },
  {
   "cell_type": "code",
   "execution_count": 3,
   "id": "a4ad3a0f-29d9-4312-af00-9158113460c4",
   "metadata": {},
   "outputs": [],
   "source": [
    "scrape_quotes()"
   ]
  },
  {
   "cell_type": "code",
   "execution_count": null,
   "id": "41048af0-aa11-4c2a-84c3-b17f4d7ecfef",
   "metadata": {},
   "outputs": [],
   "source": []
  },
  {
   "cell_type": "code",
   "execution_count": null,
   "id": "82ab85a6-799e-4d3d-a2ca-af4de674079a",
   "metadata": {},
   "outputs": [],
   "source": []
  }
 ],
 "metadata": {
  "kernelspec": {
   "display_name": "Python 3 (ipykernel)",
   "language": "python",
   "name": "python3"
  },
  "language_info": {
   "codemirror_mode": {
    "name": "ipython",
    "version": 3
   },
   "file_extension": ".py",
   "mimetype": "text/x-python",
   "name": "python",
   "nbconvert_exporter": "python",
   "pygments_lexer": "ipython3",
   "version": "3.12.11"
  }
 },
 "nbformat": 4,
 "nbformat_minor": 5
}
