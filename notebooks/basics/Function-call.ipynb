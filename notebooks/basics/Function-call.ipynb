{
 "cells": [
  {
   "cell_type": "code",
   "execution_count": 1,
   "id": "20c4a36b-8ba5-414f-a8e3-08392185a764",
   "metadata": {},
   "outputs": [],
   "source": [
    "# Function call in Python"
   ]
  },
  {
   "cell_type": "code",
   "execution_count": 2,
   "id": "6cf4ce91-60b5-44d2-938d-6576a10fc7af",
   "metadata": {},
   "outputs": [
    {
     "name": "stdout",
     "output_type": "stream",
     "text": [
      "This function does not contain any parameter.\n"
     ]
    }
   ],
   "source": [
    "# Function definition.\n",
    "def funct_name(): # function header.\n",
    "    print('This function does not contain any parameter.')\n",
    "# Main program execution started from here.\n",
    "funct_name() # function calling."
   ]
  },
  {
   "cell_type": "code",
   "execution_count": 3,
   "id": "3b387c77-d73a-4ce3-9e16-36a9cc80d638",
   "metadata": {},
   "outputs": [
    {
     "name": "stdout",
     "output_type": "stream",
     "text": [
      "Sum of two numbers =  50\n"
     ]
    }
   ],
   "source": [
    "# Function definition.\n",
    "def calcSum(x, y): # Here, x and y are local variables.\n",
    "    z = x + y # Here, z is a local variable.\n",
    "    print(\"Sum of two numbers = \",z)\n",
    "# Main program.\n",
    "# Calling a function by passing two argument values.\n",
    "calcSum(20, 30)"
   ]
  },
  {
   "cell_type": "code",
   "execution_count": 4,
   "id": "3e558dc5-2991-4c48-9d7c-1a92d859ae10",
   "metadata": {},
   "outputs": [],
   "source": [
    "# Calling a Function from Another Function in Python"
   ]
  },
  {
   "cell_type": "code",
   "execution_count": 5,
   "id": "df48caa1-c872-4161-a7b2-155ae7843926",
   "metadata": {},
   "outputs": [],
   "source": [
    "# Function1 to take inputs from the user."
   ]
  },
  {
   "cell_type": "code",
   "execution_count": 6,
   "id": "b0dd67ee-18c8-4c2b-a8da-bbadb9376456",
   "metadata": {},
   "outputs": [],
   "source": [
    "def funct_in():\n",
    "    num1 = int(input('Enter your first number: '))\n",
    "    num2 = int(input('Enter your second number: '))\n",
    "    calcSum(num1, num2) # Calling function2 from function1."
   ]
  },
  {
   "cell_type": "code",
   "execution_count": 7,
   "id": "c745ca8f-5001-4225-8663-dd171720f758",
   "metadata": {},
   "outputs": [],
   "source": [
    "# Function2 to calculate the sum of two numbers."
   ]
  },
  {
   "cell_type": "code",
   "execution_count": 8,
   "id": "8b8bb82b-ac9f-4be8-ad87-55fb12dd5f71",
   "metadata": {},
   "outputs": [],
   "source": [
    "def calcSum(num1, num2):\n",
    "    sum = num1 + num2\n",
    "    print(\"Sum of two numbers = \",sum)"
   ]
  },
  {
   "cell_type": "code",
   "execution_count": 9,
   "id": "10fee634-f0db-4746-ad59-3394d4bd8ff3",
   "metadata": {},
   "outputs": [],
   "source": [
    "# Main part of the program."
   ]
  },
  {
   "cell_type": "code",
   "execution_count": 10,
   "id": "1427e4d0-a97f-4a92-8035-4c01c302e52a",
   "metadata": {},
   "outputs": [
    {
     "name": "stdin",
     "output_type": "stream",
     "text": [
      "Enter your first number:  55\n",
      "Enter your second number:  99\n"
     ]
    },
    {
     "name": "stdout",
     "output_type": "stream",
     "text": [
      "Sum of two numbers =  154\n"
     ]
    }
   ],
   "source": [
    "funct_in() # calling function1."
   ]
  },
  {
   "cell_type": "code",
   "execution_count": 11,
   "id": "cdfd0acc-d8e8-46a7-9357-5b01882abb95",
   "metadata": {},
   "outputs": [],
   "source": [
    "# Examples based on Function Call"
   ]
  },
  {
   "cell_type": "code",
   "execution_count": 12,
   "id": "fcd8f8be-ee49-4335-b90c-bcd01788fb4f",
   "metadata": {},
   "outputs": [],
   "source": [
    "# Function1 to take the input from the user."
   ]
  },
  {
   "cell_type": "code",
   "execution_count": 13,
   "id": "5a1e4fe3-6cf7-487f-b471-590cf6a1cf31",
   "metadata": {},
   "outputs": [],
   "source": [
    "def funct_in():\n",
    "    length = int(input('Enter the length of rectangle: '))\n",
    "    breadth = int(input('Enter the breadth of rectangle: '))\n",
    "    calcPer(length, breadth) # Calling function2 from function1.\n",
    "    calcArea(length, breadth) # Calling function3 from the function1."
   ]
  },
  {
   "cell_type": "code",
   "execution_count": 14,
   "id": "c40b2bcf-fbd6-4ec7-a993-eceff56e3768",
   "metadata": {},
   "outputs": [],
   "source": [
    "# Function2 to calculate the perimeter of rectangle."
   ]
  },
  {
   "cell_type": "code",
   "execution_count": 15,
   "id": "e526a713-03f1-4941-8b48-5575f23f6a86",
   "metadata": {},
   "outputs": [],
   "source": [
    "def calcPer(l, b):\n",
    "    per = 2 * (l + b)\n",
    "    print(\"Perimeter of the rectangle = \",per)"
   ]
  },
  {
   "cell_type": "code",
   "execution_count": 16,
   "id": "0e364325-216f-4ac3-8423-8eedc53c2b3e",
   "metadata": {},
   "outputs": [],
   "source": [
    "# Function3 to calculate the area of the rectangle."
   ]
  },
  {
   "cell_type": "code",
   "execution_count": 17,
   "id": "98469fa9-4f6c-4381-aec4-b654a633d80a",
   "metadata": {},
   "outputs": [],
   "source": [
    "def calcArea(l, b):\n",
    "    area = l * b\n",
    "    print('Area of the rectangle =',area)"
   ]
  },
  {
   "cell_type": "code",
   "execution_count": 18,
   "id": "64ad612d-424a-4396-8240-ad979b2df739",
   "metadata": {},
   "outputs": [],
   "source": [
    "# Main part of the program."
   ]
  },
  {
   "cell_type": "code",
   "execution_count": 19,
   "id": "e17a0014-f8f9-4d33-8f62-ca62b462e199",
   "metadata": {},
   "outputs": [
    {
     "name": "stdin",
     "output_type": "stream",
     "text": [
      "Enter the length of rectangle:  42\n",
      "Enter the breadth of rectangle:  42\n"
     ]
    },
    {
     "name": "stdout",
     "output_type": "stream",
     "text": [
      "Perimeter of the rectangle =  168\n",
      "Area of the rectangle = 1764\n"
     ]
    }
   ],
   "source": [
    "funct_in() # calling function1."
   ]
  },
  {
   "cell_type": "code",
   "execution_count": 20,
   "id": "66c9132b-26a4-4acf-bea4-66424308c8c5",
   "metadata": {},
   "outputs": [],
   "source": [
    "# Example 2:"
   ]
  },
  {
   "cell_type": "code",
   "execution_count": 21,
   "id": "ca80fde2-9de1-48f3-89e9-cc946155b2f9",
   "metadata": {},
   "outputs": [],
   "source": [
    "# Function1 to calculate addition of two numbers."
   ]
  },
  {
   "cell_type": "code",
   "execution_count": 22,
   "id": "11963760-9f8c-495f-b5e1-83623ccd2809",
   "metadata": {},
   "outputs": [],
   "source": [
    "def add(x, y):\n",
    "    z = x + y\n",
    "    print(\"Addition:\",z)"
   ]
  },
  {
   "cell_type": "code",
   "execution_count": 23,
   "id": "9c5f6ea5-9595-4aac-8af9-1667323cab45",
   "metadata": {},
   "outputs": [],
   "source": [
    "# Function2 to calculate the subtraction.\n"
   ]
  },
  {
   "cell_type": "code",
   "execution_count": 24,
   "id": "5c85b05c-4582-4097-b2a4-9d629be4523d",
   "metadata": {},
   "outputs": [],
   "source": [
    "def sub(p, q):\n",
    "    r = p - q\n",
    "    print(\"Subtraction:\",r)"
   ]
  },
  {
   "cell_type": "code",
   "execution_count": 25,
   "id": "99e9160e-d533-4095-8499-ea16ec8d03af",
   "metadata": {},
   "outputs": [],
   "source": [
    "# Function3 to calculate the multiplication"
   ]
  },
  {
   "cell_type": "code",
   "execution_count": 26,
   "id": "b9c640bd-0ad6-426a-b9fa-4b758ea7be62",
   "metadata": {},
   "outputs": [],
   "source": [
    "def multiply(a, b):\n",
    "    c = a * b\n",
    "    print('Multiplication:',c)"
   ]
  },
  {
   "cell_type": "code",
   "execution_count": 27,
   "id": "46c1f336-b29f-4929-a58c-3b53df97b834",
   "metadata": {},
   "outputs": [],
   "source": [
    "# Function4 to calculate the division."
   ]
  },
  {
   "cell_type": "code",
   "execution_count": 28,
   "id": "14aaf22c-f663-45b2-abc6-d222c6520bfb",
   "metadata": {},
   "outputs": [],
   "source": [
    "def div(n, m):\n",
    "    d = n / m\n",
    "    print('Division:',d)"
   ]
  },
  {
   "cell_type": "code",
   "execution_count": 29,
   "id": "5f616174-d15e-479f-98cf-31dc93ef0b51",
   "metadata": {},
   "outputs": [],
   "source": [
    "# Function5 to take inputs from the user and calling."
   ]
  },
  {
   "cell_type": "code",
   "execution_count": 30,
   "id": "526af686-208b-4783-a467-104986470828",
   "metadata": {},
   "outputs": [],
   "source": [
    "def main_funct():\n",
    "    n1 = int(input('Enter your first number: '))\n",
    "    n2 = int(input('Enter your second number: '))\n",
    "    add(n1, n2)\n",
    "    sub(n1, n2)\n",
    "    multiply(n1, n2)\n",
    "    div(n1, n2)"
   ]
  },
  {
   "cell_type": "code",
   "execution_count": 31,
   "id": "d231c596-56cb-46ee-aa73-19ac77c73c4e",
   "metadata": {},
   "outputs": [],
   "source": [
    "# Main program."
   ]
  },
  {
   "cell_type": "code",
   "execution_count": 32,
   "id": "3f45a321-7051-469a-9956-fc798770293f",
   "metadata": {},
   "outputs": [
    {
     "name": "stdin",
     "output_type": "stream",
     "text": [
      "Enter your first number:  100\n",
      "Enter your second number:  33\n"
     ]
    },
    {
     "name": "stdout",
     "output_type": "stream",
     "text": [
      "Addition: 133\n",
      "Subtraction: 67\n",
      "Multiplication: 3300\n",
      "Division: 3.0303030303030303\n"
     ]
    }
   ],
   "source": [
    "main_funct() # calling function5."
   ]
  },
  {
   "cell_type": "code",
   "execution_count": 33,
   "id": "d011227c-5471-4f8e-b790-cc711a294a4e",
   "metadata": {},
   "outputs": [],
   "source": [
    "# Example 3:"
   ]
  },
  {
   "cell_type": "code",
   "execution_count": 34,
   "id": "4f4172be-e8e2-4110-a628-f700441e70fe",
   "metadata": {},
   "outputs": [
    {
     "name": "stdout",
     "output_type": "stream",
     "text": [
      "Square of 5 = 25\n"
     ]
    }
   ],
   "source": [
    "def square(num):\n",
    "    result = num * num\n",
    "    print(\"Square of\",num,\"=\",result)\n",
    "square(5)"
   ]
  },
  {
   "cell_type": "code",
   "execution_count": 35,
   "id": "0f5f7b47-ac0d-476b-a259-15a7385555c7",
   "metadata": {},
   "outputs": [],
   "source": [
    "# Example 4:"
   ]
  },
  {
   "cell_type": "code",
   "execution_count": 36,
   "id": "423cfbd8-fe90-4736-9649-b6ab7873a121",
   "metadata": {},
   "outputs": [],
   "source": [
    "# Python program to swap two numbers."
   ]
  },
  {
   "cell_type": "code",
   "execution_count": 37,
   "id": "5638fb79-dc4d-4e91-a911-a030030eeb08",
   "metadata": {},
   "outputs": [],
   "source": [
    "def swap(x, y):\n",
    "    print('Before swapping: ')\n",
    "    print('x:',x)\n",
    "    print('y:',y)\n",
    "    temp = x\n",
    "    x = y\n",
    "    y = temp\n",
    "    print('After swapping: ')\n",
    "    print('x:',x)\n",
    "    print('y:',y)"
   ]
  },
  {
   "cell_type": "code",
   "execution_count": 38,
   "id": "5ad5fa20-ef8e-4434-a9a8-1e8d46de0dc6",
   "metadata": {},
   "outputs": [],
   "source": [
    "# Calling function with passing two arguments."
   ]
  },
  {
   "cell_type": "code",
   "execution_count": 39,
   "id": "241884f9-759a-4f69-b05c-ef21e88e676d",
   "metadata": {},
   "outputs": [
    {
     "name": "stdout",
     "output_type": "stream",
     "text": [
      "Before swapping: \n",
      "x: 20\n",
      "y: 10\n",
      "After swapping: \n",
      "x: 10\n",
      "y: 20\n"
     ]
    }
   ],
   "source": [
    "swap(20, 10)"
   ]
  },
  {
   "cell_type": "code",
   "execution_count": 40,
   "id": "339fe23f-9330-4956-8761-55aa72bd730d",
   "metadata": {},
   "outputs": [],
   "source": [
    "# Example 5:"
   ]
  },
  {
   "cell_type": "code",
   "execution_count": 41,
   "id": "8228ff24-6116-4bea-9ac1-1b9637c6bac0",
   "metadata": {},
   "outputs": [],
   "source": [
    "# Python program to check a number is even or odd."
   ]
  },
  {
   "cell_type": "code",
   "execution_count": 1,
   "id": "893b1bdc-2b88-4889-b52b-66569dc709d1",
   "metadata": {},
   "outputs": [
    {
     "name": "stdin",
     "output_type": "stream",
     "text": [
      "Enter your number to check even or odd:  54\n"
     ]
    },
    {
     "name": "stdout",
     "output_type": "stream",
     "text": [
      "54 is an even number.\n"
     ]
    }
   ],
   "source": [
    "num = int(input('Enter your number to check even or odd: '))\n",
    "# Create a function.\n",
    "def evenorodd():\n",
    "    if num % 2 == 0:\n",
    "        print(num,'is an even number.')\n",
    "    else:\n",
    "        print(num,'is an odd number.')\n",
    "# Calling function.\n",
    "evenorodd()"
   ]
  },
  {
   "cell_type": "code",
   "execution_count": 2,
   "id": "73628de8-0e8d-4ac0-a1d1-c29f8e92b123",
   "metadata": {},
   "outputs": [],
   "source": [
    "# Python program to check a year is leap or not."
   ]
  },
  {
   "cell_type": "code",
   "execution_count": 3,
   "id": "b4109b18-2303-4cb6-bc1f-f468b035dc32",
   "metadata": {},
   "outputs": [
    {
     "name": "stdin",
     "output_type": "stream",
     "text": [
      "Enter a year:  2014\n"
     ]
    },
    {
     "name": "stdout",
     "output_type": "stream",
     "text": [
      "2014 is not a leap year.\n"
     ]
    }
   ],
   "source": [
    "year = int(input('Enter a year: '))\n",
    "def leap():\n",
    "    if year % 4 == 0 and year % 100 != 0 or year % 400 == 0:\n",
    "        print(year,'is a leap year.')\n",
    "    else:\n",
    "        print(year,'is not a leap year.')\n",
    "# Calling function.\n",
    "leap()"
   ]
  },
  {
   "cell_type": "code",
   "execution_count": 4,
   "id": "f79faac3-ab77-4428-9a35-95c1c9781350",
   "metadata": {},
   "outputs": [
    {
     "name": "stdin",
     "output_type": "stream",
     "text": [
      "Enter a year:  2012\n"
     ]
    },
    {
     "name": "stdout",
     "output_type": "stream",
     "text": [
      "2012 is a leap year.\n"
     ]
    }
   ],
   "source": [
    "year = int(input('Enter a year: '))\n",
    "def leap():\n",
    "    if year % 4 == 0 and year % 100 != 0 or year % 400 == 0:\n",
    "        print(year,'is a leap year.')\n",
    "    else:\n",
    "        print(year,'is not a leap year.')\n",
    "# Calling function.\n",
    "leap()"
   ]
  },
  {
   "cell_type": "code",
   "execution_count": 5,
   "id": "4ffe7642-742c-495e-a336-f6245760c944",
   "metadata": {},
   "outputs": [],
   "source": [
    "# Some More Example Program for Practice"
   ]
  },
  {
   "cell_type": "code",
   "execution_count": 6,
   "id": "5d9cb0ed-a9a5-401e-ab49-d596f5bd5eb2",
   "metadata": {},
   "outputs": [],
   "source": [
    "# Python program to check a number is prime or not."
   ]
  },
  {
   "cell_type": "code",
   "execution_count": 7,
   "id": "b58c3e44-5e3e-4455-9eb2-112bb2c3f184",
   "metadata": {},
   "outputs": [],
   "source": [
    "# Create a function to check conditions for the prime."
   ]
  },
  {
   "cell_type": "code",
   "execution_count": 8,
   "id": "6630bd83-21e0-46b4-a438-1d3f59561401",
   "metadata": {},
   "outputs": [
    {
     "name": "stdin",
     "output_type": "stream",
     "text": [
      "Enter a number to check prime or not:  107\n"
     ]
    },
    {
     "name": "stdout",
     "output_type": "stream",
     "text": [
      "107 is a prime number.\n",
      "107 is a prime number.\n",
      "107 is a prime number.\n",
      "107 is a prime number.\n",
      "107 is a prime number.\n",
      "107 is a prime number.\n",
      "107 is a prime number.\n",
      "107 is a prime number.\n",
      "107 is a prime number.\n",
      "107 is a prime number.\n",
      "107 is a prime number.\n",
      "107 is a prime number.\n",
      "107 is a prime number.\n",
      "107 is a prime number.\n",
      "107 is a prime number.\n",
      "107 is a prime number.\n",
      "107 is a prime number.\n",
      "107 is a prime number.\n",
      "107 is a prime number.\n",
      "107 is a prime number.\n",
      "107 is a prime number.\n",
      "107 is a prime number.\n",
      "107 is a prime number.\n",
      "107 is a prime number.\n",
      "107 is a prime number.\n",
      "107 is a prime number.\n",
      "107 is a prime number.\n",
      "107 is a prime number.\n",
      "107 is a prime number.\n",
      "107 is a prime number.\n",
      "107 is a prime number.\n",
      "107 is a prime number.\n",
      "107 is a prime number.\n",
      "107 is a prime number.\n",
      "107 is a prime number.\n",
      "107 is a prime number.\n",
      "107 is a prime number.\n",
      "107 is a prime number.\n",
      "107 is a prime number.\n",
      "107 is a prime number.\n",
      "107 is a prime number.\n",
      "107 is a prime number.\n",
      "107 is a prime number.\n",
      "107 is a prime number.\n",
      "107 is a prime number.\n",
      "107 is a prime number.\n",
      "107 is a prime number.\n",
      "107 is a prime number.\n",
      "107 is a prime number.\n",
      "107 is a prime number.\n",
      "107 is a prime number.\n",
      "107 is a prime number.\n"
     ]
    }
   ],
   "source": [
    "def primeChecker(n):\n",
    "    # Using if-else statement for checking the number is greater than 1.\n",
    "    if n > 1:\n",
    "        # Iterating over the number using for loop.\n",
    "        for x in range(2, int(n/2) + 1):\n",
    "            # Check the number is divisible or not.\n",
    "            if (n % x) == 0:\n",
    "                print(n, \"is not a prime number.\")\n",
    "                break\n",
    "           # Else part if it is a prime number.\n",
    "            else:\n",
    "                print(n, \"is a prime number.\")\n",
    "    # Else part if the number is not greater than 1.\n",
    "    else:\n",
    "        print(x, \"is not a prime number\")\n",
    "\n",
    "# Main part of the program.\n",
    "# Take a number as input from the user.\n",
    "n = int(input(\"Enter a number to check prime or not: \"))\n",
    "# Calling function with passing input number.\n",
    "primeChecker(n)"
   ]
  },
  {
   "cell_type": "code",
   "execution_count": 9,
   "id": "849597a1-edb8-4964-9278-fb138daae232",
   "metadata": {},
   "outputs": [
    {
     "name": "stdout",
     "output_type": "stream",
     "text": [
      "[1, 4, 9, 16, 25, 36, 49, 64, 81, 100]\n"
     ]
    }
   ],
   "source": [
    "def sqList():\n",
    "  # Creating an empty list that will hold values.\n",
    "    l = list()\n",
    "    for x in range(1, 11):\n",
    "        l.append(x ** 2)\n",
    "    print(l)\n",
    "# Function call.\n",
    "sqList()"
   ]
  },
  {
   "cell_type": "code",
   "execution_count": 10,
   "id": "eacb4c6b-9f62-4007-aff2-0d935cde8d7f",
   "metadata": {},
   "outputs": [
    {
     "name": "stdout",
     "output_type": "stream",
     "text": [
      "Total marks obtained: 418\n",
      "Percentage: 83.6\n"
     ]
    }
   ],
   "source": [
    "def totalMarks():\n",
    "  # Marks of five subjects for a student.\n",
    "    marks = [68, 98, 78, 88, 86]\n",
    "  # Transferring individual marks into independent variable.\n",
    "    m1 = marks[0]\n",
    "    m2 = marks[1]\n",
    "    m3 = marks[2]\n",
    "    m4 = marks[3]\n",
    "    m5 = marks[4]\n",
    "  # Total marks.\n",
    "    totMarks = m1 + m2 + m3 + m4 + m5\n",
    "    print('Total marks obtained:',totMarks)\n",
    "  # Percentage.\n",
    "    per = totMarks / 5\n",
    "    print('Percentage:',per)\n",
    "# Function call.\n",
    "totalMarks()"
   ]
  },
  {
   "cell_type": "code",
   "execution_count": null,
   "id": "c23cc530-04eb-4e98-ac1c-cda3b4e9c122",
   "metadata": {},
   "outputs": [],
   "source": []
  }
 ],
 "metadata": {
  "kernelspec": {
   "display_name": "Python 3 (ipykernel)",
   "language": "python",
   "name": "python3"
  },
  "language_info": {
   "codemirror_mode": {
    "name": "ipython",
    "version": 3
   },
   "file_extension": ".py",
   "mimetype": "text/x-python",
   "name": "python",
   "nbconvert_exporter": "python",
   "pygments_lexer": "ipython3",
   "version": "3.12.11"
  }
 },
 "nbformat": 4,
 "nbformat_minor": 5
}
