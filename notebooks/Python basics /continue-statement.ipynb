{
 "cells": [
  {
   "cell_type": "code",
   "execution_count": 1,
   "id": "00185aae-aba5-4be1-b6da-b543704ee194",
   "metadata": {},
   "outputs": [],
   "source": [
    "# Syntax of Continue Statement in Python"
   ]
  },
  {
   "cell_type": "code",
   "execution_count": 2,
   "id": "59c81420-ee55-4504-bfd1-3530a26d3f1a",
   "metadata": {},
   "outputs": [
    {
     "name": "stdout",
     "output_type": "stream",
     "text": [
      "Skipping the loop at n\n"
     ]
    }
   ],
   "source": [
    "for letter in 'Technology':\n",
    "    if letter == 'n':\n",
    "        print('Skipping the loop at', letter)\n",
    "        continue"
   ]
  },
  {
   "cell_type": "code",
   "execution_count": 3,
   "id": "9c4bac06-44b2-4cf1-8672-2f9f7f1742fd",
   "metadata": {},
   "outputs": [
    {
     "name": "stdout",
     "output_type": "stream",
     "text": [
      "y\n"
     ]
    }
   ],
   "source": [
    "   print(letter)"
   ]
  },
  {
   "cell_type": "code",
   "execution_count": 4,
   "id": "27bc017c-12dd-4c39-b35b-c8f3267c77b6",
   "metadata": {},
   "outputs": [
    {
     "name": "stdout",
     "output_type": "stream",
     "text": [
      "T\n",
      "e\n",
      "c\n",
      "h\n",
      "Skipping the loop at n\n",
      "o\n",
      "l\n",
      "o\n",
      "g\n",
      "y\n"
     ]
    }
   ],
   "source": [
    "for letter in 'Technology':\n",
    "    if letter == 'n':\n",
    "        print('Skipping the loop at', letter)\n",
    "        continue\n",
    "    print(letter)\n"
   ]
  },
  {
   "cell_type": "code",
   "execution_count": 5,
   "id": "3bc01207-9789-4dfc-a0bc-6b7f61d7bdf3",
   "metadata": {},
   "outputs": [
    {
     "name": "stdout",
     "output_type": "stream",
     "text": [
      "1\n",
      "2\n",
      "Continue without 3\n",
      "4\n",
      "5\n"
     ]
    }
   ],
   "source": [
    "for x in range(1, 6):\n",
    "    if x == 3:\n",
    "        print('Continue without 3')\n",
    "        continue # It will skip the rest iteration and go back in the for loop with the next iteration.\n",
    "    print(x)"
   ]
  },
  {
   "cell_type": "code",
   "execution_count": 6,
   "id": "9c122677-2027-4e23-86fc-89aac143f13b",
   "metadata": {},
   "outputs": [],
   "source": [
    "# Displaying numbers using continue statement."
   ]
  },
  {
   "cell_type": "code",
   "execution_count": 7,
   "id": "09731c16-ad4b-4056-9116-e5f960fa8a7a",
   "metadata": {},
   "outputs": [],
   "source": [
    "# while loop."
   ]
  },
  {
   "cell_type": "code",
   "execution_count": 8,
   "id": "a2882358-2ba5-4144-b8a0-202a4e5de477",
   "metadata": {},
   "outputs": [
    {
     "name": "stdout",
     "output_type": "stream",
     "text": [
      "1\n",
      "2\n",
      "4\n",
      "5\n",
      "6\n"
     ]
    }
   ],
   "source": [
    "x = 1 # Initialization.\n",
    "while x <= 6:\n",
    "    if x == 3:\n",
    "        x = x + 1\n",
    "        continue\n",
    "    print(x)\n",
    "    x = x + 1"
   ]
  },
  {
   "cell_type": "code",
   "execution_count": 9,
   "id": "41bb06ab-b74a-4008-af05-cb13882647ba",
   "metadata": {},
   "outputs": [],
   "source": [
    "# Outer loop."
   ]
  },
  {
   "cell_type": "code",
   "execution_count": 10,
   "id": "104df1d3-aef2-4806-8f3b-44a2b1ad61b9",
   "metadata": {},
   "outputs": [
    {
     "name": "stdout",
     "output_type": "stream",
     "text": [
      "1 1\n",
      "1 2\n",
      "1 3\n",
      "2 1\n",
      "2 2\n",
      "3 1\n",
      "3 2\n",
      "3 3\n"
     ]
    }
   ],
   "source": [
    "for x in range(1, 4):\n",
    "   # Inner loop.\n",
    "     for y in range(1, 4):\n",
    "       if x == 2 and y == 3:\n",
    "           continue # continue statement inside the inner for loop.\n",
    "       print(x,y)"
   ]
  },
  {
   "cell_type": "code",
   "execution_count": 11,
   "id": "1331b810-dbee-4884-9625-926ac1a26abc",
   "metadata": {},
   "outputs": [
    {
     "name": "stdout",
     "output_type": "stream",
     "text": [
      "2\n",
      "3\n",
      "4\n",
      "40\n",
      "5\n",
      "50\n",
      "6\n",
      "60\n"
     ]
    }
   ],
   "source": [
    "for x in range(1, 7):\n",
    "    if x < 2:\n",
    "        continue\n",
    "    print(x)\n",
    "    if x < 4:\n",
    "        continue\n",
    "    print(10 * x)"
   ]
  },
  {
   "cell_type": "code",
   "execution_count": null,
   "id": "501b3656-ad4a-466c-ac44-5f908a237ae4",
   "metadata": {},
   "outputs": [],
   "source": []
  }
 ],
 "metadata": {
  "kernelspec": {
   "display_name": "Python 3 (ipykernel)",
   "language": "python",
   "name": "python3"
  },
  "language_info": {
   "codemirror_mode": {
    "name": "ipython",
    "version": 3
   },
   "file_extension": ".py",
   "mimetype": "text/x-python",
   "name": "python",
   "nbconvert_exporter": "python",
   "pygments_lexer": "ipython3",
   "version": "3.12.11"
  }
 },
 "nbformat": 4,
 "nbformat_minor": 5
}
