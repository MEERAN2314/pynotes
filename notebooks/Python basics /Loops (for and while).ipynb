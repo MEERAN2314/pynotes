{
 "cells": [
  {
   "cell_type": "code",
   "execution_count": 1,
   "id": "a071c2bc-4614-473b-a28c-2ab9c2ed3fb4",
   "metadata": {},
   "outputs": [
    {
     "name": "stdout",
     "output_type": "stream",
     "text": [
      "Counting to 5:\n",
      "1\n",
      "2\n",
      "3\n",
      "4\n",
      "5\n",
      "\n",
      "While loop example:\n",
      "Count is 0\n",
      "Count is 1\n",
      "Count is 2\n",
      "\n",
      "Loop control:\n",
      "0\n",
      "1\n",
      "3\n",
      "4\n",
      "5\n",
      "6\n"
     ]
    }
   ],
   "source": [
    "print(\"Counting to 5:\")\n",
    "for i in range(1, 6):\n",
    "    print(i)\n",
    "\n",
    "\n",
    "count = 0\n",
    "print(\"\\nWhile loop example:\")\n",
    "while count < 3:\n",
    "    print(f\"Count is {count}\")\n",
    "    count += 1\n",
    "\n",
    "print(\"\\nLoop control:\")\n",
    "for num in range(10):\n",
    "    if num == 2:\n",
    "        continue  \n",
    "    if num == 7:\n",
    "        break     \n",
    "    print(num)"
   ]
  },
  {
   "cell_type": "code",
   "execution_count": null,
   "id": "ab7ca2a9-fb09-417b-98ca-d44210414820",
   "metadata": {},
   "outputs": [],
   "source": []
  }
 ],
 "metadata": {
  "kernelspec": {
   "display_name": "Python 3 (ipykernel)",
   "language": "python",
   "name": "python3"
  },
  "language_info": {
   "codemirror_mode": {
    "name": "ipython",
    "version": 3
   },
   "file_extension": ".py",
   "mimetype": "text/x-python",
   "name": "python",
   "nbconvert_exporter": "python",
   "pygments_lexer": "ipython3",
   "version": "3.12.11"
  }
 },
 "nbformat": 4,
 "nbformat_minor": 5
}
