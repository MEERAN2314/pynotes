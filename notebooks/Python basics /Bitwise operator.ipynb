{
 "cells": [
  {
   "cell_type": "code",
   "execution_count": 1,
   "id": "1d370e34-51bc-4364-8be3-3bdd72c09862",
   "metadata": {},
   "outputs": [],
   "source": [
    "# Bitwise Operators in Python"
   ]
  },
  {
   "cell_type": "code",
   "execution_count": 2,
   "id": "a18be03a-e051-468b-ab7d-1f268d484dc0",
   "metadata": {},
   "outputs": [],
   "source": [
    "# &     Bitwise AND                 Binary\n",
    "# |     Bitwise OR                  Binary\n",
    "# ^     Bitwise XOR (Exclusive OR)  Binary\n",
    "# ~     Bitwise NOT                 Unary\n",
    "# <<    Bitwise Left Shift          Binary\n",
    "# >>    Bitwise Right Shift         Binary"
   ]
  },
  {
   "cell_type": "code",
   "execution_count": 3,
   "id": "ffc55e98-7f8e-4ad2-9800-64e944227860",
   "metadata": {},
   "outputs": [],
   "source": [
    "# Bitwise AND operator (&)\n"
   ]
  },
  {
   "cell_type": "code",
   "execution_count": 4,
   "id": "c73292d1-9736-4cc6-bc79-bed5c0541698",
   "metadata": {},
   "outputs": [],
   "source": [
    "A = 2\n",
    "B = 6\n",
    "result = A & B\n"
   ]
  },
  {
   "cell_type": "code",
   "execution_count": 5,
   "id": "fd2479a2-b66b-4332-94a0-4fb96dacc081",
   "metadata": {},
   "outputs": [
    {
     "name": "stdout",
     "output_type": "stream",
     "text": [
      "Result of (2 & 6):  2\n"
     ]
    }
   ],
   "source": [
    "print(\"Result of (2 & 6): \", result)\n"
   ]
  },
  {
   "cell_type": "code",
   "execution_count": 7,
   "id": "352b4d92-585d-4a21-a034-378b15fd3ee4",
   "metadata": {},
   "outputs": [],
   "source": [
    "A = 25\n",
    "B = 45\n",
    "result = A & B"
   ]
  },
  {
   "cell_type": "code",
   "execution_count": null,
   "id": "d222b53f-30ad-4ef0-a550-4c1a77e77fde",
   "metadata": {},
   "outputs": [],
   "source": []
  },
  {
   "cell_type": "code",
   "execution_count": 8,
   "id": "d66676a7-6295-4fbd-8d4a-19ee64dc8cf6",
   "metadata": {},
   "outputs": [
    {
     "name": "stdout",
     "output_type": "stream",
     "text": [
      "Result of (25 & 45):  9\n"
     ]
    }
   ],
   "source": [
    "print(\"Result of (25 & 45): \", result)"
   ]
  },
  {
   "cell_type": "code",
   "execution_count": 9,
   "id": "b8813d88-49db-4039-b42c-a2abca7b1515",
   "metadata": {},
   "outputs": [],
   "source": [
    "A = -25\n",
    "B = 45\n",
    "result = A & B"
   ]
  },
  {
   "cell_type": "code",
   "execution_count": 10,
   "id": "7de582ab-23b4-48c3-894f-72313550a717",
   "metadata": {},
   "outputs": [
    {
     "name": "stdout",
     "output_type": "stream",
     "text": [
      "Result of (-25 & 45):  37\n"
     ]
    }
   ],
   "source": [
    "print(\"Result of (-25 & 45): \", result)"
   ]
  },
  {
   "cell_type": "code",
   "execution_count": 11,
   "id": "8f41cb27-f72f-409a-b9d2-1cbae6ed9797",
   "metadata": {},
   "outputs": [],
   "source": [
    "X = True\n",
    "Y = 45\n",
    "result = X & Y"
   ]
  },
  {
   "cell_type": "code",
   "execution_count": 12,
   "id": "6af58212-8c3a-4799-87f5-89c075801af5",
   "metadata": {},
   "outputs": [
    {
     "name": "stdout",
     "output_type": "stream",
     "text": [
      "Result of (True & 10):  1\n"
     ]
    }
   ],
   "source": [
    "print(\"Result of (True & 10): \", result)\n"
   ]
  },
  {
   "cell_type": "code",
   "execution_count": 13,
   "id": "fcb30993-2621-41cf-80c2-d28ad289d778",
   "metadata": {},
   "outputs": [],
   "source": [
    "P = False\n",
    "Q = 15\n",
    "result = P & Q"
   ]
  },
  {
   "cell_type": "code",
   "execution_count": 14,
   "id": "e4cd8a17-ad93-40cf-be0a-7f1e91cdce4b",
   "metadata": {},
   "outputs": [
    {
     "name": "stdout",
     "output_type": "stream",
     "text": [
      "Result of (False & 20):  0\n"
     ]
    }
   ],
   "source": [
    "print(\"Result of (False & 20): \", result)"
   ]
  },
  {
   "cell_type": "code",
   "execution_count": 15,
   "id": "6e0359cd-501e-438a-b323-ac698883d71c",
   "metadata": {},
   "outputs": [],
   "source": [
    "# Bitwise OR operator (|)"
   ]
  },
  {
   "cell_type": "code",
   "execution_count": 16,
   "id": "03163289-7272-44fd-9b3b-ceacca165f0d",
   "metadata": {},
   "outputs": [],
   "source": [
    "A = 2\n",
    "B = 6\n",
    "result = A | B\n"
   ]
  },
  {
   "cell_type": "code",
   "execution_count": 17,
   "id": "80e4b3dc-c876-457b-8742-3a5e80666f72",
   "metadata": {},
   "outputs": [
    {
     "name": "stdout",
     "output_type": "stream",
     "text": [
      "Result of (2 | 6):  6\n"
     ]
    }
   ],
   "source": [
    "print(\"Result of (2 | 6): \", result)"
   ]
  },
  {
   "cell_type": "code",
   "execution_count": 18,
   "id": "6e760eba-924f-4847-af44-a877caf0b8a7",
   "metadata": {},
   "outputs": [],
   "source": [
    "A = 25\n",
    "B = 45\n",
    "result = A | B"
   ]
  },
  {
   "cell_type": "code",
   "execution_count": 19,
   "id": "4dd1a4c4-e12f-4684-b9a6-096a466ce5bd",
   "metadata": {},
   "outputs": [
    {
     "name": "stdout",
     "output_type": "stream",
     "text": [
      "Result of (25 | 45):  61\n"
     ]
    }
   ],
   "source": [
    "print(\"Result of (25 | 45): \", result)"
   ]
  },
  {
   "cell_type": "code",
   "execution_count": 20,
   "id": "9f3c7fdb-689e-43b8-bb87-2e644d35a249",
   "metadata": {},
   "outputs": [],
   "source": [
    "A = -25\n",
    "B = 45\n",
    "result = A | B"
   ]
  },
  {
   "cell_type": "code",
   "execution_count": 21,
   "id": "63936263-0492-431d-9085-d85bc46218fd",
   "metadata": {},
   "outputs": [
    {
     "name": "stdout",
     "output_type": "stream",
     "text": [
      "Result of (-25 | 45):  -17\n"
     ]
    }
   ],
   "source": [
    "print(\"Result of (-25 | 45): \", result)"
   ]
  },
  {
   "cell_type": "code",
   "execution_count": 22,
   "id": "6c86d482-38b8-49dd-9a9c-fa5439189d03",
   "metadata": {},
   "outputs": [],
   "source": [
    "X = True\n",
    "Y = 45\n",
    "result = X | Y"
   ]
  },
  {
   "cell_type": "code",
   "execution_count": 23,
   "id": "fd7fd2ca-ae94-4ce7-bd86-47044405a33b",
   "metadata": {},
   "outputs": [
    {
     "name": "stdout",
     "output_type": "stream",
     "text": [
      "Result of (True | 10):  45\n"
     ]
    }
   ],
   "source": [
    "print(\"Result of (True | 10): \", result)"
   ]
  },
  {
   "cell_type": "code",
   "execution_count": 24,
   "id": "2a589ed4-f19d-43a4-89f6-0582c1a4349a",
   "metadata": {},
   "outputs": [],
   "source": [
    "P = False\n",
    "Q = 15\n",
    "result = P | Q"
   ]
  },
  {
   "cell_type": "code",
   "execution_count": 25,
   "id": "01c21dca-3b5f-4361-acd9-2ac10f8a6020",
   "metadata": {},
   "outputs": [
    {
     "name": "stdout",
     "output_type": "stream",
     "text": [
      "Result of (False | 20):  15\n"
     ]
    }
   ],
   "source": [
    "print(\"Result of (False | 20): \", result)"
   ]
  },
  {
   "cell_type": "code",
   "execution_count": 26,
   "id": "afc1f1eb-3acf-4180-ac3b-e1ebaa4e8ec2",
   "metadata": {},
   "outputs": [],
   "source": [
    "# Bitwise XOR operator (^)"
   ]
  },
  {
   "cell_type": "code",
   "execution_count": 27,
   "id": "c9538f9e-3d84-4cd6-9c59-b6498514260c",
   "metadata": {},
   "outputs": [],
   "source": [
    "A = 2\n",
    "B = 6\n",
    "result = A ^ B"
   ]
  },
  {
   "cell_type": "code",
   "execution_count": 28,
   "id": "9b53260e-53b4-4f36-9627-7b053163695a",
   "metadata": {},
   "outputs": [
    {
     "name": "stdout",
     "output_type": "stream",
     "text": [
      "Result of (A ^ B):  4\n"
     ]
    }
   ],
   "source": [
    "print(\"Result of (A ^ B): \", result)"
   ]
  },
  {
   "cell_type": "code",
   "execution_count": 29,
   "id": "71e82fde-e0d1-4c54-8182-38372133dbc2",
   "metadata": {},
   "outputs": [],
   "source": [
    "A = 25\n",
    "B = 45\n",
    "result = A ^ B"
   ]
  },
  {
   "cell_type": "code",
   "execution_count": 30,
   "id": "49f4dcb7-3cec-4dde-be7c-063704956d39",
   "metadata": {},
   "outputs": [
    {
     "name": "stdout",
     "output_type": "stream",
     "text": [
      "Result of (25 ^ 45):  52\n"
     ]
    }
   ],
   "source": [
    "print(\"Result of (25 ^ 45): \", result)"
   ]
  },
  {
   "cell_type": "code",
   "execution_count": 31,
   "id": "2de090d9-0eac-40d8-9b72-ba83e1d3890a",
   "metadata": {},
   "outputs": [],
   "source": [
    "X = True\n",
    "Y = 45\n",
    "result = X ^ Y"
   ]
  },
  {
   "cell_type": "code",
   "execution_count": 32,
   "id": "8a2221aa-4b03-4637-bb52-dfd92156249d",
   "metadata": {},
   "outputs": [
    {
     "name": "stdout",
     "output_type": "stream",
     "text": [
      "Result of (True ^ 10):  44\n"
     ]
    }
   ],
   "source": [
    "print(\"Result of (True ^ 10): \", result)"
   ]
  },
  {
   "cell_type": "code",
   "execution_count": 33,
   "id": "72a8233c-e055-4833-80cc-ee6a4fc7c4bc",
   "metadata": {},
   "outputs": [],
   "source": [
    "P = False\n",
    "Q = 15\n",
    "result = P ^ Q"
   ]
  },
  {
   "cell_type": "code",
   "execution_count": 34,
   "id": "bbc6a943-f846-474b-94fb-9b498d2bdc88",
   "metadata": {},
   "outputs": [
    {
     "name": "stdout",
     "output_type": "stream",
     "text": [
      "Result of (False ^ 20):  15\n"
     ]
    }
   ],
   "source": [
    "print(\"Result of (False ^ 20): \", result)"
   ]
  },
  {
   "cell_type": "code",
   "execution_count": 35,
   "id": "a7a4b6f4-5b6c-46fd-97ee-d69663c2d45b",
   "metadata": {},
   "outputs": [],
   "source": [
    "# Bitwise NOT operator (~)"
   ]
  },
  {
   "cell_type": "code",
   "execution_count": 36,
   "id": "b5f64bec-2c45-451f-b1f5-7073af55d138",
   "metadata": {},
   "outputs": [],
   "source": [
    "A = 3\n",
    "B = 1\n",
    "result = A << B"
   ]
  },
  {
   "cell_type": "code",
   "execution_count": 37,
   "id": "85d66fd5-6f6e-4cc9-a793-27c39037ad51",
   "metadata": {},
   "outputs": [
    {
     "name": "stdout",
     "output_type": "stream",
     "text": [
      "Result of (A << B):  6\n"
     ]
    }
   ],
   "source": [
    "print(\"Result of (A << B): \", result)"
   ]
  },
  {
   "cell_type": "code",
   "execution_count": 38,
   "id": "ad7dd277-a3ca-4c73-af45-17be11728c95",
   "metadata": {},
   "outputs": [],
   "source": [
    "X = 3\n",
    "Y = 2\n",
    "result = X << Y"
   ]
  },
  {
   "cell_type": "code",
   "execution_count": 39,
   "id": "0699b745-9e65-4d98-b8dd-f949e71f6d90",
   "metadata": {},
   "outputs": [
    {
     "name": "stdout",
     "output_type": "stream",
     "text": [
      "Result of (X << Y):  12\n"
     ]
    }
   ],
   "source": [
    "print(\"Result of (X << Y): \", result)"
   ]
  },
  {
   "cell_type": "code",
   "execution_count": 40,
   "id": "247db00e-01a2-4073-a721-b30774fdc447",
   "metadata": {},
   "outputs": [],
   "source": [
    "X = 25\n",
    "Y = 2\n",
    "result = X << Y"
   ]
  },
  {
   "cell_type": "code",
   "execution_count": 41,
   "id": "216dbaef-ca71-4c44-82a7-64c666b54578",
   "metadata": {},
   "outputs": [
    {
     "name": "stdout",
     "output_type": "stream",
     "text": [
      "Result of (A << B):  100\n"
     ]
    }
   ],
   "source": [
    "print(\"Result of (A << B): \", result)"
   ]
  },
  {
   "cell_type": "code",
   "execution_count": 42,
   "id": "4db61357-cfa9-485f-9e5d-ffdc20a772cb",
   "metadata": {},
   "outputs": [],
   "source": [
    "# Bitwise Right Shift Operator (>>)"
   ]
  },
  {
   "cell_type": "code",
   "execution_count": 43,
   "id": "ebcdf8d2-f1ed-4b00-8949-c15f97ad340e",
   "metadata": {},
   "outputs": [],
   "source": [
    "A = 6\n",
    "B = 1\n",
    "result = A >> B"
   ]
  },
  {
   "cell_type": "code",
   "execution_count": 44,
   "id": "4ded8ca5-7106-4c91-b4a4-97df87138edc",
   "metadata": {},
   "outputs": [
    {
     "name": "stdout",
     "output_type": "stream",
     "text": [
      "Result of (A >> B):  3\n"
     ]
    }
   ],
   "source": [
    "print(\"Result of (A >> B): \", result)"
   ]
  },
  {
   "cell_type": "code",
   "execution_count": 45,
   "id": "74e39434-49ca-419a-a87c-807297a4b1c1",
   "metadata": {},
   "outputs": [],
   "source": [
    "X = 6\n",
    "Y = 2\n",
    "result = X >> Y"
   ]
  },
  {
   "cell_type": "code",
   "execution_count": 46,
   "id": "3304fbe6-092c-4bbf-be0a-41c5fd42dd34",
   "metadata": {},
   "outputs": [
    {
     "name": "stdout",
     "output_type": "stream",
     "text": [
      "Result of (X >> Y):  1\n"
     ]
    }
   ],
   "source": [
    "print(\"Result of (X >> Y): \", result)"
   ]
  },
  {
   "cell_type": "code",
   "execution_count": 47,
   "id": "ea5a3b0d-9968-477a-b3fd-ac4ca2d2e292",
   "metadata": {},
   "outputs": [
    {
     "name": "stdin",
     "output_type": "stream",
     "text": [
      "Enter your first number:  5\n",
      "Enter your second number:  9\n",
      "Enter the number of bits to be shifted towards left and right:  2\n"
     ]
    },
    {
     "name": "stdout",
     "output_type": "stream",
     "text": [
      "Outcome of bitwise &:  1\n",
      "Outcome of bitwise |:  13\n",
      "Outcome of bitwise ^:  12\n",
      "Outcome of bitwise ~:  -6\n",
      "Outcome of bitwise ~:  -10\n",
      "Outcome of bitwise <<:  20\n",
      "Outcome of bitwise >>:  1\n"
     ]
    }
   ],
   "source": [
    "p = int(input('Enter your first number: '))\n",
    "q = int(input('Enter your second number: '))\n",
    "r = int(input('Enter the number of bits to be shifted towards left and right: '))\n",
    "\n",
    "print('Outcome of bitwise &: ', p & q)\n",
    "print('Outcome of bitwise |: ', p | q)\n",
    "\n",
    "print('Outcome of bitwise ^: ', p ^ q)\n",
    "print('Outcome of bitwise ~: ', ~p)\n",
    "\n",
    "print('Outcome of bitwise ~: ', ~q)\n",
    "print('Outcome of bitwise <<: ', p << r) ;print('Outcome of bitwise >>: ', p >> r)"
   ]
  },
  {
   "cell_type": "code",
   "execution_count": 48,
   "id": "fe111814-0abd-42b7-82ae-29c4c0829f53",
   "metadata": {},
   "outputs": [
    {
     "name": "stdin",
     "output_type": "stream",
     "text": [
      "Enter your first number:  4\n",
      "Enter your second number:  2\n",
      "Enter the number of bits to be shifted towards left and right:  9\n"
     ]
    },
    {
     "name": "stdout",
     "output_type": "stream",
     "text": [
      "Outcome of bitwise &:  0\n",
      "Outcome of bitwise |:  6\n",
      "Outcome of bitwise ^:  6\n",
      "Outcome of bitwise ~:  -5\n",
      "Outcome of bitwise ~:  -3\n",
      "Outcome of bitwise <<:  2048\n",
      "Outcome of bitwise >>:  0\n"
     ]
    }
   ],
   "source": [
    "p = int(input('Enter your first number: '))\n",
    "q = int(input('Enter your second number: '))\n",
    "r = int(input('Enter the number of bits to be shifted towards left and right: '))\n",
    "\n",
    "print('Outcome of bitwise &: ', p & q)\n",
    "print('Outcome of bitwise |: ', p | q)\n",
    "\n",
    "print('Outcome of bitwise ^: ', p ^ q)\n",
    "print('Outcome of bitwise ~: ', ~p)\n",
    "\n",
    "print('Outcome of bitwise ~: ', ~q)\n",
    "print('Outcome of bitwise <<: ', p << r) ;print('Outcome of bitwise >>: ', p >> r)"
   ]
  },
  {
   "cell_type": "code",
   "execution_count": 49,
   "id": "a35d3293-2a43-4b93-b928-257d7840ba60",
   "metadata": {},
   "outputs": [
    {
     "name": "stdin",
     "output_type": "stream",
     "text": [
      "Enter your first number:  1\n",
      "Enter your second number:  10\n",
      "Enter the number of bits to be shifted towards left and right:  5\n"
     ]
    },
    {
     "name": "stdout",
     "output_type": "stream",
     "text": [
      "Outcome of bitwise &:  0\n",
      "Outcome of bitwise |:  11\n",
      "Outcome of bitwise ^:  11\n",
      "Outcome of bitwise ~:  -2\n",
      "Outcome of bitwise ~:  -11\n",
      "Outcome of bitwise <<:  32\n",
      "Outcome of bitwise >>:  0\n"
     ]
    }
   ],
   "source": [
    "p = int(input('Enter your first number: '))\n",
    "q = int(input('Enter your second number: '))\n",
    "r = int(input('Enter the number of bits to be shifted towards left and right: '))\n",
    "\n",
    "print('Outcome of bitwise &: ', p & q)\n",
    "print('Outcome of bitwise |: ', p | q)\n",
    "\n",
    "print('Outcome of bitwise ^: ', p ^ q)\n",
    "print('Outcome of bitwise ~: ', ~p)\n",
    "\n",
    "print('Outcome of bitwise ~: ', ~q)\n",
    "print('Outcome of bitwise <<: ', p << r) ;print('Outcome of bitwise >>: ', p >> r)\n"
   ]
  },
  {
   "cell_type": "code",
   "execution_count": null,
   "id": "5ff88930-2812-45c7-8b70-d12146e52a41",
   "metadata": {},
   "outputs": [],
   "source": []
  }
 ],
 "metadata": {
  "kernelspec": {
   "display_name": "Python 3 (ipykernel)",
   "language": "python",
   "name": "python3"
  },
  "language_info": {
   "codemirror_mode": {
    "name": "ipython",
    "version": 3
   },
   "file_extension": ".py",
   "mimetype": "text/x-python",
   "name": "python",
   "nbconvert_exporter": "python",
   "pygments_lexer": "ipython3",
   "version": "3.12.11"
  }
 },
 "nbformat": 4,
 "nbformat_minor": 5
}
