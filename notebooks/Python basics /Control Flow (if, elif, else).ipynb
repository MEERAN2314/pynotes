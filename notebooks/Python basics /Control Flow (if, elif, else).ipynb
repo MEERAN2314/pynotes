{
 "cells": [
  {
   "cell_type": "code",
   "execution_count": 2,
   "id": "4a221813-c1cd-47d5-9a26-e9e86c0baa34",
   "metadata": {},
   "outputs": [
    {
     "name": "stdout",
     "output_type": "stream",
     "text": [
      "You are an adult\n",
      "Your grade is B\n",
      "18 is Even\n"
     ]
    }
   ],
   "source": [
    "\n",
    "age = 18\n",
    "if age >= 18:\n",
    "    print(\"You are an adult\")\n",
    "else:\n",
    "    print(\"You are a minor\")\n",
    "\n",
    "\n",
    "score = 85\n",
    "if score >= 90:\n",
    "    grade = 'A'\n",
    "elif score >= 80:\n",
    "    grade = 'B'\n",
    "elif score >= 70:\n",
    "    grade = 'C'\n",
    "else:\n",
    "    grade = 'D'\n",
    "print(f\"Your grade is {grade}\")\n",
    "\n",
    "\n",
    "is_even = \"Even\" if (age % 2 == 0) else \"Odd\"\n",
    "print(f\"{age} is {is_even}\")"
   ]
  },
  {
   "cell_type": "code",
   "execution_count": null,
   "id": "f6c7b9b4-ebe8-42d7-8e89-cfd8d3edcacc",
   "metadata": {},
   "outputs": [],
   "source": []
  }
 ],
 "metadata": {
  "kernelspec": {
   "display_name": "Python 3 (ipykernel)",
   "language": "python",
   "name": "python3"
  },
  "language_info": {
   "codemirror_mode": {
    "name": "ipython",
    "version": 3
   },
   "file_extension": ".py",
   "mimetype": "text/x-python",
   "name": "python",
   "nbconvert_exporter": "python",
   "pygments_lexer": "ipython3",
   "version": "3.12.11"
  }
 },
 "nbformat": 4,
 "nbformat_minor": 5
}
