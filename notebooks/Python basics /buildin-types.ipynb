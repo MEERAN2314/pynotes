{
 "cells": [
  {
   "cell_type": "code",
   "execution_count": 1,
   "id": "e290f6d3-628d-45ff-be82-23da9b7ca10e",
   "metadata": {},
   "outputs": [],
   "source": [
    "#  Dynamic data"
   ]
  },
  {
   "cell_type": "code",
   "execution_count": 2,
   "id": "008b2a6a-d1aa-4359-886b-783e0be36f05",
   "metadata": {},
   "outputs": [],
   "source": [
    "#  which means we dont want to specify a data type when assigning to a variable"
   ]
  },
  {
   "cell_type": "code",
   "execution_count": 3,
   "id": "e9196cdb-b5b2-47e0-948c-41b8e4ee7b50",
   "metadata": {},
   "outputs": [],
   "source": [
    "#  the change in the value leads to a change in data type"
   ]
  },
  {
   "cell_type": "code",
   "execution_count": 4,
   "id": "a30ac445-36d1-4d0a-a137-276b4076f736",
   "metadata": {},
   "outputs": [],
   "source": [
    "my_var = \"Hi Friends!\" # holding string.\n",
    "my_var = 25 # same variable holding numeric value.\n",
    "my_var = True #holding a boolean "
   ]
  },
  {
   "cell_type": "code",
   "execution_count": 5,
   "id": "7eac1fc4-fcf7-4204-9fe7-378469cc1781",
   "metadata": {},
   "outputs": [],
   "source": [
    "# print(my_var)"
   ]
  },
  {
   "cell_type": "code",
   "execution_count": 6,
   "id": "4ea1792a-6af2-4bd3-b87b-f810fdb3a16e",
   "metadata": {},
   "outputs": [],
   "source": [
    "num1 = 10 #--> string value \n",
    "percentage = 80.50 # --> floating value"
   ]
  },
  {
   "cell_type": "code",
   "execution_count": 7,
   "id": "e9493421-e7cd-4514-8067-bf049270f642",
   "metadata": {},
   "outputs": [
    {
     "name": "stdout",
     "output_type": "stream",
     "text": [
      "10\n",
      "80.5\n"
     ]
    }
   ],
   "source": [
    "print(num1)\n",
    "print(percentage)"
   ]
  },
  {
   "cell_type": "code",
   "execution_count": 8,
   "id": "6b34f38f-c019-4149-ae9d-6ab883045084",
   "metadata": {},
   "outputs": [],
   "source": [
    "#  Int Data type"
   ]
  },
  {
   "cell_type": "code",
   "execution_count": 9,
   "id": "83dd8abd-6f00-4f41-927a-a838484dfd77",
   "metadata": {},
   "outputs": [],
   "source": [
    "num1 = 10\n",
    "num2 = 20\n",
    "num3 = 30"
   ]
  },
  {
   "cell_type": "code",
   "execution_count": 11,
   "id": "3d68d329-6cd6-4fdf-aa49-f28df1430f9b",
   "metadata": {},
   "outputs": [
    {
     "name": "stdout",
     "output_type": "stream",
     "text": [
      "10\n"
     ]
    }
   ],
   "source": [
    "print(num1)"
   ]
  },
  {
   "cell_type": "code",
   "execution_count": 12,
   "id": "3419fb2c-9be2-4684-a6d3-cde40497c9a6",
   "metadata": {},
   "outputs": [
    {
     "name": "stdout",
     "output_type": "stream",
     "text": [
      "20\n"
     ]
    }
   ],
   "source": [
    "print(num2)"
   ]
  },
  {
   "cell_type": "code",
   "execution_count": 13,
   "id": "a17d4747-dbf4-4e66-8a30-b71742597210",
   "metadata": {},
   "outputs": [
    {
     "name": "stdout",
     "output_type": "stream",
     "text": [
      "30\n"
     ]
    }
   ],
   "source": [
    "print(num3)"
   ]
  },
  {
   "cell_type": "code",
   "execution_count": 14,
   "id": "dd5ec0a4-180e-43fc-b62b-19f360418387",
   "metadata": {},
   "outputs": [
    {
     "name": "stdout",
     "output_type": "stream",
     "text": [
      "10\n",
      "20\n",
      "30\n"
     ]
    }
   ],
   "source": [
    "print(num1)\n",
    "print(num2)\n",
    "print(num3)\n"
   ]
  },
  {
   "cell_type": "code",
   "execution_count": 15,
   "id": "336030ee-8520-41c6-8986-b9c4ff783149",
   "metadata": {},
   "outputs": [],
   "source": [
    "#  Floating data type\n"
   ]
  },
  {
   "cell_type": "code",
   "execution_count": 16,
   "id": "ad678926-0565-47e1-8b41-5966808c5424",
   "metadata": {},
   "outputs": [],
   "source": [
    "num1 = 10.555\n",
    "num2 = 20.99"
   ]
  },
  {
   "cell_type": "code",
   "execution_count": 17,
   "id": "b3bdaf41-b623-42be-b974-62c69f21b49b",
   "metadata": {},
   "outputs": [],
   "source": [
    "result = num1 + num2"
   ]
  },
  {
   "cell_type": "code",
   "execution_count": 18,
   "id": "78608a97-d951-44f0-ae9c-8a96c5481d83",
   "metadata": {},
   "outputs": [
    {
     "name": "stdout",
     "output_type": "stream",
     "text": [
      "31.544999999999998\n"
     ]
    }
   ],
   "source": [
    "print(result)"
   ]
  },
  {
   "cell_type": "code",
   "execution_count": 19,
   "id": "f94f787b-4773-48bb-b807-b968e9e1be6d",
   "metadata": {},
   "outputs": [],
   "source": [
    "#  Complex Data type"
   ]
  },
  {
   "cell_type": "code",
   "execution_count": 20,
   "id": "1f3ff049-aadb-41da-8b5e-624d8994976d",
   "metadata": {},
   "outputs": [],
   "source": [
    "num1 = 2 + 5j\n",
    "num2 = 3.5 + 7.5j"
   ]
  },
  {
   "cell_type": "code",
   "execution_count": 21,
   "id": "3e28e829-4c90-4016-922b-a8c4cccf5ae6",
   "metadata": {},
   "outputs": [],
   "source": [
    "result = num1 + num2"
   ]
  },
  {
   "cell_type": "code",
   "execution_count": 22,
   "id": "986ae0ab-d3a1-4c21-9bce-80419651b1da",
   "metadata": {},
   "outputs": [
    {
     "name": "stdout",
     "output_type": "stream",
     "text": [
      "(5.5+12.5j)\n"
     ]
    }
   ],
   "source": [
    "print(result)"
   ]
  },
  {
   "cell_type": "code",
   "execution_count": 23,
   "id": "fdfc6104-8e19-47ae-99b8-1a9a7cdb8ffa",
   "metadata": {},
   "outputs": [],
   "source": [
    "#  determine the type of variable"
   ]
  },
  {
   "cell_type": "code",
   "execution_count": 24,
   "id": "54de5c08-8684-486d-9e1a-fa963f0d72ba",
   "metadata": {},
   "outputs": [],
   "source": [
    "num1 = 50\n",
    "num2 = 20.50"
   ]
  },
  {
   "cell_type": "code",
   "execution_count": 25,
   "id": "5a14c6ba-c171-4456-ab33-f084a47d09d4",
   "metadata": {},
   "outputs": [],
   "source": [
    "num3 = 3.5 + 7.5j"
   ]
  },
  {
   "cell_type": "code",
   "execution_count": 26,
   "id": "54e4c00b-16e1-4bfb-baa2-34e149e5115b",
   "metadata": {},
   "outputs": [
    {
     "name": "stdout",
     "output_type": "stream",
     "text": [
      "<class 'int'>\n"
     ]
    }
   ],
   "source": [
    "print(type(num1))"
   ]
  },
  {
   "cell_type": "code",
   "execution_count": 27,
   "id": "8a1a414b-e353-47ab-8365-785e433c9031",
   "metadata": {},
   "outputs": [
    {
     "name": "stdout",
     "output_type": "stream",
     "text": [
      "<class 'float'>\n"
     ]
    }
   ],
   "source": [
    "print(type(num2))"
   ]
  },
  {
   "cell_type": "code",
   "execution_count": 28,
   "id": "ba894043-e790-47aa-9b03-dc711fc0f2fd",
   "metadata": {},
   "outputs": [
    {
     "name": "stdout",
     "output_type": "stream",
     "text": [
      "<class 'complex'>\n"
     ]
    }
   ],
   "source": [
    "print(type(num3))"
   ]
  },
  {
   "cell_type": "code",
   "execution_count": 29,
   "id": "4fa27fd2-10aa-4ade-9f90-4dacea1d3176",
   "metadata": {},
   "outputs": [
    {
     "name": "stdout",
     "output_type": "stream",
     "text": [
      "<class 'int'>\n",
      "<class 'float'>\n",
      "<class 'complex'>\n"
     ]
    }
   ],
   "source": [
    "print(type(num1))\n",
    "print(type(num2))\n",
    "print(type(num3))"
   ]
  },
  {
   "cell_type": "code",
   "execution_count": 30,
   "id": "255ed032-b1de-4afa-a5ca-0e8e5964dfe5",
   "metadata": {},
   "outputs": [],
   "source": [
    "num1 = 20\n",
    "num2 = 50"
   ]
  },
  {
   "cell_type": "code",
   "execution_count": 31,
   "id": "bead388c-4b5c-450f-9a17-308cdc272373",
   "metadata": {},
   "outputs": [],
   "source": [
    "del num1"
   ]
  },
  {
   "cell_type": "code",
   "execution_count": 32,
   "id": "31ee115b-1da3-4d49-8936-2457e1d1764a",
   "metadata": {},
   "outputs": [
    {
     "ename": "NameError",
     "evalue": "name 'num1' is not defined",
     "output_type": "error",
     "traceback": [
      "\u001b[0;31m---------------------------------------------------------------------------\u001b[0m",
      "\u001b[0;31mNameError\u001b[0m                                 Traceback (most recent call last)",
      "Cell \u001b[0;32mIn[32], line 1\u001b[0m\n\u001b[0;32m----> 1\u001b[0m \u001b[38;5;28mprint\u001b[39m(\u001b[43mnum1\u001b[49m) \u001b[38;5;66;03m# --> iwll raise error because num1 deleted \u001b[39;00m\n",
      "\u001b[0;31mNameError\u001b[0m: name 'num1' is not defined"
     ]
    }
   ],
   "source": [
    "print(num1) # --> iwll raise error because num1 deleted "
   ]
  },
  {
   "cell_type": "code",
   "execution_count": 33,
   "id": "7018afb2-1d9e-44d3-af46-6983ce74feec",
   "metadata": {},
   "outputs": [],
   "source": [
    "# Boolean Data type"
   ]
  },
  {
   "cell_type": "code",
   "execution_count": 34,
   "id": "b5cc3469-8f67-458b-aa88-ef6c0b8699d9",
   "metadata": {},
   "outputs": [],
   "source": [
    "a = (10 >= 4)\n",
    "\n",
    "\n"
   ]
  },
  {
   "cell_type": "code",
   "execution_count": 35,
   "id": "15f729cd-e5c2-4254-bf2c-a03458c5cda9",
   "metadata": {},
   "outputs": [],
   "source": [
    "b = (25 == 5 * 5)"
   ]
  },
  {
   "cell_type": "code",
   "execution_count": 36,
   "id": "8c727e32-5733-4e02-a3be-0692300e5a0d",
   "metadata": {},
   "outputs": [],
   "source": [
    "c = (18 != 2 * 9)"
   ]
  },
  {
   "cell_type": "code",
   "execution_count": 37,
   "id": "46ab4087-a969-495d-942e-dbe8a9de3e9f",
   "metadata": {},
   "outputs": [
    {
     "name": "stdout",
     "output_type": "stream",
     "text": [
      "True True False\n"
     ]
    }
   ],
   "source": [
    "print(a, b, c)"
   ]
  },
  {
   "cell_type": "code",
   "execution_count": 38,
   "id": "eb9a051f-46e5-448f-9527-609e025f54c3",
   "metadata": {},
   "outputs": [],
   "source": [
    "# None Data type"
   ]
  },
  {
   "cell_type": "code",
   "execution_count": 39,
   "id": "864a5f1b-8909-47a4-88eb-cf935f6bb69c",
   "metadata": {},
   "outputs": [],
   "source": [
    "a = None"
   ]
  },
  {
   "cell_type": "code",
   "execution_count": 40,
   "id": "1bcc3247-5751-476f-b03f-3fd9d9093d84",
   "metadata": {},
   "outputs": [
    {
     "name": "stdout",
     "output_type": "stream",
     "text": [
      "None\n"
     ]
    }
   ],
   "source": [
    "print(a)"
   ]
  },
  {
   "cell_type": "code",
   "execution_count": 41,
   "id": "d3bcf737-0527-44de-a90f-e17f9cc01ecb",
   "metadata": {},
   "outputs": [
    {
     "name": "stdout",
     "output_type": "stream",
     "text": [
      "<class 'NoneType'>\n"
     ]
    }
   ],
   "source": [
    "print(type(a))"
   ]
  },
  {
   "cell_type": "code",
   "execution_count": 42,
   "id": "203446ca-c559-4c47-a197-9ce5dd921a6a",
   "metadata": {},
   "outputs": [],
   "source": [
    "#  String Data type"
   ]
  },
  {
   "cell_type": "code",
   "execution_count": 43,
   "id": "b7663fa2-b7eb-496a-a9d6-873a95ed4473",
   "metadata": {},
   "outputs": [],
   "source": [
    "str1 = \"Hello Meeran\""
   ]
  },
  {
   "cell_type": "code",
   "execution_count": 44,
   "id": "56784d28-9b9a-4699-a96c-84f545a5a875",
   "metadata": {},
   "outputs": [],
   "source": [
    "str2 = 'How are you ?'"
   ]
  },
  {
   "cell_type": "code",
   "execution_count": 45,
   "id": "96236078-b97a-4454-9f16-aab770a9c4da",
   "metadata": {},
   "outputs": [
    {
     "name": "stdout",
     "output_type": "stream",
     "text": [
      "Hello Meeran\n"
     ]
    }
   ],
   "source": [
    "print(str1)"
   ]
  },
  {
   "cell_type": "code",
   "execution_count": 46,
   "id": "01d1e3c8-a966-4418-b900-9800a6d22607",
   "metadata": {},
   "outputs": [
    {
     "name": "stdout",
     "output_type": "stream",
     "text": [
      "How are you ?\n"
     ]
    }
   ],
   "source": [
    "print(str2)"
   ]
  },
  {
   "cell_type": "code",
   "execution_count": 47,
   "id": "5a1efe2c-e111-4f00-89e7-095b0a497994",
   "metadata": {},
   "outputs": [
    {
     "name": "stdout",
     "output_type": "stream",
     "text": [
      "<class 'str'>\n"
     ]
    }
   ],
   "source": [
    "print(type(str1))"
   ]
  },
  {
   "cell_type": "code",
   "execution_count": 48,
   "id": "0616df14-cb0b-484f-a17c-b1f71944b5ab",
   "metadata": {},
   "outputs": [],
   "source": [
    "#  List Data type"
   ]
  },
  {
   "cell_type": "code",
   "execution_count": 49,
   "id": "15a8399c-90d2-4a81-ad42-e4b275c9123b",
   "metadata": {},
   "outputs": [],
   "source": [
    "list = [10, 20.50, \"Python\", True]"
   ]
  },
  {
   "cell_type": "code",
   "execution_count": 50,
   "id": "cda6a817-1f16-497f-9888-090a46718758",
   "metadata": {},
   "outputs": [
    {
     "name": "stdout",
     "output_type": "stream",
     "text": [
      "[10, 20.5, 'Python', True]\n"
     ]
    }
   ],
   "source": [
    "print(list)"
   ]
  },
  {
   "cell_type": "code",
   "execution_count": 51,
   "id": "4c5e63fc-a4b3-43ac-a1dd-d15c8e8b5a65",
   "metadata": {},
   "outputs": [
    {
     "name": "stdout",
     "output_type": "stream",
     "text": [
      "<class 'list'>\n"
     ]
    }
   ],
   "source": [
    "print(type(list))"
   ]
  },
  {
   "cell_type": "code",
   "execution_count": 52,
   "id": "98ee7b6f-5cd5-43fe-8af0-94e939b19975",
   "metadata": {},
   "outputs": [],
   "source": [
    "num_list = [10, 20, 30, 40]"
   ]
  },
  {
   "cell_type": "code",
   "execution_count": 53,
   "id": "42a5d392-6fd1-4f5a-a3d7-0c3a23649ffa",
   "metadata": {},
   "outputs": [
    {
     "name": "stdout",
     "output_type": "stream",
     "text": [
      "[10, 20, 30, 40]\n"
     ]
    }
   ],
   "source": [
    "print(num_list)"
   ]
  },
  {
   "cell_type": "code",
   "execution_count": 54,
   "id": "f6d2a1e1-9e93-430f-87bc-462f5fc5166e",
   "metadata": {},
   "outputs": [],
   "source": [
    "num_list[2] = 50 "
   ]
  },
  {
   "cell_type": "code",
   "execution_count": 55,
   "id": "b5096b47-554a-4153-a29b-74c549e427fb",
   "metadata": {},
   "outputs": [
    {
     "name": "stdout",
     "output_type": "stream",
     "text": [
      "[10, 20, 50, 40]\n"
     ]
    }
   ],
   "source": [
    "print(num_list)"
   ]
  },
  {
   "cell_type": "code",
   "execution_count": 56,
   "id": "d3559312-cff9-4760-b701-2e49776c6da9",
   "metadata": {},
   "outputs": [],
   "source": [
    "# Tuple Data type"
   ]
  },
  {
   "cell_type": "code",
   "execution_count": 57,
   "id": "2814518b-2070-4407-bfac-9554c1292ce0",
   "metadata": {},
   "outputs": [],
   "source": [
    "t = (10, 20, \"Python\", 2 + 10j)"
   ]
  },
  {
   "cell_type": "code",
   "execution_count": 58,
   "id": "ff6e1d38-cb73-4460-a85a-e7452e629b27",
   "metadata": {},
   "outputs": [
    {
     "name": "stdout",
     "output_type": "stream",
     "text": [
      "(10, 20, 'Python', (2+10j))\n"
     ]
    }
   ],
   "source": [
    "print(t)"
   ]
  },
  {
   "cell_type": "code",
   "execution_count": 59,
   "id": "745d9c8e-ff25-4b7a-bcb9-d899c330003f",
   "metadata": {},
   "outputs": [
    {
     "name": "stdout",
     "output_type": "stream",
     "text": [
      "<class 'tuple'>\n"
     ]
    }
   ],
   "source": [
    "print(type(t))"
   ]
  },
  {
   "cell_type": "code",
   "execution_count": 60,
   "id": "851fbe47-a8c0-48e3-a68e-5815d2b17fe1",
   "metadata": {},
   "outputs": [],
   "source": [
    "# Set Data type"
   ]
  },
  {
   "cell_type": "code",
   "execution_count": 61,
   "id": "34df7dd7-a359-428f-8ad5-e43415701615",
   "metadata": {},
   "outputs": [],
   "source": [
    "s = {1, 2, 'Hello', 4 + 50j}"
   ]
  },
  {
   "cell_type": "code",
   "execution_count": 62,
   "id": "e74cdfdd-437d-4873-bfa0-10e261d5f894",
   "metadata": {},
   "outputs": [
    {
     "name": "stdout",
     "output_type": "stream",
     "text": [
      "{'Hello', 1, 2, (4+50j)}\n"
     ]
    }
   ],
   "source": [
    "print(s)"
   ]
  },
  {
   "cell_type": "code",
   "execution_count": 63,
   "id": "172c8deb-285b-40b0-b72c-886d729b4187",
   "metadata": {},
   "outputs": [
    {
     "name": "stdout",
     "output_type": "stream",
     "text": [
      "<class 'set'>\n"
     ]
    }
   ],
   "source": [
    "print(type(s))"
   ]
  },
  {
   "cell_type": "code",
   "execution_count": 64,
   "id": "7131254f-4f60-47fc-a71d-947e1b6f18d8",
   "metadata": {},
   "outputs": [],
   "source": [
    "# Dictionary Data type"
   ]
  },
  {
   "cell_type": "code",
   "execution_count": 65,
   "id": "013f563b-e75b-4050-a563-6898a4a53b79",
   "metadata": {},
   "outputs": [],
   "source": [
    "dict = {1 : 'Orange',\n",
    "        2 : 'Apple',\n",
    "        3 : 'Banana'}"
   ]
  },
  {
   "cell_type": "code",
   "execution_count": 66,
   "id": "5618dec0-8e6a-4a25-a9e9-615c043091d6",
   "metadata": {},
   "outputs": [
    {
     "name": "stdout",
     "output_type": "stream",
     "text": [
      "{1: 'Orange', 2: 'Apple', 3: 'Banana'}\n"
     ]
    }
   ],
   "source": [
    "print(dict)"
   ]
  },
  {
   "cell_type": "code",
   "execution_count": 67,
   "id": "7b81b367-6be0-4937-bd6e-6d060d676162",
   "metadata": {},
   "outputs": [
    {
     "name": "stdout",
     "output_type": "stream",
     "text": [
      "<class 'dict'>\n"
     ]
    }
   ],
   "source": [
    "print(type(dict))"
   ]
  },
  {
   "cell_type": "code",
   "execution_count": null,
   "id": "071b2816-784c-4f3c-9672-f7fd37f6579f",
   "metadata": {},
   "outputs": [],
   "source": []
  },
  {
   "cell_type": "code",
   "execution_count": null,
   "id": "7bbd1265-2b4d-49bf-befb-7589c9d393f3",
   "metadata": {},
   "outputs": [],
   "source": []
  },
  {
   "cell_type": "code",
   "execution_count": 1,
   "id": "21726c9e-74ad-4f9d-be0a-34829276edec",
   "metadata": {},
   "outputs": [
    {
     "name": "stdout",
     "output_type": "stream",
     "text": [
      "Result of (x = x + y) =  25\n"
     ]
    }
   ],
   "source": [
    "x = 20\n",
    "y = 5\n",
    "z = 10\n",
    "x += y\n",
    "print(\"Result of (x = x + y) = \", x)"
   ]
  },
  {
   "cell_type": "code",
   "execution_count": 2,
   "id": "5ba7f045-df6f-403d-bdd8-ee3668ca5c30",
   "metadata": {},
   "outputs": [
    {
     "name": "stdout",
     "output_type": "stream",
     "text": [
      "Result of (x = x + y) =  25\n"
     ]
    }
   ],
   "source": [
    "x = 20\n",
    "y = 5\n",
    "z = 10\n",
    "x += y\n",
    "print(\"Result of (x = x + y) = \", x)"
   ]
  },
  {
   "cell_type": "code",
   "execution_count": 3,
   "id": "ba9fffe8-0d91-4e5e-ba6d-f219ef25d606",
   "metadata": {},
   "outputs": [
    {
     "name": "stdout",
     "output_type": "stream",
     "text": [
      "Result of (x = x + y) =  25\n"
     ]
    }
   ],
   "source": [
    "x = 20\n",
    "y = 5\n",
    "z = 10\n",
    "x += y\n",
    "print(\"Result of (x = x + y) = \", x)"
   ]
  },
  {
   "cell_type": "code",
   "execution_count": 4,
   "id": "33201fd7-e5ad-4a01-be37-4c392bb62cfa",
   "metadata": {},
   "outputs": [
    {
     "name": "stdout",
     "output_type": "stream",
     "text": [
      "Result of (x = x + y) =  25\n",
      "Result of (x = x + y) =  25\n"
     ]
    }
   ],
   "source": [
    "x = 20\n",
    "y = 5\n",
    "z = 10\n",
    "x += y\n",
    "print(\"Result of (x = x + y) = \", x)\n",
    "x = 20\n",
    "y = 5\n",
    "z = 10\n",
    "x += y\n",
    "print(\"Result of (x = x + y) = \", x)"
   ]
  },
  {
   "cell_type": "code",
   "execution_count": 5,
   "id": "09e3d64a-2020-4a5e-995f-b216cda91474",
   "metadata": {},
   "outputs": [
    {
     "name": "stdout",
     "output_type": "stream",
     "text": [
      "Result of (x = x + y) =  25\n"
     ]
    }
   ],
   "source": [
    "x = 20\n",
    "y = 5\n",
    "z = 10\n",
    "x += y\n",
    "print(\"Result of (x = x + y) = \", x)"
   ]
  },
  {
   "cell_type": "code",
   "execution_count": 6,
   "id": "76498337-58e7-4681-aab1-ce2ad52f56d1",
   "metadata": {},
   "outputs": [
    {
     "name": "stdout",
     "output_type": "stream",
     "text": [
      "Result of (x = x + y) =  25\n"
     ]
    }
   ],
   "source": [
    "x = 20\n",
    "y = 5\n",
    "z = 10\n",
    "x += y\n",
    "print(\"Result of (x = x + y) = \", x)"
   ]
  },
  {
   "cell_type": "code",
   "execution_count": 7,
   "id": "1e18a4c0-aadb-4346-be00-c96ca8aa8f6f",
   "metadata": {},
   "outputs": [
    {
     "name": "stdout",
     "output_type": "stream",
     "text": [
      "Result of (x = x + y) =  25\n"
     ]
    }
   ],
   "source": [
    "x = 20\n",
    "y = 5\n",
    "z = 10\n",
    "x += y\n",
    "print(\"Result of (x = x + y) = \", x)"
   ]
  },
  {
   "cell_type": "code",
   "execution_count": 8,
   "id": "ac5ee204-cc8f-4557-8590-fdb8ecb9a760",
   "metadata": {},
   "outputs": [
    {
     "name": "stdout",
     "output_type": "stream",
     "text": [
      "Result of (x = x + y) =  25\n"
     ]
    }
   ],
   "source": [
    "x = 20\n",
    "y = 5\n",
    "z = 10\n",
    "x += y\n",
    "print(\"Result of (x = x + y) = \", x)"
   ]
  },
  {
   "cell_type": "code",
   "execution_count": 9,
   "id": "82b16c11-e9e6-46a7-b451-520e90a3a9c5",
   "metadata": {},
   "outputs": [
    {
     "name": "stdout",
     "output_type": "stream",
     "text": [
      "Result of (x = x + y) =  25\n"
     ]
    }
   ],
   "source": [
    "x = 20\n",
    "y = 5\n",
    "z = 10\n",
    "x += y\n",
    "print(\"Result of (x = x + y) = \", x)"
   ]
  },
  {
   "cell_type": "code",
   "execution_count": 10,
   "id": "2f5311e9-ce9f-4459-96a8-3df48994adef",
   "metadata": {},
   "outputs": [
    {
     "name": "stdout",
     "output_type": "stream",
     "text": [
      "Result of (x = x + y) =  25\n"
     ]
    }
   ],
   "source": [
    "x = 20\n",
    "y = 5\n",
    "z = 10\n",
    "x += y\n",
    "print(\"Result of (x = x + y) = \", x)"
   ]
  },
  {
   "cell_type": "code",
   "execution_count": 11,
   "id": "dedf378a-3a3f-4147-ae3f-61a97a83d673",
   "metadata": {},
   "outputs": [
    {
     "name": "stdout",
     "output_type": "stream",
     "text": [
      "Result of (x = x + y) =  25\n"
     ]
    }
   ],
   "source": [
    "x = 20\n",
    "y = 5\n",
    "z = 10\n",
    "x += y\n",
    "print(\"Result of (x = x + y) = \", x)"
   ]
  },
  {
   "cell_type": "code",
   "execution_count": 12,
   "id": "fa4a1b8e-583c-423c-a04d-0fd0678217ff",
   "metadata": {},
   "outputs": [
    {
     "ename": "SyntaxError",
     "evalue": "invalid syntax (2433980396.py, line 5)",
     "output_type": "error",
     "traceback": [
      "\u001b[0;36m  Cell \u001b[0;32mIn[12], line 5\u001b[0;36m\u001b[0m\n\u001b[0;31m    print(\"Result of (x = x + y) = \", x)x = 20\u001b[0m\n\u001b[0m                                        ^\u001b[0m\n\u001b[0;31mSyntaxError\u001b[0m\u001b[0;31m:\u001b[0m invalid syntax\n"
     ]
    }
   ],
   "source": [
    "x = 20\n",
    "y = 5\n",
    "z = 10\n",
    "x += y\n",
    "print(\"Result of (x = x + y) = \", x)x = 20\n",
    "y = 5\n",
    "z = 10\n",
    "x += y\n",
    "print(\"Result of (x = x + y) = \", x)"
   ]
  },
  {
   "cell_type": "code",
   "execution_count": 13,
   "id": "692d6842-31a9-4ed4-a0f9-c117999e89f5",
   "metadata": {},
   "outputs": [
    {
     "name": "stdout",
     "output_type": "stream",
     "text": [
      "Result of (x = x + y) =  25\n"
     ]
    }
   ],
   "source": [
    "x = 20\n",
    "y = 5\n",
    "z = 10\n",
    "x += y\n",
    "print(\"Result of (x = x + y) = \", x)"
   ]
  },
  {
   "cell_type": "code",
   "execution_count": 14,
   "id": "fa007c11-909e-472a-944f-04508bbf16ac",
   "metadata": {},
   "outputs": [
    {
     "name": "stdout",
     "output_type": "stream",
     "text": [
      "Result of (x = x + y) =  25\n"
     ]
    }
   ],
   "source": [
    "x = 20\n",
    "y = 5\n",
    "z = 10\n",
    "x += y\n",
    "print(\"Result of (x = x + y) = \", x)"
   ]
  },
  {
   "cell_type": "code",
   "execution_count": 15,
   "id": "697f055e-c347-4082-8758-cd9aadbfb939",
   "metadata": {},
   "outputs": [
    {
     "name": "stdout",
     "output_type": "stream",
     "text": [
      "Result of (x = x + y) =  25\n"
     ]
    }
   ],
   "source": [
    "x = 20\n",
    "y = 5\n",
    "z = 10\n",
    "x += y\n",
    "print(\"Result of (x = x + y) = \", x)"
   ]
  },
  {
   "cell_type": "code",
   "execution_count": 16,
   "id": "4a210b47-bafa-497a-8de5-8edc2a5d6551",
   "metadata": {},
   "outputs": [
    {
     "name": "stdout",
     "output_type": "stream",
     "text": [
      "Result of (x = x + y) =  25\n"
     ]
    }
   ],
   "source": [
    "x = 20\n",
    "y = 5\n",
    "z = 10\n",
    "x += y\n",
    "print(\"Result of (x = x + y) = \", x)"
   ]
  },
  {
   "cell_type": "code",
   "execution_count": 17,
   "id": "3aa420aa-951c-4e05-aff1-28b6ff8d3d32",
   "metadata": {},
   "outputs": [
    {
     "name": "stdout",
     "output_type": "stream",
     "text": [
      "Result of (x = x + y) =  25\n"
     ]
    }
   ],
   "source": [
    "x = 20\n",
    "y = 5\n",
    "z = 10\n",
    "x += y\n",
    "print(\"Result of (x = x + y) = \", x)"
   ]
  },
  {
   "cell_type": "code",
   "execution_count": 18,
   "id": "bdf4b0e7-4dbc-4f63-af9d-3e94053af504",
   "metadata": {},
   "outputs": [
    {
     "name": "stdout",
     "output_type": "stream",
     "text": [
      "Result of (x = x + y) =  25\n"
     ]
    }
   ],
   "source": [
    "x = 20\n",
    "y = 5\n",
    "z = 10\n",
    "x += y\n",
    "print(\"Result of (x = x + y) = \", x)"
   ]
  },
  {
   "cell_type": "code",
   "execution_count": 19,
   "id": "2df7e146-e06e-4425-b870-e2ff0905dde7",
   "metadata": {},
   "outputs": [
    {
     "name": "stdout",
     "output_type": "stream",
     "text": [
      "Result of (x = x + y) =  25\n"
     ]
    }
   ],
   "source": [
    "x = 20\n",
    "y = 5\n",
    "z = 10\n",
    "x += y\n",
    "print(\"Result of (x = x + y) = \", x)"
   ]
  },
  {
   "cell_type": "code",
   "execution_count": 20,
   "id": "96bea438-a70e-4670-85c6-507306d86eee",
   "metadata": {},
   "outputs": [
    {
     "name": "stdout",
     "output_type": "stream",
     "text": [
      "Result of (x = x + y) =  25\n"
     ]
    }
   ],
   "source": [
    "x = 20\n",
    "y = 5\n",
    "z = 10\n",
    "x += y\n",
    "print(\"Result of (x = x + y) = \", x)"
   ]
  },
  {
   "cell_type": "code",
   "execution_count": 21,
   "id": "bf985c7b-baf7-46d8-9e50-bd7ab3fc73f6",
   "metadata": {},
   "outputs": [
    {
     "name": "stdout",
     "output_type": "stream",
     "text": [
      "Result of (x = x + y) =  25\n"
     ]
    }
   ],
   "source": [
    "x = 20\n",
    "y = 5\n",
    "z = 10\n",
    "x += y\n",
    "print(\"Result of (x = x + y) = \", x)"
   ]
  },
  {
   "cell_type": "code",
   "execution_count": 22,
   "id": "d6cd68fd-04a3-428d-96bf-eb0aff6445e1",
   "metadata": {},
   "outputs": [
    {
     "name": "stdout",
     "output_type": "stream",
     "text": [
      "Result of (x = x + y) =  25\n",
      "Result of (x = x + y) =  25\n"
     ]
    }
   ],
   "source": [
    "x = 20\n",
    "y = 5\n",
    "z = 10\n",
    "x += y\n",
    "print(\"Result of (x = x + y) = \", x)\n",
    "x = 20\n",
    "y = 5\n",
    "z = 10\n",
    "x += y\n",
    "print(\"Result of (x = x + y) = \", x)"
   ]
  },
  {
   "cell_type": "code",
   "execution_count": 23,
   "id": "df548e64-18e8-43a5-b9b9-63192ebf3d6c",
   "metadata": {},
   "outputs": [
    {
     "name": "stdout",
     "output_type": "stream",
     "text": [
      "Result of (x = x + y) =  25\n"
     ]
    }
   ],
   "source": [
    "x = 20\n",
    "y = 5\n",
    "z = 10\n",
    "x += y\n",
    "print(\"Result of (x = x + y) = \", x)"
   ]
  },
  {
   "cell_type": "code",
   "execution_count": 24,
   "id": "744b4f9c-2c86-4158-8442-ebde473977a0",
   "metadata": {},
   "outputs": [
    {
     "name": "stdout",
     "output_type": "stream",
     "text": [
      "Result of (x = x + y) =  25\n"
     ]
    }
   ],
   "source": [
    "x = 20\n",
    "y = 5\n",
    "z = 10\n",
    "x += y\n",
    "print(\"Result of (x = x + y) = \", x)"
   ]
  },
  {
   "cell_type": "code",
   "execution_count": 25,
   "id": "82f0d2f5-5457-46d6-8327-700e13f9bd76",
   "metadata": {},
   "outputs": [
    {
     "name": "stdout",
     "output_type": "stream",
     "text": [
      "Result of (x = x + y) =  25\n"
     ]
    }
   ],
   "source": [
    "x = 20\n",
    "y = 5\n",
    "z = 10\n",
    "x += y\n",
    "print(\"Result of (x = x + y) = \", x)"
   ]
  },
  {
   "cell_type": "code",
   "execution_count": 26,
   "id": "67d9fa11-42c4-4765-81aa-89e40142edbb",
   "metadata": {},
   "outputs": [
    {
     "name": "stdout",
     "output_type": "stream",
     "text": [
      "Result of (x = x + y) =  25\n"
     ]
    }
   ],
   "source": [
    "x = 20\n",
    "y = 5\n",
    "z = 10\n",
    "x += y\n",
    "print(\"Result of (x = x + y) = \", x)"
   ]
  },
  {
   "cell_type": "code",
   "execution_count": 27,
   "id": "d68adc89-a053-41a7-bc51-06930c81ca9b",
   "metadata": {},
   "outputs": [
    {
     "name": "stdout",
     "output_type": "stream",
     "text": [
      "Result of (x = x + y) =  25\n"
     ]
    }
   ],
   "source": [
    "x = 20\n",
    "y = 5\n",
    "z = 10\n",
    "x += y\n",
    "print(\"Result of (x = x + y) = \", x)"
   ]
  },
  {
   "cell_type": "code",
   "execution_count": 28,
   "id": "34bbf1f0-3b0b-4e5c-b08e-3d591af656b1",
   "metadata": {},
   "outputs": [
    {
     "name": "stdout",
     "output_type": "stream",
     "text": [
      "Result of (x = x + y) =  25\n"
     ]
    }
   ],
   "source": [
    "x = 20\n",
    "y = 5\n",
    "z = 10\n",
    "x += y\n",
    "print(\"Result of (x = x + y) = \", x)"
   ]
  },
  {
   "cell_type": "code",
   "execution_count": 29,
   "id": "7d38f86d-e8bb-4e48-8656-6f4b3c78e58e",
   "metadata": {},
   "outputs": [
    {
     "name": "stdout",
     "output_type": "stream",
     "text": [
      "Result of (x = x + y) =  25\n"
     ]
    }
   ],
   "source": [
    "x = 20\n",
    "y = 5\n",
    "z = 10\n",
    "x += y\n",
    "print(\"Result of (x = x + y) = \", x)"
   ]
  },
  {
   "cell_type": "code",
   "execution_count": 30,
   "id": "ba42077c-408f-4b7f-9aed-d9e9b7caac37",
   "metadata": {},
   "outputs": [
    {
     "name": "stdout",
     "output_type": "stream",
     "text": [
      "Result of (x = x + y) =  25\n"
     ]
    }
   ],
   "source": [
    "x = 20\n",
    "y = 5\n",
    "z = 10\n",
    "x += y\n",
    "print(\"Result of (x = x + y) = \", x)"
   ]
  },
  {
   "cell_type": "code",
   "execution_count": null,
   "id": "74d56238-9de2-44b0-b108-d21ddeb68a6f",
   "metadata": {},
   "outputs": [],
   "source": []
  }
 ],
 "metadata": {
  "kernelspec": {
   "display_name": "Python 3 (ipykernel)",
   "language": "python",
   "name": "python3"
  },
  "language_info": {
   "codemirror_mode": {
    "name": "ipython",
    "version": 3
   },
   "file_extension": ".py",
   "mimetype": "text/x-python",
   "name": "python",
   "nbconvert_exporter": "python",
   "pygments_lexer": "ipython3",
   "version": "3.12.11"
  }
 },
 "nbformat": 4,
 "nbformat_minor": 5
}
