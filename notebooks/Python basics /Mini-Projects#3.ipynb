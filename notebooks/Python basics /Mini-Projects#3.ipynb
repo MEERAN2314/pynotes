{
 "cells": [
  {
   "cell_type": "code",
   "execution_count": 1,
   "id": "0da25b9f-1e54-44dd-be05-5c879cd23957",
   "metadata": {},
   "outputs": [],
   "source": [
    "# Mad Libs Generator"
   ]
  },
  {
   "cell_type": "code",
   "execution_count": 2,
   "id": "ca0a8e24-00c6-486e-9fb5-d4b9a9e01065",
   "metadata": {},
   "outputs": [
    {
     "name": "stdout",
     "output_type": "stream",
     "text": [
      "Welcome to Mad Libs!\n"
     ]
    },
    {
     "name": "stdin",
     "output_type": "stream",
     "text": [
      "Enter a noun:  car\n",
      "Enter a verb:  at\n",
      "Enter an adjective:  intersting\n",
      "Enter a place:  beach\n"
     ]
    },
    {
     "name": "stdout",
     "output_type": "stream",
     "text": [
      "\n",
      "Your Mad Lib:\n",
      "Yesterday, I saw a intersting car at at beach. It was amazing!\n"
     ]
    }
   ],
   "source": [
    "# Mad Libs - Fill in the blanks story generator\n",
    "print(\"Welcome to Mad Libs!\")\n",
    "noun = input(\"Enter a noun: \")\n",
    "verb = input(\"Enter a verb: \")\n",
    "adjective = input(\"Enter an adjective: \")\n",
    "place = input(\"Enter a place: \")\n",
    "\n",
    "story = f\"Yesterday, I saw a {adjective} {noun} {verb} at {place}. It was amazing!\"\n",
    "print(\"\\nYour Mad Lib:\")\n",
    "print(story)"
   ]
  },
  {
   "cell_type": "code",
   "execution_count": 3,
   "id": "35dd4c9a-d803-4f12-96b5-76b8563156c6",
   "metadata": {},
   "outputs": [
    {
     "name": "stdout",
     "output_type": "stream",
     "text": [
      "Welcome to Mad Libs!\n"
     ]
    },
    {
     "name": "stdin",
     "output_type": "stream",
     "text": [
      "Enter a noun:  ball\n",
      "Enter a verb:  is\n",
      "Enter an adjective:  forgot\n",
      "Enter a place:  park\n"
     ]
    },
    {
     "name": "stdout",
     "output_type": "stream",
     "text": [
      "\n",
      "Your Mad Lib:\n",
      "Yesterday, I saw a forgot ball is at park. It was amazing!\n"
     ]
    }
   ],
   "source": [
    "# Mad Libs - Fill in the blanks story generator\n",
    "print(\"Welcome to Mad Libs!\")\n",
    "noun = input(\"Enter a noun: \")\n",
    "verb = input(\"Enter a verb: \")\n",
    "adjective = input(\"Enter an adjective: \")\n",
    "place = input(\"Enter a place: \")\n",
    "\n",
    "story = f\"Yesterday, I saw a {adjective} {noun} {verb} at {place}. It was amazing!\"\n",
    "print(\"\\nYour Mad Lib:\")\n",
    "print(story)"
   ]
  },
  {
   "cell_type": "code",
   "execution_count": 4,
   "id": "7115a08b-30b6-4e34-8cc2-33b76e747997",
   "metadata": {},
   "outputs": [],
   "source": [
    "# Rock-Paper-Scissors Game"
   ]
  },
  {
   "cell_type": "code",
   "execution_count": 5,
   "id": "22516235-4c94-4c5e-84ae-0dfd769bc0e8",
   "metadata": {},
   "outputs": [
    {
     "name": "stdin",
     "output_type": "stream",
     "text": [
      "Choose (rock/paper/scissors):  rock\n"
     ]
    },
    {
     "name": "stdout",
     "output_type": "stream",
     "text": [
      "\n",
      "You: rock\n",
      "Computer: paper\n",
      "Computer wins!\n"
     ]
    }
   ],
   "source": [
    "import random\n",
    "\n",
    "choices = [\"rock\", \"paper\", \"scissors\"]\n",
    "user = input(\"Choose (rock/paper/scissors): \").lower()\n",
    "computer = random.choice(choices)\n",
    "\n",
    "print(f\"\\nYou: {user}\\nComputer: {computer}\")\n",
    "\n",
    "if user == computer:\n",
    "    print(\"Tie!\")\n",
    "elif (user == \"rock\" and computer == \"scissors\") or \\\n",
    "     (user == \"paper\" and computer == \"rock\") or \\\n",
    "     (user == \"scissors\" and computer == \"paper\"):\n",
    "    print(\"You win!\")\n",
    "else:\n",
    "    print(\"Computer wins!\")"
   ]
  },
  {
   "cell_type": "code",
   "execution_count": 6,
   "id": "b255b32d-237e-4681-ae55-b5155d8a600e",
   "metadata": {},
   "outputs": [
    {
     "name": "stdin",
     "output_type": "stream",
     "text": [
      "Choose (rock/paper/scissors):  scissors\n"
     ]
    },
    {
     "name": "stdout",
     "output_type": "stream",
     "text": [
      "\n",
      "You: scissors\n",
      "Computer: scissors\n",
      "Tie!\n"
     ]
    }
   ],
   "source": [
    "import random\n",
    "\n",
    "choices = [\"rock\", \"paper\", \"scissors\"]\n",
    "user = input(\"Choose (rock/paper/scissors): \").lower()\n",
    "computer = random.choice(choices)\n",
    "\n",
    "print(f\"\\nYou: {user}\\nComputer: {computer}\")\n",
    "\n",
    "if user == computer:\n",
    "    print(\"Tie!\")\n",
    "elif (user == \"rock\" and computer == \"scissors\") or \\\n",
    "     (user == \"paper\" and computer == \"rock\") or \\\n",
    "     (user == \"scissors\" and computer == \"paper\"):\n",
    "    print(\"You win!\")\n",
    "else:\n",
    "    print(\"Computer wins!\")"
   ]
  },
  {
   "cell_type": "code",
   "execution_count": 7,
   "id": "34f4dd59-2fb9-40a3-9dde-156e94a8c59a",
   "metadata": {},
   "outputs": [
    {
     "name": "stdin",
     "output_type": "stream",
     "text": [
      "Choose (rock/paper/scissors):  paper\n"
     ]
    },
    {
     "name": "stdout",
     "output_type": "stream",
     "text": [
      "\n",
      "You: paper\n",
      "Computer: rock\n",
      "You win!\n"
     ]
    }
   ],
   "source": [
    "import random\n",
    "\n",
    "choices = [\"rock\", \"paper\", \"scissors\"]\n",
    "user = input(\"Choose (rock/paper/scissors): \").lower()\n",
    "computer = random.choice(choices)\n",
    "\n",
    "print(f\"\\nYou: {user}\\nComputer: {computer}\")\n",
    "\n",
    "if user == computer:\n",
    "    print(\"Tie!\")\n",
    "elif (user == \"rock\" and computer == \"scissors\") or \\\n",
    "     (user == \"paper\" and computer == \"rock\") or \\\n",
    "     (user == \"scissors\" and computer == \"paper\"):\n",
    "    print(\"You win!\")\n",
    "else:\n",
    "    print(\"Computer wins!\")"
   ]
  },
  {
   "cell_type": "code",
   "execution_count": 8,
   "id": "ce5261d5-fa65-4601-be44-77a3c0736924",
   "metadata": {},
   "outputs": [
    {
     "name": "stdin",
     "output_type": "stream",
     "text": [
      "Choose (rock/paper/scissors):  paper\n"
     ]
    },
    {
     "name": "stdout",
     "output_type": "stream",
     "text": [
      "\n",
      "You: paper\n",
      "Computer: scissors\n",
      "Computer wins!\n"
     ]
    }
   ],
   "source": [
    "import random\n",
    "\n",
    "choices = [\"rock\", \"paper\", \"scissors\"]\n",
    "user = input(\"Choose (rock/paper/scissors): \").lower()\n",
    "computer = random.choice(choices)\n",
    "\n",
    "print(f\"\\nYou: {user}\\nComputer: {computer}\")\n",
    "\n",
    "if user == computer:\n",
    "    print(\"Tie!\")\n",
    "elif (user == \"rock\" and computer == \"scissors\") or \\\n",
    "     (user == \"paper\" and computer == \"rock\") or \\\n",
    "     (user == \"scissors\" and computer == \"paper\"):\n",
    "    print(\"You win!\")\n",
    "else:\n",
    "    print(\"Computer wins!\")"
   ]
  },
  {
   "cell_type": "code",
   "execution_count": 9,
   "id": "508673ea-4b44-46a5-8527-bb0edff8b41e",
   "metadata": {},
   "outputs": [
    {
     "name": "stdin",
     "output_type": "stream",
     "text": [
      "Choose (rock/paper/scissors):  paper\n"
     ]
    },
    {
     "name": "stdout",
     "output_type": "stream",
     "text": [
      "\n",
      "You: paper\n",
      "Computer: paper\n",
      "Tie!\n"
     ]
    }
   ],
   "source": [
    "import random\n",
    "\n",
    "choices = [\"rock\", \"paper\", \"scissors\"]\n",
    "user = input(\"Choose (rock/paper/scissors): \").lower()\n",
    "computer = random.choice(choices)\n",
    "\n",
    "print(f\"\\nYou: {user}\\nComputer: {computer}\")\n",
    "\n",
    "if user == computer:\n",
    "    print(\"Tie!\")\n",
    "elif (user == \"rock\" and computer == \"scissors\") or \\\n",
    "     (user == \"paper\" and computer == \"rock\") or \\\n",
    "     (user == \"scissors\" and computer == \"paper\"):\n",
    "    print(\"You win!\")\n",
    "else:\n",
    "    print(\"Computer wins!\")"
   ]
  },
  {
   "cell_type": "code",
   "execution_count": 10,
   "id": "4f18963c-2c2c-476e-919a-cbaba887e1f6",
   "metadata": {},
   "outputs": [
    {
     "name": "stdin",
     "output_type": "stream",
     "text": [
      "Choose (rock/paper/scissors):  paper\n"
     ]
    },
    {
     "name": "stdout",
     "output_type": "stream",
     "text": [
      "\n",
      "You: paper\n",
      "Computer: paper\n",
      "Tie!\n"
     ]
    }
   ],
   "source": [
    "import random\n",
    "\n",
    "choices = [\"rock\", \"paper\", \"scissors\"]\n",
    "user = input(\"Choose (rock/paper/scissors): \").lower()\n",
    "computer = random.choice(choices)\n",
    "\n",
    "print(f\"\\nYou: {user}\\nComputer: {computer}\")\n",
    "\n",
    "if user == computer:\n",
    "    print(\"Tie!\")\n",
    "elif (user == \"rock\" and computer == \"scissors\") or \\\n",
    "     (user == \"paper\" and computer == \"rock\") or \\\n",
    "     (user == \"scissors\" and computer == \"paper\"):\n",
    "    print(\"You win!\")\n",
    "else:\n",
    "    print(\"Computer wins!\")"
   ]
  },
  {
   "cell_type": "code",
   "execution_count": 11,
   "id": "396db7c5-fa69-47d5-bb2e-a80ffb1a4785",
   "metadata": {},
   "outputs": [
    {
     "name": "stdin",
     "output_type": "stream",
     "text": [
      "Choose (rock/paper/scissors):  paper\n"
     ]
    },
    {
     "name": "stdout",
     "output_type": "stream",
     "text": [
      "\n",
      "You: paper\n",
      "Computer: scissors\n",
      "Computer wins!\n"
     ]
    }
   ],
   "source": [
    "import random\n",
    "\n",
    "choices = [\"rock\", \"paper\", \"scissors\"]\n",
    "user = input(\"Choose (rock/paper/scissors): \").lower()\n",
    "computer = random.choice(choices)\n",
    "\n",
    "print(f\"\\nYou: {user}\\nComputer: {computer}\")\n",
    "\n",
    "if user == computer:\n",
    "    print(\"Tie!\")\n",
    "elif (user == \"rock\" and computer == \"scissors\") or \\\n",
    "     (user == \"paper\" and computer == \"rock\") or \\\n",
    "     (user == \"scissors\" and computer == \"paper\"):\n",
    "    print(\"You win!\")\n",
    "else:\n",
    "    print(\"Computer wins!\")"
   ]
  },
  {
   "cell_type": "code",
   "execution_count": 12,
   "id": "0300ed36-d7a1-487e-820c-a87b746c1c4d",
   "metadata": {},
   "outputs": [
    {
     "name": "stdin",
     "output_type": "stream",
     "text": [
      "Choose (rock/paper/scissors):  rock\n"
     ]
    },
    {
     "name": "stdout",
     "output_type": "stream",
     "text": [
      "\n",
      "You: rock\n",
      "Computer: scissors\n",
      "You win!\n"
     ]
    }
   ],
   "source": [
    "import random\n",
    "\n",
    "choices = [\"rock\", \"paper\", \"scissors\"]\n",
    "user = input(\"Choose (rock/paper/scissors): \").lower()\n",
    "computer = random.choice(choices)\n",
    "\n",
    "print(f\"\\nYou: {user}\\nComputer: {computer}\")\n",
    "\n",
    "if user == computer:\n",
    "    print(\"Tie!\")\n",
    "elif (user == \"rock\" and computer == \"scissors\") or \\\n",
    "     (user == \"paper\" and computer == \"rock\") or \\\n",
    "     (user == \"scissors\" and computer == \"paper\"):\n",
    "    print(\"You win!\")\n",
    "else:\n",
    "    print(\"Computer wins!\")"
   ]
  },
  {
   "cell_type": "code",
   "execution_count": 13,
   "id": "8d67c2eb-715c-47e5-9b8b-2d5168e7cf07",
   "metadata": {},
   "outputs": [],
   "source": [
    "#  Fibonacci Sequence Generator "
   ]
  },
  {
   "cell_type": "code",
   "execution_count": 14,
   "id": "dfe10d55-0cc7-4653-9ab1-44301897b3cb",
   "metadata": {},
   "outputs": [
    {
     "name": "stdin",
     "output_type": "stream",
     "text": [
      "How many Fibonacci terms?  12\n"
     ]
    },
    {
     "name": "stdout",
     "output_type": "stream",
     "text": [
      "First 12 terms: [0, 1, 1, 2, 3, 5, 8, 13, 21, 34, 55, 89]\n"
     ]
    }
   ],
   "source": [
    "def fibonacci(n):\n",
    "    \"\"\"Generate Fibonacci sequence up to n terms\"\"\"\n",
    "    sequence = [0, 1]\n",
    "    while len(sequence) < n:\n",
    "        sequence.append(sequence[-1] + sequence[-2])\n",
    "    return sequence[:n]\n",
    "\n",
    "terms = int(input(\"How many Fibonacci terms? \"))\n",
    "print(f\"First {terms} terms:\", fibonacci(terms))"
   ]
  },
  {
   "cell_type": "code",
   "execution_count": 15,
   "id": "0311d03d-28be-4307-8543-0a15d0c1506e",
   "metadata": {},
   "outputs": [
    {
     "name": "stdin",
     "output_type": "stream",
     "text": [
      "How many Fibonacci terms?  50\n"
     ]
    },
    {
     "name": "stdout",
     "output_type": "stream",
     "text": [
      "First 50 terms: [0, 1, 1, 2, 3, 5, 8, 13, 21, 34, 55, 89, 144, 233, 377, 610, 987, 1597, 2584, 4181, 6765, 10946, 17711, 28657, 46368, 75025, 121393, 196418, 317811, 514229, 832040, 1346269, 2178309, 3524578, 5702887, 9227465, 14930352, 24157817, 39088169, 63245986, 102334155, 165580141, 267914296, 433494437, 701408733, 1134903170, 1836311903, 2971215073, 4807526976, 7778742049]\n"
     ]
    }
   ],
   "source": [
    "def fibonacci(n):\n",
    "    \"\"\"Generate Fibonacci sequence up to n terms\"\"\"\n",
    "    sequence = [0, 1]\n",
    "    while len(sequence) < n:\n",
    "        sequence.append(sequence[-1] + sequence[-2])\n",
    "    return sequence[:n]\n",
    "\n",
    "terms = int(input(\"How many Fibonacci terms? \"))\n",
    "print(f\"First {terms} terms:\", fibonacci(terms))"
   ]
  },
  {
   "cell_type": "code",
   "execution_count": 16,
   "id": "a2e4a183-5caf-4cca-bf89-1d6a3511b6ba",
   "metadata": {},
   "outputs": [
    {
     "name": "stdin",
     "output_type": "stream",
     "text": [
      "How many Fibonacci terms?  99\n"
     ]
    },
    {
     "name": "stdout",
     "output_type": "stream",
     "text": [
      "First 99 terms: [0, 1, 1, 2, 3, 5, 8, 13, 21, 34, 55, 89, 144, 233, 377, 610, 987, 1597, 2584, 4181, 6765, 10946, 17711, 28657, 46368, 75025, 121393, 196418, 317811, 514229, 832040, 1346269, 2178309, 3524578, 5702887, 9227465, 14930352, 24157817, 39088169, 63245986, 102334155, 165580141, 267914296, 433494437, 701408733, 1134903170, 1836311903, 2971215073, 4807526976, 7778742049, 12586269025, 20365011074, 32951280099, 53316291173, 86267571272, 139583862445, 225851433717, 365435296162, 591286729879, 956722026041, 1548008755920, 2504730781961, 4052739537881, 6557470319842, 10610209857723, 17167680177565, 27777890035288, 44945570212853, 72723460248141, 117669030460994, 190392490709135, 308061521170129, 498454011879264, 806515533049393, 1304969544928657, 2111485077978050, 3416454622906707, 5527939700884757, 8944394323791464, 14472334024676221, 23416728348467685, 37889062373143906, 61305790721611591, 99194853094755497, 160500643816367088, 259695496911122585, 420196140727489673, 679891637638612258, 1100087778366101931, 1779979416004714189, 2880067194370816120, 4660046610375530309, 7540113804746346429, 12200160415121876738, 19740274219868223167, 31940434634990099905, 51680708854858323072, 83621143489848422977, 135301852344706746049]\n"
     ]
    }
   ],
   "source": [
    "def fibonacci(n):\n",
    "    \"\"\"Generate Fibonacci sequence up to n terms\"\"\"\n",
    "    sequence = [0, 1]\n",
    "    while len(sequence) < n:\n",
    "        sequence.append(sequence[-1] + sequence[-2])\n",
    "    return sequence[:n]\n",
    "\n",
    "terms = int(input(\"How many Fibonacci terms? \"))\n",
    "print(f\"First {terms} terms:\", fibonacci(terms))"
   ]
  },
  {
   "cell_type": "code",
   "execution_count": 17,
   "id": "ddc47a71-e614-417d-b421-08f85f714efa",
   "metadata": {},
   "outputs": [
    {
     "name": "stdin",
     "output_type": "stream",
     "text": [
      "How many Fibonacci terms?  3\n"
     ]
    },
    {
     "name": "stdout",
     "output_type": "stream",
     "text": [
      "First 3 terms: [0, 1, 1]\n"
     ]
    }
   ],
   "source": [
    "def fibonacci(n):\n",
    "    \"\"\"Generate Fibonacci sequence up to n terms\"\"\"\n",
    "    sequence = [0, 1]\n",
    "    while len(sequence) < n:\n",
    "        sequence.append(sequence[-1] + sequence[-2])\n",
    "    return sequence[:n]\n",
    "\n",
    "terms = int(input(\"How many Fibonacci terms? \"))\n",
    "print(f\"First {terms} terms:\", fibonacci(terms))"
   ]
  },
  {
   "cell_type": "code",
   "execution_count": 18,
   "id": "1dcc5900-e27c-469a-aba2-be4e9db64ed3",
   "metadata": {},
   "outputs": [],
   "source": [
    "# Palindrome Checker "
   ]
  },
  {
   "cell_type": "code",
   "execution_count": 19,
   "id": "6bf9983a-75cb-44bc-ac1e-8c2e670230af",
   "metadata": {},
   "outputs": [
    {
     "name": "stdin",
     "output_type": "stream",
     "text": [
      "Enter a word/phrase:  hello meeran\n"
     ]
    },
    {
     "name": "stdout",
     "output_type": "stream",
     "text": [
      "'hello meeran' is not a palindrome\n"
     ]
    }
   ],
   "source": [
    "def is_palindrome(word):\n",
    "    \"\"\"Check if word reads the same forwards and backwards\"\"\"\n",
    "    cleaned = word.lower().replace(\" \", \"\")\n",
    "    return cleaned == cleaned[::-1]\n",
    "\n",
    "text = input(\"Enter a word/phrase: \")\n",
    "print(f\"'{text}' is {'a palindrome' if is_palindrome(text) else 'not a palindrome'}\")"
   ]
  },
  {
   "cell_type": "code",
   "execution_count": 20,
   "id": "d5f641b4-3dd3-45dd-a69b-42938d44464e",
   "metadata": {},
   "outputs": [
    {
     "name": "stdin",
     "output_type": "stream",
     "text": [
      "Enter a word/phrase:  markram\n"
     ]
    },
    {
     "name": "stdout",
     "output_type": "stream",
     "text": [
      "'markram' is a palindrome\n"
     ]
    }
   ],
   "source": [
    "def is_palindrome(word):\n",
    "    \"\"\"Check if word reads the same forwards and backwards\"\"\"\n",
    "    cleaned = word.lower().replace(\" \", \"\")\n",
    "    return cleaned == cleaned[::-1]\n",
    "\n",
    "text = input(\"Enter a word/phrase: \")\n",
    "print(f\"'{text}' is {'a palindrome' if is_palindrome(text) else 'not a palindrome'}\")"
   ]
  },
  {
   "cell_type": "code",
   "execution_count": 21,
   "id": "0b453058-04ba-4639-b3b9-aa3efcc44692",
   "metadata": {},
   "outputs": [
    {
     "name": "stdin",
     "output_type": "stream",
     "text": [
      "Enter a word/phrase:  fool\n"
     ]
    },
    {
     "name": "stdout",
     "output_type": "stream",
     "text": [
      "'fool' is not a palindrome\n"
     ]
    }
   ],
   "source": [
    "def is_palindrome(word):\n",
    "    \"\"\"Check if word reads the same forwards and backwards\"\"\"\n",
    "    cleaned = word.lower().replace(\" \", \"\")\n",
    "    return cleaned == cleaned[::-1]\n",
    "\n",
    "text = input(\"Enter a word/phrase: \")\n",
    "print(f\"'{text}' is {'a palindrome' if is_palindrome(text) else 'not a palindrome'}\")"
   ]
  },
  {
   "cell_type": "code",
   "execution_count": 22,
   "id": "1bf4c97f-0edc-4962-8e0f-b9256a91803f",
   "metadata": {},
   "outputs": [],
   "source": [
    "# Currency Converter (Using Fixed Rates)"
   ]
  },
  {
   "cell_type": "code",
   "execution_count": 23,
   "id": "68f7920e-61bf-403e-b91f-c893431e45a7",
   "metadata": {},
   "outputs": [
    {
     "name": "stdin",
     "output_type": "stream",
     "text": [
      "Enter amount:  450\n",
      "From currency (USD/EUR/GBP/JPY):  USD\n",
      "To currency (USD/EUR/GBP/JPY):  EUR\n"
     ]
    },
    {
     "name": "stdout",
     "output_type": "stream",
     "text": [
      "450.0 USD = 382.50 EUR\n"
     ]
    }
   ],
   "source": [
    "rates = {'USD': 1.0, 'EUR': 0.85, 'GBP': 0.75, 'JPY': 110.0}\n",
    "\n",
    "amount = float(input(\"Enter amount: \"))\n",
    "from_curr = input(\"From currency (USD/EUR/GBP/JPY): \").upper()\n",
    "to_curr = input(\"To currency (USD/EUR/GBP/JPY): \").upper()\n",
    "\n",
    "result = amount * rates[to_curr] / rates[from_curr]\n",
    "print(f\"{amount} {from_curr} = {result:.2f} {to_curr}\")"
   ]
  },
  {
   "cell_type": "code",
   "execution_count": 24,
   "id": "418daea0-b1a5-439c-a2b7-a1a8e22e3bf9",
   "metadata": {},
   "outputs": [
    {
     "name": "stdin",
     "output_type": "stream",
     "text": [
      "Enter amount:  2\n",
      "From currency (USD/EUR/GBP/JPY):  EUR\n",
      "To currency (USD/EUR/GBP/JPY):  GBP\n"
     ]
    },
    {
     "name": "stdout",
     "output_type": "stream",
     "text": [
      "2.0 EUR = 1.76 GBP\n"
     ]
    }
   ],
   "source": [
    "rates = {'USD': 1.0, 'EUR': 0.85, 'GBP': 0.75, 'JPY': 110.0}\n",
    "\n",
    "amount = float(input(\"Enter amount: \"))\n",
    "from_curr = input(\"From currency (USD/EUR/GBP/JPY): \").upper()\n",
    "to_curr = input(\"To currency (USD/EUR/GBP/JPY): \").upper()\n",
    "\n",
    "result = amount * rates[to_curr] / rates[from_curr]\n",
    "print(f\"{amount} {from_curr} = {result:.2f} {to_curr}\")"
   ]
  },
  {
   "cell_type": "code",
   "execution_count": 25,
   "id": "b7867174-278c-4f6a-ad17-3c22a1e2998c",
   "metadata": {},
   "outputs": [
    {
     "name": "stdin",
     "output_type": "stream",
     "text": [
      "Enter amount:  44\n",
      "From currency (USD/EUR/GBP/JPY):  JPY\n",
      "To currency (USD/EUR/GBP/JPY):  USD\n"
     ]
    },
    {
     "name": "stdout",
     "output_type": "stream",
     "text": [
      "44.0 JPY = 0.40 USD\n"
     ]
    }
   ],
   "source": [
    "rates = {'USD': 1.0, 'EUR': 0.85, 'GBP': 0.75, 'JPY': 110.0}\n",
    "\n",
    "amount = float(input(\"Enter amount: \"))\n",
    "from_curr = input(\"From currency (USD/EUR/GBP/JPY): \").upper()\n",
    "to_curr = input(\"To currency (USD/EUR/GBP/JPY): \").upper()\n",
    "\n",
    "result = amount * rates[to_curr] / rates[from_curr]\n",
    "print(f\"{amount} {from_curr} = {result:.2f} {to_curr}\")"
   ]
  },
  {
   "cell_type": "code",
   "execution_count": null,
   "id": "89d189ef-d8e0-4c83-bebf-ff31c3b60559",
   "metadata": {},
   "outputs": [],
   "source": []
  }
 ],
 "metadata": {
  "kernelspec": {
   "display_name": "Python 3 (ipykernel)",
   "language": "python",
   "name": "python3"
  },
  "language_info": {
   "codemirror_mode": {
    "name": "ipython",
    "version": 3
   },
   "file_extension": ".py",
   "mimetype": "text/x-python",
   "name": "python",
   "nbconvert_exporter": "python",
   "pygments_lexer": "ipython3",
   "version": "3.12.11"
  }
 },
 "nbformat": 4,
 "nbformat_minor": 5
}
