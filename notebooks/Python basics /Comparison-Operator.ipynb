{
 "cells": [
  {
   "cell_type": "code",
   "execution_count": 1,
   "id": "c56daeeb-7d09-43a2-9b41-2ae5dc7b47f3",
   "metadata": {},
   "outputs": [],
   "source": [
    "#  Comparison  Operators"
   ]
  },
  {
   "cell_type": "code",
   "execution_count": 2,
   "id": "9bb7ed0a-c41b-4ab6-ba17-d5ab85a2981a",
   "metadata": {},
   "outputs": [],
   "source": [
    "# Equal to (==)"
   ]
  },
  {
   "cell_type": "code",
   "execution_count": 3,
   "id": "1fb597d4-6e9d-463d-b495-e7944539489d",
   "metadata": {},
   "outputs": [],
   "source": [
    "x = 20\n",
    "y = 20"
   ]
  },
  {
   "cell_type": "code",
   "execution_count": 4,
   "id": "bb25ae78-f991-495f-865c-f7d5dffcc223",
   "metadata": {},
   "outputs": [
    {
     "name": "stdout",
     "output_type": "stream",
     "text": [
      "True\n"
     ]
    }
   ],
   "source": [
    "print( x == y)"
   ]
  },
  {
   "cell_type": "code",
   "execution_count": 5,
   "id": "5426659b-274c-4429-bf89-3a41c68fb922",
   "metadata": {},
   "outputs": [],
   "source": [
    "p = 'My name is John'\n",
    "q = 'My name is John'"
   ]
  },
  {
   "cell_type": "code",
   "execution_count": 6,
   "id": "bc127c4c-254b-4895-baf0-d3312d9950ee",
   "metadata": {},
   "outputs": [
    {
     "name": "stdout",
     "output_type": "stream",
     "text": [
      "True\n"
     ]
    }
   ],
   "source": [
    "print( p == q)"
   ]
  },
  {
   "cell_type": "code",
   "execution_count": 7,
   "id": "25498a9f-4876-4ea6-96a6-cf9b13056a92",
   "metadata": {},
   "outputs": [],
   "source": [
    "r = 'Text'\n",
    "s = 'text'"
   ]
  },
  {
   "cell_type": "code",
   "execution_count": 8,
   "id": "bf5aaab6-a900-495c-9cc5-7868265459c2",
   "metadata": {},
   "outputs": [
    {
     "name": "stdout",
     "output_type": "stream",
     "text": [
      "False\n"
     ]
    }
   ],
   "source": [
    "print( r == s)"
   ]
  },
  {
   "cell_type": "code",
   "execution_count": 9,
   "id": "5ce8fa28-c983-4aa9-ac4a-a69501bd74c9",
   "metadata": {},
   "outputs": [],
   "source": [
    "t = [1, 2, 3, 4]\n",
    "u = [1, 2, 3]"
   ]
  },
  {
   "cell_type": "code",
   "execution_count": 10,
   "id": "de236b28-b921-44d3-b326-325309b4f57d",
   "metadata": {},
   "outputs": [
    {
     "name": "stdout",
     "output_type": "stream",
     "text": [
      "False\n"
     ]
    }
   ],
   "source": [
    "print( t == u)"
   ]
  },
  {
   "cell_type": "code",
   "execution_count": 11,
   "id": "2fdf3806-d617-4767-9dea-d170881546e7",
   "metadata": {},
   "outputs": [],
   "source": [
    "List1 = [10, 20, 30, 40, 50]"
   ]
  },
  {
   "cell_type": "code",
   "execution_count": 12,
   "id": "35d71ba0-4a2f-4008-b6cf-f5b66fbc2167",
   "metadata": {},
   "outputs": [],
   "source": [
    "List2 = List1"
   ]
  },
  {
   "cell_type": "code",
   "execution_count": 13,
   "id": "ae6c6970-c7f4-4755-be18-5140089b69f2",
   "metadata": {},
   "outputs": [
    {
     "name": "stdout",
     "output_type": "stream",
     "text": [
      "True\n"
     ]
    }
   ],
   "source": [
    "print( List1 == List2)"
   ]
  },
  {
   "cell_type": "code",
   "execution_count": 14,
   "id": "731efc4c-8f8c-495d-a458-3e8c692cc06d",
   "metadata": {},
   "outputs": [],
   "source": [
    "x = 50.0\n",
    "y = 50"
   ]
  },
  {
   "cell_type": "code",
   "execution_count": 15,
   "id": "15b8eee4-0c79-4f83-90bd-adcb5048709d",
   "metadata": {},
   "outputs": [
    {
     "name": "stdout",
     "output_type": "stream",
     "text": [
      "True\n"
     ]
    }
   ],
   "source": [
    "print(x == y)"
   ]
  },
  {
   "cell_type": "code",
   "execution_count": 16,
   "id": "ef23df08-93f2-4bfe-bd0c-3067e314a6ca",
   "metadata": {},
   "outputs": [],
   "source": [
    "str1 = 'My name is John'"
   ]
  },
  {
   "cell_type": "code",
   "execution_count": 17,
   "id": "756409b3-7f93-40e4-ac58-0061237b73a9",
   "metadata": {},
   "outputs": [],
   "source": [
    "str2 = str1"
   ]
  },
  {
   "cell_type": "code",
   "execution_count": 18,
   "id": "939d500e-b818-48f2-9d86-6f6522cc958a",
   "metadata": {},
   "outputs": [
    {
     "name": "stdout",
     "output_type": "stream",
     "text": [
      "True\n"
     ]
    }
   ],
   "source": [
    "print(str1 == str2)"
   ]
  },
  {
   "cell_type": "code",
   "execution_count": 19,
   "id": "5ba84277-7f72-4074-888e-c1cd30c1f1f8",
   "metadata": {},
   "outputs": [],
   "source": [
    "a = True"
   ]
  },
  {
   "cell_type": "code",
   "execution_count": 20,
   "id": "28ea555b-9bfa-4844-8f9c-afc2b3183b6e",
   "metadata": {},
   "outputs": [],
   "source": [
    "b = 1"
   ]
  },
  {
   "cell_type": "code",
   "execution_count": 21,
   "id": "0fb28eaa-ee6d-4fc9-935f-c1b95fa2ce86",
   "metadata": {},
   "outputs": [
    {
     "name": "stdout",
     "output_type": "stream",
     "text": [
      "True\n"
     ]
    }
   ],
   "source": [
    "print(a == b)"
   ]
  },
  {
   "cell_type": "code",
   "execution_count": 22,
   "id": "ae09a117-a6ee-4837-a734-b2fa07d23db9",
   "metadata": {},
   "outputs": [],
   "source": [
    "#   Not equal to (!=)"
   ]
  },
  {
   "cell_type": "code",
   "execution_count": 23,
   "id": "b44282e2-f968-4768-87f7-0b8fa9fa3d9b",
   "metadata": {},
   "outputs": [],
   "source": [
    "x = 50\n",
    "y = 90\n"
   ]
  },
  {
   "cell_type": "code",
   "execution_count": 24,
   "id": "848fb082-516d-492c-9467-ba7a23dfcff3",
   "metadata": {},
   "outputs": [
    {
     "name": "stdout",
     "output_type": "stream",
     "text": [
      "True\n"
     ]
    }
   ],
   "source": [
    "print( x != y)"
   ]
  },
  {
   "cell_type": "code",
   "execution_count": 25,
   "id": "79aad09b-2073-4381-be6e-0139cb341f22",
   "metadata": {},
   "outputs": [],
   "source": [
    "str1 = 'My name is John'"
   ]
  },
  {
   "cell_type": "code",
   "execution_count": 26,
   "id": "4a6333a1-439a-489e-b6fc-688b15f4446e",
   "metadata": {},
   "outputs": [],
   "source": [
    "str2 = str1"
   ]
  },
  {
   "cell_type": "code",
   "execution_count": 27,
   "id": "cdebdaf2-5fc0-41ee-ac77-d03002f76ccd",
   "metadata": {},
   "outputs": [
    {
     "name": "stdout",
     "output_type": "stream",
     "text": [
      "False\n"
     ]
    }
   ],
   "source": [
    "print( str1 != str2)"
   ]
  },
  {
   "cell_type": "code",
   "execution_count": 28,
   "id": "62ce3c05-925b-4ae6-a9e8-5856cb954ac3",
   "metadata": {},
   "outputs": [],
   "source": [
    "a = True"
   ]
  },
  {
   "cell_type": "code",
   "execution_count": 29,
   "id": "91079fb3-668b-40c8-ba88-c9027bc41020",
   "metadata": {},
   "outputs": [],
   "source": [
    "b = 1\n"
   ]
  },
  {
   "cell_type": "code",
   "execution_count": 30,
   "id": "1ac4bc47-162a-4f24-a8c2-269e0c5d774d",
   "metadata": {},
   "outputs": [
    {
     "name": "stdout",
     "output_type": "stream",
     "text": [
      "False\n"
     ]
    }
   ],
   "source": [
    "print( a != b)"
   ]
  },
  {
   "cell_type": "code",
   "execution_count": 31,
   "id": "33939354-44e3-436d-a991-207a15135387",
   "metadata": {},
   "outputs": [],
   "source": [
    "p = False"
   ]
  },
  {
   "cell_type": "code",
   "execution_count": 32,
   "id": "86cc664c-ebba-4d5f-a417-5efa2048b9be",
   "metadata": {},
   "outputs": [],
   "source": [
    "q = 0"
   ]
  },
  {
   "cell_type": "code",
   "execution_count": 33,
   "id": "f40e3e18-7f9a-45b2-b972-3bc98ecdb6cc",
   "metadata": {},
   "outputs": [
    {
     "name": "stdout",
     "output_type": "stream",
     "text": [
      "False\n"
     ]
    }
   ],
   "source": [
    "print( p != q)"
   ]
  },
  {
   "cell_type": "code",
   "execution_count": 34,
   "id": "e3ba3597-d8a8-47bd-860e-497e6d5607de",
   "metadata": {},
   "outputs": [],
   "source": [
    "r = '50'\n",
    "s = 50"
   ]
  },
  {
   "cell_type": "code",
   "execution_count": 35,
   "id": "1effe904-a5f3-400e-8eb2-eb00225c326e",
   "metadata": {},
   "outputs": [
    {
     "name": "stdout",
     "output_type": "stream",
     "text": [
      "True\n"
     ]
    }
   ],
   "source": [
    "print( r != s)"
   ]
  },
  {
   "cell_type": "code",
   "execution_count": 36,
   "id": "300d5e1d-09fb-4459-bf49-40b122599acb",
   "metadata": {},
   "outputs": [],
   "source": [
    "r = 50\n",
    "s = 50"
   ]
  },
  {
   "cell_type": "code",
   "execution_count": 37,
   "id": "5e368f93-6560-4edb-854d-dc3e57b5ca28",
   "metadata": {},
   "outputs": [
    {
     "name": "stdout",
     "output_type": "stream",
     "text": [
      "False\n"
     ]
    }
   ],
   "source": [
    "print( r != s)"
   ]
  },
  {
   "cell_type": "code",
   "execution_count": 38,
   "id": "69a8735d-fdbe-4652-ae5f-066ae2443af1",
   "metadata": {},
   "outputs": [],
   "source": [
    "List1 = [10, 20, 'Python', '30']\n",
    "List2 = [10, 20, 'Python', 30]"
   ]
  },
  {
   "cell_type": "code",
   "execution_count": 39,
   "id": "1f7a9967-037f-47fc-8731-89023ea07187",
   "metadata": {},
   "outputs": [
    {
     "name": "stdout",
     "output_type": "stream",
     "text": [
      "True\n"
     ]
    }
   ],
   "source": [
    "print(List1 != List2)"
   ]
  },
  {
   "cell_type": "code",
   "execution_count": 40,
   "id": "331850dc-15de-4516-8287-f89dca056b0e",
   "metadata": {},
   "outputs": [],
   "source": [
    "List1 = [10, 20, 'Python', 30]\n",
    "List2 = [10, 20, 'Python', 30]"
   ]
  },
  {
   "cell_type": "code",
   "execution_count": 41,
   "id": "aa865f64-8d07-437a-840f-9dcc1acbace6",
   "metadata": {},
   "outputs": [
    {
     "name": "stdout",
     "output_type": "stream",
     "text": [
      "False\n"
     ]
    }
   ],
   "source": [
    "print(List1 != List2)"
   ]
  },
  {
   "cell_type": "code",
   "execution_count": 42,
   "id": "1a0da213-92e5-4f5f-b3a9-ce8d275a468c",
   "metadata": {},
   "outputs": [],
   "source": [
    "Dict1 = {\n",
    "     1: 'a',\n",
    "     2: '20'\n",
    "}\n",
    "Dict2 = {\n",
    "    1: 'a',\n",
    "    2: '20'\n",
    "}"
   ]
  },
  {
   "cell_type": "code",
   "execution_count": 43,
   "id": "42cad1d3-aa2a-4623-add0-db887aa8856f",
   "metadata": {},
   "outputs": [
    {
     "name": "stdout",
     "output_type": "stream",
     "text": [
      "False\n"
     ]
    }
   ],
   "source": [
    "print(Dict1 != Dict2)"
   ]
  },
  {
   "cell_type": "code",
   "execution_count": 44,
   "id": "edfdccd7-2c3d-41c3-b00f-9b50bd0829e4",
   "metadata": {},
   "outputs": [],
   "source": [
    "#  Greater than (>)"
   ]
  },
  {
   "cell_type": "code",
   "execution_count": 45,
   "id": "cbced15f-8691-47cf-b239-49cf1c877f2d",
   "metadata": {},
   "outputs": [],
   "source": [
    "num1 = 60\n",
    "num2 = 50"
   ]
  },
  {
   "cell_type": "code",
   "execution_count": 46,
   "id": "feb04875-7a3f-4f6a-90c5-8138f51e17e9",
   "metadata": {},
   "outputs": [
    {
     "name": "stdout",
     "output_type": "stream",
     "text": [
      "True\n"
     ]
    }
   ],
   "source": [
    "print(num1 > num2)"
   ]
  },
  {
   "cell_type": "code",
   "execution_count": 47,
   "id": "1b51ef14-4336-4176-9d7a-e88cd9e0228f",
   "metadata": {},
   "outputs": [
    {
     "name": "stdout",
     "output_type": "stream",
     "text": [
      "False\n"
     ]
    }
   ],
   "source": [
    "print(num1 + 20 - 20 > num2 + 20)"
   ]
  },
  {
   "cell_type": "code",
   "execution_count": 48,
   "id": "65667ccb-f5e7-4379-b405-59a3e912ac73",
   "metadata": {},
   "outputs": [],
   "source": [
    "n1 = 20\n",
    "n2 = n1"
   ]
  },
  {
   "cell_type": "code",
   "execution_count": 49,
   "id": "40780a31-ffe9-4b93-a307-b6da04dcd836",
   "metadata": {},
   "outputs": [
    {
     "name": "stdout",
     "output_type": "stream",
     "text": [
      "False\n"
     ]
    }
   ],
   "source": [
    "print(n1 > n2)"
   ]
  },
  {
   "cell_type": "code",
   "execution_count": 50,
   "id": "cc42a81e-6eb7-4608-83e8-5b9c7868540b",
   "metadata": {},
   "outputs": [],
   "source": [
    "str1 = 'Python' # --> considered by len\n",
    "str2 = 'Pythe'"
   ]
  },
  {
   "cell_type": "code",
   "execution_count": 51,
   "id": "66f75514-c476-4fab-9881-22c6ead43886",
   "metadata": {},
   "outputs": [
    {
     "name": "stdout",
     "output_type": "stream",
     "text": [
      "True\n"
     ]
    }
   ],
   "source": [
    "print(str1 > str2)"
   ]
  },
  {
   "cell_type": "code",
   "execution_count": 52,
   "id": "b780cc96-ed67-4f18-8acc-43a5eef773b4",
   "metadata": {},
   "outputs": [],
   "source": [
    "str1 = 'Python' #--> different data type will raise a error \n",
    "str2 = '20'"
   ]
  },
  {
   "cell_type": "code",
   "execution_count": 56,
   "id": "58072575-2835-4d33-9b7c-36b97f71559a",
   "metadata": {},
   "outputs": [
    {
     "ename": "TypeError",
     "evalue": "'>' not supported between instances of 'str' and 'int'",
     "output_type": "error",
     "traceback": [
      "\u001b[0;31m---------------------------------------------------------------------------\u001b[0m",
      "\u001b[0;31mTypeError\u001b[0m                                 Traceback (most recent call last)",
      "Cell \u001b[0;32mIn[56], line 1\u001b[0m\n\u001b[0;32m----> 1\u001b[0m \u001b[38;5;28mprint\u001b[39m(\u001b[43mstr1\u001b[49m\u001b[43m \u001b[49m\u001b[38;5;241;43m>\u001b[39;49m\u001b[43m \u001b[49m\u001b[43mstr2\u001b[49m)\n",
      "\u001b[0;31mTypeError\u001b[0m: '>' not supported between instances of 'str' and 'int'"
     ]
    }
   ],
   "source": [
    "print(str1 > str2)\n"
   ]
  },
  {
   "cell_type": "code",
   "execution_count": 57,
   "id": "7d9e14a2-f063-404e-a90b-29102889770f",
   "metadata": {},
   "outputs": [
    {
     "name": "stdout",
     "output_type": "stream",
     "text": [
      "True\n"
     ]
    }
   ],
   "source": [
    "str1 = 'Python'\n",
    "str2 = '20'\n",
    "print(str1 > str2)"
   ]
  },
  {
   "cell_type": "code",
   "execution_count": 58,
   "id": "b64ce11c-711c-4452-bd1e-758204fc6da6",
   "metadata": {},
   "outputs": [],
   "source": [
    "p = True\n",
    "q = 2"
   ]
  },
  {
   "cell_type": "code",
   "execution_count": 59,
   "id": "68e43a30-60f4-4dc5-b10d-425e3a58a324",
   "metadata": {},
   "outputs": [
    {
     "name": "stdout",
     "output_type": "stream",
     "text": [
      "True\n"
     ]
    }
   ],
   "source": [
    "print(q > p)"
   ]
  },
  {
   "cell_type": "code",
   "execution_count": 60,
   "id": "40bf8a20-10a8-40a8-b770-8ecf4862d570",
   "metadata": {},
   "outputs": [],
   "source": [
    "r = False\n",
    "s = -1"
   ]
  },
  {
   "cell_type": "code",
   "execution_count": 61,
   "id": "e791a688-fae9-4e8a-b43d-705fc181b9a8",
   "metadata": {},
   "outputs": [
    {
     "name": "stdout",
     "output_type": "stream",
     "text": [
      "True\n"
     ]
    }
   ],
   "source": [
    "print(r > s)"
   ]
  },
  {
   "cell_type": "code",
   "execution_count": 62,
   "id": "04e617f1-49a7-4862-811d-ae80cde179ca",
   "metadata": {},
   "outputs": [],
   "source": [
    "List1 = [10, 20, 30]\n",
    "List2 = [10, 20, 40]"
   ]
  },
  {
   "cell_type": "code",
   "execution_count": 63,
   "id": "6e1b5531-569d-4220-a14c-6fc52e610b3c",
   "metadata": {},
   "outputs": [
    {
     "name": "stdout",
     "output_type": "stream",
     "text": [
      "False\n"
     ]
    }
   ],
   "source": [
    "print(List1 > List2)"
   ]
  },
  {
   "cell_type": "code",
   "execution_count": 64,
   "id": "a4f4ede2-bb33-4890-98b1-d0cd8090f84e",
   "metadata": {},
   "outputs": [],
   "source": [
    "#  Less than (<)"
   ]
  },
  {
   "cell_type": "code",
   "execution_count": 65,
   "id": "9d4334a1-d493-49a4-a6e1-46a61b1cb3c8",
   "metadata": {},
   "outputs": [],
   "source": [
    "num1 = 20\n",
    "num2 = 20.05"
   ]
  },
  {
   "cell_type": "code",
   "execution_count": 66,
   "id": "81e64ec1-ca7b-4a16-aaf8-da0bdc0bffdb",
   "metadata": {},
   "outputs": [
    {
     "name": "stdout",
     "output_type": "stream",
     "text": [
      "True\n"
     ]
    }
   ],
   "source": [
    "print(num1 < num2)"
   ]
  },
  {
   "cell_type": "code",
   "execution_count": 67,
   "id": "7426039e-88b8-45ad-88ef-0727776d00ce",
   "metadata": {},
   "outputs": [],
   "source": [
    "exp1 = 20 * 20 % 20\n",
    "exp2 = 20 + 20 / 20"
   ]
  },
  {
   "cell_type": "code",
   "execution_count": 68,
   "id": "eac7d2b6-5229-4bd6-ac3e-19091e52f237",
   "metadata": {},
   "outputs": [
    {
     "name": "stdout",
     "output_type": "stream",
     "text": [
      "False\n"
     ]
    }
   ],
   "source": [
    "print(exp2 < exp1)"
   ]
  },
  {
   "cell_type": "code",
   "execution_count": 69,
   "id": "344a7660-874b-4e4c-9792-828615d1a3b7",
   "metadata": {},
   "outputs": [],
   "source": [
    "str1 = 'Python'\n",
    "str2 = 'Text'"
   ]
  },
  {
   "cell_type": "code",
   "execution_count": 70,
   "id": "1e3078ad-9ca6-4e8f-bc72-b6519afefe6c",
   "metadata": {},
   "outputs": [
    {
     "name": "stdout",
     "output_type": "stream",
     "text": [
      "True\n"
     ]
    }
   ],
   "source": [
    "print(str1 < str2)"
   ]
  },
  {
   "cell_type": "code",
   "execution_count": 71,
   "id": "1afb49da-c855-4889-b453-26925e88d8a1",
   "metadata": {},
   "outputs": [],
   "source": [
    "r = False\n",
    "s = -2"
   ]
  },
  {
   "cell_type": "code",
   "execution_count": 72,
   "id": "82e5551c-8887-4db6-bc7c-41f7c287bdc4",
   "metadata": {},
   "outputs": [
    {
     "name": "stdout",
     "output_type": "stream",
     "text": [
      "False\n"
     ]
    }
   ],
   "source": [
    "print(r < s)"
   ]
  },
  {
   "cell_type": "code",
   "execution_count": 73,
   "id": "dd47a302-f975-4aa0-8c85-24948573c829",
   "metadata": {},
   "outputs": [],
   "source": [
    "List1 = [1, 2, 3]\n",
    "List2 = [1, 2, 4]"
   ]
  },
  {
   "cell_type": "code",
   "execution_count": 74,
   "id": "71857298-bfff-4656-bbd1-7d580e74fb3d",
   "metadata": {},
   "outputs": [
    {
     "name": "stdout",
     "output_type": "stream",
     "text": [
      "True\n"
     ]
    }
   ],
   "source": [
    "print(List1 < List2)"
   ]
  },
  {
   "cell_type": "code",
   "execution_count": 75,
   "id": "0381fecd-e810-4c2b-b393-b95c1ea6eef8",
   "metadata": {},
   "outputs": [],
   "source": [
    "# Greater than or equal to (>=)"
   ]
  },
  {
   "cell_type": "code",
   "execution_count": 76,
   "id": "73aa3ef3-f7a6-45f3-adc7-0402861e0f59",
   "metadata": {},
   "outputs": [],
   "source": [
    "num1 = 20.20\n",
    "num2 = 20.0200"
   ]
  },
  {
   "cell_type": "code",
   "execution_count": 77,
   "id": "c0d8e723-60ff-4d3e-90d4-13b1a43191a8",
   "metadata": {},
   "outputs": [
    {
     "name": "stdout",
     "output_type": "stream",
     "text": [
      "True\n"
     ]
    }
   ],
   "source": [
    "print(num1 >= num2)"
   ]
  },
  {
   "cell_type": "code",
   "execution_count": 78,
   "id": "ad10b54b-384f-4726-987d-b977e0d725fb",
   "metadata": {},
   "outputs": [],
   "source": [
    "x = True + 2\n",
    "y = False + False + False"
   ]
  },
  {
   "cell_type": "code",
   "execution_count": 79,
   "id": "eeeb6cc3-dfb9-48de-8f4f-21fade6a611d",
   "metadata": {},
   "outputs": [
    {
     "name": "stdout",
     "output_type": "stream",
     "text": [
      "True\n"
     ]
    }
   ],
   "source": [
    "print(x >= y)"
   ]
  },
  {
   "cell_type": "code",
   "execution_count": 80,
   "id": "9f6dd084-5258-47f9-a2b1-c53a71f82cf1",
   "metadata": {},
   "outputs": [],
   "source": [
    "p = 'abcd'\n",
    "q = 'abcde'"
   ]
  },
  {
   "cell_type": "code",
   "execution_count": 81,
   "id": "78645d77-133b-46a6-b973-995853fc75c5",
   "metadata": {},
   "outputs": [
    {
     "name": "stdout",
     "output_type": "stream",
     "text": [
      "False\n"
     ]
    }
   ],
   "source": [
    "\n",
    "print(p >= q)"
   ]
  },
  {
   "cell_type": "code",
   "execution_count": 82,
   "id": "41d482de-b6d9-41be-82e7-f14c15bf2b03",
   "metadata": {},
   "outputs": [],
   "source": [
    "#  Less than or equal to (<=)"
   ]
  },
  {
   "cell_type": "code",
   "execution_count": 83,
   "id": "11f25572-2aef-428a-91b5-21f38a9a02cd",
   "metadata": {},
   "outputs": [],
   "source": [
    "num1 = 40.40\n",
    "num2 = 40.400"
   ]
  },
  {
   "cell_type": "code",
   "execution_count": 84,
   "id": "59ee10c6-0ef9-4745-953d-9b81092aaaa7",
   "metadata": {},
   "outputs": [
    {
     "name": "stdout",
     "output_type": "stream",
     "text": [
      "True\n"
     ]
    }
   ],
   "source": [
    "print(num1 <= num2)"
   ]
  },
  {
   "cell_type": "code",
   "execution_count": 85,
   "id": "a8c8d981-05bf-4e0a-b4cd-a338f8d52bb0",
   "metadata": {},
   "outputs": [],
   "source": [
    "x = True + 2\n",
    "y = False + False + False"
   ]
  },
  {
   "cell_type": "code",
   "execution_count": 86,
   "id": "4a747faa-40a8-4f74-bc07-926e0824a044",
   "metadata": {},
   "outputs": [
    {
     "name": "stdout",
     "output_type": "stream",
     "text": [
      "False\n"
     ]
    }
   ],
   "source": [
    "print(x <= y)"
   ]
  },
  {
   "cell_type": "code",
   "execution_count": 87,
   "id": "2f3b3ef1-d42d-4544-9d3d-b09143c70b6b",
   "metadata": {},
   "outputs": [],
   "source": [
    "p = 'A'\n",
    "q = 'B'"
   ]
  },
  {
   "cell_type": "code",
   "execution_count": 88,
   "id": "e89509dc-46aa-426e-ac8e-a808b642fcdf",
   "metadata": {},
   "outputs": [
    {
     "name": "stdout",
     "output_type": "stream",
     "text": [
      "True\n"
     ]
    }
   ],
   "source": [
    "print(p <= q)"
   ]
  },
  {
   "cell_type": "code",
   "execution_count": 89,
   "id": "7040e8ed-4701-4056-ad19-c99ae39232b3",
   "metadata": {},
   "outputs": [],
   "source": [
    "# Use of Comparison Operators in Decision Making Statement"
   ]
  },
  {
   "cell_type": "code",
   "execution_count": 90,
   "id": "8b80f0cd-7d39-49b4-b134-e3ac7ce0abe2",
   "metadata": {},
   "outputs": [],
   "source": [
    "# Program to illustrate the use of comparison or relational operators."
   ]
  },
  {
   "cell_type": "code",
   "execution_count": 91,
   "id": "cd4132e7-c0b3-425a-80bf-d29a97b789e6",
   "metadata": {},
   "outputs": [
    {
     "name": "stdout",
     "output_type": "stream",
     "text": [
      "p is not equal to q\n",
      "p is not equal to q\n",
      "p is not greater than q\n",
      "p is less than q\n",
      "p is not greater than or equal to q\n",
      "p is less than or equal to q\n"
     ]
    }
   ],
   "source": [
    "p = 50\n",
    "q = 60\n",
    "if(p == q):\n",
    "    print(\"p is equal to q\")\n",
    "else:\n",
    "    print(\"p is not equal to q\")\n",
    "if(p != q):\n",
    "    print(\"p is not equal to q\")\n",
    "else:\n",
    "    print(\"p is equal to q\")\n",
    "if(p > q):\n",
    "    print(\"p is greater than q\")\n",
    "else:\n",
    "    print(\"p is not greater than q\")\n",
    "if(p < q): print(\"p is less than q\") \n",
    "else: \n",
    "    print(\"p is not less than q\")\n",
    "if(p >= q):\n",
    "    print(\"p is greater than or equal to q\")\n",
    "else:\n",
    "    print(\"p is not greater than or equal to q\")\n",
    "if(p <= q):\n",
    "    print(\"p is less than or equal to q\")\n",
    "else:\n",
    "    print(\"p is not less than or equal to q\")"
   ]
  },
  {
   "cell_type": "code",
   "execution_count": 93,
   "id": "5fc221dc-a0cd-4c01-b44f-f451f15c83d0",
   "metadata": {},
   "outputs": [
    {
     "name": "stdin",
     "output_type": "stream",
     "text": [
      "Enter your age:  20\n"
     ]
    },
    {
     "name": "stdout",
     "output_type": "stream",
     "text": [
      "You are eligible for voting.\n"
     ]
    }
   ],
   "source": [
    "age = int(input(\"Enter your age: \"))\n",
    "if(age >= 18):\n",
    "    print(\"You are eligible for voting.\")\n",
    "else:\n",
    "    print(\"You are not eligible for voting.\")"
   ]
  },
  {
   "cell_type": "code",
   "execution_count": null,
   "id": "e9bbcba4-c6b6-4a95-9f16-c29920f2b72c",
   "metadata": {},
   "outputs": [],
   "source": []
  }
 ],
 "metadata": {
  "kernelspec": {
   "display_name": "Python 3 (ipykernel)",
   "language": "python",
   "name": "python3"
  },
  "language_info": {
   "codemirror_mode": {
    "name": "ipython",
    "version": 3
   },
   "file_extension": ".py",
   "mimetype": "text/x-python",
   "name": "python",
   "nbconvert_exporter": "python",
   "pygments_lexer": "ipython3",
   "version": "3.12.11"
  }
 },
 "nbformat": 4,
 "nbformat_minor": 5
}
