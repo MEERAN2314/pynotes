{
 "cells": [
  {
   "cell_type": "code",
   "execution_count": 1,
   "id": "07867735-bc29-4c72-8a53-1f45cad6ce5f",
   "metadata": {},
   "outputs": [],
   "source": [
    "# Number Guessing Game"
   ]
  },
  {
   "cell_type": "code",
   "execution_count": 2,
   "id": "afc716ee-5258-4e57-b471-09ad8aa3a87f",
   "metadata": {},
   "outputs": [
    {
     "name": "stdout",
     "output_type": "stream",
     "text": [
      "Guess a number between 1 and 100!\n"
     ]
    },
    {
     "name": "stdin",
     "output_type": "stream",
     "text": [
      "Your guess:  6\n"
     ]
    },
    {
     "name": "stdout",
     "output_type": "stream",
     "text": [
      "Too low!\n"
     ]
    },
    {
     "name": "stdin",
     "output_type": "stream",
     "text": [
      "Your guess:  8\n"
     ]
    },
    {
     "name": "stdout",
     "output_type": "stream",
     "text": [
      "Too low!\n"
     ]
    },
    {
     "name": "stdin",
     "output_type": "stream",
     "text": [
      "Your guess:  34\n"
     ]
    },
    {
     "name": "stdout",
     "output_type": "stream",
     "text": [
      "Too low!\n"
     ]
    },
    {
     "name": "stdin",
     "output_type": "stream",
     "text": [
      "Your guess:  34\n"
     ]
    },
    {
     "name": "stdout",
     "output_type": "stream",
     "text": [
      "Too low!\n"
     ]
    },
    {
     "name": "stdin",
     "output_type": "stream",
     "text": [
      "Your guess:  2\n"
     ]
    },
    {
     "name": "stdout",
     "output_type": "stream",
     "text": [
      "Too low!\n"
     ]
    },
    {
     "name": "stdin",
     "output_type": "stream",
     "text": [
      "Your guess:  1\n"
     ]
    },
    {
     "name": "stdout",
     "output_type": "stream",
     "text": [
      "Too low!\n"
     ]
    },
    {
     "name": "stdin",
     "output_type": "stream",
     "text": [
      "Your guess:  0\n"
     ]
    },
    {
     "name": "stdout",
     "output_type": "stream",
     "text": [
      "Too low!\n"
     ]
    },
    {
     "name": "stdin",
     "output_type": "stream",
     "text": [
      "Your guess:  88\n"
     ]
    },
    {
     "name": "stdout",
     "output_type": "stream",
     "text": [
      "Too high!\n"
     ]
    },
    {
     "name": "stdin",
     "output_type": "stream",
     "text": [
      "Your guess:  77\n"
     ]
    },
    {
     "name": "stdout",
     "output_type": "stream",
     "text": [
      "Too high!\n"
     ]
    },
    {
     "name": "stdin",
     "output_type": "stream",
     "text": [
      "Your guess:  66\n"
     ]
    },
    {
     "name": "stdout",
     "output_type": "stream",
     "text": [
      "Too high!\n"
     ]
    },
    {
     "name": "stdin",
     "output_type": "stream",
     "text": [
      "Your guess:  40\n"
     ]
    },
    {
     "name": "stdout",
     "output_type": "stream",
     "text": [
      "Too low!\n"
     ]
    },
    {
     "name": "stdin",
     "output_type": "stream",
     "text": [
      "Your guess:  50\n"
     ]
    },
    {
     "name": "stdout",
     "output_type": "stream",
     "text": [
      "Too high!\n"
     ]
    },
    {
     "name": "stdin",
     "output_type": "stream",
     "text": [
      "Your guess:  48\n"
     ]
    },
    {
     "name": "stdout",
     "output_type": "stream",
     "text": [
      "Too high!\n"
     ]
    },
    {
     "name": "stdin",
     "output_type": "stream",
     "text": [
      "Your guess:  45\n"
     ]
    },
    {
     "name": "stdout",
     "output_type": "stream",
     "text": [
      "Too low!\n"
     ]
    },
    {
     "name": "stdin",
     "output_type": "stream",
     "text": [
      "Your guess:  44\n"
     ]
    },
    {
     "name": "stdout",
     "output_type": "stream",
     "text": [
      "Too low!\n"
     ]
    },
    {
     "name": "stdin",
     "output_type": "stream",
     "text": [
      "Your guess:  46\n"
     ]
    },
    {
     "name": "stdout",
     "output_type": "stream",
     "text": [
      "Too low!\n"
     ]
    },
    {
     "name": "stdin",
     "output_type": "stream",
     "text": [
      "Your guess:  47\n"
     ]
    },
    {
     "name": "stdout",
     "output_type": "stream",
     "text": [
      "Correct! You guessed it in 17 tries.\n"
     ]
    }
   ],
   "source": [
    "import random\n",
    "\n",
    "# Generate random number between 1-100\n",
    "secret_number = random.randint(1, 100)\n",
    "guesses = 0\n",
    "\n",
    "print(\"Guess a number between 1 and 100!\")\n",
    "while True:\n",
    "    guess = int(input(\"Your guess: \"))\n",
    "    guesses += 1\n",
    "    \n",
    "    if guess < secret_number:\n",
    "        print(\"Too low!\")\n",
    "    elif guess > secret_number:\n",
    "        print(\"Too high!\")\n",
    "    else:\n",
    "        print(f\"Correct! You guessed it in {guesses} tries.\")\n",
    "        break"
   ]
  },
  {
   "cell_type": "code",
   "execution_count": 3,
   "id": "8755261c-85d3-4052-9a1e-1ab96693454e",
   "metadata": {},
   "outputs": [
    {
     "name": "stdout",
     "output_type": "stream",
     "text": [
      "Guess a number between 1 and 100!\n"
     ]
    },
    {
     "name": "stdin",
     "output_type": "stream",
     "text": [
      "Your guess:  50\n"
     ]
    },
    {
     "name": "stdout",
     "output_type": "stream",
     "text": [
      "Too high!\n"
     ]
    },
    {
     "name": "stdin",
     "output_type": "stream",
     "text": [
      "Your guess:  30\n"
     ]
    },
    {
     "name": "stdout",
     "output_type": "stream",
     "text": [
      "Too high!\n"
     ]
    },
    {
     "name": "stdin",
     "output_type": "stream",
     "text": [
      "Your guess:  20\n"
     ]
    },
    {
     "name": "stdout",
     "output_type": "stream",
     "text": [
      "Too high!\n"
     ]
    },
    {
     "name": "stdin",
     "output_type": "stream",
     "text": [
      "Your guess:  6\n"
     ]
    },
    {
     "name": "stdout",
     "output_type": "stream",
     "text": [
      "Too low!\n"
     ]
    },
    {
     "name": "stdin",
     "output_type": "stream",
     "text": [
      "Your guess:  12\n"
     ]
    },
    {
     "name": "stdout",
     "output_type": "stream",
     "text": [
      "Too high!\n"
     ]
    },
    {
     "name": "stdin",
     "output_type": "stream",
     "text": [
      "Your guess:  10\n"
     ]
    },
    {
     "name": "stdout",
     "output_type": "stream",
     "text": [
      "Too low!\n"
     ]
    },
    {
     "name": "stdin",
     "output_type": "stream",
     "text": [
      "Your guess:  11\n"
     ]
    },
    {
     "name": "stdout",
     "output_type": "stream",
     "text": [
      "Correct! You guessed it in 7 tries.\n"
     ]
    }
   ],
   "source": [
    "import random\n",
    "\n",
    "# Generate random number between 1-100\n",
    "secret_number = random.randint(1, 100)\n",
    "guesses = 0\n",
    "\n",
    "print(\"Guess a number between 1 and 100!\")\n",
    "while True:\n",
    "    guess = int(input(\"Your guess: \"))\n",
    "    guesses += 1\n",
    "    \n",
    "    if guess < secret_number:\n",
    "        print(\"Too low!\")\n",
    "    elif guess > secret_number:\n",
    "        print(\"Too high!\")\n",
    "    else:\n",
    "        print(f\"Correct! You guessed it in {guesses} tries.\")\n",
    "        break"
   ]
  },
  {
   "cell_type": "code",
   "execution_count": 4,
   "id": "12f56d4c-36fd-44a6-8bb9-e75eeab1a7be",
   "metadata": {},
   "outputs": [
    {
     "name": "stdout",
     "output_type": "stream",
     "text": [
      "Guess a number between 1 and 100!\n"
     ]
    },
    {
     "name": "stdin",
     "output_type": "stream",
     "text": [
      "Your guess:  65\n"
     ]
    },
    {
     "name": "stdout",
     "output_type": "stream",
     "text": [
      "Too high!\n"
     ]
    },
    {
     "name": "stdin",
     "output_type": "stream",
     "text": [
      "Your guess:  30\n"
     ]
    },
    {
     "name": "stdout",
     "output_type": "stream",
     "text": [
      "Too low!\n"
     ]
    },
    {
     "name": "stdin",
     "output_type": "stream",
     "text": [
      "Your guess:  2\n"
     ]
    },
    {
     "name": "stdout",
     "output_type": "stream",
     "text": [
      "Too low!\n"
     ]
    },
    {
     "name": "stdin",
     "output_type": "stream",
     "text": [
      "Your guess:  54\n"
     ]
    },
    {
     "name": "stdout",
     "output_type": "stream",
     "text": [
      "Too low!\n"
     ]
    },
    {
     "name": "stdin",
     "output_type": "stream",
     "text": [
      "Your guess:  61\n"
     ]
    },
    {
     "name": "stdout",
     "output_type": "stream",
     "text": [
      "Too low!\n"
     ]
    },
    {
     "name": "stdin",
     "output_type": "stream",
     "text": [
      "Your guess:  64\n"
     ]
    },
    {
     "name": "stdout",
     "output_type": "stream",
     "text": [
      "Correct! You guessed it in 6 tries.\n"
     ]
    }
   ],
   "source": [
    "import random\n",
    "\n",
    "# Generate random number between 1-100\n",
    "secret_number = random.randint(1, 100)\n",
    "guesses = 0\n",
    "\n",
    "print(\"Guess a number between 1 and 100!\")\n",
    "while True:\n",
    "    guess = int(input(\"Your guess: \"))\n",
    "    guesses += 1\n",
    "    \n",
    "    if guess < secret_number:\n",
    "        print(\"Too low!\")\n",
    "    elif guess > secret_number:\n",
    "        print(\"Too high!\")\n",
    "    else:\n",
    "        print(f\"Correct! You guessed it in {guesses} tries.\")\n",
    "        break\n",
    "        "
   ]
  },
  {
   "cell_type": "code",
   "execution_count": 5,
   "id": "de06144c-d554-4562-956d-33326a0b0b59",
   "metadata": {},
   "outputs": [],
   "source": [
    "# To-Do List"
   ]
  },
  {
   "cell_type": "code",
   "execution_count": 6,
   "id": "c2987d6f-7936-44a7-af61-81fb9df13896",
   "metadata": {},
   "outputs": [
    {
     "name": "stdout",
     "output_type": "stream",
     "text": [
      "\n",
      "To-Do List:\n"
     ]
    },
    {
     "name": "stdin",
     "output_type": "stream",
     "text": [
      "\n",
      "Add (a), Remove (r), or Quit (q)?  a\n",
      "Enter task:  complete pynotes\n"
     ]
    },
    {
     "name": "stdout",
     "output_type": "stream",
     "text": [
      "\n",
      "To-Do List:\n",
      "1. complete pynotes\n"
     ]
    },
    {
     "name": "stdin",
     "output_type": "stream",
     "text": [
      "\n",
      "Add (a), Remove (r), or Quit (q)?  q\n"
     ]
    }
   ],
   "source": [
    "todo_list = []\n",
    "\n",
    "while True:\n",
    "    print(\"\\nTo-Do List:\")\n",
    "    for i, item in enumerate(todo_list, 1):\n",
    "        print(f\"{i}. {item}\")\n",
    "        \n",
    "    action = input(\"\\nAdd (a), Remove (r), or Quit (q)? \")\n",
    "    \n",
    "    if action == 'a':\n",
    "        todo_list.append(input(\"Enter task: \"))\n",
    "    elif action == 'r':\n",
    "        if todo_list:\n",
    "            del todo_list[int(input(\"Enter task number to remove: \"))-1]\n",
    "    else:\n",
    "        break"
   ]
  },
  {
   "cell_type": "code",
   "execution_count": 7,
   "id": "a858d78a-3b14-4a52-bf9e-74500b1d7b63",
   "metadata": {},
   "outputs": [
    {
     "name": "stdout",
     "output_type": "stream",
     "text": [
      "\n",
      "To-Do List:\n"
     ]
    },
    {
     "name": "stdin",
     "output_type": "stream",
     "text": [
      "\n",
      "Add (a), Remove (r), or Quit (q)?  q\n"
     ]
    }
   ],
   "source": [
    "todo_list = []\n",
    "\n",
    "while True:\n",
    "    print(\"\\nTo-Do List:\")\n",
    "    for i, item in enumerate(todo_list, 1):\n",
    "        print(f\"{i}. {item}\")\n",
    "        \n",
    "    action = input(\"\\nAdd (a), Remove (r), or Quit (q)? \")\n",
    "    \n",
    "    if action == 'a':\n",
    "        todo_list.append(input(\"Enter task: \"))\n",
    "    elif action == 'r':\n",
    "        if todo_list:\n",
    "            del todo_list[int(input(\"Enter task number to remove: \"))-1]\n",
    "    else:\n",
    "        break"
   ]
  },
  {
   "cell_type": "code",
   "execution_count": 8,
   "id": "3e06752b-1efb-429f-bf3c-bc6631a06f1f",
   "metadata": {},
   "outputs": [
    {
     "name": "stdout",
     "output_type": "stream",
     "text": [
      "\n",
      "To-Do List:\n"
     ]
    },
    {
     "name": "stdin",
     "output_type": "stream",
     "text": [
      "\n",
      "Add (a), Remove (r), or Quit (q)?  a\n",
      "Enter task:  complete pynotes\n"
     ]
    },
    {
     "name": "stdout",
     "output_type": "stream",
     "text": [
      "\n",
      "To-Do List:\n",
      "1. complete pynotes\n"
     ]
    },
    {
     "name": "stdin",
     "output_type": "stream",
     "text": [
      "\n",
      "Add (a), Remove (r), or Quit (q)?  r\n",
      "Enter task number to remove:  1\n"
     ]
    },
    {
     "name": "stdout",
     "output_type": "stream",
     "text": [
      "\n",
      "To-Do List:\n"
     ]
    },
    {
     "name": "stdin",
     "output_type": "stream",
     "text": [
      "\n",
      "Add (a), Remove (r), or Quit (q)?  q\n"
     ]
    }
   ],
   "source": [
    "todo_list = []\n",
    "\n",
    "while True:\n",
    "    print(\"\\nTo-Do List:\")\n",
    "    for i, item in enumerate(todo_list, 1):\n",
    "        print(f\"{i}. {item}\")\n",
    "        \n",
    "    action = input(\"\\nAdd (a), Remove (r), or Quit (q)? \")\n",
    "    \n",
    "    if action == 'a':\n",
    "        todo_list.append(input(\"Enter task: \"))\n",
    "    elif action == 'r':\n",
    "        if todo_list:\n",
    "            del todo_list[int(input(\"Enter task number to remove: \"))-1]\n",
    "    else:\n",
    "        break"
   ]
  },
  {
   "cell_type": "code",
   "execution_count": 9,
   "id": "d207bc42-49d9-43e0-a13f-bdb58eed2f18",
   "metadata": {},
   "outputs": [],
   "source": [
    "# Basic Calculator"
   ]
  },
  {
   "cell_type": "code",
   "execution_count": 10,
   "id": "002bb5c5-842c-4cef-82d1-762121fd9944",
   "metadata": {},
   "outputs": [
    {
     "name": "stdout",
     "output_type": "stream",
     "text": [
      "Operations: +, -, *, /\n"
     ]
    },
    {
     "name": "stdin",
     "output_type": "stream",
     "text": [
      "First number:  45\n",
      "Operation:  +\n",
      "Second number:  65\n"
     ]
    },
    {
     "name": "stdout",
     "output_type": "stream",
     "text": [
      "Result: 110.0\n"
     ]
    }
   ],
   "source": [
    "def calculator():\n",
    "    print(\"Operations: +, -, *, /\")\n",
    "    num1 = float(input(\"First number: \"))\n",
    "    op = input(\"Operation: \")\n",
    "    num2 = float(input(\"Second number: \"))\n",
    "    \n",
    "    if op == '+':\n",
    "        print(f\"Result: {num1 + num2}\")\n",
    "    elif op == '-':\n",
    "        print(f\"Result: {num1 - num2}\")\n",
    "    elif op == '*':\n",
    "        print(f\"Result: {num1 * num2}\")\n",
    "    elif op == '/':\n",
    "        print(f\"Result: {num1 / num2}\")\n",
    "    else:\n",
    "        print(\"Invalid operation\")\n",
    "\n",
    "calculator()"
   ]
  },
  {
   "cell_type": "code",
   "execution_count": 11,
   "id": "021033fd-495f-40cb-8718-bbd5f7727e08",
   "metadata": {},
   "outputs": [
    {
     "name": "stdout",
     "output_type": "stream",
     "text": [
      "Operations: +, -, *, /\n"
     ]
    },
    {
     "name": "stdin",
     "output_type": "stream",
     "text": [
      "First number:  44\n",
      "Operation:  -\n",
      "Second number:  678\n"
     ]
    },
    {
     "name": "stdout",
     "output_type": "stream",
     "text": [
      "Result: -634.0\n"
     ]
    }
   ],
   "source": [
    "def calculator():\n",
    "    print(\"Operations: +, -, *, /\")\n",
    "    num1 = float(input(\"First number: \"))\n",
    "    op = input(\"Operation: \")\n",
    "    num2 = float(input(\"Second number: \"))\n",
    "    \n",
    "    if op == '+':\n",
    "        print(f\"Result: {num1 + num2}\")\n",
    "    elif op == '-':\n",
    "        print(f\"Result: {num1 - num2}\")\n",
    "    elif op == '*':\n",
    "        print(f\"Result: {num1 * num2}\")\n",
    "    elif op == '/':\n",
    "        print(f\"Result: {num1 / num2}\")\n",
    "    else:\n",
    "        print(\"Invalid operation\")\n",
    "\n",
    "calculator()"
   ]
  },
  {
   "cell_type": "code",
   "execution_count": 12,
   "id": "d2abd9eb-a061-4725-97ee-416c03e26b67",
   "metadata": {},
   "outputs": [
    {
     "name": "stdout",
     "output_type": "stream",
     "text": [
      "Operations: +, -, *, /\n"
     ]
    },
    {
     "name": "stdin",
     "output_type": "stream",
     "text": [
      "First number:  234\n",
      "Operation:  65\n",
      "Second number:  34\n"
     ]
    },
    {
     "name": "stdout",
     "output_type": "stream",
     "text": [
      "Invalid operation\n"
     ]
    }
   ],
   "source": [
    "def calculator():\n",
    "    print(\"Operations: +, -, *, /\")\n",
    "    num1 = float(input(\"First number: \"))\n",
    "    op = input(\"Operation: \")\n",
    "    num2 = float(input(\"Second number: \"))\n",
    "    \n",
    "    if op == '+':\n",
    "        print(f\"Result: {num1 + num2}\")\n",
    "    elif op == '-':\n",
    "        print(f\"Result: {num1 - num2}\")\n",
    "    elif op == '*':\n",
    "        print(f\"Result: {num1 * num2}\")\n",
    "    elif op == '/':\n",
    "        print(f\"Result: {num1 / num2}\")\n",
    "    else:\n",
    "        print(\"Invalid operation\")\n",
    "\n",
    "calculator()"
   ]
  },
  {
   "cell_type": "code",
   "execution_count": 13,
   "id": "44bb3b1b-213e-4cc8-9c04-81eac18bd42b",
   "metadata": {},
   "outputs": [
    {
     "name": "stdout",
     "output_type": "stream",
     "text": [
      "Operations: +, -, *, /\n"
     ]
    },
    {
     "name": "stdin",
     "output_type": "stream",
     "text": [
      "First number:  34\n",
      "Operation:  *\n",
      "Second number:  56\n"
     ]
    },
    {
     "name": "stdout",
     "output_type": "stream",
     "text": [
      "Result: 1904.0\n"
     ]
    }
   ],
   "source": [
    "def calculator():\n",
    "    print(\"Operations: +, -, *, /\")\n",
    "    num1 = float(input(\"First number: \"))\n",
    "    op = input(\"Operation: \")\n",
    "    num2 = float(input(\"Second number: \"))\n",
    "    \n",
    "    if op == '+':\n",
    "        print(f\"Result: {num1 + num2}\")\n",
    "    elif op == '-':\n",
    "        print(f\"Result: {num1 - num2}\")\n",
    "    elif op == '*':\n",
    "        print(f\"Result: {num1 * num2}\")\n",
    "    elif op == '/':\n",
    "        print(f\"Result: {num1 / num2}\")\n",
    "    else:\n",
    "        print(\"Invalid operation\")\n",
    "\n",
    "calculator()"
   ]
  },
  {
   "cell_type": "code",
   "execution_count": 14,
   "id": "c7f0f48b-e782-46a6-86dd-f57a00d7a2c5",
   "metadata": {},
   "outputs": [
    {
     "name": "stdout",
     "output_type": "stream",
     "text": [
      "Operations: +, -, *, /\n"
     ]
    },
    {
     "name": "stdin",
     "output_type": "stream",
     "text": [
      "First number:  34\n",
      "Operation:  /\n",
      "Second number:  2\n"
     ]
    },
    {
     "name": "stdout",
     "output_type": "stream",
     "text": [
      "Result: 17.0\n"
     ]
    }
   ],
   "source": [
    "def calculator():\n",
    "    print(\"Operations: +, -, *, /\")\n",
    "    num1 = float(input(\"First number: \"))\n",
    "    op = input(\"Operation: \")\n",
    "    num2 = float(input(\"Second number: \"))\n",
    "    \n",
    "    if op == '+':\n",
    "        print(f\"Result: {num1 + num2}\")\n",
    "    elif op == '-':\n",
    "        print(f\"Result: {num1 - num2}\")\n",
    "    elif op == '*':\n",
    "        print(f\"Result: {num1 * num2}\")\n",
    "    elif op == '/':\n",
    "        print(f\"Result: {num1 / num2}\")\n",
    "    else:\n",
    "        print(\"Invalid operation\")\n",
    "\n",
    "calculator()"
   ]
  },
  {
   "cell_type": "code",
   "execution_count": 15,
   "id": "a16be7c6-f01f-40c5-876f-a511f384374a",
   "metadata": {},
   "outputs": [],
   "source": [
    "# Password Generator"
   ]
  },
  {
   "cell_type": "code",
   "execution_count": 16,
   "id": "9b700836-9f87-45a9-a995-81891bd5222a",
   "metadata": {},
   "outputs": [
    {
     "name": "stdout",
     "output_type": "stream",
     "text": [
      "Your new password: LZtsA8SGP6Om\n"
     ]
    }
   ],
   "source": [
    "import random\n",
    "import string\n",
    "\n",
    "def generate_password(length=12):\n",
    "    chars = string.ascii_letters + string.digits + \"!@#$%^&*\"\n",
    "    password = ''.join(random.choice(chars) for _ in range(length))\n",
    "    return password\n",
    "\n",
    "print(\"Your new password:\", generate_password())"
   ]
  },
  {
   "cell_type": "code",
   "execution_count": 17,
   "id": "52699508-cc4c-4fd3-96bf-69b76824322e",
   "metadata": {},
   "outputs": [
    {
     "name": "stdout",
     "output_type": "stream",
     "text": [
      "Your new password: IuwZlqJ@02rr\n"
     ]
    }
   ],
   "source": [
    "import random\n",
    "import string\n",
    "\n",
    "def generate_password(length=12):\n",
    "    chars = string.ascii_letters + string.digits + \"!@#$%^&*\"\n",
    "    password = ''.join(random.choice(chars) for _ in range(length))\n",
    "    return password\n",
    "\n",
    "print(\"Your new password:\", generate_password())"
   ]
  },
  {
   "cell_type": "code",
   "execution_count": 18,
   "id": "a08b661f-5625-4381-beaf-d534bd58c242",
   "metadata": {},
   "outputs": [
    {
     "name": "stdout",
     "output_type": "stream",
     "text": [
      "Your new password: 8f%1KvjDMLDP\n"
     ]
    }
   ],
   "source": [
    "import random\n",
    "import string\n",
    "\n",
    "def generate_password(length=12):\n",
    "    chars = string.ascii_letters + string.digits + \"!@#$%^&*\"\n",
    "    password = ''.join(random.choice(chars) for _ in range(length))\n",
    "    return password\n",
    "\n",
    "print(\"Your new password:\", generate_password())"
   ]
  },
  {
   "cell_type": "code",
   "execution_count": 19,
   "id": "e49a930a-a12f-44dd-b040-8da07b8efa06",
   "metadata": {},
   "outputs": [
    {
     "name": "stdout",
     "output_type": "stream",
     "text": [
      "Your new password: $r5I^@nscq5Y\n",
      "Your new password: s0RWg*YYMSLY\n"
     ]
    }
   ],
   "source": [
    "import random\n",
    "import string\n",
    "\n",
    "def generate_password(length=12):\n",
    "    chars = string.ascii_letters + string.digits + \"!@#$%^&*\"\n",
    "    password = ''.join(random.choice(chars) for _ in range(length))\n",
    "    return password\n",
    "\n",
    "print(\"Your new password:\", generate_password())\n",
    "import random\n",
    "import string\n",
    "\n",
    "def generate_password(length=12):\n",
    "    chars = string.ascii_letters + string.digits + \"!@#$%^&*\"\n",
    "    password = ''.join(random.choice(chars) for _ in range(length))\n",
    "    return password\n",
    "\n",
    "print(\"Your new password:\", generate_password())"
   ]
  },
  {
   "cell_type": "code",
   "execution_count": 20,
   "id": "c7bf3c46-bbb2-4980-b4d6-726b7a124359",
   "metadata": {},
   "outputs": [
    {
     "name": "stdout",
     "output_type": "stream",
     "text": [
      "Your new password: 7&fBMvQU^dqT\n"
     ]
    }
   ],
   "source": [
    "import random\n",
    "import string\n",
    "\n",
    "def generate_password(length=12):\n",
    "    chars = string.ascii_letters + string.digits + \"!@#$%^&*\"\n",
    "    password = ''.join(random.choice(chars) for _ in range(length))\n",
    "    return password\n",
    "\n",
    "print(\"Your new password:\", generate_password())"
   ]
  },
  {
   "cell_type": "code",
   "execution_count": 22,
   "id": "8294c84f-5131-45bd-8a86-e70ef01c1c1e",
   "metadata": {},
   "outputs": [
    {
     "name": "stdout",
     "output_type": "stream",
     "text": [
      "Your new password: nBpytoP4^TR3\n",
      "Your new password: fY%Vi1TEb&6A\n",
      "Your new password: p*II4d^DvIBi\n",
      "Your new password: I!TyvV^1rB0g\n"
     ]
    }
   ],
   "source": [
    "import random\n",
    "import string\n",
    "\n",
    "def generate_password(length=12):\n",
    "    chars = string.ascii_letters + string.digits + \"!@#$%^&*\"\n",
    "    password = ''.join(random.choice(chars) for _ in range(length))\n",
    "    return password\n",
    "\n",
    "print(\"Your new password:\", generate_password())\n",
    "import random\n",
    "import string\n",
    "\n",
    "def generate_password(length=12):\n",
    "    chars = string.ascii_letters + string.digits + \"!@#$%^&*\"\n",
    "    password = ''.join(random.choice(chars) for _ in range(length))\n",
    "    return password\n",
    "\n",
    "print(\"Your new password:\", generate_password())\n",
    "import random\n",
    "import string\n",
    "\n",
    "def generate_password(length=12):\n",
    "    chars = string.ascii_letters + string.digits + \"!@#$%^&*\"\n",
    "    password = ''.join(random.choice(chars) for _ in range(length))\n",
    "    return password\n",
    "\n",
    "print(\"Your new password:\", generate_password())\n",
    "import random\n",
    "import string\n",
    "\n",
    "def generate_password(length=12):\n",
    "    chars = string.ascii_letters + string.digits + \"!@#$%^&*\"\n",
    "    password = ''.join(random.choice(chars) for _ in range(length))\n",
    "    return password\n",
    "\n",
    "print(\"Your new password:\", generate_password())"
   ]
  },
  {
   "cell_type": "code",
   "execution_count": 23,
   "id": "3c9dae05-513b-475b-950b-a0d09113731b",
   "metadata": {},
   "outputs": [],
   "source": [
    "# Countdown Timer"
   ]
  },
  {
   "cell_type": "code",
   "execution_count": 33,
   "id": "533c79af-558c-4f36-affb-19e3d06ba5a3",
   "metadata": {},
   "outputs": [
    {
     "name": "stdout",
     "output_type": "stream",
     "text": [
      "Time's up!\n"
     ]
    }
   ],
   "source": [
    "import time\n",
    "\n",
    "def countdown(seconds):\n",
    "    while seconds:\n",
    "        mins, secs = divmod(seconds, 60)\n",
    "        print(f\"{mins:02d}:{secs:02d}\", end=\"\\r\")\n",
    "        time.sleep(1)\n",
    "        seconds -= 1\n",
    "    print(\"Time's up!\")\n",
    "\n",
    "countdown(60)  # 1 minute countdown"
   ]
  },
  {
   "cell_type": "code",
   "execution_count": null,
   "id": "575a2407-adbd-4e57-9c08-1258091f1d17",
   "metadata": {},
   "outputs": [],
   "source": []
  },
  {
   "cell_type": "code",
   "execution_count": null,
   "id": "fc228a3c-4702-4762-ac03-ff88c42dc299",
   "metadata": {},
   "outputs": [],
   "source": []
  }
 ],
 "metadata": {
  "kernelspec": {
   "display_name": "Python 3 (ipykernel)",
   "language": "python",
   "name": "python3"
  },
  "language_info": {
   "codemirror_mode": {
    "name": "ipython",
    "version": 3
   },
   "file_extension": ".py",
   "mimetype": "text/x-python",
   "name": "python",
   "nbconvert_exporter": "python",
   "pygments_lexer": "ipython3",
   "version": "3.12.11"
  }
 },
 "nbformat": 4,
 "nbformat_minor": 5
}
