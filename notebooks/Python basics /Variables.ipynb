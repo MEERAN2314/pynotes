{
 "cells": [
  {
   "cell_type": "code",
   "execution_count": 1,
   "id": "c08d942e-a83a-4ba0-a583-5ed8fe5c45e6",
   "metadata": {},
   "outputs": [],
   "source": [
    "num = 20"
   ]
  },
  {
   "cell_type": "code",
   "execution_count": 2,
   "id": "d0fa0354-3b49-4e20-ad95-76e2fba9182f",
   "metadata": {},
   "outputs": [
    {
     "name": "stdout",
     "output_type": "stream",
     "text": [
      "9754472\n"
     ]
    }
   ],
   "source": [
    "print(id(num))"
   ]
  },
  {
   "cell_type": "code",
   "execution_count": 3,
   "id": "fd52ee3e-d588-4478-a832-4156d6d607a0",
   "metadata": {},
   "outputs": [],
   "source": [
    "x = 20 \n",
    "y = 50\n",
    "z = 100"
   ]
  },
  {
   "cell_type": "code",
   "execution_count": 4,
   "id": "630e2463-8525-4342-9dab-953d5a47ce0b",
   "metadata": {},
   "outputs": [
    {
     "name": "stdout",
     "output_type": "stream",
     "text": [
      "20\n",
      "50\n",
      "100\n"
     ]
    }
   ],
   "source": [
    "print(x);print(y);print(z)"
   ]
  },
  {
   "cell_type": "code",
   "execution_count": 5,
   "id": "025ea804-d65e-40b5-92db-17a7467fe395",
   "metadata": {},
   "outputs": [],
   "source": [
    "phy = 89\n",
    "chem = 86\n",
    "maths = 90\n"
   ]
  },
  {
   "cell_type": "code",
   "execution_count": 6,
   "id": "99964635-26c6-450a-b87c-025d6b2035e5",
   "metadata": {},
   "outputs": [],
   "source": [
    "\n",
    "marks_obtained = phy + chem + maths"
   ]
  },
  {
   "cell_type": "code",
   "execution_count": 7,
   "id": "1142a8b4-2520-428e-a666-23b2bf2c4e34",
   "metadata": {},
   "outputs": [],
   "source": [
    "mark = (marks_obtained * 100) / 300"
   ]
  },
  {
   "cell_type": "code",
   "execution_count": 8,
   "id": "b3deb25e-9466-457d-843c-ff2d00c13329",
   "metadata": {},
   "outputs": [
    {
     "name": "stdout",
     "output_type": "stream",
     "text": [
      "88.33333333333333\n"
     ]
    }
   ],
   "source": [
    "print(mark)"
   ]
  },
  {
   "cell_type": "code",
   "execution_count": 9,
   "id": "d3247c0c-9f5c-45e0-9f8e-c71ceb1b2d20",
   "metadata": {},
   "outputs": [],
   "source": [
    "x = 80 \n",
    "y = 99.99"
   ]
  },
  {
   "cell_type": "code",
   "execution_count": 10,
   "id": "85be3104-55dd-426f-8cde-60b8f994a547",
   "metadata": {},
   "outputs": [],
   "source": [
    "name = 'Radhika'"
   ]
  },
  {
   "cell_type": "code",
   "execution_count": 11,
   "id": "10da572e-9568-4097-84bb-1de3e3772fa7",
   "metadata": {},
   "outputs": [
    {
     "name": "stdout",
     "output_type": "stream",
     "text": [
      "80\n",
      "99.99\n",
      "Radhika\n"
     ]
    }
   ],
   "source": [
    "print(x); print(y); print(name);"
   ]
  },
  {
   "cell_type": "code",
   "execution_count": 12,
   "id": "bccdd128-73dd-490f-b2b1-5a2890971535",
   "metadata": {},
   "outputs": [],
   "source": [
    "radius = 5\n",
    "pi = 3.14"
   ]
  },
  {
   "cell_type": "code",
   "execution_count": 13,
   "id": "0b40df11-b0fe-490a-a279-cbc177565bdc",
   "metadata": {},
   "outputs": [],
   "source": [
    "perimeter = 2 * pi * radius\n",
    "area = 3.14 * radius * radius"
   ]
  },
  {
   "cell_type": "code",
   "execution_count": 14,
   "id": "026029c5-93b4-4645-8603-55f5279a0586",
   "metadata": {},
   "outputs": [
    {
     "name": "stdout",
     "output_type": "stream",
     "text": [
      "Perimeter of the circle =  31.400000000000002\n",
      "Area of the circle =  78.5\n"
     ]
    }
   ],
   "source": [
    "print(\"Perimeter of the circle = \", perimeter)\n",
    "print(\"Area of the circle = \", area)"
   ]
  },
  {
   "cell_type": "code",
   "execution_count": 15,
   "id": "4c1c7dcf-a73a-46c7-af4f-d4d9b7d1c0a4",
   "metadata": {},
   "outputs": [],
   "source": [
    "#  Multiple Assignment"
   ]
  },
  {
   "cell_type": "code",
   "execution_count": 16,
   "id": "21c3d789-44d8-48b9-93b6-202a09084bfc",
   "metadata": {},
   "outputs": [],
   "source": [
    "x = y = z = 20"
   ]
  },
  {
   "cell_type": "code",
   "execution_count": 17,
   "id": "3d152d34-fec8-427f-9449-e86a21984b7c",
   "metadata": {},
   "outputs": [
    {
     "name": "stdout",
     "output_type": "stream",
     "text": [
      "9754472\n",
      "9754472\n",
      "9754472\n"
     ]
    }
   ],
   "source": [
    "print(id(x));print(id(y));print(id(z))"
   ]
  },
  {
   "cell_type": "code",
   "execution_count": 18,
   "id": "7df5330f-a1a0-4bee-bb69-72221f665fb1",
   "metadata": {},
   "outputs": [],
   "source": [
    "x = 20\n",
    "y = x\n",
    "z = y"
   ]
  },
  {
   "cell_type": "code",
   "execution_count": 19,
   "id": "b351814b-f56d-4af8-b00a-5434163f756e",
   "metadata": {},
   "outputs": [
    {
     "name": "stdout",
     "output_type": "stream",
     "text": [
      "9754472\n",
      "9754472\n",
      "9754472\n"
     ]
    }
   ],
   "source": [
    "print(id(x));print(id(y));print(id(z))"
   ]
  },
  {
   "cell_type": "code",
   "execution_count": 20,
   "id": "3a7a402d-eac3-4ef1-ae2e-bee4728a91e4",
   "metadata": {},
   "outputs": [],
   "source": [
    " # Assigning multiple values to multiple variables:"
   ]
  },
  {
   "cell_type": "code",
   "execution_count": 21,
   "id": "61805e15-fdb9-4fed-b45d-f2b29f8d7f70",
   "metadata": {},
   "outputs": [],
   "source": [
    "x, y, z = 20, 25.50, 'text'"
   ]
  },
  {
   "cell_type": "code",
   "execution_count": 22,
   "id": "ead6cfd5-54b1-4fff-a660-13a13a49874d",
   "metadata": {},
   "outputs": [
    {
     "name": "stdout",
     "output_type": "stream",
     "text": [
      "9754472\n",
      "127922448132752\n",
      "9809720\n"
     ]
    }
   ],
   "source": [
    "print(id(x));print(id(y));print(id(z))"
   ]
  },
  {
   "cell_type": "code",
   "execution_count": 23,
   "id": "528e3a0c-f35e-4aa4-b6a2-cea36121c9f7",
   "metadata": {},
   "outputs": [],
   "source": [
    "fruit1, fruit2, fruit3 = \"Banana\", \"Orange\", \"Mango\""
   ]
  },
  {
   "cell_type": "code",
   "execution_count": 24,
   "id": "27b3863e-0edb-4a20-b9e8-1a1f16df942a",
   "metadata": {},
   "outputs": [
    {
     "name": "stdout",
     "output_type": "stream",
     "text": [
      "127922219592720\n",
      "127922515726464\n",
      "Mango\n"
     ]
    }
   ],
   "source": [
    "print(id(fruit1));print(id(fruit2));print(fruit3)"
   ]
  },
  {
   "cell_type": "code",
   "execution_count": 25,
   "id": "0275fed5-7b07-4a0a-aeb0-04af18c332ae",
   "metadata": {},
   "outputs": [
    {
     "name": "stdout",
     "output_type": "stream",
     "text": [
      "<class 'str'>\n"
     ]
    }
   ],
   "source": [
    "print(type(fruit1))"
   ]
  },
  {
   "cell_type": "code",
   "execution_count": null,
   "id": "de919345-7bc8-4658-9b52-aa4bd7e6805a",
   "metadata": {},
   "outputs": [],
   "source": []
  }
 ],
 "metadata": {
  "kernelspec": {
   "display_name": "Python 3 (ipykernel)",
   "language": "python",
   "name": "python3"
  },
  "language_info": {
   "codemirror_mode": {
    "name": "ipython",
    "version": 3
   },
   "file_extension": ".py",
   "mimetype": "text/x-python",
   "name": "python",
   "nbconvert_exporter": "python",
   "pygments_lexer": "ipython3",
   "version": "3.12.11"
  }
 },
 "nbformat": 4,
 "nbformat_minor": 5
}
