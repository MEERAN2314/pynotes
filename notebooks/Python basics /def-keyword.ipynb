{
 "cells": [
  {
   "cell_type": "code",
   "execution_count": 1,
   "id": "49973df4-8370-4d29-8e6c-5d7f43fe4794",
   "metadata": {},
   "outputs": [],
   "source": [
    "#  def keyword\n"
   ]
  },
  {
   "cell_type": "code",
   "execution_count": 2,
   "id": "3b006b42-1865-4de8-a999-9328314fcfaa",
   "metadata": {},
   "outputs": [],
   "source": [
    "def func():\n",
    "    print(\"Inside Function\")"
   ]
  },
  {
   "cell_type": "code",
   "execution_count": 3,
   "id": "0c145534-45da-4912-8655-df2d19bce266",
   "metadata": {},
   "outputs": [
    {
     "name": "stdout",
     "output_type": "stream",
     "text": [
      "Inside Function\n"
     ]
    }
   ],
   "source": [
    "func()"
   ]
  },
  {
   "cell_type": "code",
   "execution_count": 4,
   "id": "bd8fe75c-da5d-44f8-a1ef-e4e1d5be3c04",
   "metadata": {},
   "outputs": [],
   "source": [
    "#  return keyword"
   ]
  },
  {
   "cell_type": "code",
   "execution_count": 5,
   "id": "45202605-67f2-42a5-a468-fd3ed3ecc27f",
   "metadata": {},
   "outputs": [],
   "source": [
    "def func_return():\n",
    "    x = 20\n",
    "    return x\n",
    "\n",
    "def func_no_return():\n",
    "    y = 50\n",
    "\n",
    "    return y"
   ]
  },
  {
   "cell_type": "code",
   "execution_count": 6,
   "id": "b3088c18-9a6c-4971-803a-b9a843cb107a",
   "metadata": {},
   "outputs": [
    {
     "name": "stdout",
     "output_type": "stream",
     "text": [
      "20\n"
     ]
    }
   ],
   "source": [
    "print(func_return())"
   ]
  },
  {
   "cell_type": "code",
   "execution_count": 7,
   "id": "9e70846e-cac9-48b9-a946-d11c98089f9f",
   "metadata": {},
   "outputs": [
    {
     "name": "stdout",
     "output_type": "stream",
     "text": [
      "50\n"
     ]
    }
   ],
   "source": [
    "print(func_no_return())"
   ]
  },
  {
   "cell_type": "code",
   "execution_count": 8,
   "id": "277bbfa0-963e-4971-ac0c-0b6986ac1cd0",
   "metadata": {},
   "outputs": [],
   "source": [
    "def func():\n",
    "    x = 0\n",
    "    for i in range(5):\n",
    "        x += i\n",
    "        yield x"
   ]
  },
  {
   "cell_type": "code",
   "execution_count": 9,
   "id": "b79b5162-9b13-472e-993b-0752de3c4a94",
   "metadata": {},
   "outputs": [
    {
     "name": "stdout",
     "output_type": "stream",
     "text": [
      "0\n",
      "1\n",
      "3\n",
      "6\n",
      "10\n"
     ]
    }
   ],
   "source": [
    "for i in func():\n",
    "    print(i)"
   ]
  },
  {
   "cell_type": "code",
   "execution_count": 10,
   "id": "683c000e-0228-437f-9696-2a555dc9a545",
   "metadata": {},
   "outputs": [
    {
     "name": "stdout",
     "output_type": "stream",
     "text": [
      "0\n",
      "1\n",
      "3\n",
      "6\n",
      "10\n"
     ]
    }
   ],
   "source": [
    "for i in func():\n",
    "    print(i)"
   ]
  },
  {
   "cell_type": "code",
   "execution_count": null,
   "id": "ea8fa66e-bd19-4ebc-b98f-f3600cc360ca",
   "metadata": {},
   "outputs": [],
   "source": []
  }
 ],
 "metadata": {
  "kernelspec": {
   "display_name": "Python 3 (ipykernel)",
   "language": "python",
   "name": "python3"
  },
  "language_info": {
   "codemirror_mode": {
    "name": "ipython",
    "version": 3
   },
   "file_extension": ".py",
   "mimetype": "text/x-python",
   "name": "python",
   "nbconvert_exporter": "python",
   "pygments_lexer": "ipython3",
   "version": "3.12.11"
  }
 },
 "nbformat": 4,
 "nbformat_minor": 5
}
