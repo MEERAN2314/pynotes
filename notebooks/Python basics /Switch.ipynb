{
 "cells": [
  {
   "cell_type": "code",
   "execution_count": 1,
   "id": "ca7fba8d-0229-4f5b-8af9-5d140dfe4e03",
   "metadata": {},
   "outputs": [],
   "source": [
    "# Switch Statement in Python\n"
   ]
  },
  {
   "cell_type": "code",
   "execution_count": 2,
   "id": "4d54c930-ea4c-4973-b8e6-47ec64fff527",
   "metadata": {},
   "outputs": [
    {
     "name": "stdout",
     "output_type": "stream",
     "text": [
      "Dhanbad\n"
     ]
    }
   ],
   "source": [
    "city = 'd' # Initialize the variable.\n",
    "if city == 'm':\n",
    "    print('Mumbai')\n",
    "elif city == 'd':\n",
    "    print('Dhanbad')\n",
    "elif city == 'c':\n",
    "    print('Chennai')\n",
    "elif city == 'r':\n",
    "    print('Ranchi')\n",
    "else:\n",
    "    print('No city')"
   ]
  },
  {
   "cell_type": "code",
   "execution_count": 3,
   "id": "e7535bc9-55b3-4650-9732-dd61ba3bd85b",
   "metadata": {},
   "outputs": [],
   "source": [
    "# Implementing Switch Statement in Python using Dictionary"
   ]
  },
  {
   "cell_type": "code",
   "execution_count": 4,
   "id": "cc5a8c21-450e-4933-a5ae-b7ffecea1510",
   "metadata": {},
   "outputs": [],
   "source": [
    "# Implementing switch case statement in Python using Dictionary."
   ]
  },
  {
   "cell_type": "code",
   "execution_count": 5,
   "id": "7383e4e1-0cf0-40b2-b761-422260d2c36f",
   "metadata": {},
   "outputs": [],
   "source": [
    "def m():\n",
    "    return \"Mumbai\"\n",
    "def d():\n",
    "    return \"Dhanbad\"\n",
    "def c():\n",
    "    return \"Chennai\"\n",
    "def r():\n",
    "    return \"Ranchi\"\n",
    "def default():\n",
    "    return \"No city\""
   ]
  },
  {
   "cell_type": "code",
   "execution_count": 6,
   "id": "7157a57a-0fd0-417f-a6fd-80fe8ff5644d",
   "metadata": {},
   "outputs": [],
   "source": [
    "# Creating a dictionary and put these in it."
   ]
  },
  {
   "cell_type": "code",
   "execution_count": 7,
   "id": "1ad1f4a7-e8d7-4a09-bcfc-aba2fb8e3a02",
   "metadata": {},
   "outputs": [],
   "source": [
    "switcher = {\n",
    "    1: m,\n",
    "    2: d,\n",
    "    3: c,\n",
    "    4: r,\n",
    "    }"
   ]
  },
  {
   "cell_type": "code",
   "execution_count": 8,
   "id": "2586b764-bf8e-47b1-bc34-6870e2310335",
   "metadata": {},
   "outputs": [],
   "source": [
    "# Creating a function named switch with a parameter."
   ]
  },
  {
   "cell_type": "code",
   "execution_count": 9,
   "id": "80406619-caf5-44d9-93b7-2cfdacbd78e2",
   "metadata": {},
   "outputs": [
    {
     "name": "stdout",
     "output_type": "stream",
     "text": [
      "Mumbai\n",
      "Dhanbad\n"
     ]
    }
   ],
   "source": [
    "def switch(city):\n",
    "    return switcher.get(city, default)()\n",
    "print(switch(1)) # Calling function.\n",
    "print(switch(2)) # Calling function."
   ]
  },
  {
   "cell_type": "code",
   "execution_count": 10,
   "id": "a57bead3-6c0f-4ccf-b21b-511a0ba773f7",
   "metadata": {},
   "outputs": [],
   "source": [
    "# Program to create a simple calculator by implementing switch case statement in Python using Dictionary."
   ]
  },
  {
   "cell_type": "code",
   "execution_count": 11,
   "id": "cb2ec5b9-e01a-46e3-a832-e8bdaa181344",
   "metadata": {},
   "outputs": [
    {
     "name": "stdin",
     "output_type": "stream",
     "text": [
      "Enter your first number:  69\n",
      "Enter your second number:  88\n",
      "Enter your choice 1: addition 2: subtraction 3: Multiplication and 4: division:  4\n"
     ]
    },
    {
     "name": "stdout",
     "output_type": "stream",
     "text": [
      "0.7840909090909091\n"
     ]
    }
   ],
   "source": [
    "x = int(input('Enter your first number: '))\n",
    "y = int(input('Enter your second number: '))\n",
    "choice = int(input('Enter your choice 1: addition 2: subtraction 3: Multiplication and 4: division: '))\n",
    "def addition():\n",
    "    sum = x + y\n",
    "    return sum\n",
    "def subtraction():\n",
    "    sub = x - y\n",
    "    return sub\n",
    "def multiplication():\n",
    "    multiply = x * y\n",
    "    return multiply\n",
    "def division():\n",
    "    div = x / y\n",
    "    return div\n",
    "def default():\n",
    "    return \"You are not entered the valid choice.\"\n",
    "\n",
    "# Putting these in the dictionary.\n",
    "switcher = {\n",
    "    1: addition,\n",
    "    2: subtraction,\n",
    "    3: multiplication,\n",
    "    4: division,\n",
    "    }\n",
    "def switch(number):\n",
    "    return switcher.get(number, default)()\n",
    "print(switch(choice))"
   ]
  },
  {
   "cell_type": "code",
   "execution_count": 12,
   "id": "cf2241de-1f06-473b-ab51-e7a4a064d874",
   "metadata": {},
   "outputs": [],
   "source": [
    "# Implementing Switch Statement using Python Class"
   ]
  },
  {
   "cell_type": "code",
   "execution_count": 13,
   "id": "e7bdee09-b564-4133-913a-256ed44a6c4e",
   "metadata": {},
   "outputs": [],
   "source": [
    "# Creating a class."
   ]
  },
  {
   "cell_type": "code",
   "execution_count": 14,
   "id": "143f41cd-8d19-490d-9408-e3ae0e06bae5",
   "metadata": {},
   "outputs": [],
   "source": [
    "class PythonSwitch():\n",
    "    def main_function(self, name_of_day):\n",
    "        default = \"Incorrect name of day\"\n",
    "        method_name = 'day_' + str(name_of_day)\n",
    "        method = getattr(self, method_name, lambda: default())\n",
    "        return method()\n",
    "\n",
    "    def day_1(self):\n",
    "        return \"Sunday\"\n",
    "    def day_2(self):\n",
    "        return \"Monday\"\n",
    "    def day_3(self):\n",
    "        return \"Tuesday\"\n",
    "\n",
    "    def day_4(self):\n",
    "        return \"Wednesday\"\n",
    "    def day_5(self):\n",
    "        return \"Thursday\"\n",
    "    def day_6(self):\n",
    "        return \"Friday\"\n",
    "    def day_7(self):\n",
    "        return \"Saturday\""
   ]
  },
  {
   "cell_type": "code",
   "execution_count": 15,
   "id": "bac892f4-529b-45ac-8b83-e25e4c3a2c8b",
   "metadata": {},
   "outputs": [],
   "source": [
    "# Creating an object of class."
   ]
  },
  {
   "cell_type": "code",
   "execution_count": 16,
   "id": "2e3a71bd-66a7-463d-8642-e1ba64a655dd",
   "metadata": {},
   "outputs": [
    {
     "name": "stdout",
     "output_type": "stream",
     "text": [
      "Sunday\n",
      "Tuesday\n"
     ]
    }
   ],
   "source": [
    "my_switch = PythonSwitch()\n",
    "print(my_switch.main_function(1)) # Calling function with passing argument value.\n",
    "print(my_switch.main_function(3)) # Calling function."
   ]
  },
  {
   "cell_type": "code",
   "execution_count": 17,
   "id": "7eef66e7-8692-4cae-b089-974f84f6f1f2",
   "metadata": {},
   "outputs": [],
   "source": [
    "# Implementing Switch Case using Functions and Lambdas"
   ]
  },
  {
   "cell_type": "code",
   "execution_count": 18,
   "id": "9fad6f1e-7aca-4128-9a53-8aa3f7387e47",
   "metadata": {},
   "outputs": [],
   "source": [
    "def a():\n",
    "    return 'Apple'\n",
    "def m():\n",
    "    return 'Mango'\n",
    "def o():\n",
    "    return 'Orange'"
   ]
  },
  {
   "cell_type": "code",
   "execution_count": 19,
   "id": "a94293d0-7ed3-45fc-abff-d1f193a99af3",
   "metadata": {},
   "outputs": [],
   "source": [
    "def fruits(i):\n",
    "    switcher = {\n",
    "        1: a,\n",
    "        2: m,\n",
    "        3: o,\n",
    "        4: lambda: 'Banana'\n",
    "    }\n",
    "    funct = switcher.get(i, lambda: 'Invalid')\n",
    "    return funct()"
   ]
  },
  {
   "cell_type": "code",
   "execution_count": 20,
   "id": "2a4ac084-d07f-4fa7-b776-cd62699aa656",
   "metadata": {},
   "outputs": [
    {
     "name": "stdout",
     "output_type": "stream",
     "text": [
      "Orange\n",
      "Invalid\n"
     ]
    }
   ],
   "source": [
    "print(fruits(3)) # Calling function.\n",
    "print(fruits(0)) # Calling function."
   ]
  },
  {
   "cell_type": "code",
   "execution_count": 21,
   "id": "beba48d0-e636-460c-89e8-64f47d9b4f06",
   "metadata": {},
   "outputs": [],
   "source": [
    "# Implement Switch Statement with match and case in Python 3.10"
   ]
  },
  {
   "cell_type": "code",
   "execution_count": 22,
   "id": "43a245bd-e995-4937-9d7f-b3558defb655",
   "metadata": {},
   "outputs": [],
   "source": [
    "# This program code will execute only in python 3.10 or above versions"
   ]
  },
  {
   "cell_type": "code",
   "execution_count": 23,
   "id": "0d26e038-7522-4ac3-a345-0675f56f737f",
   "metadata": {},
   "outputs": [
    {
     "name": "stdin",
     "output_type": "stream",
     "text": [
      "Which programming language do you want to learn?  java\n"
     ]
    },
    {
     "name": "stdout",
     "output_type": "stream",
     "text": [
      "Language does not matter.\n"
     ]
    }
   ],
   "source": [
    "lang = input('Which programming language do you want to learn? ')\n",
    "\n",
    "match lang:\n",
    "    case \"JavaScript\":\n",
    "        print('You will be a web developer after learning JavaScript.')\n",
    "\n",
    "    case \"Python\":\n",
    "        print(\"You will be a Data Scientist after learning Python.\")\n",
    "\n",
    "    case \"PHP\":\n",
    "        print(\"You will be a backend developer after learning PHP.\")\n",
    "\n",
    "    case \"Solidity\":\n",
    "        print(\"You will be a Blockchain developer after learning Solidity.\")\n",
    "\n",
    "    case \"Java\":\n",
    "        print(\"You will be a software developer after learning Java\")\n",
    "    case _:\n",
    "        print(\"Language does not matter.\")"
   ]
  },
  {
   "cell_type": "code",
   "execution_count": 24,
   "id": "3984a7b9-3815-4383-9b04-3b8a4ba50cb8",
   "metadata": {},
   "outputs": [
    {
     "name": "stdin",
     "output_type": "stream",
     "text": [
      "Which programming language do you want to learn?  python\n"
     ]
    },
    {
     "name": "stdout",
     "output_type": "stream",
     "text": [
      "Language does not matter.\n"
     ]
    }
   ],
   "source": [
    "lang = input('Which programming language do you want to learn? ')\n",
    "\n",
    "match lang:\n",
    "    case \"JavaScript\":\n",
    "        print('You will be a web developer after learning JavaScript.')\n",
    "\n",
    "    case \"Python\":\n",
    "        print(\"You will be a Data Scientist after learning Python.\")\n",
    "\n",
    "    case \"PHP\":\n",
    "        print(\"You will be a backend developer after learning PHP.\")\n",
    "\n",
    "    case \"Solidity\":\n",
    "        print(\"You will be a Blockchain developer after learning Solidity.\")\n",
    "\n",
    "    case \"Java\":\n",
    "        print(\"You will be a software developer after learning Java\")\n",
    "    case _:\n",
    "        print(\"Language does not matter.\")"
   ]
  },
  {
   "cell_type": "code",
   "execution_count": 25,
   "id": "ba14fef0-e2c5-4370-90e2-588852c7cd5c",
   "metadata": {},
   "outputs": [
    {
     "name": "stdin",
     "output_type": "stream",
     "text": [
      "Which programming language do you want to learn?  Python\n"
     ]
    },
    {
     "name": "stdout",
     "output_type": "stream",
     "text": [
      "You will be a Data Scientist after learning Python.\n"
     ]
    }
   ],
   "source": [
    "lang = input('Which programming language do you want to learn? ')\n",
    "\n",
    "match lang:\n",
    "    case \"JavaScript\":\n",
    "        print('You will be a web developer after learning JavaScript.')\n",
    "\n",
    "    case \"Python\":\n",
    "        print(\"You will be a Data Scientist after learning Python.\")\n",
    "\n",
    "    case \"PHP\":\n",
    "        print(\"You will be a backend developer after learning PHP.\")\n",
    "\n",
    "    case \"Solidity\":\n",
    "        print(\"You will be a Blockchain developer after learning Solidity.\")\n",
    "\n",
    "    case \"Java\":\n",
    "        print(\"You will be a software developer after learning Java\")\n",
    "    case _:\n",
    "        print(\"Language does not matter.\")"
   ]
  },
  {
   "cell_type": "code",
   "execution_count": 26,
   "id": "b7a51291-5a23-4738-abb8-c539383a03df",
   "metadata": {},
   "outputs": [
    {
     "name": "stdin",
     "output_type": "stream",
     "text": [
      "Which programming language do you want to learn?  Java\n"
     ]
    },
    {
     "name": "stdout",
     "output_type": "stream",
     "text": [
      "You will be a software developer after learning Java\n"
     ]
    }
   ],
   "source": [
    "lang = input('Which programming language do you want to learn? ')\n",
    "\n",
    "match lang:\n",
    "    case \"JavaScript\":\n",
    "        print('You will be a web developer after learning JavaScript.')\n",
    "\n",
    "    case \"Python\":\n",
    "        print(\"You will be a Data Scientist after learning Python.\")\n",
    "\n",
    "    case \"PHP\":\n",
    "        print(\"You will be a backend developer after learning PHP.\")\n",
    "\n",
    "    case \"Solidity\":\n",
    "        print(\"You will be a Blockchain developer after learning Solidity.\")\n",
    "\n",
    "    case \"Java\":\n",
    "        print(\"You will be a software developer after learning Java\")\n",
    "    case _:\n",
    "        print(\"Language does not matter.\")"
   ]
  },
  {
   "cell_type": "code",
   "execution_count": 27,
   "id": "2b0f7ade-4189-4595-a2c8-42e7f25abe73",
   "metadata": {},
   "outputs": [
    {
     "name": "stdin",
     "output_type": "stream",
     "text": [
      "Which programming language do you want to learn?  JavaScript\n"
     ]
    },
    {
     "name": "stdout",
     "output_type": "stream",
     "text": [
      "You will be a web developer after learning JavaScript.\n"
     ]
    }
   ],
   "source": [
    "lang = input('Which programming language do you want to learn? ')\n",
    "\n",
    "match lang:\n",
    "    case \"JavaScript\":\n",
    "        print('You will be a web developer after learning JavaScript.')\n",
    "\n",
    "    case \"Python\":\n",
    "        print(\"You will be a Data Scientist after learning Python.\")\n",
    "\n",
    "    case \"PHP\":\n",
    "        print(\"You will be a backend developer after learning PHP.\")\n",
    "\n",
    "    case \"Solidity\":\n",
    "        print(\"You will be a Blockchain developer after learning Solidity.\")\n",
    "\n",
    "    case \"Java\":\n",
    "        print(\"You will be a software developer after learning Java\")\n",
    "    case _:\n",
    "        print(\"Language does not matter.\")"
   ]
  },
  {
   "cell_type": "code",
   "execution_count": 28,
   "id": "09de9f6e-b4f3-43cc-ab24-bd15cd0960ca",
   "metadata": {},
   "outputs": [
    {
     "name": "stdout",
     "output_type": "stream",
     "text": [
      "You chose 2\n"
     ]
    }
   ],
   "source": [
    "choice = int(2)\n",
    "match choice:\n",
    "    case 1:\n",
    "        print('You chose 1')\n",
    "    case 2:\n",
    "        print('You chose 2')\n",
    "    case 3:\n",
    "        print('You chose 3')\n",
    "    case _:\n",
    "        print('Default option')"
   ]
  },
  {
   "cell_type": "code",
   "execution_count": 29,
   "id": "ba8f5323-e707-4d50-87c0-b9fc36427005",
   "metadata": {},
   "outputs": [
    {
     "name": "stdout",
     "output_type": "stream",
     "text": [
      "Default option\n"
     ]
    }
   ],
   "source": [
    "choice = int()\n",
    "match choice:\n",
    "    case 1:\n",
    "        print('You chose 1')\n",
    "    case 2:\n",
    "        print('You chose 2')\n",
    "    case 3:\n",
    "        print('You chose 3')\n",
    "    case _:\n",
    "        print('Default option')"
   ]
  },
  {
   "cell_type": "code",
   "execution_count": 30,
   "id": "ff0d3439-40c9-4dc6-9d6f-e29dfeccd9c2",
   "metadata": {},
   "outputs": [
    {
     "name": "stdout",
     "output_type": "stream",
     "text": [
      "You chose 3\n"
     ]
    }
   ],
   "source": [
    "choice = int(3)\n",
    "match choice:\n",
    "    case 1:\n",
    "        print('You chose 1')\n",
    "    case 2:\n",
    "        print('You chose 2')\n",
    "    case 3:\n",
    "        print('You chose 3')\n",
    "    case _:\n",
    "        print('Default option')"
   ]
  },
  {
   "cell_type": "code",
   "execution_count": null,
   "id": "f3e8229c-7a46-4816-a981-eed87fc72f11",
   "metadata": {},
   "outputs": [],
   "source": []
  }
 ],
 "metadata": {
  "kernelspec": {
   "display_name": "Python 3 (ipykernel)",
   "language": "python",
   "name": "python3"
  },
  "language_info": {
   "codemirror_mode": {
    "name": "ipython",
    "version": 3
   },
   "file_extension": ".py",
   "mimetype": "text/x-python",
   "name": "python",
   "nbconvert_exporter": "python",
   "pygments_lexer": "ipython3",
   "version": "3.12.11"
  }
 },
 "nbformat": 4,
 "nbformat_minor": 5
}
