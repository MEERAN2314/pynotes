{
 "cells": [
  {
   "cell_type": "code",
   "execution_count": 1,
   "id": "2788bf7a-3d11-4c8b-8de5-49c2fb328142",
   "metadata": {},
   "outputs": [],
   "source": [
    "#  class Keyword"
   ]
  },
  {
   "cell_type": "code",
   "execution_count": 2,
   "id": "6438b468-aebb-4241-8091-006c321320c2",
   "metadata": {},
   "outputs": [],
   "source": [
    "#  example for a class declarstion "
   ]
  },
  {
   "cell_type": "code",
   "execution_count": 3,
   "id": "cb5ae960-8014-4e3c-97b6-10db59ae37b9",
   "metadata": {},
   "outputs": [
    {
     "ename": "SyntaxError",
     "evalue": "invalid syntax (1990948356.py, line 3)",
     "output_type": "error",
     "traceback": [
      "\u001b[0;36m  Cell \u001b[0;32mIn[3], line 3\u001b[0;36m\u001b[0m\n\u001b[0;31m    . . . .\u001b[0m\n\u001b[0m    ^\u001b[0m\n\u001b[0;31mSyntaxError\u001b[0m\u001b[0;31m:\u001b[0m invalid syntax\n"
     ]
    }
   ],
   "source": [
    "class ClassExample:\n",
    "    def func1(parameters):\n",
    "        . . . .\n",
    "    def func2(parameters):\n",
    "        . . . ."
   ]
  },
  {
   "cell_type": "code",
   "execution_count": 4,
   "id": "8613cec1-7e41-4392-918c-5d13f32f8a7c",
   "metadata": {},
   "outputs": [
    {
     "ename": "IndentationError",
     "evalue": "expected an indented block after function definition on line 2 (469917611.py, line 4)",
     "output_type": "error",
     "traceback": [
      "\u001b[0;36m  Cell \u001b[0;32mIn[4], line 4\u001b[0;36m\u001b[0m\n\u001b[0;31m    def func2(parameters):\u001b[0m\n\u001b[0m    ^\u001b[0m\n\u001b[0;31mIndentationError\u001b[0m\u001b[0;31m:\u001b[0m expected an indented block after function definition on line 2\n"
     ]
    }
   ],
   "source": [
    "class ClassExample:\n",
    "    def func1(parameters):\n",
    "        \n",
    "    def func2(parameters):\n",
    "\n",
    "        "
   ]
  },
  {
   "cell_type": "code",
   "execution_count": 6,
   "id": "3627f884-78d4-4411-a7fd-5489bc461981",
   "metadata": {},
   "outputs": [],
   "source": [
    "with open('myfile.txt', 'w') as file:\n",
    "    file.write('Hi Meeran')"
   ]
  },
  {
   "cell_type": "code",
   "execution_count": 7,
   "id": "6c72e726-c171-4897-bbea-799e6c809347",
   "metadata": {},
   "outputs": [],
   "source": [
    "#  as Keyword"
   ]
  },
  {
   "cell_type": "code",
   "execution_count": 8,
   "id": "84732268-e5d3-435b-8add-cea50f23f490",
   "metadata": {},
   "outputs": [],
   "source": [
    "import math as x"
   ]
  },
  {
   "cell_type": "code",
   "execution_count": 9,
   "id": "d988c932-d16f-47cc-a593-8a48aa6a4bbe",
   "metadata": {},
   "outputs": [
    {
     "name": "stdout",
     "output_type": "stream",
     "text": [
      "1.0\n"
     ]
    }
   ],
   "source": [
    "print(x.cos(0))"
   ]
  },
  {
   "cell_type": "code",
   "execution_count": 10,
   "id": "c6a5df32-abfe-4019-834f-b46e53ea4b30",
   "metadata": {},
   "outputs": [],
   "source": [
    "#  pass keyword"
   ]
  },
  {
   "cell_type": "code",
   "execution_count": 11,
   "id": "18037025-82d9-4475-bfec-73217e78741f",
   "metadata": {},
   "outputs": [],
   "source": [
    "def func():\n",
    "    pass\n",
    "class A:\n",
    "    pass"
   ]
  },
  {
   "cell_type": "code",
   "execution_count": 12,
   "id": "1bb4ca2b-6a8c-437f-bca9-05f6040ce0aa",
   "metadata": {},
   "outputs": [],
   "source": [
    "#  lambda Keyword"
   ]
  },
  {
   "cell_type": "code",
   "execution_count": 13,
   "id": "37473801-e9e8-4d22-b59e-d759eb506aa6",
   "metadata": {},
   "outputs": [
    {
     "name": "stdout",
     "output_type": "stream",
     "text": [
      "343\n"
     ]
    }
   ],
   "source": [
    "cube = lambda x: x * x * x\n",
    "print(cube(7))"
   ]
  },
  {
   "cell_type": "code",
   "execution_count": 14,
   "id": "a1248fb6-5ab9-40ea-b892-4b8c3ff98a04",
   "metadata": {},
   "outputs": [],
   "source": [
    "#  import Keyword"
   ]
  },
  {
   "cell_type": "code",
   "execution_count": 15,
   "id": "71761521-f40a-4329-93d4-818a433dada1",
   "metadata": {},
   "outputs": [],
   "source": [
    "import math"
   ]
  },
  {
   "cell_type": "code",
   "execution_count": 16,
   "id": "30c53ff9-5239-4210-9bfc-12d1a6ae8b8a",
   "metadata": {},
   "outputs": [
    {
     "name": "stdout",
     "output_type": "stream",
     "text": [
      "5.0\n"
     ]
    }
   ],
   "source": [
    "print(math.sqrt(25))"
   ]
  },
  {
   "cell_type": "code",
   "execution_count": 17,
   "id": "52096b0d-9841-4357-8069-41a42814505c",
   "metadata": {},
   "outputs": [],
   "source": [
    "#  from Keyword"
   ]
  },
  {
   "cell_type": "code",
   "execution_count": 18,
   "id": "98a2ffc0-82a8-40de-9596-6d7df4a6d3ac",
   "metadata": {},
   "outputs": [],
   "source": [
    "from math import sqrt"
   ]
  },
  {
   "cell_type": "code",
   "execution_count": 19,
   "id": "45625300-987e-41d0-95e7-cd07726fe3a6",
   "metadata": {},
   "outputs": [
    {
     "name": "stdout",
     "output_type": "stream",
     "text": [
      "25.0\n"
     ]
    }
   ],
   "source": [
    "print(sqrt(625))"
   ]
  },
  {
   "cell_type": "code",
   "execution_count": 20,
   "id": "d9644c47-12a7-471a-a8aa-ff09cafb6195",
   "metadata": {},
   "outputs": [],
   "source": [
    "#  del Keyword"
   ]
  },
  {
   "cell_type": "code",
   "execution_count": 21,
   "id": "1ca466de-0fb9-4e34-800c-dd2c12ebd9c7",
   "metadata": {},
   "outputs": [],
   "source": [
    "my_var1 = 200"
   ]
  },
  {
   "cell_type": "code",
   "execution_count": 22,
   "id": "44f7a59e-0825-42f3-91ba-6ca39c620e26",
   "metadata": {},
   "outputs": [],
   "source": [
    "my_var2 = \"Scientech Easy\""
   ]
  },
  {
   "cell_type": "code",
   "execution_count": 23,
   "id": "202fbc93-1702-4822-97f5-374d00adb0d5",
   "metadata": {},
   "outputs": [
    {
     "name": "stdout",
     "output_type": "stream",
     "text": [
      "200\n"
     ]
    }
   ],
   "source": [
    "print(my_var1)"
   ]
  },
  {
   "cell_type": "code",
   "execution_count": 24,
   "id": "0b27e3dd-3100-4a39-906e-16062f54d668",
   "metadata": {},
   "outputs": [
    {
     "name": "stdout",
     "output_type": "stream",
     "text": [
      "Scientech Easy\n"
     ]
    }
   ],
   "source": [
    "print(my_var2)"
   ]
  },
  {
   "cell_type": "code",
   "execution_count": 25,
   "id": "5297071f-15e8-49b6-8002-16f3139115c4",
   "metadata": {},
   "outputs": [],
   "source": [
    "del my_var1"
   ]
  },
  {
   "cell_type": "code",
   "execution_count": 26,
   "id": "e8b3d542-cc86-422e-b3e1-a7de2d2b6fc5",
   "metadata": {},
   "outputs": [],
   "source": [
    "del my_var2"
   ]
  },
  {
   "cell_type": "code",
   "execution_count": 27,
   "id": "bacb7e65-ebcd-4ff0-9b1d-8f46078a69cf",
   "metadata": {},
   "outputs": [
    {
     "ename": "NameError",
     "evalue": "name 'my_var1' is not defined",
     "output_type": "error",
     "traceback": [
      "\u001b[0;31m---------------------------------------------------------------------------\u001b[0m",
      "\u001b[0;31mNameError\u001b[0m                                 Traceback (most recent call last)",
      "Cell \u001b[0;32mIn[27], line 1\u001b[0m\n\u001b[0;32m----> 1\u001b[0m \u001b[38;5;28mprint\u001b[39m(\u001b[43mmy_var1\u001b[49m)\n",
      "\u001b[0;31mNameError\u001b[0m: name 'my_var1' is not defined"
     ]
    }
   ],
   "source": [
    "print(my_var1)"
   ]
  },
  {
   "cell_type": "code",
   "execution_count": 28,
   "id": "cf8a284b-43d8-4218-8caa-2a0656f316ea",
   "metadata": {},
   "outputs": [
    {
     "ename": "NameError",
     "evalue": "name 'my_var2' is not defined",
     "output_type": "error",
     "traceback": [
      "\u001b[0;31m---------------------------------------------------------------------------\u001b[0m",
      "\u001b[0;31mNameError\u001b[0m                                 Traceback (most recent call last)",
      "Cell \u001b[0;32mIn[28], line 1\u001b[0m\n\u001b[0;32m----> 1\u001b[0m \u001b[38;5;28mprint\u001b[39m(\u001b[43mmy_var2\u001b[49m)\n",
      "\u001b[0;31mNameError\u001b[0m: name 'my_var2' is not defined"
     ]
    }
   ],
   "source": [
    "print(my_var2)"
   ]
  },
  {
   "cell_type": "code",
   "execution_count": 29,
   "id": "043b81d5-0df3-467b-9a3c-12645a1037a6",
   "metadata": {},
   "outputs": [],
   "source": [
    "# global Keyword"
   ]
  },
  {
   "cell_type": "code",
   "execution_count": 30,
   "id": "44eef86d-72a4-434d-a6bd-58b2b2a4f457",
   "metadata": {},
   "outputs": [],
   "source": [
    "g_var = 50\n",
    "def func_read():\n",
    "    print(g_var)\n",
    "def func_write():\n",
    "    global g_var\n",
    "    g_var = 100"
   ]
  },
  {
   "cell_type": "code",
   "execution_count": 31,
   "id": "394f5813-5638-4de7-b85d-545d959512d3",
   "metadata": {},
   "outputs": [
    {
     "name": "stdout",
     "output_type": "stream",
     "text": [
      "50\n",
      "100\n"
     ]
    }
   ],
   "source": [
    "func_read()\n",
    "func_write()\n",
    "func_read()"
   ]
  },
  {
   "cell_type": "code",
   "execution_count": 32,
   "id": "4752e1eb-d785-4cc3-8dbc-9174a6be9433",
   "metadata": {},
   "outputs": [],
   "source": [
    "#  nonlocal Keyword"
   ]
  },
  {
   "cell_type": "code",
   "execution_count": 33,
   "id": "42d8848c-5e2b-4469-b062-1776721b1f0f",
   "metadata": {},
   "outputs": [],
   "source": [
    "def outer_func():\n",
    "    x = 50\n",
    "    def inner_func():\n",
    "        nonlocal x\n",
    "        x = 100\n",
    "        print(\"Inner function: \",x)\n",
    "    inner_func()\n",
    "    print(\"Outer function: \",x)"
   ]
  },
  {
   "cell_type": "code",
   "execution_count": 34,
   "id": "759ff105-49a6-4f26-9b99-cb2439129e4f",
   "metadata": {},
   "outputs": [
    {
     "name": "stdout",
     "output_type": "stream",
     "text": [
      "Inner function:  100\n",
      "Outer function:  100\n"
     ]
    }
   ],
   "source": [
    "outer_func()"
   ]
  },
  {
   "cell_type": "code",
   "execution_count": 35,
   "id": "4b992ee8-3e4e-4757-bbcf-34f12d495005",
   "metadata": {},
   "outputs": [],
   "source": [
    "def outer_func():\n",
    "    x = 50\n",
    "    def inner_func():\n",
    "        x = 100\n",
    "        print(\"Inner function: \",x)\n",
    "    inner_func()\n",
    "    print(\"Outer function: \",x)"
   ]
  },
  {
   "cell_type": "code",
   "execution_count": 36,
   "id": "6d38dce9-c290-4ec3-ab93-1cdf683c1772",
   "metadata": {},
   "outputs": [
    {
     "name": "stdout",
     "output_type": "stream",
     "text": [
      "Inner function:  100\n",
      "Outer function:  50\n"
     ]
    }
   ],
   "source": [
    "outer_func()"
   ]
  },
  {
   "cell_type": "code",
   "execution_count": null,
   "id": "5c98d308-4482-4a7f-b143-8c9b3f93f9ae",
   "metadata": {},
   "outputs": [],
   "source": []
  },
  {
   "cell_type": "code",
   "execution_count": 37,
   "id": "c42132fe-4e93-4f97-bf61-dd39bdc004c1",
   "metadata": {},
   "outputs": [
    {
     "name": "stdout",
     "output_type": "stream",
     "text": [
      "Inner function:  100\n",
      "Outer function:  50\n"
     ]
    }
   ],
   "source": [
    "outer_func()"
   ]
  },
  {
   "cell_type": "code",
   "execution_count": null,
   "id": "ca455ed2-6704-4d24-9a73-ee3bf134758b",
   "metadata": {},
   "outputs": [],
   "source": []
  }
 ],
 "metadata": {
  "kernelspec": {
   "display_name": "Python 3 (ipykernel)",
   "language": "python",
   "name": "python3"
  },
  "language_info": {
   "codemirror_mode": {
    "name": "ipython",
    "version": 3
   },
   "file_extension": ".py",
   "mimetype": "text/x-python",
   "name": "python",
   "nbconvert_exporter": "python",
   "pygments_lexer": "ipython3",
   "version": "3.12.11"
  }
 },
 "nbformat": 4,
 "nbformat_minor": 5
}
