{
 "cells": [
  {
   "cell_type": "code",
   "execution_count": 1,
   "id": "c928fe52-94e8-474e-b47f-4c77a37caa7e",
   "metadata": {},
   "outputs": [],
   "source": [
    "#  Basic Hangman Game"
   ]
  },
  {
   "cell_type": "code",
   "execution_count": 2,
   "id": "c0551ce3-9cd9-4814-bf8f-40c597f710d3",
   "metadata": {},
   "outputs": [
    {
     "name": "stdout",
     "output_type": "stream",
     "text": [
      "_ _ _ _ _ _\n"
     ]
    },
    {
     "name": "stdin",
     "output_type": "stream",
     "text": [
      "Guess a letter:  notebook\n"
     ]
    },
    {
     "name": "stdout",
     "output_type": "stream",
     "text": [
      "Wrong! 5 tries left.\n",
      "_ _ _ _ _ _\n"
     ]
    },
    {
     "name": "stdin",
     "output_type": "stream",
     "text": [
      "Guess a letter:  jupyter\n"
     ]
    },
    {
     "name": "stdout",
     "output_type": "stream",
     "text": [
      "Wrong! 4 tries left.\n",
      "_ _ _ _ _ _\n"
     ]
    },
    {
     "name": "stdin",
     "output_type": "stream",
     "text": [
      "Guess a letter:  python\n"
     ]
    },
    {
     "name": "stdout",
     "output_type": "stream",
     "text": [
      "_ _ _ _ _ _\n"
     ]
    },
    {
     "name": "stdin",
     "output_type": "stream",
     "text": [
      "Guess a letter:  programming\n"
     ]
    },
    {
     "name": "stdout",
     "output_type": "stream",
     "text": [
      "Wrong! 3 tries left.\n",
      "_ _ _ _ _ _\n"
     ]
    },
    {
     "name": "stdin",
     "output_type": "stream",
     "text": [
      "Guess a letter:  python\n"
     ]
    },
    {
     "name": "stdout",
     "output_type": "stream",
     "text": [
      "_ _ _ _ _ _\n"
     ]
    },
    {
     "name": "stdin",
     "output_type": "stream",
     "text": [
      "Guess a letter:  jupyter\n"
     ]
    },
    {
     "name": "stdout",
     "output_type": "stream",
     "text": [
      "Wrong! 2 tries left.\n",
      "_ _ _ _ _ _\n"
     ]
    },
    {
     "name": "stdin",
     "output_type": "stream",
     "text": [
      "Guess a letter:  jupyter\n"
     ]
    },
    {
     "name": "stdout",
     "output_type": "stream",
     "text": [
      "Wrong! 1 tries left.\n",
      "_ _ _ _ _ _\n"
     ]
    },
    {
     "name": "stdin",
     "output_type": "stream",
     "text": [
      "Guess a letter:  jupyter\n"
     ]
    },
    {
     "name": "stdout",
     "output_type": "stream",
     "text": [
      "Wrong! 0 tries left.\n",
      "You lost! Word was: python\n"
     ]
    }
   ],
   "source": [
    "import random\n",
    "\n",
    "words = [\"python\", \"jupyter\", \"notebook\", \"programming\"]\n",
    "word = random.choice(words)\n",
    "guessed = [\"_\"] * len(word)\n",
    "tries = 6\n",
    "\n",
    "while tries > 0 and \"_\" in guessed:\n",
    "    print(\" \".join(guessed))\n",
    "    guess = input(\"Guess a letter: \").lower()\n",
    "    \n",
    "    if guess in word:\n",
    "        for i, letter in enumerate(word):\n",
    "            if letter == guess:\n",
    "                guessed[i] = guess\n",
    "    else:\n",
    "        tries -= 1\n",
    "        print(f\"Wrong! {tries} tries left.\")\n",
    "\n",
    "print(\"You won!\" if \"_\" not in guessed else \"You lost! Word was: \" + word)"
   ]
  },
  {
   "cell_type": "code",
   "execution_count": 3,
   "id": "2c7defe1-7294-4d4a-85c7-2d1003deac1b",
   "metadata": {},
   "outputs": [
    {
     "name": "stdout",
     "output_type": "stream",
     "text": [
      "_ _ _ _ _ _ _ _ _ _ _\n"
     ]
    },
    {
     "name": "stdin",
     "output_type": "stream",
     "text": [
      "Guess a letter:  sd\n"
     ]
    },
    {
     "name": "stdout",
     "output_type": "stream",
     "text": [
      "Wrong! 5 tries left.\n",
      "_ _ _ _ _ _ _ _ _ _ _\n"
     ]
    },
    {
     "name": "stdin",
     "output_type": "stream",
     "text": [
      "Guess a letter:  sd\n"
     ]
    },
    {
     "name": "stdout",
     "output_type": "stream",
     "text": [
      "Wrong! 4 tries left.\n",
      "_ _ _ _ _ _ _ _ _ _ _\n"
     ]
    },
    {
     "name": "stdin",
     "output_type": "stream",
     "text": [
      "Guess a letter:  a\n"
     ]
    },
    {
     "name": "stdout",
     "output_type": "stream",
     "text": [
      "_ _ _ _ _ a _ _ _ _ _\n"
     ]
    },
    {
     "name": "stdin",
     "output_type": "stream",
     "text": [
      "Guess a letter:  w\n"
     ]
    },
    {
     "name": "stdout",
     "output_type": "stream",
     "text": [
      "Wrong! 3 tries left.\n",
      "_ _ _ _ _ a _ _ _ _ _\n"
     ]
    },
    {
     "name": "stdin",
     "output_type": "stream",
     "text": [
      "Guess a letter:  t\n"
     ]
    },
    {
     "name": "stdout",
     "output_type": "stream",
     "text": [
      "Wrong! 2 tries left.\n",
      "_ _ _ _ _ a _ _ _ _ _\n"
     ]
    },
    {
     "name": "stdin",
     "output_type": "stream",
     "text": [
      "Guess a letter:  yt\n"
     ]
    },
    {
     "name": "stdout",
     "output_type": "stream",
     "text": [
      "Wrong! 1 tries left.\n",
      "_ _ _ _ _ a _ _ _ _ _\n"
     ]
    },
    {
     "name": "stdin",
     "output_type": "stream",
     "text": [
      "Guess a letter:  python\n"
     ]
    },
    {
     "name": "stdout",
     "output_type": "stream",
     "text": [
      "Wrong! 0 tries left.\n",
      "You lost! Word was: programming\n"
     ]
    }
   ],
   "source": [
    "import random\n",
    "\n",
    "words = [\"python\", \"jupyter\", \"notebook\", \"programming\"]\n",
    "word = random.choice(words)\n",
    "guessed = [\"_\"] * len(word)\n",
    "tries = 6\n",
    "\n",
    "while tries > 0 and \"_\" in guessed:\n",
    "    print(\" \".join(guessed))\n",
    "    guess = input(\"Guess a letter: \").lower()\n",
    "    \n",
    "    if guess in word:\n",
    "        for i, letter in enumerate(word):\n",
    "            if letter == guess:\n",
    "                guessed[i] = guess\n",
    "    else:\n",
    "        tries -= 1\n",
    "        print(f\"Wrong! {tries} tries left.\")\n",
    "\n",
    "print(\"You won!\" if \"_\" not in guessed else \"You lost! Word was: \" + word)"
   ]
  },
  {
   "cell_type": "code",
   "execution_count": 4,
   "id": "bc20a4c9-a142-4e56-be81-8cac34b2be02",
   "metadata": {},
   "outputs": [],
   "source": [
    "# Temperature Converter"
   ]
  },
  {
   "cell_type": "code",
   "execution_count": 5,
   "id": "24b85df8-ae58-4dc1-98fe-8c97ae5095ef",
   "metadata": {},
   "outputs": [
    {
     "name": "stdout",
     "output_type": "stream",
     "text": [
      "1. Celsius to Fahrenheit\n",
      "2. Fahrenheit to Celsius\n"
     ]
    },
    {
     "name": "stdin",
     "output_type": "stream",
     "text": [
      "Choose conversion (1/2):  1\n",
      "Enter Celsius:  30\n"
     ]
    },
    {
     "name": "stdout",
     "output_type": "stream",
     "text": [
      "30.0°C = 86.0°F\n"
     ]
    }
   ],
   "source": [
    "def temp_converter():\n",
    "    print(\"1. Celsius to Fahrenheit\")\n",
    "    print(\"2. Fahrenheit to Celsius\")\n",
    "    choice = int(input(\"Choose conversion (1/2): \"))\n",
    "    \n",
    "    if choice == 1:\n",
    "        c = float(input(\"Enter Celsius: \"))\n",
    "        print(f\"{c}°C = {(c * 9/5) + 32}°F\")\n",
    "    else:\n",
    "        f = float(input(\"Enter Fahrenheit: \"))\n",
    "        print(f\"{f}°F = {(f - 32) * 5/9}°C\")\n",
    "\n",
    "temp_converter()"
   ]
  },
  {
   "cell_type": "code",
   "execution_count": 6,
   "id": "bd597e87-c6bd-47b9-ba37-d558d147c892",
   "metadata": {},
   "outputs": [
    {
     "name": "stdout",
     "output_type": "stream",
     "text": [
      "1. Celsius to Fahrenheit\n",
      "2. Fahrenheit to Celsius\n"
     ]
    },
    {
     "name": "stdin",
     "output_type": "stream",
     "text": [
      "Choose conversion (1/2):  2\n",
      "Enter Fahrenheit:  120\n"
     ]
    },
    {
     "name": "stdout",
     "output_type": "stream",
     "text": [
      "120.0°F = 48.888888888888886°C\n"
     ]
    }
   ],
   "source": [
    "def temp_converter():\n",
    "    print(\"1. Celsius to Fahrenheit\")\n",
    "    print(\"2. Fahrenheit to Celsius\")\n",
    "    choice = int(input(\"Choose conversion (1/2): \"))\n",
    "    \n",
    "    if choice == 1:\n",
    "        c = float(input(\"Enter Celsius: \"))\n",
    "        print(f\"{c}°C = {(c * 9/5) + 32}°F\")\n",
    "    else:\n",
    "        f = float(input(\"Enter Fahrenheit: \"))\n",
    "        print(f\"{f}°F = {(f - 32) * 5/9}°C\")\n",
    "\n",
    "temp_converter()"
   ]
  },
  {
   "cell_type": "code",
   "execution_count": 7,
   "id": "852dc939-a53c-427b-a66e-130733b5c0f1",
   "metadata": {},
   "outputs": [
    {
     "name": "stdout",
     "output_type": "stream",
     "text": [
      "1. Celsius to Fahrenheit\n",
      "2. Fahrenheit to Celsius\n"
     ]
    },
    {
     "name": "stdin",
     "output_type": "stream",
     "text": [
      "Choose conversion (1/2):  1\n",
      "Enter Celsius:  54\n"
     ]
    },
    {
     "name": "stdout",
     "output_type": "stream",
     "text": [
      "54.0°C = 129.2°F\n"
     ]
    }
   ],
   "source": [
    "def temp_converter():\n",
    "    print(\"1. Celsius to Fahrenheit\")\n",
    "    print(\"2. Fahrenheit to Celsius\")\n",
    "    choice = int(input(\"Choose conversion (1/2): \"))\n",
    "    \n",
    "    if choice == 1:\n",
    "        c = float(input(\"Enter Celsius: \"))\n",
    "        print(f\"{c}°C = {(c * 9/5) + 32}°F\")\n",
    "    else:\n",
    "        f = float(input(\"Enter Fahrenheit: \"))\n",
    "        print(f\"{f}°F = {(f - 32) * 5/9}°C\")\n",
    "\n",
    "temp_converter()"
   ]
  },
  {
   "cell_type": "code",
   "execution_count": 8,
   "id": "5a5b27b5-f32a-4a10-ba0b-6943f0100075",
   "metadata": {},
   "outputs": [
    {
     "name": "stdout",
     "output_type": "stream",
     "text": [
      "1. Celsius to Fahrenheit\n",
      "2. Fahrenheit to Celsius\n"
     ]
    },
    {
     "name": "stdin",
     "output_type": "stream",
     "text": [
      "Choose conversion (1/2):  2\n",
      "Enter Fahrenheit:  99\n"
     ]
    },
    {
     "name": "stdout",
     "output_type": "stream",
     "text": [
      "99.0°F = 37.22222222222222°C\n"
     ]
    }
   ],
   "source": [
    "def temp_converter():\n",
    "    print(\"1. Celsius to Fahrenheit\")\n",
    "    print(\"2. Fahrenheit to Celsius\")\n",
    "    choice = int(input(\"Choose conversion (1/2): \"))\n",
    "    \n",
    "    if choice == 1:\n",
    "        c = float(input(\"Enter Celsius: \"))\n",
    "        print(f\"{c}°C = {(c * 9/5) + 32}°F\")\n",
    "    else:\n",
    "        f = float(input(\"Enter Fahrenheit: \"))\n",
    "        print(f\"{f}°F = {(f - 32) * 5/9}°C\")\n",
    "\n",
    "temp_converter()"
   ]
  },
  {
   "cell_type": "code",
   "execution_count": 9,
   "id": "06745ff5-3bf7-4731-8624-1a6df9adb924",
   "metadata": {},
   "outputs": [],
   "source": [
    "# Basic Web Scraper"
   ]
  },
  {
   "cell_type": "code",
   "execution_count": 10,
   "id": "187a6b1d-e5a6-4ea9-854d-805799e54ffa",
   "metadata": {},
   "outputs": [
    {
     "name": "stdout",
     "output_type": "stream",
     "text": [
      "Page Title: Example Domain\n",
      "\n",
      "All links:\n",
      "https://www.iana.org/domains/example\n"
     ]
    }
   ],
   "source": [
    "import requests\n",
    "from bs4 import BeautifulSoup\n",
    "\n",
    "url = \"https://example.com\"\n",
    "response = requests.get(url)\n",
    "soup = BeautifulSoup(response.text, 'html.parser')\n",
    "\n",
    "print(\"Page Title:\", soup.title.text)\n",
    "print(\"\\nAll links:\")\n",
    "for link in soup.find_all('a'):\n",
    "    print(link.get('href'))"
   ]
  },
  {
   "cell_type": "code",
   "execution_count": 11,
   "id": "70111264-a23b-4d5b-ada9-27b821f42e4b",
   "metadata": {},
   "outputs": [
    {
     "name": "stdout",
     "output_type": "stream",
     "text": [
      "Page Title: Example Domain\n",
      "\n",
      "All links:\n",
      "https://www.iana.org/domains/example\n"
     ]
    }
   ],
   "source": [
    "import requests\n",
    "from bs4 import BeautifulSoup\n",
    "\n",
    "url = \"https://example.com\"\n",
    "response = requests.get(url)\n",
    "soup = BeautifulSoup(response.text, 'html.parser')\n",
    "\n",
    "print(\"Page Title:\", soup.title.text)\n",
    "print(\"\\nAll links:\")\n",
    "for link in soup.find_all('a'):\n",
    "    print(link.get('href'))"
   ]
  },
  {
   "cell_type": "code",
   "execution_count": 12,
   "id": "0c1c7b72-d406-4033-98a3-44a036105a4c",
   "metadata": {},
   "outputs": [
    {
     "name": "stdout",
     "output_type": "stream",
     "text": [
      "Page Title: Example Domain\n",
      "\n",
      "All links:\n",
      "https://www.iana.org/domains/example\n"
     ]
    }
   ],
   "source": [
    "import requests\n",
    "from bs4 import BeautifulSoup\n",
    "\n",
    "url = \"https://example.com\"\n",
    "response = requests.get(url)\n",
    "soup = BeautifulSoup(response.text, 'html.parser')\n",
    "\n",
    "print(\"Page Title:\", soup.title.text)\n",
    "print(\"\\nAll links:\")\n",
    "for link in soup.find_all('a'):\n",
    "    print(link.get('href'))"
   ]
  },
  {
   "cell_type": "code",
   "execution_count": 13,
   "id": "c7e28b16-d93d-45a8-ba04-21ae5b6e5511",
   "metadata": {},
   "outputs": [
    {
     "name": "stdout",
     "output_type": "stream",
     "text": [
      "Page Title: Example Domain\n",
      "\n",
      "All links:\n",
      "https://www.iana.org/domains/example\n"
     ]
    }
   ],
   "source": [
    "import requests\n",
    "from bs4 import BeautifulSoup\n",
    "\n",
    "url = \"https://example.com\"\n",
    "response = requests.get(url)\n",
    "soup = BeautifulSoup(response.text, 'html.parser')\n",
    "\n",
    "print(\"Page Title:\", soup.title.text)\n",
    "print(\"\\nAll links:\")\n",
    "for link in soup.find_all('a'):\n",
    "    print(link.get('href'))"
   ]
  },
  {
   "cell_type": "code",
   "execution_count": 14,
   "id": "33bbe7ca-f3a6-4983-9af6-1155f3319927",
   "metadata": {},
   "outputs": [
    {
     "name": "stdout",
     "output_type": "stream",
     "text": [
      "Page Title: Example Domain\n",
      "\n",
      "All links:\n",
      "https://www.iana.org/domains/example\n"
     ]
    }
   ],
   "source": [
    "import requests\n",
    "from bs4 import BeautifulSoup\n",
    "\n",
    "url = \"https://example.com\"\n",
    "response = requests.get(url)\n",
    "soup = BeautifulSoup(response.text, 'html.parser')\n",
    "\n",
    "print(\"Page Title:\", soup.title.text)\n",
    "print(\"\\nAll links:\")\n",
    "for link in soup.find_all('a'):\n",
    "    print(link.get('href'))"
   ]
  },
  {
   "cell_type": "code",
   "execution_count": 15,
   "id": "502fec7b-ea93-4702-bb1f-f00fbc6e94b6",
   "metadata": {},
   "outputs": [],
   "source": [
    "# Dice Rolling Simulator"
   ]
  },
  {
   "cell_type": "code",
   "execution_count": 16,
   "id": "cb6e99dc-b211-477d-ab07-2350070b4b8a",
   "metadata": {},
   "outputs": [
    {
     "name": "stdout",
     "output_type": "stream",
     "text": [
      "You rolled: 1\n"
     ]
    },
    {
     "name": "stdin",
     "output_type": "stream",
     "text": [
      "Roll again? (y/n)  y\n"
     ]
    },
    {
     "name": "stdout",
     "output_type": "stream",
     "text": [
      "You rolled: 3\n"
     ]
    },
    {
     "name": "stdin",
     "output_type": "stream",
     "text": [
      "Roll again? (y/n)  n\n"
     ]
    }
   ],
   "source": [
    "import random\n",
    "\n",
    "def roll_dice():\n",
    "    return random.randint(1, 6)\n",
    "\n",
    "while True:\n",
    "    print(\"You rolled:\", roll_dice())\n",
    "    if input(\"Roll again? (y/n) \").lower() != 'y':\n",
    "        break"
   ]
  },
  {
   "cell_type": "code",
   "execution_count": 17,
   "id": "06e37af0-a833-48b3-805b-15504d922d41",
   "metadata": {},
   "outputs": [
    {
     "name": "stdout",
     "output_type": "stream",
     "text": [
      "You rolled: 1\n"
     ]
    },
    {
     "name": "stdin",
     "output_type": "stream",
     "text": [
      "Roll again? (y/n)  n\n"
     ]
    }
   ],
   "source": [
    "import random\n",
    "\n",
    "def roll_dice():\n",
    "    return random.randint(1, 6)\n",
    "\n",
    "while True:\n",
    "    print(\"You rolled:\", roll_dice())\n",
    "    if input(\"Roll again? (y/n) \").lower() != 'y':\n",
    "        break"
   ]
  },
  {
   "cell_type": "code",
   "execution_count": 18,
   "id": "c57ed8fb-faf2-4152-8e77-9adec51992f8",
   "metadata": {},
   "outputs": [
    {
     "name": "stdout",
     "output_type": "stream",
     "text": [
      "You rolled: 5\n"
     ]
    },
    {
     "name": "stdin",
     "output_type": "stream",
     "text": [
      "Roll again? (y/n)  n\n"
     ]
    }
   ],
   "source": [
    "import random\n",
    "\n",
    "def roll_dice():\n",
    "    return random.randint(1, 6)\n",
    "\n",
    "while True:\n",
    "    print(\"You rolled:\", roll_dice())\n",
    "    if input(\"Roll again? (y/n) \").lower() != 'y':\n",
    "        break"
   ]
  },
  {
   "cell_type": "code",
   "execution_count": 19,
   "id": "8390ba3c-5a54-4550-9057-e625741844a4",
   "metadata": {},
   "outputs": [
    {
     "name": "stdout",
     "output_type": "stream",
     "text": [
      "You rolled: 2\n"
     ]
    },
    {
     "name": "stdin",
     "output_type": "stream",
     "text": [
      "Roll again? (y/n)  n\n"
     ]
    }
   ],
   "source": [
    "import random\n",
    "\n",
    "def roll_dice():\n",
    "    return random.randint(1, 6)\n",
    "\n",
    "while True:\n",
    "    print(\"You rolled:\", roll_dice())\n",
    "    if input(\"Roll again? (y/n) \").lower() != 'y':\n",
    "        break"
   ]
  },
  {
   "cell_type": "code",
   "execution_count": 20,
   "id": "7bb2ed43-2644-403a-b68f-c74ec6261e8a",
   "metadata": {},
   "outputs": [
    {
     "name": "stdout",
     "output_type": "stream",
     "text": [
      "You rolled: 1\n"
     ]
    },
    {
     "name": "stdin",
     "output_type": "stream",
     "text": [
      "Roll again? (y/n)  y\n"
     ]
    },
    {
     "name": "stdout",
     "output_type": "stream",
     "text": [
      "You rolled: 6\n"
     ]
    },
    {
     "name": "stdin",
     "output_type": "stream",
     "text": [
      "Roll again? (y/n)  n\n"
     ]
    }
   ],
   "source": [
    "import random\n",
    "\n",
    "def roll_dice():\n",
    "    return random.randint(1, 6)\n",
    "\n",
    "while True:\n",
    "    print(\"You rolled:\", roll_dice())\n",
    "    if input(\"Roll again? (y/n) \").lower() != 'y':\n",
    "        break"
   ]
  },
  {
   "cell_type": "code",
   "execution_count": 21,
   "id": "bbf3c5ea-a0b4-4ccc-a957-c5f012ca8fce",
   "metadata": {},
   "outputs": [
    {
     "name": "stdout",
     "output_type": "stream",
     "text": [
      "You rolled: 3\n"
     ]
    },
    {
     "name": "stdin",
     "output_type": "stream",
     "text": [
      "Roll again? (y/n)  y\n"
     ]
    },
    {
     "name": "stdout",
     "output_type": "stream",
     "text": [
      "You rolled: 5\n"
     ]
    },
    {
     "name": "stdin",
     "output_type": "stream",
     "text": [
      "Roll again? (y/n)  y\n"
     ]
    },
    {
     "name": "stdout",
     "output_type": "stream",
     "text": [
      "You rolled: 5\n"
     ]
    },
    {
     "name": "stdin",
     "output_type": "stream",
     "text": [
      "Roll again? (y/n)  y\n"
     ]
    },
    {
     "name": "stdout",
     "output_type": "stream",
     "text": [
      "You rolled: 2\n"
     ]
    },
    {
     "name": "stdin",
     "output_type": "stream",
     "text": [
      "Roll again? (y/n)  y\n"
     ]
    },
    {
     "name": "stdout",
     "output_type": "stream",
     "text": [
      "You rolled: 2\n"
     ]
    },
    {
     "name": "stdin",
     "output_type": "stream",
     "text": [
      "Roll again? (y/n)  y\n"
     ]
    },
    {
     "name": "stdout",
     "output_type": "stream",
     "text": [
      "You rolled: 4\n"
     ]
    },
    {
     "name": "stdin",
     "output_type": "stream",
     "text": [
      "Roll again? (y/n)  y\n"
     ]
    },
    {
     "name": "stdout",
     "output_type": "stream",
     "text": [
      "You rolled: 1\n"
     ]
    },
    {
     "name": "stdin",
     "output_type": "stream",
     "text": [
      "Roll again? (y/n)  n\n"
     ]
    }
   ],
   "source": [
    "import randomy\n",
    "\n",
    "def roll_dice():\n",
    "    return random.randint(1, 6)\n",
    "\n",
    "while True:\n",
    "    print(\"You rolled:\", roll_dice())\n",
    "    if input(\"Roll again? (y/n) \").lower() != 'y':\n",
    "        break\n",
    "        "
   ]
  },
  {
   "cell_type": "code",
   "execution_count": 22,
   "id": "94b9cb37-a78b-45d1-8585-8037c556175e",
   "metadata": {},
   "outputs": [],
   "source": [
    "# BMI Calculator"
   ]
  },
  {
   "cell_type": "code",
   "execution_count": 23,
   "id": "47ab35b1-5b79-4aca-9af6-7e28806289d4",
   "metadata": {},
   "outputs": [
    {
     "name": "stdin",
     "output_type": "stream",
     "text": [
      "Enter weight (kg):  45\n",
      "Enter height (m):  180\n"
     ]
    },
    {
     "name": "stdout",
     "output_type": "stream",
     "text": [
      "Your BMI: 0.0\n",
      "Underweight\n"
     ]
    }
   ],
   "source": [
    "def calculate_bmi():\n",
    "    weight = float(input(\"Enter weight (kg): \"))\n",
    "    height = float(input(\"Enter height (m): \"))\n",
    "    bmi = weight / (height ** 2)\n",
    "    \n",
    "    print(f\"Your BMI: {bmi:.1f}\")\n",
    "    if bmi < 18.5:\n",
    "        print(\"Underweight\")\n",
    "    elif 18.5 <= bmi < 25:\n",
    "        print(\"Normal weight\")\n",
    "    else:\n",
    "        print(\"Overweight\")\n",
    "\n",
    "calculate_bmi()"
   ]
  },
  {
   "cell_type": "code",
   "execution_count": 24,
   "id": "fbbae915-ae1d-4f54-b985-4e9462876586",
   "metadata": {},
   "outputs": [
    {
     "name": "stdin",
     "output_type": "stream",
     "text": [
      "Enter weight (kg):  61\n",
      "Enter height (m):  180\n"
     ]
    },
    {
     "name": "stdout",
     "output_type": "stream",
     "text": [
      "Your BMI: 0.0\n",
      "Underweight\n"
     ]
    }
   ],
   "source": [
    "def calculate_bmi():\n",
    "    weight = float(input(\"Enter weight (kg): \"))\n",
    "    height = float(input(\"Enter height (m): \"))\n",
    "    bmi = weight / (height ** 2)\n",
    "    \n",
    "    print(f\"Your BMI: {bmi:.1f}\")\n",
    "    if bmi < 18.5:\n",
    "        print(\"Underweight\")\n",
    "    elif 18.5 <= bmi < 25:\n",
    "        print(\"Normal weight\")\n",
    "    else:\n",
    "        print(\"Overweight\")\n",
    "\n",
    "calculate_bmi()"
   ]
  },
  {
   "cell_type": "code",
   "execution_count": 25,
   "id": "af9a8e55-11a5-44a7-8207-96054b0ccfd4",
   "metadata": {},
   "outputs": [
    {
     "name": "stdin",
     "output_type": "stream",
     "text": [
      "Enter weight (kg):  100\n",
      "Enter height (m):  140\n"
     ]
    },
    {
     "name": "stdout",
     "output_type": "stream",
     "text": [
      "Your BMI: 0.0\n",
      "Underweight\n"
     ]
    }
   ],
   "source": [
    "def calculate_bmi():\n",
    "    weight = float(input(\"Enter weight (kg): \"))\n",
    "    height = float(input(\"Enter height (m): \"))\n",
    "    bmi = weight / (height ** 2)\n",
    "    \n",
    "    print(f\"Your BMI: {bmi:.1f}\")\n",
    "    if bmi < 18.5:\n",
    "        print(\"Underweight\")\n",
    "    elif 18.5 <= bmi < 25:\n",
    "        print(\"Normal weight\")\n",
    "    else:\n",
    "        print(\"Overweight\")\n",
    "\n",
    "calculate_bmi()"
   ]
  },
  {
   "cell_type": "code",
   "execution_count": null,
   "id": "09a00d7c-324c-4700-9f9e-ecb414c43d43",
   "metadata": {},
   "outputs": [],
   "source": []
  }
 ],
 "metadata": {
  "kernelspec": {
   "display_name": "Python 3 (ipykernel)",
   "language": "python",
   "name": "python3"
  },
  "language_info": {
   "codemirror_mode": {
    "name": "ipython",
    "version": 3
   },
   "file_extension": ".py",
   "mimetype": "text/x-python",
   "name": "python",
   "nbconvert_exporter": "python",
   "pygments_lexer": "ipython3",
   "version": "3.12.11"
  }
 },
 "nbformat": 4,
 "nbformat_minor": 5
}
