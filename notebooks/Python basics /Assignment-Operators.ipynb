{
 "cells": [
  {
   "cell_type": "code",
   "execution_count": 1,
   "id": "e7ab762d-a54e-4f4b-b472-4b59d5a83449",
   "metadata": {},
   "outputs": [],
   "source": [
    "# Assignment Operators in Python"
   ]
  },
  {
   "cell_type": "code",
   "execution_count": 2,
   "id": "5a8208e3-ec98-407c-98c9-15e9dfa04bd7",
   "metadata": {},
   "outputs": [],
   "source": [
    "# Simple Assignment"
   ]
  },
  {
   "cell_type": "code",
   "execution_count": 3,
   "id": "cfdcc174-6470-4a17-940d-41b0ac6a0656",
   "metadata": {},
   "outputs": [],
   "source": [
    "x = 20\n",
    "y = 50"
   ]
  },
  {
   "cell_type": "code",
   "execution_count": 4,
   "id": "2637b572-46b3-4a5a-a41d-4fb06ccdcd71",
   "metadata": {},
   "outputs": [],
   "source": [
    "z = x + y + 2"
   ]
  },
  {
   "cell_type": "code",
   "execution_count": 5,
   "id": "a7b74f76-b5af-46b5-abe3-84600fd4d6b4",
   "metadata": {},
   "outputs": [
    {
     "name": "stdout",
     "output_type": "stream",
     "text": [
      "Result =  72\n"
     ]
    }
   ],
   "source": [
    "print(\"Result = \", z)"
   ]
  },
  {
   "cell_type": "code",
   "execution_count": 6,
   "id": "a3cfc53d-3d4a-4a4d-939a-3a769cac8bba",
   "metadata": {},
   "outputs": [],
   "source": [
    "# x += y  It is equivalent to x = x + y."
   ]
  },
  {
   "cell_type": "code",
   "execution_count": 7,
   "id": "2cc0dabe-5b37-4a22-8e2b-e0e3b8fd80df",
   "metadata": {},
   "outputs": [],
   "source": [
    "x = 20\n",
    "y = 5\n",
    "z = 10"
   ]
  },
  {
   "cell_type": "code",
   "execution_count": 8,
   "id": "ff3756db-11a3-46d0-8717-cec582606c21",
   "metadata": {},
   "outputs": [],
   "source": [
    "x += y"
   ]
  },
  {
   "cell_type": "code",
   "execution_count": 9,
   "id": "72fc2bd1-e6a3-46f8-8e27-96b96021deda",
   "metadata": {},
   "outputs": [
    {
     "name": "stdout",
     "output_type": "stream",
     "text": [
      "Result of (x = x + y) =  25\n"
     ]
    }
   ],
   "source": [
    "print(\"Result of (x = x + y) = \", x)"
   ]
  },
  {
   "cell_type": "code",
   "execution_count": 10,
   "id": "b8d2a591-a32b-4676-ab7c-0fa96d131cf5",
   "metadata": {},
   "outputs": [
    {
     "name": "stdout",
     "output_type": "stream",
     "text": [
      "Result =  40\n"
     ]
    }
   ],
   "source": [
    "z += x + y\n",
    "print(\"Result = \", z)"
   ]
  },
  {
   "cell_type": "code",
   "execution_count": 11,
   "id": "1020c966-3162-4e29-a68e-9d9cc6d4d098",
   "metadata": {},
   "outputs": [],
   "source": [
    "x -= y # It is equivalent to x = x - y."
   ]
  },
  {
   "cell_type": "code",
   "execution_count": 12,
   "id": "2869dd2a-1bf4-4159-bf23-c8f4a40d7100",
   "metadata": {},
   "outputs": [],
   "source": [
    "x = 20\n",
    "y = 5\n",
    "z = 10"
   ]
  },
  {
   "cell_type": "code",
   "execution_count": 13,
   "id": "e1a5c6d0-27b1-406a-b2e4-8be65c469c66",
   "metadata": {},
   "outputs": [],
   "source": [
    "x -= y"
   ]
  },
  {
   "cell_type": "code",
   "execution_count": 14,
   "id": "c56c3498-d5e7-4617-bda3-41714cd5eef1",
   "metadata": {},
   "outputs": [
    {
     "name": "stdout",
     "output_type": "stream",
     "text": [
      "Result of (x = x - y) =  15\n"
     ]
    }
   ],
   "source": [
    "print(\"Result of (x = x - y) = \", x)\n"
   ]
  },
  {
   "cell_type": "code",
   "execution_count": 15,
   "id": "65c7bb45-5aa2-4261-9c26-da1649eca9c8",
   "metadata": {},
   "outputs": [],
   "source": [
    "z -= x + y # --> z = z - (x + y)"
   ]
  },
  {
   "cell_type": "code",
   "execution_count": 16,
   "id": "40070f80-7ebe-416f-b9cf-f673f7133eb6",
   "metadata": {},
   "outputs": [
    {
     "name": "stdout",
     "output_type": "stream",
     "text": [
      "Result =  -10\n"
     ]
    }
   ],
   "source": [
    "print(\"Result = \", z)"
   ]
  },
  {
   "cell_type": "code",
   "execution_count": 17,
   "id": "8d8b6f75-efd4-4ac9-b3fe-bdb6e7e8e275",
   "metadata": {},
   "outputs": [],
   "source": [
    "x *= y # It is equivalent to x = x * y."
   ]
  },
  {
   "cell_type": "code",
   "execution_count": 18,
   "id": "d820fbdc-606f-4ee8-baa9-9951ca9d4989",
   "metadata": {},
   "outputs": [],
   "source": [
    "x = 2\n",
    "y = 5\n",
    "z = 3"
   ]
  },
  {
   "cell_type": "code",
   "execution_count": 19,
   "id": "0dc97adb-1932-48ae-bfa1-7a2f941eb44b",
   "metadata": {},
   "outputs": [],
   "source": [
    "x *= y"
   ]
  },
  {
   "cell_type": "code",
   "execution_count": 20,
   "id": "d7f1a2d1-f441-4cf4-a6cb-79dd5f58f8a0",
   "metadata": {},
   "outputs": [
    {
     "name": "stdout",
     "output_type": "stream",
     "text": [
      "Result of (x = x * y) =  10\n"
     ]
    }
   ],
   "source": [
    "print(\"Result of (x = x * y) = \", x)"
   ]
  },
  {
   "cell_type": "code",
   "execution_count": 21,
   "id": "d160c2cc-b27d-4b1e-93e7-b4fb3ec9f100",
   "metadata": {},
   "outputs": [],
   "source": [
    "z *= x * y"
   ]
  },
  {
   "cell_type": "code",
   "execution_count": 22,
   "id": "dc9561d9-b61b-47e2-8fe3-fa185a2544e7",
   "metadata": {},
   "outputs": [
    {
     "name": "stdout",
     "output_type": "stream",
     "text": [
      "Result of (z = z*(x * y) =  150\n"
     ]
    }
   ],
   "source": [
    "print(\"Result of (z = z*(x * y) = \", z)"
   ]
  },
  {
   "cell_type": "code",
   "execution_count": 23,
   "id": "10cdeeec-49b9-4b10-9574-468f626ec564",
   "metadata": {},
   "outputs": [],
   "source": [
    "x /= y # It is equivalent to x = x / y."
   ]
  },
  {
   "cell_type": "code",
   "execution_count": 24,
   "id": "1f66bd99-cf5c-4a9e-8d0f-1b2043e3cb99",
   "metadata": {},
   "outputs": [],
   "source": [
    "x = 20\n",
    "y = 5\n",
    "z = 100"
   ]
  },
  {
   "cell_type": "code",
   "execution_count": 25,
   "id": "6e6bafb4-50b0-4a25-a228-4b19277d8e7e",
   "metadata": {},
   "outputs": [],
   "source": [
    "x /= y"
   ]
  },
  {
   "cell_type": "code",
   "execution_count": 26,
   "id": "34a23f9e-a84c-404f-9d53-3a9fbc72a489",
   "metadata": {},
   "outputs": [
    {
     "name": "stdout",
     "output_type": "stream",
     "text": [
      "Result of (x = x / y) =  4.0\n"
     ]
    }
   ],
   "source": [
    "print(\"Result of (x = x / y) = \", x)"
   ]
  },
  {
   "cell_type": "code",
   "execution_count": 27,
   "id": "00a3138f-2928-4b5c-97c8-d9e1b876baa9",
   "metadata": {},
   "outputs": [],
   "source": [
    "z /= x * y"
   ]
  },
  {
   "cell_type": "code",
   "execution_count": 28,
   "id": "5471a1fb-83ca-4e4a-b128-6050aea47593",
   "metadata": {},
   "outputs": [
    {
     "name": "stdout",
     "output_type": "stream",
     "text": [
      "Result =  5.0\n"
     ]
    }
   ],
   "source": [
    "print(\"Result = \", z)"
   ]
  },
  {
   "cell_type": "code",
   "execution_count": 29,
   "id": "6436f270-c8f3-4583-b06e-dc17cfab96b4",
   "metadata": {},
   "outputs": [],
   "source": [
    "x %= y # It is equivalent to x = x % y."
   ]
  },
  {
   "cell_type": "code",
   "execution_count": 30,
   "id": "b41e0bd8-05ff-4c90-9170-97c1a0fbdbd7",
   "metadata": {},
   "outputs": [],
   "source": [
    "x = 211\n",
    "y = 5\n",
    "z = 100"
   ]
  },
  {
   "cell_type": "code",
   "execution_count": 31,
   "id": "3c3fd87c-ec7d-42a0-986a-cff350a0ede9",
   "metadata": {},
   "outputs": [],
   "source": [
    "x %= y\n"
   ]
  },
  {
   "cell_type": "code",
   "execution_count": 32,
   "id": "556b7854-602d-4f25-9eb8-3f1416964c39",
   "metadata": {},
   "outputs": [
    {
     "name": "stdout",
     "output_type": "stream",
     "text": [
      "Result of (x = x % y) =  1\n"
     ]
    }
   ],
   "source": [
    "print(\"Result of (x = x % y) = \", x)"
   ]
  },
  {
   "cell_type": "code",
   "execution_count": 33,
   "id": "dd08fd8f-913e-4f59-a177-b7c749864171",
   "metadata": {},
   "outputs": [],
   "source": [
    "z %= x + y"
   ]
  },
  {
   "cell_type": "code",
   "execution_count": 34,
   "id": "2fac12e5-d6ec-4555-b5cd-318a7c4c9722",
   "metadata": {},
   "outputs": [
    {
     "name": "stdout",
     "output_type": "stream",
     "text": [
      "Result =  4\n"
     ]
    }
   ],
   "source": [
    "print(\"Result = \", z)"
   ]
  },
  {
   "cell_type": "code",
   "execution_count": 35,
   "id": "25594961-4cbe-4d75-ba83-f37b1c1e9938",
   "metadata": {},
   "outputs": [],
   "source": [
    "x //= y # It's equivalent to x = x // y."
   ]
  },
  {
   "cell_type": "code",
   "execution_count": 36,
   "id": "60792bf6-0f5d-4cb6-bac6-502997b11e3f",
   "metadata": {},
   "outputs": [],
   "source": [
    "x = 211\n",
    "y = 5\n",
    "z = 100"
   ]
  },
  {
   "cell_type": "code",
   "execution_count": 37,
   "id": "5c47127e-fcb7-4423-8be7-ad7103c72c2d",
   "metadata": {},
   "outputs": [],
   "source": [
    "x //= y"
   ]
  },
  {
   "cell_type": "code",
   "execution_count": 38,
   "id": "e0011898-ff32-4c94-a581-fcfaf8903ca3",
   "metadata": {},
   "outputs": [
    {
     "name": "stdout",
     "output_type": "stream",
     "text": [
      "Result of (x = x // y) =  42\n"
     ]
    }
   ],
   "source": [
    "print(\"Result of (x = x // y) = \", x)"
   ]
  },
  {
   "cell_type": "code",
   "execution_count": 39,
   "id": "039b975b-829e-4bfd-b499-5271e462e54f",
   "metadata": {},
   "outputs": [],
   "source": [
    "z //= x + y"
   ]
  },
  {
   "cell_type": "code",
   "execution_count": 40,
   "id": "ef867ef8-ca6b-4ded-b410-32b4e2eff399",
   "metadata": {},
   "outputs": [
    {
     "name": "stdout",
     "output_type": "stream",
     "text": [
      "Result =  2\n"
     ]
    }
   ],
   "source": [
    "print(\"Result = \", z)"
   ]
  },
  {
   "cell_type": "code",
   "execution_count": 41,
   "id": "f07d18a8-d487-4587-b0e3-d38867f63aae",
   "metadata": {},
   "outputs": [],
   "source": [
    "x = 211\n",
    "y = 5\n",
    "z = 100"
   ]
  },
  {
   "cell_type": "code",
   "execution_count": 42,
   "id": "4cca499d-8c2d-41f0-81be-d637ddb25bbf",
   "metadata": {},
   "outputs": [],
   "source": [
    "x //= y"
   ]
  },
  {
   "cell_type": "code",
   "execution_count": 43,
   "id": "ad54b898-515a-4256-a7c7-21e898ce56c3",
   "metadata": {},
   "outputs": [
    {
     "name": "stdout",
     "output_type": "stream",
     "text": [
      "Result of (x = x // y) =  42\n"
     ]
    }
   ],
   "source": [
    "print(\"Result of (x = x // y) = \", x)"
   ]
  },
  {
   "cell_type": "code",
   "execution_count": 44,
   "id": "8d16727a-30db-4314-9757-9704ea4100c8",
   "metadata": {},
   "outputs": [],
   "source": [
    "z //= x + y"
   ]
  },
  {
   "cell_type": "code",
   "execution_count": 45,
   "id": "c3bca74f-4571-4760-9252-264fdc033839",
   "metadata": {},
   "outputs": [
    {
     "name": "stdout",
     "output_type": "stream",
     "text": [
      "Result =  2\n"
     ]
    }
   ],
   "source": [
    "print(\"Result = \", z)"
   ]
  },
  {
   "cell_type": "code",
   "execution_count": 46,
   "id": "52d83602-5c25-40f4-8308-ed4d98489282",
   "metadata": {},
   "outputs": [],
   "source": [
    "#  Exponent and Assignment Operator (**=)"
   ]
  },
  {
   "cell_type": "code",
   "execution_count": 47,
   "id": "170894f0-02cd-41ee-8e6e-4adf3a6a6a70",
   "metadata": {},
   "outputs": [],
   "source": [
    "x **= y # It's equivalent to x = x ** y."
   ]
  },
  {
   "cell_type": "code",
   "execution_count": 48,
   "id": "ecc16b1c-b6b1-4faf-ab8c-bb699673f4b9",
   "metadata": {},
   "outputs": [],
   "source": [
    "x = 2\n",
    "y = 5\n",
    "z = 2"
   ]
  },
  {
   "cell_type": "code",
   "execution_count": 49,
   "id": "e66e1eb6-83d0-43ac-9666-c84236ce1935",
   "metadata": {},
   "outputs": [],
   "source": [
    "x **= y"
   ]
  },
  {
   "cell_type": "code",
   "execution_count": 50,
   "id": "6e9ef245-f4fd-40f1-bb11-58a4d1dc11e3",
   "metadata": {},
   "outputs": [
    {
     "name": "stdout",
     "output_type": "stream",
     "text": [
      "Result of (x = x ** y) =  32\n"
     ]
    }
   ],
   "source": [
    "print(\"Result of (x = x ** y) = \", x)"
   ]
  },
  {
   "cell_type": "code",
   "execution_count": 51,
   "id": "62b3884c-3cc7-48ce-8dc6-86051782dd24",
   "metadata": {},
   "outputs": [],
   "source": [
    "z **= x + y - 30"
   ]
  },
  {
   "cell_type": "code",
   "execution_count": 52,
   "id": "5af4c17a-c9f6-463e-865b-eebfcd3d6ef5",
   "metadata": {},
   "outputs": [
    {
     "name": "stdout",
     "output_type": "stream",
     "text": [
      "Result =  128\n"
     ]
    }
   ],
   "source": [
    "print(\"Result = \", z)"
   ]
  },
  {
   "cell_type": "code",
   "execution_count": 53,
   "id": "940273cb-4169-49c7-ab14-c976b383ee32",
   "metadata": {},
   "outputs": [],
   "source": [
    "# Bitwise AND and Assignment Operator (&=)"
   ]
  },
  {
   "cell_type": "code",
   "execution_count": 54,
   "id": "4a53c098-d794-4adb-8d97-7e5db714505a",
   "metadata": {},
   "outputs": [],
   "source": [
    "x &= y # It's equivalent to x = x & y."
   ]
  },
  {
   "cell_type": "code",
   "execution_count": 55,
   "id": "18e7ce68-db2c-47ad-99d3-dbc39ef59a0f",
   "metadata": {},
   "outputs": [],
   "source": [
    "x = 20\n",
    "y = 5"
   ]
  },
  {
   "cell_type": "code",
   "execution_count": 56,
   "id": "032bf424-f6a4-435d-9c31-a99a3c8cbd26",
   "metadata": {},
   "outputs": [],
   "source": [
    "x &= y"
   ]
  },
  {
   "cell_type": "code",
   "execution_count": 57,
   "id": "460d4342-283f-4ea5-a1c7-4241f7278388",
   "metadata": {},
   "outputs": [
    {
     "name": "stdout",
     "output_type": "stream",
     "text": [
      "Result of (x = x & y) =  4\n"
     ]
    }
   ],
   "source": [
    "print(\"Result of (x = x & y) = \", x)"
   ]
  },
  {
   "cell_type": "code",
   "execution_count": 58,
   "id": "ba04e548-b0aa-4930-8964-871f06753142",
   "metadata": {},
   "outputs": [],
   "source": [
    "#  Bitwise OR and Assignment Operator (|=)"
   ]
  },
  {
   "cell_type": "code",
   "execution_count": 59,
   "id": "59d8d025-ce99-488d-b67a-7c44691d82b9",
   "metadata": {},
   "outputs": [],
   "source": [
    "x |= y # It's equivalent to x = x | y."
   ]
  },
  {
   "cell_type": "code",
   "execution_count": 60,
   "id": "7535aa30-3c75-48dc-b7ad-2efee323215a",
   "metadata": {},
   "outputs": [],
   "source": [
    "x = 10\n",
    "y = 5"
   ]
  },
  {
   "cell_type": "code",
   "execution_count": 61,
   "id": "22d5e393-25a1-4462-b92c-a1a8b944981a",
   "metadata": {},
   "outputs": [],
   "source": [
    "x |= y"
   ]
  },
  {
   "cell_type": "code",
   "execution_count": 62,
   "id": "f1c7bca1-e628-47d8-b85d-019c8800eb57",
   "metadata": {},
   "outputs": [
    {
     "name": "stdout",
     "output_type": "stream",
     "text": [
      "Result of (x = x | y) =  15\n"
     ]
    }
   ],
   "source": [
    "print(\"Result of (x = x | y) = \", x)"
   ]
  },
  {
   "cell_type": "code",
   "execution_count": 63,
   "id": "b2516f40-5ce4-4ca6-a635-b02343c54359",
   "metadata": {},
   "outputs": [],
   "source": [
    "# Bitwise XOR and Assignment Operator (^=)"
   ]
  },
  {
   "cell_type": "code",
   "execution_count": 64,
   "id": "301aa532-b13f-4b42-abb4-01da150bf6c0",
   "metadata": {},
   "outputs": [],
   "source": [
    "x ^= y # It's equivalent to x = x ^ y."
   ]
  },
  {
   "cell_type": "code",
   "execution_count": 65,
   "id": "b86004a5-1291-4f7c-9ec2-0223471f7a5f",
   "metadata": {},
   "outputs": [],
   "source": [
    "x = 20\n",
    "y = 10"
   ]
  },
  {
   "cell_type": "code",
   "execution_count": 66,
   "id": "26cb339a-125d-4fc8-a4b5-9f2815bf4273",
   "metadata": {},
   "outputs": [],
   "source": [
    "x ^= y"
   ]
  },
  {
   "cell_type": "code",
   "execution_count": 67,
   "id": "27813afb-5659-4be7-89b1-948bebd902e4",
   "metadata": {},
   "outputs": [
    {
     "name": "stdout",
     "output_type": "stream",
     "text": [
      "Result of (x = x ^ y) =  30\n"
     ]
    }
   ],
   "source": [
    "print(\"Result of (x = x ^ y) = \", x)"
   ]
  },
  {
   "cell_type": "code",
   "execution_count": null,
   "id": "df106b30-e5f7-4194-b715-eb631b7baf71",
   "metadata": {},
   "outputs": [],
   "source": []
  },
  {
   "cell_type": "code",
   "execution_count": null,
   "id": "e730c6d0-947b-442b-a1ec-e1d2aa5341bd",
   "metadata": {},
   "outputs": [],
   "source": []
  },
  {
   "cell_type": "code",
   "execution_count": 1,
   "id": "3e3bd209-3b12-4e3c-b343-5239619fdfad",
   "metadata": {},
   "outputs": [
    {
     "name": "stdout",
     "output_type": "stream",
     "text": [
      "Result of (x = x + y) =  25\n"
     ]
    }
   ],
   "source": [
    "x = 20\n",
    "y = 5\n",
    "z = 10\n",
    "x += y\n",
    "print(\"Result of (x = x + y) = \", x)"
   ]
  },
  {
   "cell_type": "code",
   "execution_count": 2,
   "id": "806deef0-a790-44ed-b11e-cc9894509e5c",
   "metadata": {},
   "outputs": [
    {
     "name": "stdout",
     "output_type": "stream",
     "text": [
      "Result of (x = x + y) =  25\n"
     ]
    }
   ],
   "source": [
    "x = 20\n",
    "y = 5\n",
    "z = 10\n",
    "x += y\n",
    "print(\"Result of (x = x + y) = \", x)"
   ]
  },
  {
   "cell_type": "code",
   "execution_count": 3,
   "id": "8e00113b-e244-4cd0-b9d7-92631df7dcaa",
   "metadata": {},
   "outputs": [
    {
     "name": "stdout",
     "output_type": "stream",
     "text": [
      "Result of (x = x + y) =  25\n"
     ]
    }
   ],
   "source": [
    "x = 20\n",
    "y = 5\n",
    "z = 10\n",
    "x += y\n",
    "print(\"Result of (x = x + y) = \", x)"
   ]
  },
  {
   "cell_type": "code",
   "execution_count": 4,
   "id": "b70f1805-748a-4d77-8fcf-bf16750e74fd",
   "metadata": {},
   "outputs": [
    {
     "name": "stdout",
     "output_type": "stream",
     "text": [
      "Result of (x = x + y) =  25\n"
     ]
    }
   ],
   "source": [
    "x = 20\n",
    "y = 5\n",
    "z = 10\n",
    "x += y\n",
    "print(\"Result of (x = x + y) = \", x)"
   ]
  },
  {
   "cell_type": "code",
   "execution_count": 5,
   "id": "96c1283b-7899-443d-a989-22cb386ccc40",
   "metadata": {},
   "outputs": [
    {
     "name": "stdout",
     "output_type": "stream",
     "text": [
      "Result of (x = x + y) =  25\n"
     ]
    }
   ],
   "source": [
    "x = 20\n",
    "y = 5\n",
    "z = 10\n",
    "x += y\n",
    "print(\"Result of (x = x + y) = \", x)"
   ]
  },
  {
   "cell_type": "code",
   "execution_count": 6,
   "id": "43083a41-bf9c-45ec-a544-8f7e5620360a",
   "metadata": {},
   "outputs": [
    {
     "name": "stdout",
     "output_type": "stream",
     "text": [
      "Result of (x = x + y) =  25\n"
     ]
    }
   ],
   "source": [
    "x = 20\n",
    "y = 5\n",
    "z = 10\n",
    "x += y\n",
    "print(\"Result of (x = x + y) = \", x)"
   ]
  },
  {
   "cell_type": "code",
   "execution_count": 7,
   "id": "93c5fa0e-df7b-4c32-b016-c2c5c5030b4e",
   "metadata": {},
   "outputs": [
    {
     "name": "stdout",
     "output_type": "stream",
     "text": [
      "Result of (x = x + y) =  25\n"
     ]
    }
   ],
   "source": [
    "x = 20\n",
    "y = 5\n",
    "z = 10\n",
    "x += y\n",
    "print(\"Result of (x = x + y) = \", x)"
   ]
  },
  {
   "cell_type": "code",
   "execution_count": 8,
   "id": "4ec00c35-70a7-4819-b15d-c5c45de24463",
   "metadata": {},
   "outputs": [
    {
     "name": "stdout",
     "output_type": "stream",
     "text": [
      "Result of (x = x + y) =  25\n"
     ]
    }
   ],
   "source": [
    "x = 20\n",
    "y = 5\n",
    "z = 10\n",
    "x += y\n",
    "print(\"Result of (x = x + y) = \", x)"
   ]
  },
  {
   "cell_type": "code",
   "execution_count": 9,
   "id": "52767b59-35ce-43b4-b992-18acdf6227a9",
   "metadata": {},
   "outputs": [
    {
     "name": "stdout",
     "output_type": "stream",
     "text": [
      "Result of (x = x + y) =  25\n"
     ]
    }
   ],
   "source": [
    "x = 20\n",
    "y = 5\n",
    "z = 10\n",
    "x += y\n",
    "print(\"Result of (x = x + y) = \", x)"
   ]
  },
  {
   "cell_type": "code",
   "execution_count": 10,
   "id": "c0602086-818f-49c4-abb7-1e943f34d02f",
   "metadata": {},
   "outputs": [
    {
     "name": "stdout",
     "output_type": "stream",
     "text": [
      "Result of (x = x + y) =  25\n"
     ]
    }
   ],
   "source": [
    "x = 20\n",
    "y = 5\n",
    "z = 10\n",
    "x += y\n",
    "print(\"Result of (x = x + y) = \", x)"
   ]
  },
  {
   "cell_type": "code",
   "execution_count": 11,
   "id": "6274fdcf-f9af-4de2-a5e1-e79665bddf23",
   "metadata": {},
   "outputs": [
    {
     "name": "stdout",
     "output_type": "stream",
     "text": [
      "Result of (x = x + y) =  25\n"
     ]
    }
   ],
   "source": [
    "x = 20\n",
    "y = 5\n",
    "z = 10\n",
    "x += y\n",
    "print(\"Result of (x = x + y) = \", x)"
   ]
  },
  {
   "cell_type": "code",
   "execution_count": 12,
   "id": "e4f6c169-638c-45df-b4d7-ec697e6284c6",
   "metadata": {},
   "outputs": [
    {
     "name": "stdout",
     "output_type": "stream",
     "text": [
      "Result of (x = x + y) =  25\n"
     ]
    }
   ],
   "source": [
    "x = 20\n",
    "y = 5\n",
    "z = 10\n",
    "x += y\n",
    "print(\"Result of (x = x + y) = \", x)"
   ]
  },
  {
   "cell_type": "code",
   "execution_count": 13,
   "id": "8335bf21-8e0c-4022-8c13-ef6fd7cd824d",
   "metadata": {},
   "outputs": [
    {
     "name": "stdout",
     "output_type": "stream",
     "text": [
      "Result of (x = x + y) =  25\n"
     ]
    }
   ],
   "source": [
    "x = 20\n",
    "y = 5\n",
    "z = 10\n",
    "x += y\n",
    "print(\"Result of (x = x + y) = \", x)"
   ]
  },
  {
   "cell_type": "code",
   "execution_count": 14,
   "id": "3e31a851-953c-448b-b924-34973afacb5e",
   "metadata": {},
   "outputs": [
    {
     "name": "stdout",
     "output_type": "stream",
     "text": [
      "Result of (x = x + y) =  25\n"
     ]
    }
   ],
   "source": [
    "x = 20\n",
    "y = 5\n",
    "z = 10\n",
    "x += y\n",
    "print(\"Result of (x = x + y) = \", x)"
   ]
  },
  {
   "cell_type": "code",
   "execution_count": 15,
   "id": "4efd0534-332a-4297-ae6e-c42723479acc",
   "metadata": {},
   "outputs": [
    {
     "name": "stdout",
     "output_type": "stream",
     "text": [
      "Result of (x = x + y) =  25\n"
     ]
    }
   ],
   "source": [
    "x = 20\n",
    "y = 5\n",
    "z = 10\n",
    "x += y\n",
    "print(\"Result of (x = x + y) = \", x)"
   ]
  },
  {
   "cell_type": "code",
   "execution_count": 16,
   "id": "87e27a82-5486-4e6d-8e5a-2cc4414bbcf8",
   "metadata": {},
   "outputs": [
    {
     "name": "stdout",
     "output_type": "stream",
     "text": [
      "Result of (x = x + y) =  25\n"
     ]
    }
   ],
   "source": [
    "x = 20\n",
    "y = 5\n",
    "z = 10\n",
    "x += y\n",
    "print(\"Result of (x = x + y) = \", x)"
   ]
  },
  {
   "cell_type": "code",
   "execution_count": 17,
   "id": "72c53a79-78a2-4e40-900c-ee30de530f7b",
   "metadata": {},
   "outputs": [
    {
     "name": "stdout",
     "output_type": "stream",
     "text": [
      "Result of (x = x + y) =  25\n"
     ]
    }
   ],
   "source": [
    "x = 20\n",
    "y = 5\n",
    "z = 10\n",
    "x += y\n",
    "print(\"Result of (x = x + y) = \", x)"
   ]
  },
  {
   "cell_type": "code",
   "execution_count": 18,
   "id": "f4a21c69-2a21-4e2e-8d8c-bb6f31b16c8c",
   "metadata": {},
   "outputs": [
    {
     "name": "stdout",
     "output_type": "stream",
     "text": [
      "Result of (x = x + y) =  25\n"
     ]
    }
   ],
   "source": [
    "x = 20\n",
    "y = 5\n",
    "z = 10\n",
    "x += y\n",
    "print(\"Result of (x = x + y) = \", x)"
   ]
  },
  {
   "cell_type": "code",
   "execution_count": 19,
   "id": "6dfe1101-61e7-4175-9078-d783b243132d",
   "metadata": {},
   "outputs": [
    {
     "name": "stdout",
     "output_type": "stream",
     "text": [
      "Result of (x = x + y) =  25\n"
     ]
    }
   ],
   "source": [
    "x = 20\n",
    "y = 5\n",
    "z = 10\n",
    "x += y\n",
    "print(\"Result of (x = x + y) = \", x)"
   ]
  },
  {
   "cell_type": "code",
   "execution_count": 20,
   "id": "972fb891-7ac9-47c0-9bf8-9ebc9ecd86d1",
   "metadata": {},
   "outputs": [
    {
     "name": "stdout",
     "output_type": "stream",
     "text": [
      "Result of (x = x + y) =  25\n"
     ]
    }
   ],
   "source": [
    "x = 20\n",
    "y = 5\n",
    "z = 10\n",
    "x += y\n",
    "print(\"Result of (x = x + y) = \", x)"
   ]
  },
  {
   "cell_type": "code",
   "execution_count": 21,
   "id": "512c74a6-a189-40df-9136-f784c2c6c032",
   "metadata": {},
   "outputs": [
    {
     "name": "stdout",
     "output_type": "stream",
     "text": [
      "Result of (x = x + y) =  25\n"
     ]
    }
   ],
   "source": [
    "x = 20\n",
    "y = 5\n",
    "z = 10\n",
    "x += y\n",
    "print(\"Result of (x = x + y) = \", x)"
   ]
  },
  {
   "cell_type": "code",
   "execution_count": 22,
   "id": "c53f24ba-d2c4-4ecd-8396-221863ded095",
   "metadata": {},
   "outputs": [
    {
     "name": "stdout",
     "output_type": "stream",
     "text": [
      "Result of (x = x + y) =  25\n"
     ]
    }
   ],
   "source": [
    "x = 20\n",
    "y = 5\n",
    "z = 10\n",
    "x += y\n",
    "print(\"Result of (x = x + y) = \", x)"
   ]
  },
  {
   "cell_type": "code",
   "execution_count": 23,
   "id": "cabf4b15-582e-4365-b76e-d8f9a8280bce",
   "metadata": {},
   "outputs": [
    {
     "name": "stdout",
     "output_type": "stream",
     "text": [
      "Result of (x = x + y) =  25\n"
     ]
    }
   ],
   "source": [
    "x = 20\n",
    "y = 5\n",
    "z = 10\n",
    "x += y\n",
    "print(\"Result of (x = x + y) = \", x)"
   ]
  },
  {
   "cell_type": "code",
   "execution_count": 24,
   "id": "c6ad6010-c185-49f7-89b5-c434586c9605",
   "metadata": {},
   "outputs": [
    {
     "name": "stdout",
     "output_type": "stream",
     "text": [
      "Result of (x = x + y) =  25\n"
     ]
    }
   ],
   "source": [
    "x = 20\n",
    "y = 5\n",
    "z = 10\n",
    "x += y\n",
    "print(\"Result of (x = x + y) = \", x)"
   ]
  },
  {
   "cell_type": "code",
   "execution_count": 25,
   "id": "1971c710-16d7-4788-967c-79faef34a951",
   "metadata": {},
   "outputs": [
    {
     "name": "stdout",
     "output_type": "stream",
     "text": [
      "Result of (x = x + y) =  25\n"
     ]
    }
   ],
   "source": [
    "x = 20\n",
    "y = 5\n",
    "z = 10\n",
    "x += y\n",
    "print(\"Result of (x = x + y) = \", x)"
   ]
  },
  {
   "cell_type": "code",
   "execution_count": 26,
   "id": "c3ba89d3-4cb5-46ad-9a17-d1c65ba867d3",
   "metadata": {},
   "outputs": [
    {
     "name": "stdout",
     "output_type": "stream",
     "text": [
      "Result of (x = x + y) =  25\n"
     ]
    }
   ],
   "source": [
    "x = 20\n",
    "y = 5\n",
    "z = 10\n",
    "x += y\n",
    "print(\"Result of (x = x + y) = \", x)"
   ]
  },
  {
   "cell_type": "code",
   "execution_count": 27,
   "id": "46c43bf8-76c7-4013-8697-8f651b76d2a5",
   "metadata": {},
   "outputs": [
    {
     "name": "stdout",
     "output_type": "stream",
     "text": [
      "Result of (x = x + y) =  25\n"
     ]
    }
   ],
   "source": [
    "x = 20\n",
    "y = 5\n",
    "z = 10\n",
    "x += y\n",
    "print(\"Result of (x = x + y) = \", x)"
   ]
  },
  {
   "cell_type": "code",
   "execution_count": 28,
   "id": "247901f3-6011-4b26-b5b9-65668f083ed9",
   "metadata": {},
   "outputs": [
    {
     "ename": "NameError",
     "evalue": "name 'v' is not defined",
     "output_type": "error",
     "traceback": [
      "\u001b[0;31m---------------------------------------------------------------------------\u001b[0m",
      "\u001b[0;31mNameError\u001b[0m                                 Traceback (most recent call last)",
      "Cell \u001b[0;32mIn[28], line 1\u001b[0m\n\u001b[0;32m----> 1\u001b[0m \u001b[43mv\u001b[49m\n",
      "\u001b[0;31mNameError\u001b[0m: name 'v' is not defined"
     ]
    }
   ],
   "source": [
    "v"
   ]
  },
  {
   "cell_type": "code",
   "execution_count": 29,
   "id": "e9942d1d-cf92-4883-bd5b-a101630d2476",
   "metadata": {},
   "outputs": [
    {
     "name": "stdout",
     "output_type": "stream",
     "text": [
      "Result of (x = x + y) =  25\n"
     ]
    }
   ],
   "source": [
    "x = 20\n",
    "y = 5\n",
    "z = 10\n",
    "x += y\n",
    "print(\"Result of (x = x + y) = \", x)"
   ]
  },
  {
   "cell_type": "code",
   "execution_count": 30,
   "id": "e40835a2-a141-49a1-8ab8-ab24373a5d0d",
   "metadata": {},
   "outputs": [
    {
     "name": "stdout",
     "output_type": "stream",
     "text": [
      "Result of (x = x + y) =  25\n"
     ]
    }
   ],
   "source": [
    "x = 20\n",
    "y = 5\n",
    "z = 10\n",
    "x += y\n",
    "print(\"Result of (x = x + y) = \", x)"
   ]
  },
  {
   "cell_type": "code",
   "execution_count": 31,
   "id": "dd58f0d3-a1b0-487d-9fee-f093e41ee0a0",
   "metadata": {},
   "outputs": [
    {
     "name": "stdout",
     "output_type": "stream",
     "text": [
      "Result of (x = x + y) =  25\n"
     ]
    }
   ],
   "source": [
    "x = 20\n",
    "y = 5\n",
    "z = 10\n",
    "x += y\n",
    "print(\"Result of (x = x + y) = \", x)"
   ]
  },
  {
   "cell_type": "code",
   "execution_count": 32,
   "id": "a7888e41-dce7-439b-a619-a17a79f68fb3",
   "metadata": {},
   "outputs": [
    {
     "name": "stdout",
     "output_type": "stream",
     "text": [
      "Result of (x = x + y) =  25\n"
     ]
    }
   ],
   "source": [
    "x = 20\n",
    "y = 5\n",
    "z = 10\n",
    "x += y\n",
    "print(\"Result of (x = x + y) = \", x)"
   ]
  },
  {
   "cell_type": "code",
   "execution_count": 33,
   "id": "0af53729-9c06-4095-bfe4-092b5dd9b3df",
   "metadata": {},
   "outputs": [
    {
     "name": "stdout",
     "output_type": "stream",
     "text": [
      "Result of (x = x + y) =  25\n"
     ]
    }
   ],
   "source": [
    "x = 20\n",
    "y = 5\n",
    "z = 10\n",
    "x += y\n",
    "print(\"Result of (x = x + y) = \", x)"
   ]
  },
  {
   "cell_type": "code",
   "execution_count": 34,
   "id": "0087b9ac-9a82-46f0-920a-96ec75bf4d45",
   "metadata": {},
   "outputs": [
    {
     "name": "stdout",
     "output_type": "stream",
     "text": [
      "Result of (x = x + y) =  25\n"
     ]
    }
   ],
   "source": [
    "x = 20\n",
    "y = 5\n",
    "z = 10\n",
    "x += y\n",
    "print(\"Result of (x = x + y) = \", x)"
   ]
  },
  {
   "cell_type": "code",
   "execution_count": 35,
   "id": "d1bb008b-2c07-41b4-b2e7-9d9601bb2390",
   "metadata": {},
   "outputs": [
    {
     "name": "stdout",
     "output_type": "stream",
     "text": [
      "Result of (x = x + y) =  25\n"
     ]
    }
   ],
   "source": [
    "x = 20\n",
    "y = 5\n",
    "z = 10\n",
    "x += y\n",
    "print(\"Result of (x = x + y) = \", x)"
   ]
  },
  {
   "cell_type": "code",
   "execution_count": 36,
   "id": "5c7a5507-ec8c-4cb1-889d-a3f6043613d7",
   "metadata": {},
   "outputs": [
    {
     "name": "stdout",
     "output_type": "stream",
     "text": [
      "Result of (x = x + y) =  25\n"
     ]
    }
   ],
   "source": [
    "x = 20\n",
    "y = 5\n",
    "z = 10\n",
    "x += y\n",
    "print(\"Result of (x = x + y) = \", x)"
   ]
  },
  {
   "cell_type": "code",
   "execution_count": 37,
   "id": "a2bca42a-cc44-45de-bd57-a18c900355b3",
   "metadata": {},
   "outputs": [
    {
     "name": "stdout",
     "output_type": "stream",
     "text": [
      "Result of (x = x + y) =  25\n"
     ]
    }
   ],
   "source": [
    "x = 20\n",
    "y = 5\n",
    "z = 10\n",
    "x += y\n",
    "print(\"Result of (x = x + y) = \", x)"
   ]
  },
  {
   "cell_type": "code",
   "execution_count": 38,
   "id": "01a67273-e6d0-4e4e-a4e9-a8895ff9ba33",
   "metadata": {},
   "outputs": [
    {
     "ename": "NameError",
     "evalue": "name 'v' is not defined",
     "output_type": "error",
     "traceback": [
      "\u001b[0;31m---------------------------------------------------------------------------\u001b[0m",
      "\u001b[0;31mNameError\u001b[0m                                 Traceback (most recent call last)",
      "Cell \u001b[0;32mIn[38], line 1\u001b[0m\n\u001b[0;32m----> 1\u001b[0m \u001b[43mv\u001b[49m\n\u001b[1;32m      2\u001b[0m x \u001b[38;5;241m=\u001b[39m \u001b[38;5;241m20\u001b[39m\n\u001b[1;32m      3\u001b[0m y \u001b[38;5;241m=\u001b[39m \u001b[38;5;241m5\u001b[39m\n",
      "\u001b[0;31mNameError\u001b[0m: name 'v' is not defined"
     ]
    }
   ],
   "source": [
    "v\n",
    "x = 20\n",
    "y = 5\n",
    "z = 10\n",
    "x += y\n",
    "print(\"Result of (x = x + y) = \", x)"
   ]
  },
  {
   "cell_type": "code",
   "execution_count": 39,
   "id": "9e9f340a-3ea9-48cd-9da4-04c291f1e530",
   "metadata": {},
   "outputs": [
    {
     "name": "stdout",
     "output_type": "stream",
     "text": [
      "Result of (x = x + y) =  25\n"
     ]
    }
   ],
   "source": [
    "x = 20\n",
    "y = 5\n",
    "z = 10\n",
    "x += y\n",
    "print(\"Result of (x = x + y) = \", x)"
   ]
  },
  {
   "cell_type": "code",
   "execution_count": 40,
   "id": "420f3d29-72a2-4c96-8e9f-b33cb967e0b4",
   "metadata": {},
   "outputs": [
    {
     "name": "stdout",
     "output_type": "stream",
     "text": [
      "Result of (x = x + y) =  25\n"
     ]
    }
   ],
   "source": [
    "x = 20\n",
    "y = 5\n",
    "z = 10\n",
    "x += y\n",
    "print(\"Result of (x = x + y) = \", x)"
   ]
  },
  {
   "cell_type": "code",
   "execution_count": 41,
   "id": "7e147d89-7711-42c6-a20b-e20b3b81b405",
   "metadata": {},
   "outputs": [
    {
     "name": "stdout",
     "output_type": "stream",
     "text": [
      "Result of (x = x + y) =  25\n",
      "Result of (x = x + y) =  25\n",
      "Result of (x = x + y) =  25\n"
     ]
    }
   ],
   "source": [
    "x = 20\n",
    "y = 5\n",
    "z = 10\n",
    "x += y\n",
    "print(\"Result of (x = x + y) = \", x)\n",
    "x = 20\n",
    "y = 5\n",
    "z = 10\n",
    "x += y\n",
    "print(\"Result of (x = x + y) = \", x)\n",
    "x = 20\n",
    "y = 5\n",
    "z = 10\n",
    "x += y\n",
    "print(\"Result of (x = x + y) = \", x)"
   ]
  },
  {
   "cell_type": "code",
   "execution_count": 42,
   "id": "9b96de0c-9d84-4658-a3d5-d6d3a858728a",
   "metadata": {},
   "outputs": [
    {
     "name": "stdout",
     "output_type": "stream",
     "text": [
      "Result of (x = x + y) =  25\n"
     ]
    }
   ],
   "source": [
    "x = 20\n",
    "y = 5\n",
    "z = 10\n",
    "x += y\n",
    "print(\"Result of (x = x + y) = \", x)"
   ]
  },
  {
   "cell_type": "code",
   "execution_count": 43,
   "id": "39433eb9-f5d2-4c99-95ca-effc699861e5",
   "metadata": {},
   "outputs": [
    {
     "name": "stdout",
     "output_type": "stream",
     "text": [
      "Result of (x = x + y) =  25\n"
     ]
    }
   ],
   "source": [
    "x = 20\n",
    "y = 5\n",
    "z = 10\n",
    "x += y\n",
    "print(\"Result of (x = x + y) = \", x)"
   ]
  },
  {
   "cell_type": "code",
   "execution_count": 44,
   "id": "176e897e-8481-4b16-abf4-0c908ba424c4",
   "metadata": {},
   "outputs": [
    {
     "name": "stdout",
     "output_type": "stream",
     "text": [
      "Result of (x = x + y) =  25\n",
      "Result of (x = x + y) =  25\n",
      "Result of (x = x + y) =  25\n",
      "Result of (x = x + y) =  25\n"
     ]
    }
   ],
   "source": [
    "x = 20\n",
    "y = 5\n",
    "z = 10\n",
    "x += y\n",
    "print(\"Result of (x = x + y) = \", x)\n",
    "x = 20\n",
    "y = 5\n",
    "z = 10\n",
    "x += y\n",
    "print(\"Result of (x = x + y) = \", x)\n",
    "x = 20\n",
    "y = 5\n",
    "z = 10\n",
    "x += y\n",
    "print(\"Result of (x = x + y) = \", x)\n",
    "x = 20\n",
    "y = 5\n",
    "z = 10\n",
    "x += y\n",
    "print(\"Result of (x = x + y) = \", x)"
   ]
  },
  {
   "cell_type": "code",
   "execution_count": 45,
   "id": "5fe62011-963a-4867-bebb-5f3b4412517e",
   "metadata": {},
   "outputs": [
    {
     "name": "stdout",
     "output_type": "stream",
     "text": [
      "Result of (x = x + y) =  25\n"
     ]
    }
   ],
   "source": [
    "x = 20\n",
    "y = 5\n",
    "z = 10\n",
    "x += y\n",
    "print(\"Result of (x = x + y) = \", x)"
   ]
  },
  {
   "cell_type": "code",
   "execution_count": 46,
   "id": "9e0c83e3-cdf9-49f6-b4fc-79d602c97779",
   "metadata": {},
   "outputs": [
    {
     "name": "stdout",
     "output_type": "stream",
     "text": [
      "Result of (x = x + y) =  25\n"
     ]
    }
   ],
   "source": [
    "x = 20\n",
    "y = 5\n",
    "z = 10\n",
    "x += y\n",
    "print(\"Result of (x = x + y) = \", x)"
   ]
  },
  {
   "cell_type": "code",
   "execution_count": 47,
   "id": "1c39613b-1439-4dd6-8aa1-fa9fd9af05fe",
   "metadata": {},
   "outputs": [
    {
     "name": "stdout",
     "output_type": "stream",
     "text": [
      "Result of (x = x + y) =  25\n"
     ]
    }
   ],
   "source": [
    "x = 20\n",
    "y = 5\n",
    "z = 10\n",
    "x += y\n",
    "print(\"Result of (x = x + y) = \", x)"
   ]
  },
  {
   "cell_type": "code",
   "execution_count": 48,
   "id": "65ec8638-60a5-4f96-8f15-cf698ac2bf0b",
   "metadata": {},
   "outputs": [
    {
     "name": "stdout",
     "output_type": "stream",
     "text": [
      "Result of (x = x + y) =  25\n"
     ]
    }
   ],
   "source": [
    "x = 20\n",
    "y = 5\n",
    "z = 10\n",
    "x += y\n",
    "print(\"Result of (x = x + y) = \", x)"
   ]
  },
  {
   "cell_type": "code",
   "execution_count": 49,
   "id": "e59c3742-087b-4be6-b89b-cd28f5904575",
   "metadata": {},
   "outputs": [
    {
     "name": "stdout",
     "output_type": "stream",
     "text": [
      "Result of (x = x + y) =  25\n"
     ]
    }
   ],
   "source": [
    "x = 20\n",
    "y = 5\n",
    "z = 10\n",
    "x += y\n",
    "print(\"Result of (x = x + y) = \", x)"
   ]
  },
  {
   "cell_type": "code",
   "execution_count": 50,
   "id": "702d4c89-43db-47fc-8e62-58060160ded9",
   "metadata": {},
   "outputs": [
    {
     "name": "stdout",
     "output_type": "stream",
     "text": [
      "Result of (x = x + y) =  25\n"
     ]
    }
   ],
   "source": [
    "x = 20\n",
    "y = 5\n",
    "z = 10\n",
    "x += y\n",
    "print(\"Result of (x = x + y) = \", x)"
   ]
  },
  {
   "cell_type": "code",
   "execution_count": 51,
   "id": "a4a7b985-c279-4300-bbf5-00c71621e046",
   "metadata": {},
   "outputs": [
    {
     "name": "stdout",
     "output_type": "stream",
     "text": [
      "Result of (x = x + y) =  25\n"
     ]
    }
   ],
   "source": [
    "x = 20\n",
    "y = 5\n",
    "z = 10\n",
    "x += y\n",
    "print(\"Result of (x = x + y) = \", x)\n",
    "\n"
   ]
  },
  {
   "cell_type": "code",
   "execution_count": null,
   "id": "e87c7a6b-0d0d-4737-9301-16cf34cdff49",
   "metadata": {},
   "outputs": [],
   "source": []
  }
 ],
 "metadata": {
  "kernelspec": {
   "display_name": "Python 3 (ipykernel)",
   "language": "python",
   "name": "python3"
  },
  "language_info": {
   "codemirror_mode": {
    "name": "ipython",
    "version": 3
   },
   "file_extension": ".py",
   "mimetype": "text/x-python",
   "name": "python",
   "nbconvert_exporter": "python",
   "pygments_lexer": "ipython3",
   "version": "3.12.11"
  }
 },
 "nbformat": 4,
 "nbformat_minor": 5
}
