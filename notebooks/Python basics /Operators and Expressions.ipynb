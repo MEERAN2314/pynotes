{
 "cells": [
  {
   "cell_type": "code",
   "execution_count": 1,
   "id": "e1d4c6af-2d23-4b90-b5f9-79294d50fdcd",
   "metadata": {},
   "outputs": [
    {
     "name": "stdout",
     "output_type": "stream",
     "text": [
      "10 + 3 = 13\n",
      "10 - 3 = 7\n",
      "10 * 3 = 30\n",
      "10 / 3 = 3.3333333333333335\n",
      "10 // 3 = 3\n",
      "10 % 3 = 1\n",
      "10 ** 3 = 1000\n",
      "10 == 3: False\n",
      "10 != 3: True\n",
      "10 > 3: True\n",
      "False\n",
      "True\n",
      "False\n"
     ]
    }
   ],
   "source": [
    "\n",
    "x, y = 10, 3\n",
    "print(f\"{x} + {y} = {x + y}\")  \n",
    "print(f\"{x} - {y} = {x - y}\")  \n",
    "print(f\"{x} * {y} = {x * y}\")  \n",
    "print(f\"{x} / {y} = {x / y}\")  \n",
    "print(f\"{x} // {y} = {x // y}\")\n",
    "print(f\"{x} % {y} = {x % y}\")  \n",
    "print(f\"{x} ** {y} = {x ** y}\") \n",
    "\n",
    "\n",
    "print(f\"{x} == {y}: {x == y}\")  \n",
    "print(f\"{x} != {y}: {x != y}\")  \n",
    "print(f\"{x} > {y}: {x > y}\")    \n",
    "\n",
    "\n",
    "print(True and False)  \n",
    "print(True or False)   \n",
    "print(not True)        "
   ]
  },
  {
   "cell_type": "code",
   "execution_count": null,
   "id": "4fd1f1cf-2c73-4226-940f-227fc6aecde5",
   "metadata": {},
   "outputs": [],
   "source": []
  }
 ],
 "metadata": {
  "kernelspec": {
   "display_name": "Python 3 (ipykernel)",
   "language": "python",
   "name": "python3"
  },
  "language_info": {
   "codemirror_mode": {
    "name": "ipython",
    "version": 3
   },
   "file_extension": ".py",
   "mimetype": "text/x-python",
   "name": "python",
   "nbconvert_exporter": "python",
   "pygments_lexer": "ipython3",
   "version": "3.12.11"
  }
 },
 "nbformat": 4,
 "nbformat_minor": 5
}
