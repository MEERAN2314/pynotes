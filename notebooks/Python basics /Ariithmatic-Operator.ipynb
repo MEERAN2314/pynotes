{
 "cells": [
  {
   "cell_type": "code",
   "execution_count": 1,
   "id": "fba1ecb3-85a8-4dbb-b003-46b76dcac136",
   "metadata": {},
   "outputs": [],
   "source": [
    "#  python operators "
   ]
  },
  {
   "cell_type": "code",
   "execution_count": 2,
   "id": "ee294e97-37b2-49b1-9011-eff612772de1",
   "metadata": {},
   "outputs": [],
   "source": [
    "#  arithmetic operators"
   ]
  },
  {
   "cell_type": "code",
   "execution_count": 3,
   "id": "58ff0ab0-ed39-47fb-b75e-9ed534172d69",
   "metadata": {},
   "outputs": [],
   "source": [
    "x = 20\n",
    "y = 30\n",
    "sum = x + y "
   ]
  },
  {
   "cell_type": "code",
   "execution_count": 4,
   "id": "43e19ee3-1c5c-4bf2-b6d7-cca7db70f1b8",
   "metadata": {},
   "outputs": [
    {
     "name": "stdout",
     "output_type": "stream",
     "text": [
      "Sum:  50\n"
     ]
    }
   ],
   "source": [
    "print(\"Sum: \", sum) "
   ]
  },
  {
   "cell_type": "code",
   "execution_count": 5,
   "id": "c275a3dc-ee61-468c-99ec-855fe63454d0",
   "metadata": {},
   "outputs": [],
   "source": [
    "#  Type Conversion in Addition Calculation"
   ]
  },
  {
   "cell_type": "code",
   "execution_count": 6,
   "id": "3a137c98-1d7b-4021-b226-a5472f6a6762",
   "metadata": {},
   "outputs": [],
   "source": [
    "x = 20 # an integer value.\n",
    "y = 30.60 # a float value.\n",
    "sum = x + y # Adding two numbers with + operator."
   ]
  },
  {
   "cell_type": "code",
   "execution_count": 7,
   "id": "b58870e7-be36-48f3-a2ec-bdf37950238b",
   "metadata": {},
   "outputs": [
    {
     "name": "stdout",
     "output_type": "stream",
     "text": [
      "Sum of two numbers:  50.6\n"
     ]
    }
   ],
   "source": [
    "print(\"Sum of two numbers: \", sum)"
   ]
  },
  {
   "cell_type": "code",
   "execution_count": 8,
   "id": "94aa0a1a-8162-482a-af7b-fcd1993459e1",
   "metadata": {},
   "outputs": [],
   "source": [
    "#  String Concatenation using (+) Operator"
   ]
  },
  {
   "cell_type": "code",
   "execution_count": 9,
   "id": "8e574bdc-bff6-479e-a4c4-373ba662cdbb",
   "metadata": {},
   "outputs": [],
   "source": [
    "firstName = \"John\"\n",
    "lastName = \"Michael\"\n",
    "fullName = firstName + lastName "
   ]
  },
  {
   "cell_type": "code",
   "execution_count": 10,
   "id": "97bc8e25-0188-4e4f-a482-d83a30936ca6",
   "metadata": {},
   "outputs": [
    {
     "name": "stdout",
     "output_type": "stream",
     "text": [
      "Full name:  JohnMichael\n"
     ]
    }
   ],
   "source": [
    "print(\"Full name: \", fullName)"
   ]
  },
  {
   "cell_type": "code",
   "execution_count": 11,
   "id": "c93cf34d-05ae-4832-8cd8-157ae4dc681e",
   "metadata": {},
   "outputs": [],
   "source": [
    "# List Concatenation using (+) operator"
   ]
  },
  {
   "cell_type": "code",
   "execution_count": 12,
   "id": "7a4b7fae-9fa8-4070-a13b-25db70fe9f0a",
   "metadata": {},
   "outputs": [],
   "source": [
    "x = [1, 2, 3, 4]\n",
    "y = [5, 6, 7, 8]\n",
    "result = x + y"
   ]
  },
  {
   "cell_type": "code",
   "execution_count": 13,
   "id": "60ae556f-c77e-42ee-b092-ca9404695df4",
   "metadata": {},
   "outputs": [
    {
     "name": "stdout",
     "output_type": "stream",
     "text": [
      "[1, 2, 3, 4, 5, 6, 7, 8]\n"
     ]
    }
   ],
   "source": [
    "print(result)"
   ]
  },
  {
   "cell_type": "code",
   "execution_count": 14,
   "id": "6f0c7d71-1af0-484d-bec8-495d9a5ee3c0",
   "metadata": {},
   "outputs": [],
   "source": [
    "x = ('Hello', 20)\n",
    "y = (20.50, 'Hi')\n",
    "z = (20, 89)"
   ]
  },
  {
   "cell_type": "code",
   "execution_count": 15,
   "id": "73072f89-4650-4727-9aee-d6bed47a5629",
   "metadata": {},
   "outputs": [],
   "source": [
    "result = x + y + z"
   ]
  },
  {
   "cell_type": "code",
   "execution_count": 16,
   "id": "c8589418-f2f4-46bd-803d-65cda9f85054",
   "metadata": {},
   "outputs": [
    {
     "name": "stdout",
     "output_type": "stream",
     "text": [
      "('Hello', 20, 20.5, 'Hi', 20, 89)\n"
     ]
    }
   ],
   "source": [
    "print(result)"
   ]
  },
  {
   "cell_type": "code",
   "execution_count": 17,
   "id": "8e1e220c-96b2-44dd-82b6-13c10812587c",
   "metadata": {},
   "outputs": [],
   "source": [
    "#  Subtraction Operator (-)"
   ]
  },
  {
   "cell_type": "code",
   "execution_count": 18,
   "id": "01169880-f10c-43b8-9d71-52f3f177bca5",
   "metadata": {},
   "outputs": [],
   "source": [
    "x = 20\n",
    "y = 30.60\n",
    "sub = x - y"
   ]
  },
  {
   "cell_type": "code",
   "execution_count": 19,
   "id": "f2095b53-9e19-4b05-bd5b-c092ec39efc6",
   "metadata": {},
   "outputs": [
    {
     "name": "stdout",
     "output_type": "stream",
     "text": [
      "Subtraction:  -10.600000000000001\n"
     ]
    }
   ],
   "source": [
    "print(\"Subtraction: \", +sub)"
   ]
  },
  {
   "cell_type": "code",
   "execution_count": 20,
   "id": "18889c1f-9b08-4236-9454-1ac236b10b8a",
   "metadata": {},
   "outputs": [],
   "source": [
    "# Multiplication Operator (*)"
   ]
  },
  {
   "cell_type": "code",
   "execution_count": 21,
   "id": "51812bdd-0b2a-4cd7-997b-a4740ebf9e71",
   "metadata": {},
   "outputs": [],
   "source": [
    "x = 20\n",
    "y = 20.20"
   ]
  },
  {
   "cell_type": "code",
   "execution_count": 22,
   "id": "5f854dd9-bf5a-40b7-9ed8-9f3770afe287",
   "metadata": {},
   "outputs": [],
   "source": [
    "result = x * y \n"
   ]
  },
  {
   "cell_type": "code",
   "execution_count": 23,
   "id": "07a56f6d-b01a-4913-b81c-7cc0eafece7e",
   "metadata": {},
   "outputs": [
    {
     "name": "stdout",
     "output_type": "stream",
     "text": [
      "Multiplication:  404.0\n"
     ]
    }
   ],
   "source": [
    "print(\"Multiplication: \", result)"
   ]
  },
  {
   "cell_type": "code",
   "execution_count": 24,
   "id": "0a8269fd-8390-495e-bce6-6a6ec182e810",
   "metadata": {},
   "outputs": [],
   "source": [
    "text = 'Hello'\n",
    "y = 2\n",
    "result = text * y"
   ]
  },
  {
   "cell_type": "code",
   "execution_count": 25,
   "id": "58cb5a4d-d287-4995-9ab5-1851638d7f3e",
   "metadata": {},
   "outputs": [
    {
     "name": "stdout",
     "output_type": "stream",
     "text": [
      "Result:  HelloHello\n"
     ]
    }
   ],
   "source": [
    "print(\"Result: \", result)"
   ]
  },
  {
   "cell_type": "code",
   "execution_count": 26,
   "id": "d819778c-6ad9-4207-b4dc-2a805a777e0f",
   "metadata": {},
   "outputs": [],
   "source": [
    "#  Division Operator (/)\n"
   ]
  },
  {
   "cell_type": "code",
   "execution_count": 27,
   "id": "7510dfab-d1d0-4e7d-a56f-d956a10f45f1",
   "metadata": {},
   "outputs": [],
   "source": [
    "x = 5\n",
    "y = 5 \n",
    "z = x / y"
   ]
  },
  {
   "cell_type": "code",
   "execution_count": 28,
   "id": "cb605ce9-2560-41fe-ba7d-5f305e7cba83",
   "metadata": {},
   "outputs": [
    {
     "name": "stdout",
     "output_type": "stream",
     "text": [
      "Division:  1.0\n"
     ]
    }
   ],
   "source": [
    "print(\"Division: \", z)"
   ]
  },
  {
   "cell_type": "code",
   "execution_count": 29,
   "id": "deaec1ae-2ea0-48d6-9cd9-6bbad8d299b4",
   "metadata": {},
   "outputs": [],
   "source": [
    "x = 2.4 \n",
    "y = 1.2 \n",
    "z = x / y"
   ]
  },
  {
   "cell_type": "code",
   "execution_count": 30,
   "id": "582877e7-ee76-4e26-8cec-f71d71cf46c6",
   "metadata": {},
   "outputs": [
    {
     "name": "stdout",
     "output_type": "stream",
     "text": [
      "Division:  2.0\n"
     ]
    }
   ],
   "source": [
    "print(\"Division: \",z)"
   ]
  },
  {
   "cell_type": "code",
   "execution_count": 31,
   "id": "b1bd91ec-ba45-4853-b611-01a228ef42dc",
   "metadata": {},
   "outputs": [],
   "source": [
    "# Modulus Operator (%)"
   ]
  },
  {
   "cell_type": "code",
   "execution_count": 32,
   "id": "50e2f6c1-ffc7-4ed9-962d-e37696c992c1",
   "metadata": {},
   "outputs": [],
   "source": [
    "num1 = 23\n",
    "num2 = 5\n",
    "num = num1 % num2"
   ]
  },
  {
   "cell_type": "code",
   "execution_count": 33,
   "id": "fc2f8002-c45f-484f-a433-3e61a154613e",
   "metadata": {},
   "outputs": [
    {
     "name": "stdout",
     "output_type": "stream",
     "text": [
      "Remainder after division:  3\n"
     ]
    }
   ],
   "source": [
    "print(\"Remainder after division: \", num)"
   ]
  },
  {
   "cell_type": "code",
   "execution_count": 34,
   "id": "2a486b7f-7dce-4880-ad3e-3ec9dca866ed",
   "metadata": {},
   "outputs": [],
   "source": [
    "x = 2.6\n",
    "y = 1.2\n",
    "z = x % y"
   ]
  },
  {
   "cell_type": "code",
   "execution_count": 35,
   "id": "a5923eb7-d0ea-48d9-90ba-83ae4cf95e95",
   "metadata": {},
   "outputs": [
    {
     "name": "stdout",
     "output_type": "stream",
     "text": [
      "Remainder after division:  0.20000000000000018\n"
     ]
    }
   ],
   "source": [
    "print(\"Remainder after division: \", z)"
   ]
  },
  {
   "cell_type": "code",
   "execution_count": 36,
   "id": "8bde7c57-379b-4bec-b6f4-ce54a561e34f",
   "metadata": {},
   "outputs": [],
   "source": [
    "# Exponential Operator (**)"
   ]
  },
  {
   "cell_type": "code",
   "execution_count": 37,
   "id": "65b108bb-fc43-4dfa-8d45-db9669eaf750",
   "metadata": {},
   "outputs": [],
   "source": [
    "num1 = 2\n",
    "num2 = 4"
   ]
  },
  {
   "cell_type": "code",
   "execution_count": 38,
   "id": "f8743e52-19cc-41a4-9897-f3d9b73336d8",
   "metadata": {},
   "outputs": [],
   "source": [
    "exp = num1 ** num2\n"
   ]
  },
  {
   "cell_type": "code",
   "execution_count": 39,
   "id": "b5836060-ee82-4e4f-a457-75af37021ecc",
   "metadata": {},
   "outputs": [
    {
     "name": "stdout",
     "output_type": "stream",
     "text": [
      "Result:  16\n"
     ]
    }
   ],
   "source": [
    "print(\"Result: \", exp)"
   ]
  },
  {
   "cell_type": "code",
   "execution_count": 40,
   "id": "086265ba-6a3a-45f4-9b10-02d8000988a4",
   "metadata": {},
   "outputs": [],
   "source": [
    "x = 1.2\n",
    "y = 3"
   ]
  },
  {
   "cell_type": "code",
   "execution_count": 41,
   "id": "cf8b6016-82cc-44d8-b88e-d17290099c06",
   "metadata": {},
   "outputs": [],
   "source": [
    "exp = x ** y"
   ]
  },
  {
   "cell_type": "code",
   "execution_count": 42,
   "id": "c4f36782-5d48-43f1-adfa-55ab051fc979",
   "metadata": {},
   "outputs": [
    {
     "name": "stdout",
     "output_type": "stream",
     "text": [
      "Result:  1.7279999999999998\n"
     ]
    }
   ],
   "source": [
    "print(\"Result: \", exp)"
   ]
  },
  {
   "cell_type": "code",
   "execution_count": 43,
   "id": "95bfe671-bde9-48cb-abf2-ac8c01647a40",
   "metadata": {},
   "outputs": [],
   "source": [
    "num1 = 5\n",
    "num2 = 2"
   ]
  },
  {
   "cell_type": "code",
   "execution_count": 44,
   "id": "bc2dd42d-cd06-4286-85ec-dcade79caa77",
   "metadata": {},
   "outputs": [],
   "source": [
    "num = num1 // num2"
   ]
  },
  {
   "cell_type": "code",
   "execution_count": 45,
   "id": "73c7ac12-f48e-486b-8c6e-abeffb36787f",
   "metadata": {},
   "outputs": [
    {
     "name": "stdout",
     "output_type": "stream",
     "text": [
      "Result:  2\n"
     ]
    }
   ],
   "source": [
    "print(\"Result: \", num)\n"
   ]
  },
  {
   "cell_type": "code",
   "execution_count": 46,
   "id": "313f9b8e-0bcb-42a1-a59b-dcac48c98099",
   "metadata": {},
   "outputs": [],
   "source": [
    "x = 12.2\n",
    "y = 3.1"
   ]
  },
  {
   "cell_type": "code",
   "execution_count": 47,
   "id": "0a4d2930-5c56-4e94-9a1c-0540820df7dd",
   "metadata": {},
   "outputs": [],
   "source": [
    "z = x // y\n"
   ]
  },
  {
   "cell_type": "code",
   "execution_count": 48,
   "id": "26f6f451-ce99-4e2b-b2af-a167566876fe",
   "metadata": {},
   "outputs": [
    {
     "name": "stdout",
     "output_type": "stream",
     "text": [
      "Result:  3.0\n"
     ]
    }
   ],
   "source": [
    "print(\"Result: \", z)"
   ]
  },
  {
   "cell_type": "code",
   "execution_count": null,
   "id": "9bd771a5-f02e-465b-8a7e-16e8a496ffb4",
   "metadata": {},
   "outputs": [],
   "source": []
  },
  {
   "cell_type": "code",
   "execution_count": null,
   "id": "ac0f2aa0-d398-42ff-bbbf-b3860dddf313",
   "metadata": {},
   "outputs": [],
   "source": []
  },
  {
   "cell_type": "code",
   "execution_count": 2,
   "id": "79708c18-8c72-4d2a-af4b-1c6638b7365f",
   "metadata": {},
   "outputs": [
    {
     "name": "stdout",
     "output_type": "stream",
     "text": [
      "Sum:  50\n"
     ]
    }
   ],
   "source": [
    "x = 20\n",
    "y = 30\n",
    "sum = x + y \n",
    "print(\"Sum: \", sum) "
   ]
  },
  {
   "cell_type": "code",
   "execution_count": 3,
   "id": "aa9b2d63-fd05-400e-b7e3-87da420c5a9d",
   "metadata": {},
   "outputs": [
    {
     "name": "stdout",
     "output_type": "stream",
     "text": [
      "Sum:  50\n"
     ]
    }
   ],
   "source": [
    "x = 20\n",
    "y = 30\n",
    "sum = x + y \n",
    "print(\"Sum: \", sum) "
   ]
  },
  {
   "cell_type": "code",
   "execution_count": 4,
   "id": "8a318f9d-5b53-4c50-8abe-919c6e4ec3c5",
   "metadata": {},
   "outputs": [
    {
     "name": "stdout",
     "output_type": "stream",
     "text": [
      "Sum:  50\n"
     ]
    }
   ],
   "source": [
    "x = 20\n",
    "y = 30\n",
    "sum = x + y \n",
    "print(\"Sum: \", sum) "
   ]
  },
  {
   "cell_type": "code",
   "execution_count": 5,
   "id": "5b58c534-5f60-4955-9051-2ac526c657bf",
   "metadata": {},
   "outputs": [
    {
     "name": "stdout",
     "output_type": "stream",
     "text": [
      "Sum:  50\n"
     ]
    }
   ],
   "source": [
    "x = 20\n",
    "y = 30\n",
    "sum = x + y \n",
    "print(\"Sum: \", sum) "
   ]
  },
  {
   "cell_type": "code",
   "execution_count": 6,
   "id": "75e5fb9e-71d7-4f2e-b669-82537f6fef70",
   "metadata": {},
   "outputs": [
    {
     "name": "stdout",
     "output_type": "stream",
     "text": [
      "Sum:  50\n"
     ]
    }
   ],
   "source": [
    "x = 20\n",
    "y = 30\n",
    "sum = x + y \n",
    "print(\"Sum: \", sum) "
   ]
  },
  {
   "cell_type": "code",
   "execution_count": 7,
   "id": "b4c7e759-15c3-4af4-b37e-bd04565b4c50",
   "metadata": {},
   "outputs": [
    {
     "name": "stdout",
     "output_type": "stream",
     "text": [
      "Sum:  50\n"
     ]
    }
   ],
   "source": [
    "x = 20\n",
    "y = 30\n",
    "sum = x + y \n",
    "print(\"Sum: \", sum) "
   ]
  },
  {
   "cell_type": "code",
   "execution_count": 8,
   "id": "785ed95f-9617-40f4-a7f0-f51c3db8bb78",
   "metadata": {},
   "outputs": [
    {
     "name": "stdout",
     "output_type": "stream",
     "text": [
      "Sum:  50\n"
     ]
    }
   ],
   "source": [
    "x = 20\n",
    "y = 30\n",
    "sum = x + y \n",
    "print(\"Sum: \", sum) "
   ]
  },
  {
   "cell_type": "code",
   "execution_count": 9,
   "id": "1cc101be-81c4-4a3e-823b-6b7bad228251",
   "metadata": {},
   "outputs": [
    {
     "name": "stdout",
     "output_type": "stream",
     "text": [
      "Sum:  50\n"
     ]
    }
   ],
   "source": [
    "x = 20\n",
    "y = 30\n",
    "sum = x + y \n",
    "print(\"Sum: \", sum) "
   ]
  },
  {
   "cell_type": "code",
   "execution_count": 10,
   "id": "e9780641-bf04-4478-b403-c2f3929696cb",
   "metadata": {},
   "outputs": [
    {
     "name": "stdout",
     "output_type": "stream",
     "text": [
      "Sum:  50\n",
      "Sum:  50\n",
      "Sum:  50\n"
     ]
    }
   ],
   "source": [
    "x = 20\n",
    "y = 30\n",
    "sum = x + y \n",
    "print(\"Sum: \", sum) \n",
    "x = 20\n",
    "y = 30\n",
    "sum = x + y \n",
    "print(\"Sum: \", sum) \n",
    "x = 20\n",
    "y = 30\n",
    "sum = x + y \n",
    "print(\"Sum: \", sum) "
   ]
  },
  {
   "cell_type": "code",
   "execution_count": 11,
   "id": "f025fa3e-a452-4b63-a1c1-1455b6aef700",
   "metadata": {},
   "outputs": [
    {
     "name": "stdout",
     "output_type": "stream",
     "text": [
      "Sum:  50\n"
     ]
    }
   ],
   "source": [
    "x = 20\n",
    "y = 30\n",
    "sum = x + y \n",
    "print(\"Sum: \", sum) "
   ]
  },
  {
   "cell_type": "code",
   "execution_count": 12,
   "id": "5cf58474-e0fa-483b-86c4-f70e3cafddb5",
   "metadata": {},
   "outputs": [
    {
     "name": "stdout",
     "output_type": "stream",
     "text": [
      "Sum:  50\n"
     ]
    }
   ],
   "source": [
    "x = 20\n",
    "y = 30\n",
    "sum = x + y \n",
    "print(\"Sum: \", sum) "
   ]
  },
  {
   "cell_type": "code",
   "execution_count": 13,
   "id": "9e2037d6-0258-42a0-958e-52a873824efb",
   "metadata": {},
   "outputs": [
    {
     "name": "stdout",
     "output_type": "stream",
     "text": [
      "Sum:  50\n"
     ]
    }
   ],
   "source": [
    "x = 20\n",
    "y = 30\n",
    "sum = x + y \n",
    "print(\"Sum: \", sum) "
   ]
  },
  {
   "cell_type": "code",
   "execution_count": 14,
   "id": "e1811cf5-ded1-49e5-b192-75310997d152",
   "metadata": {},
   "outputs": [
    {
     "name": "stdout",
     "output_type": "stream",
     "text": [
      "Sum:  50\n"
     ]
    }
   ],
   "source": [
    "x = 20\n",
    "y = 30\n",
    "sum = x + y \n",
    "print(\"Sum: \", sum) "
   ]
  },
  {
   "cell_type": "code",
   "execution_count": 15,
   "id": "da1cb9e3-4783-41f0-8492-71794cf71d06",
   "metadata": {},
   "outputs": [
    {
     "name": "stdout",
     "output_type": "stream",
     "text": [
      "Sum:  50\n"
     ]
    }
   ],
   "source": [
    "x = 20\n",
    "y = 30\n",
    "sum = x + y \n",
    "print(\"Sum: \", sum) "
   ]
  },
  {
   "cell_type": "code",
   "execution_count": 16,
   "id": "0f2362dc-48ba-43a2-befe-ff29beda736e",
   "metadata": {},
   "outputs": [
    {
     "name": "stdout",
     "output_type": "stream",
     "text": [
      "Sum:  50\n"
     ]
    }
   ],
   "source": [
    "x = 20\n",
    "y = 30\n",
    "sum = x + y \n",
    "print(\"Sum: \", sum) "
   ]
  },
  {
   "cell_type": "code",
   "execution_count": 17,
   "id": "e898c6fd-01fe-42f9-9e42-84e685321e71",
   "metadata": {},
   "outputs": [
    {
     "name": "stdout",
     "output_type": "stream",
     "text": [
      "Sum:  50\n"
     ]
    }
   ],
   "source": [
    "x = 20\n",
    "y = 30\n",
    "sum = x + y \n",
    "print(\"Sum: \", sum) "
   ]
  },
  {
   "cell_type": "code",
   "execution_count": 18,
   "id": "066bafb0-70bb-48f1-8880-22e6cfa7a35a",
   "metadata": {},
   "outputs": [
    {
     "name": "stdout",
     "output_type": "stream",
     "text": [
      "Sum:  50\n"
     ]
    }
   ],
   "source": [
    "x = 20\n",
    "y = 30\n",
    "sum = x + y \n",
    "print(\"Sum: \", sum) "
   ]
  },
  {
   "cell_type": "code",
   "execution_count": 19,
   "id": "eb342ac6-13a0-47a7-babd-feecd6ecfaef",
   "metadata": {},
   "outputs": [
    {
     "name": "stdout",
     "output_type": "stream",
     "text": [
      "Sum:  50\n"
     ]
    }
   ],
   "source": [
    "x = 20\n",
    "y = 30\n",
    "sum = x + y \n",
    "print(\"Sum: \", sum) "
   ]
  },
  {
   "cell_type": "code",
   "execution_count": 20,
   "id": "4063f330-ea54-4632-b0e8-d4a02d7ce10e",
   "metadata": {},
   "outputs": [
    {
     "name": "stdout",
     "output_type": "stream",
     "text": [
      "Sum:  50\n"
     ]
    }
   ],
   "source": [
    "x = 20\n",
    "y = 30\n",
    "sum = x + y \n",
    "print(\"Sum: \", sum) "
   ]
  },
  {
   "cell_type": "code",
   "execution_count": 21,
   "id": "ade518a6-36d3-4e25-8c41-7e618d4fbb1e",
   "metadata": {},
   "outputs": [
    {
     "name": "stdout",
     "output_type": "stream",
     "text": [
      "Sum:  50\n"
     ]
    }
   ],
   "source": [
    "x = 20\n",
    "y = 30\n",
    "sum = x + y \n",
    "print(\"Sum: \", sum) "
   ]
  },
  {
   "cell_type": "code",
   "execution_count": 22,
   "id": "805862c4-cedb-4f52-bab9-a8fcd4ca1691",
   "metadata": {},
   "outputs": [
    {
     "name": "stdout",
     "output_type": "stream",
     "text": [
      "Sum:  50\n"
     ]
    }
   ],
   "source": [
    "x = 20\n",
    "y = 30\n",
    "sum = x + y \n",
    "print(\"Sum: \", sum) "
   ]
  },
  {
   "cell_type": "code",
   "execution_count": 23,
   "id": "6649bb50-c915-4986-aed7-49a76b6be362",
   "metadata": {},
   "outputs": [
    {
     "name": "stdout",
     "output_type": "stream",
     "text": [
      "Sum:  50\n"
     ]
    }
   ],
   "source": [
    "x = 20\n",
    "y = 30\n",
    "sum = x + y \n",
    "print(\"Sum: \", sum) "
   ]
  },
  {
   "cell_type": "code",
   "execution_count": 24,
   "id": "8785298f-c0c6-44ad-84af-c1cf7512eace",
   "metadata": {},
   "outputs": [
    {
     "name": "stdout",
     "output_type": "stream",
     "text": [
      "Sum:  50\n"
     ]
    }
   ],
   "source": [
    "x = 20\n",
    "y = 30\n",
    "sum = x + y \n",
    "print(\"Sum: \", sum) "
   ]
  },
  {
   "cell_type": "code",
   "execution_count": 25,
   "id": "f96fcce0-fb0b-4b71-b2c1-7c13bcdb5993",
   "metadata": {},
   "outputs": [
    {
     "name": "stdout",
     "output_type": "stream",
     "text": [
      "Sum:  50\n"
     ]
    }
   ],
   "source": [
    "x = 20\n",
    "y = 30\n",
    "sum = x + y \n",
    "print(\"Sum: \", sum) "
   ]
  },
  {
   "cell_type": "code",
   "execution_count": 26,
   "id": "13cbda61-76f5-4b43-b054-89e7edff3d5c",
   "metadata": {},
   "outputs": [
    {
     "name": "stdout",
     "output_type": "stream",
     "text": [
      "Sum:  50\n"
     ]
    }
   ],
   "source": [
    "x = 20\n",
    "y = 30\n",
    "sum = x + y \n",
    "print(\"Sum: \", sum) "
   ]
  },
  {
   "cell_type": "code",
   "execution_count": 27,
   "id": "7cdab3e3-d62b-481c-934e-c8a8bf86a5ab",
   "metadata": {},
   "outputs": [
    {
     "name": "stdout",
     "output_type": "stream",
     "text": [
      "Sum:  50\n"
     ]
    }
   ],
   "source": [
    "x = 20\n",
    "y = 30\n",
    "sum = x + y \n",
    "print(\"Sum: \", sum) "
   ]
  },
  {
   "cell_type": "code",
   "execution_count": 28,
   "id": "92535b24-745b-4bca-bf1d-3a6eb80823dd",
   "metadata": {},
   "outputs": [
    {
     "name": "stdout",
     "output_type": "stream",
     "text": [
      "Sum:  50\n"
     ]
    }
   ],
   "source": [
    "x = 20\n",
    "y = 30\n",
    "sum = x + y \n",
    "print(\"Sum: \", sum) "
   ]
  },
  {
   "cell_type": "code",
   "execution_count": 29,
   "id": "485c7509-8a01-4dd1-9c95-1b61647b68c6",
   "metadata": {},
   "outputs": [
    {
     "name": "stdout",
     "output_type": "stream",
     "text": [
      "Sum:  50\n",
      "Sum:  50\n"
     ]
    }
   ],
   "source": [
    "x = 20\n",
    "y = 30\n",
    "sum = x + y \n",
    "print(\"Sum: \", sum) \n",
    "x = 20\n",
    "y = 30\n",
    "sum = x + y \n",
    "print(\"Sum: \", sum) "
   ]
  },
  {
   "cell_type": "code",
   "execution_count": 30,
   "id": "bda89821-64f9-49b7-a7f3-d6c594a5f92d",
   "metadata": {},
   "outputs": [
    {
     "name": "stdout",
     "output_type": "stream",
     "text": [
      "Sum:  50\n"
     ]
    }
   ],
   "source": [
    "x = 20\n",
    "y = 30\n",
    "sum = x + y \n",
    "print(\"Sum: \", sum) "
   ]
  },
  {
   "cell_type": "code",
   "execution_count": 31,
   "id": "81ee3df3-ab48-45f9-8e57-5509257a394a",
   "metadata": {},
   "outputs": [
    {
     "name": "stdout",
     "output_type": "stream",
     "text": [
      "Sum:  50\n"
     ]
    }
   ],
   "source": [
    "x = 20\n",
    "y = 30\n",
    "sum = x + y \n",
    "print(\"Sum: \", sum) "
   ]
  },
  {
   "cell_type": "code",
   "execution_count": 32,
   "id": "e2e68f76-0309-4dcc-88ac-1317b2771174",
   "metadata": {},
   "outputs": [
    {
     "name": "stdout",
     "output_type": "stream",
     "text": [
      "Sum:  50\n"
     ]
    }
   ],
   "source": [
    "x = 20\n",
    "y = 30\n",
    "sum = x + y \n",
    "print(\"Sum: \", sum) "
   ]
  },
  {
   "cell_type": "code",
   "execution_count": 33,
   "id": "e8e2a5be-7428-42da-9e6e-95f152aa09ca",
   "metadata": {},
   "outputs": [
    {
     "name": "stdout",
     "output_type": "stream",
     "text": [
      "Sum:  50\n"
     ]
    }
   ],
   "source": [
    "x = 20\n",
    "y = 30\n",
    "sum = x + y \n",
    "print(\"Sum: \", sum) "
   ]
  },
  {
   "cell_type": "code",
   "execution_count": 34,
   "id": "eb36b66d-4115-4a73-a979-7aec9b31d864",
   "metadata": {},
   "outputs": [
    {
     "name": "stdout",
     "output_type": "stream",
     "text": [
      "Sum:  50\n"
     ]
    }
   ],
   "source": [
    "x = 20\n",
    "y = 30\n",
    "sum = x + y \n",
    "print(\"Sum: \", sum) "
   ]
  },
  {
   "cell_type": "code",
   "execution_count": 35,
   "id": "0fccf155-3a9e-41ea-b653-f78c5ac8b010",
   "metadata": {},
   "outputs": [
    {
     "name": "stdout",
     "output_type": "stream",
     "text": [
      "Sum:  50\n"
     ]
    }
   ],
   "source": [
    "x = 20\n",
    "y = 30\n",
    "sum = x + y \n",
    "print(\"Sum: \", sum) "
   ]
  },
  {
   "cell_type": "code",
   "execution_count": 36,
   "id": "8ebb308b-c757-40bd-ac18-ad57f90e638f",
   "metadata": {},
   "outputs": [
    {
     "ename": "SyntaxError",
     "evalue": "invalid syntax (2391735148.py, line 4)",
     "output_type": "error",
     "traceback": [
      "\u001b[0;36m  Cell \u001b[0;32mIn[36], line 4\u001b[0;36m\u001b[0m\n\u001b[0;31m    print(\"Sum: \", sum) x = 20\u001b[0m\n\u001b[0m                        ^\u001b[0m\n\u001b[0;31mSyntaxError\u001b[0m\u001b[0;31m:\u001b[0m invalid syntax\n"
     ]
    }
   ],
   "source": [
    "x = 20\n",
    "y = 30\n",
    "sum = x + y \n",
    "print(\"Sum: \", sum) x = 20\n",
    "y = 30\n",
    "sum = x + y \n",
    "print(\"Sum: \", sum) x = 20\n",
    "y = 30\n",
    "sum = x + y \n",
    "print(\"Sum: \", sum) "
   ]
  },
  {
   "cell_type": "code",
   "execution_count": 37,
   "id": "fc45be4e-54ea-4c79-b6ae-964665d9fabb",
   "metadata": {},
   "outputs": [
    {
     "ename": "SyntaxError",
     "evalue": "invalid syntax (1345794597.py, line 4)",
     "output_type": "error",
     "traceback": [
      "\u001b[0;36m  Cell \u001b[0;32mIn[37], line 4\u001b[0;36m\u001b[0m\n\u001b[0;31m    print(\"Sum: \", sum) x = 20\u001b[0m\n\u001b[0m                        ^\u001b[0m\n\u001b[0;31mSyntaxError\u001b[0m\u001b[0;31m:\u001b[0m invalid syntax\n"
     ]
    }
   ],
   "source": [
    "x = 20\n",
    "y = 30\n",
    "sum = x + y \n",
    "print(\"Sum: \", sum) x = 20\n",
    "y = 30\n",
    "sum = x + y \n",
    "print(\"Sum: \", sum) "
   ]
  },
  {
   "cell_type": "code",
   "execution_count": null,
   "id": "18fce707-bf5f-448e-b42a-172b4c569d6c",
   "metadata": {},
   "outputs": [],
   "source": []
  },
  {
   "cell_type": "code",
   "execution_count": 38,
   "id": "a8972dfa-0cc4-4d21-85fc-8ac1cebbd501",
   "metadata": {},
   "outputs": [
    {
     "name": "stdout",
     "output_type": "stream",
     "text": [
      "Sum:  50\n"
     ]
    }
   ],
   "source": [
    "x = 20\n",
    "y = 30\n",
    "sum = x + y \n",
    "print(\"Sum: \", sum) "
   ]
  },
  {
   "cell_type": "code",
   "execution_count": 39,
   "id": "a0bd16b1-c1bb-4278-a27b-3ca8703a3e9e",
   "metadata": {},
   "outputs": [
    {
     "name": "stdout",
     "output_type": "stream",
     "text": [
      "Sum:  50\n"
     ]
    }
   ],
   "source": [
    "x = 20\n",
    "y = 30\n",
    "sum = x + y \n",
    "print(\"Sum: \", sum) "
   ]
  },
  {
   "cell_type": "code",
   "execution_count": 40,
   "id": "253432b7-2f62-4311-a53c-8608e0d73f21",
   "metadata": {},
   "outputs": [
    {
     "name": "stdout",
     "output_type": "stream",
     "text": [
      "Sum:  50\n"
     ]
    }
   ],
   "source": [
    "x = 20\n",
    "y = 30\n",
    "sum = x + y \n",
    "print(\"Sum: \", sum) "
   ]
  },
  {
   "cell_type": "code",
   "execution_count": 41,
   "id": "f683d02b-f136-4bdf-bbfb-74cc26280a64",
   "metadata": {},
   "outputs": [
    {
     "name": "stdout",
     "output_type": "stream",
     "text": [
      "Sum:  50\n"
     ]
    }
   ],
   "source": [
    "x = 20\n",
    "y = 30\n",
    "sum = x + y \n",
    "print(\"Sum: \", sum) "
   ]
  },
  {
   "cell_type": "code",
   "execution_count": 42,
   "id": "9f2e4fa2-62fe-4966-941a-b9043f9b320a",
   "metadata": {},
   "outputs": [
    {
     "name": "stdout",
     "output_type": "stream",
     "text": [
      "Sum:  50\n"
     ]
    }
   ],
   "source": [
    "x = 20\n",
    "y = 30\n",
    "sum = x + y \n",
    "print(\"Sum: \", sum) "
   ]
  },
  {
   "cell_type": "code",
   "execution_count": 43,
   "id": "89ec6a6e-915e-4ca1-ab32-a95d35668ea8",
   "metadata": {},
   "outputs": [
    {
     "name": "stdout",
     "output_type": "stream",
     "text": [
      "Sum:  50\n"
     ]
    }
   ],
   "source": [
    "x = 20\n",
    "y = 30\n",
    "sum = x + y \n",
    "print(\"Sum: \", sum) "
   ]
  },
  {
   "cell_type": "code",
   "execution_count": 44,
   "id": "5adec9b7-d767-4d95-acbc-09d1bd1d407e",
   "metadata": {},
   "outputs": [
    {
     "name": "stdout",
     "output_type": "stream",
     "text": [
      "Sum:  50\n"
     ]
    }
   ],
   "source": [
    "x = 20\n",
    "y = 30\n",
    "sum = x + y \n",
    "print(\"Sum: \", sum) "
   ]
  },
  {
   "cell_type": "code",
   "execution_count": 45,
   "id": "e1fd39d8-7f98-40b4-ba7d-3a71fa1a0724",
   "metadata": {},
   "outputs": [
    {
     "name": "stdout",
     "output_type": "stream",
     "text": [
      "Sum:  50\n"
     ]
    }
   ],
   "source": [
    "x = 20\n",
    "y = 30\n",
    "sum = x + y \n",
    "print(\"Sum: \", sum) "
   ]
  },
  {
   "cell_type": "code",
   "execution_count": 46,
   "id": "c2d716ec-da72-47fe-9960-1943bcc1340e",
   "metadata": {},
   "outputs": [
    {
     "name": "stdout",
     "output_type": "stream",
     "text": [
      "Sum:  50\n"
     ]
    }
   ],
   "source": [
    "x = 20\n",
    "y = 30\n",
    "sum = x + y \n",
    "print(\"Sum: \", sum) "
   ]
  },
  {
   "cell_type": "code",
   "execution_count": 47,
   "id": "a757a9a4-ebbc-4bb8-9b62-9ab480d6cfd4",
   "metadata": {},
   "outputs": [
    {
     "name": "stdout",
     "output_type": "stream",
     "text": [
      "Sum:  50\n"
     ]
    }
   ],
   "source": [
    "x = 20\n",
    "y = 30\n",
    "sum = x + y \n",
    "print(\"Sum: \", sum) "
   ]
  },
  {
   "cell_type": "code",
   "execution_count": 48,
   "id": "b6503062-def6-4aa3-8e5e-2a733459d578",
   "metadata": {},
   "outputs": [
    {
     "name": "stdout",
     "output_type": "stream",
     "text": [
      "Sum:  50\n"
     ]
    }
   ],
   "source": [
    "x = 20\n",
    "y = 30\n",
    "sum = x + y \n",
    "print(\"Sum: \", sum) "
   ]
  },
  {
   "cell_type": "code",
   "execution_count": 49,
   "id": "dd45c15a-0a8d-488b-86c3-663ded6ed901",
   "metadata": {},
   "outputs": [
    {
     "name": "stdout",
     "output_type": "stream",
     "text": [
      "Sum:  50\n"
     ]
    }
   ],
   "source": [
    "x = 20\n",
    "y = 30\n",
    "sum = x + y \n",
    "print(\"Sum: \", sum) "
   ]
  },
  {
   "cell_type": "code",
   "execution_count": 50,
   "id": "d9c35c62-8602-4eae-b0ab-7dc9369fa7ca",
   "metadata": {},
   "outputs": [
    {
     "name": "stdout",
     "output_type": "stream",
     "text": [
      "Sum:  50\n"
     ]
    }
   ],
   "source": [
    "x = 20\n",
    "y = 30\n",
    "sum = x + y \n",
    "print(\"Sum: \", sum) "
   ]
  },
  {
   "cell_type": "code",
   "execution_count": 51,
   "id": "c41844c6-7ee4-466c-9db7-1256289b66c9",
   "metadata": {},
   "outputs": [
    {
     "name": "stdout",
     "output_type": "stream",
     "text": [
      "Sum:  50\n"
     ]
    }
   ],
   "source": [
    "x = 20\n",
    "y = 30\n",
    "sum = x + y \n",
    "print(\"Sum: \", sum) "
   ]
  },
  {
   "cell_type": "code",
   "execution_count": 52,
   "id": "f4128bfd-d242-4be9-8237-8e3802d23b53",
   "metadata": {},
   "outputs": [
    {
     "name": "stdout",
     "output_type": "stream",
     "text": [
      "Sum:  50\n"
     ]
    }
   ],
   "source": [
    "x = 20\n",
    "y = 30\n",
    "sum = x + y \n",
    "print(\"Sum: \", sum) "
   ]
  },
  {
   "cell_type": "code",
   "execution_count": 53,
   "id": "db18d659-b0ab-4b8e-9a10-0719e93d816c",
   "metadata": {},
   "outputs": [
    {
     "name": "stdout",
     "output_type": "stream",
     "text": [
      "Sum:  50\n"
     ]
    }
   ],
   "source": [
    "x = 20\n",
    "y = 30\n",
    "sum = x + y \n",
    "print(\"Sum: \", sum) "
   ]
  },
  {
   "cell_type": "code",
   "execution_count": 54,
   "id": "a1618fed-379d-43d9-a3dd-db4a9bbce79e",
   "metadata": {},
   "outputs": [
    {
     "name": "stdout",
     "output_type": "stream",
     "text": [
      "Sum:  50\n"
     ]
    }
   ],
   "source": [
    "x = 20\n",
    "y = 30\n",
    "sum = x + y \n",
    "print(\"Sum: \", sum) "
   ]
  },
  {
   "cell_type": "code",
   "execution_count": 55,
   "id": "7b68a0ad-cb25-4aa5-bb95-e5f396fe0f8b",
   "metadata": {},
   "outputs": [
    {
     "name": "stdout",
     "output_type": "stream",
     "text": [
      "Sum:  50\n"
     ]
    }
   ],
   "source": [
    "x = 20\n",
    "y = 30\n",
    "sum = x + y \n",
    "print(\"Sum: \", sum) "
   ]
  },
  {
   "cell_type": "code",
   "execution_count": 56,
   "id": "70342ff8-7ddf-4e30-ad2b-e9385e3ac3e8",
   "metadata": {},
   "outputs": [
    {
     "name": "stdout",
     "output_type": "stream",
     "text": [
      "Sum:  50\n"
     ]
    }
   ],
   "source": [
    "x = 20\n",
    "y = 30\n",
    "sum = x + y \n",
    "print(\"Sum: \", sum) "
   ]
  },
  {
   "cell_type": "code",
   "execution_count": 57,
   "id": "49e282e3-800b-44a3-aa25-50b14d3a5d02",
   "metadata": {},
   "outputs": [
    {
     "name": "stdout",
     "output_type": "stream",
     "text": [
      "Sum:  50\n"
     ]
    }
   ],
   "source": [
    "x = 20\n",
    "y = 30\n",
    "sum = x + y \n",
    "print(\"Sum: \", sum) "
   ]
  },
  {
   "cell_type": "code",
   "execution_count": 58,
   "id": "50e47ddd-5cb2-4cab-a75c-fd8649bcbfe7",
   "metadata": {},
   "outputs": [
    {
     "name": "stdout",
     "output_type": "stream",
     "text": [
      "Sum:  50\n"
     ]
    }
   ],
   "source": [
    "x = 20\n",
    "y = 30\n",
    "sum = x + y \n",
    "print(\"Sum: \", sum) "
   ]
  },
  {
   "cell_type": "code",
   "execution_count": 59,
   "id": "b1f8fa92-bf85-4d8c-b666-869d8ef57567",
   "metadata": {},
   "outputs": [
    {
     "name": "stdout",
     "output_type": "stream",
     "text": [
      "Sum:  50\n"
     ]
    }
   ],
   "source": [
    "x = 20\n",
    "y = 30\n",
    "sum = x + y \n",
    "print(\"Sum: \", sum) "
   ]
  },
  {
   "cell_type": "code",
   "execution_count": 60,
   "id": "1148ea49-e485-4902-85a8-36dbb26fde0e",
   "metadata": {},
   "outputs": [
    {
     "name": "stdout",
     "output_type": "stream",
     "text": [
      "Sum:  50\n"
     ]
    }
   ],
   "source": [
    "x = 20\n",
    "y = 30\n",
    "sum = x + y \n",
    "print(\"Sum: \", sum) "
   ]
  },
  {
   "cell_type": "code",
   "execution_count": 61,
   "id": "d2a2a4fd-8a8d-4dea-8558-af6257cab0be",
   "metadata": {},
   "outputs": [
    {
     "name": "stdout",
     "output_type": "stream",
     "text": [
      "Sum:  50\n"
     ]
    }
   ],
   "source": [
    "x = 20\n",
    "y = 30\n",
    "sum = x + y \n",
    "print(\"Sum: \", sum) "
   ]
  },
  {
   "cell_type": "code",
   "execution_count": 62,
   "id": "3bd1db7f-f629-4058-b5ac-35d71d6cdb38",
   "metadata": {},
   "outputs": [
    {
     "name": "stdout",
     "output_type": "stream",
     "text": [
      "Sum:  50\n"
     ]
    }
   ],
   "source": [
    "x = 20\n",
    "y = 30\n",
    "sum = x + y \n",
    "print(\"Sum: \", sum) "
   ]
  },
  {
   "cell_type": "code",
   "execution_count": 63,
   "id": "257b5197-d3c0-4c45-9601-5629d2fabc81",
   "metadata": {},
   "outputs": [
    {
     "name": "stdout",
     "output_type": "stream",
     "text": [
      "Sum:  50\n"
     ]
    }
   ],
   "source": [
    "x = 20\n",
    "y = 30\n",
    "sum = x + y \n",
    "print(\"Sum: \", sum) "
   ]
  },
  {
   "cell_type": "code",
   "execution_count": 64,
   "id": "5a674f6b-2a5c-48da-90dd-50ce2f2845d8",
   "metadata": {},
   "outputs": [
    {
     "name": "stdout",
     "output_type": "stream",
     "text": [
      "Sum:  50\n"
     ]
    }
   ],
   "source": [
    "x = 20\n",
    "y = 30\n",
    "sum = x + y \n",
    "print(\"Sum: \", sum) "
   ]
  },
  {
   "cell_type": "code",
   "execution_count": 65,
   "id": "e50473d7-888f-4281-8c42-697b3071dd03",
   "metadata": {},
   "outputs": [
    {
     "name": "stdout",
     "output_type": "stream",
     "text": [
      "Sum:  50\n"
     ]
    }
   ],
   "source": [
    "x = 20\n",
    "y = 30\n",
    "sum = x + y \n",
    "print(\"Sum: \", sum) "
   ]
  },
  {
   "cell_type": "code",
   "execution_count": null,
   "id": "ec2fac33-1544-4b30-b072-c491553e94b0",
   "metadata": {},
   "outputs": [],
   "source": []
  },
  {
   "cell_type": "code",
   "execution_count": null,
   "id": "817b9ee4-8762-43da-8ae3-2b0a47f976a9",
   "metadata": {},
   "outputs": [],
   "source": []
  },
  {
   "cell_type": "code",
   "execution_count": null,
   "id": "9bd34d8f-4ed9-4a4d-96f6-ca4827c7b64f",
   "metadata": {},
   "outputs": [],
   "source": []
  },
  {
   "cell_type": "code",
   "execution_count": null,
   "id": "d229ccb8-aa47-4c70-a0a3-98733634630d",
   "metadata": {},
   "outputs": [],
   "source": []
  }
 ],
 "metadata": {
  "kernelspec": {
   "display_name": "Python 3 (ipykernel)",
   "language": "python",
   "name": "python3"
  },
  "language_info": {
   "codemirror_mode": {
    "name": "ipython",
    "version": 3
   },
   "file_extension": ".py",
   "mimetype": "text/x-python",
   "name": "python",
   "nbconvert_exporter": "python",
   "pygments_lexer": "ipython3",
   "version": "3.12.11"
  }
 },
 "nbformat": 4,
 "nbformat_minor": 5
}
