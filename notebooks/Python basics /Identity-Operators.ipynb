{
 "cells": [
  {
   "cell_type": "code",
   "execution_count": 1,
   "id": "dd7baaec-0769-45d2-8b37-5a3fbe51468a",
   "metadata": {},
   "outputs": [],
   "source": [
    "#  Identity Is operator (is)"
   ]
  },
  {
   "cell_type": "code",
   "execution_count": 2,
   "id": "6e37e42e-8970-4442-be1d-cb57dd0082fb",
   "metadata": {},
   "outputs": [],
   "source": [
    "x = 20\n",
    "y = 20"
   ]
  },
  {
   "cell_type": "code",
   "execution_count": 3,
   "id": "4dfbeb6a-0841-48e6-87c1-c103ef091aef",
   "metadata": {},
   "outputs": [],
   "source": [
    "result = x is y"
   ]
  },
  {
   "cell_type": "code",
   "execution_count": 4,
   "id": "be6d2f41-a454-4112-b67e-455d0ff947c4",
   "metadata": {},
   "outputs": [
    {
     "name": "stdout",
     "output_type": "stream",
     "text": [
      "True\n"
     ]
    }
   ],
   "source": [
    "print(result)"
   ]
  },
  {
   "cell_type": "code",
   "execution_count": 5,
   "id": "5983c152-f0db-422c-9a5a-60e15badc53e",
   "metadata": {},
   "outputs": [],
   "source": [
    "str1 = \"Python\"\n",
    "str2 = \"Python\""
   ]
  },
  {
   "cell_type": "code",
   "execution_count": 6,
   "id": "76818521-4419-4dce-b0ff-404ba2a5113e",
   "metadata": {},
   "outputs": [],
   "source": [
    "result = str1 is str2"
   ]
  },
  {
   "cell_type": "code",
   "execution_count": 7,
   "id": "2a3470ae-62ee-47d4-841f-3196cbf7475c",
   "metadata": {},
   "outputs": [
    {
     "name": "stdout",
     "output_type": "stream",
     "text": [
      "True\n"
     ]
    }
   ],
   "source": [
    "print(result)"
   ]
  },
  {
   "cell_type": "code",
   "execution_count": 8,
   "id": "827a508b-7b0b-4a22-a211-c43654650cf7",
   "metadata": {},
   "outputs": [],
   "source": [
    "name1 = \"John\"\n",
    "name2 = \"Jack\""
   ]
  },
  {
   "cell_type": "code",
   "execution_count": 9,
   "id": "5a79e852-02cb-426c-b424-fba139965a4b",
   "metadata": {},
   "outputs": [],
   "source": [
    "result = name1 is name2"
   ]
  },
  {
   "cell_type": "code",
   "execution_count": 10,
   "id": "7a54c325-6b9a-46ec-bd66-5139b0e20e03",
   "metadata": {},
   "outputs": [
    {
     "name": "stdout",
     "output_type": "stream",
     "text": [
      "False\n"
     ]
    }
   ],
   "source": [
    "print(result)"
   ]
  },
  {
   "cell_type": "code",
   "execution_count": 11,
   "id": "ba330e98-930a-4bda-994b-dad911634cd9",
   "metadata": {},
   "outputs": [],
   "source": [
    "a = True\n",
    "b = 1"
   ]
  },
  {
   "cell_type": "code",
   "execution_count": 12,
   "id": "0df2dd48-129f-4601-b939-8d7900fd8154",
   "metadata": {},
   "outputs": [],
   "source": [
    "result = a is b"
   ]
  },
  {
   "cell_type": "code",
   "execution_count": 13,
   "id": "09963c3a-3db8-47d9-b4e0-df856e43fdc3",
   "metadata": {},
   "outputs": [
    {
     "name": "stdout",
     "output_type": "stream",
     "text": [
      "False\n"
     ]
    }
   ],
   "source": [
    "print(result)"
   ]
  },
  {
   "cell_type": "code",
   "execution_count": 14,
   "id": "cef69da7-f553-4744-a108-ab5447ac77f2",
   "metadata": {},
   "outputs": [],
   "source": [
    "p = \"20\"\n",
    "q = 20"
   ]
  },
  {
   "cell_type": "code",
   "execution_count": 15,
   "id": "b01ff923-8d10-419a-b136-38ef6bd3812a",
   "metadata": {},
   "outputs": [],
   "source": [
    "result = p is q"
   ]
  },
  {
   "cell_type": "code",
   "execution_count": 16,
   "id": "ef12fec7-a944-40c5-83aa-e92f01766b6c",
   "metadata": {},
   "outputs": [
    {
     "name": "stdout",
     "output_type": "stream",
     "text": [
      "False\n"
     ]
    }
   ],
   "source": [
    "print(result)"
   ]
  },
  {
   "cell_type": "code",
   "execution_count": 17,
   "id": "c48190b9-0afc-4e1f-b5da-0cbaec41c08b",
   "metadata": {},
   "outputs": [],
   "source": [
    "list1 = [10, 20.5, 30, 'text']\n",
    "list2 = [10, 20.5, 30, 'text']"
   ]
  },
  {
   "cell_type": "code",
   "execution_count": 18,
   "id": "7f85bab6-98e6-41ed-be69-0bb5e6c32443",
   "metadata": {},
   "outputs": [],
   "source": [
    "result = list1 is list2"
   ]
  },
  {
   "cell_type": "code",
   "execution_count": 19,
   "id": "256c2b1d-e4a0-47d6-906f-5061aed12f9c",
   "metadata": {},
   "outputs": [
    {
     "name": "stdout",
     "output_type": "stream",
     "text": [
      "False\n"
     ]
    }
   ],
   "source": [
    "print(result)"
   ]
  },
  {
   "cell_type": "code",
   "execution_count": null,
   "id": "0a9c64a0-a655-4803-b570-ec30e0948a64",
   "metadata": {},
   "outputs": [],
   "source": []
  },
  {
   "cell_type": "code",
   "execution_count": 20,
   "id": "c5680459-b695-4ef5-b4b5-3c991906d918",
   "metadata": {},
   "outputs": [],
   "source": [
    "dict1 = {\n",
    "    'name': 'Jack',\n",
    "    'age': 22,\n",
    "}\n",
    "dict2 = {\n",
    "    'name': 'Jack',\n",
    "    'age': 22,\n",
    "}"
   ]
  },
  {
   "cell_type": "code",
   "execution_count": 21,
   "id": "3b9338e5-3a67-48ef-a980-d108d1fc2ddd",
   "metadata": {},
   "outputs": [],
   "source": [
    "result = dict1 is dict2"
   ]
  },
  {
   "cell_type": "code",
   "execution_count": 22,
   "id": "47d631a5-a16d-4cd8-a9db-215ce4ca29fc",
   "metadata": {},
   "outputs": [
    {
     "name": "stdout",
     "output_type": "stream",
     "text": [
      "False\n"
     ]
    }
   ],
   "source": [
    "print(result)"
   ]
  },
  {
   "cell_type": "code",
   "execution_count": 23,
   "id": "f75cdba7-e6fc-4435-a6f7-df4d6539c7cd",
   "metadata": {},
   "outputs": [],
   "source": [
    "tuple1 = (1, 2.5, 3, 'Technology')\n",
    "tuple2 = (1, 2.5, 3, 'Technology')"
   ]
  },
  {
   "cell_type": "code",
   "execution_count": 24,
   "id": "d4f493b6-3741-4dfc-a403-858cb9c072bf",
   "metadata": {},
   "outputs": [],
   "source": [
    "result = tuple1 is tuple2"
   ]
  },
  {
   "cell_type": "code",
   "execution_count": 25,
   "id": "de387baa-3a59-4cdf-9fec-1bae5d71db0b",
   "metadata": {},
   "outputs": [
    {
     "name": "stdout",
     "output_type": "stream",
     "text": [
      "False\n"
     ]
    }
   ],
   "source": [
    "print(result)"
   ]
  },
  {
   "cell_type": "code",
   "execution_count": 26,
   "id": "8dc1bd7d-9dfd-4296-bed8-b36133ef2ea5",
   "metadata": {},
   "outputs": [],
   "source": [
    "# Identity Is not operator (is not)"
   ]
  },
  {
   "cell_type": "code",
   "execution_count": 27,
   "id": "25a6be9a-f65d-45d8-aadf-073a6ba44fbe",
   "metadata": {},
   "outputs": [],
   "source": [
    "num1 = 30\n",
    "num2 = 40"
   ]
  },
  {
   "cell_type": "code",
   "execution_count": 28,
   "id": "ea922eb0-1aca-432a-a1bc-e1d1f3ab9dea",
   "metadata": {},
   "outputs": [
    {
     "name": "stdout",
     "output_type": "stream",
     "text": [
      "True\n"
     ]
    }
   ],
   "source": [
    "print(num1 is not num2)"
   ]
  },
  {
   "cell_type": "code",
   "execution_count": 29,
   "id": "95c15df0-10f3-4c24-88a9-a3b9abf7b1d2",
   "metadata": {},
   "outputs": [],
   "source": [
    "num2 = 30"
   ]
  },
  {
   "cell_type": "code",
   "execution_count": 30,
   "id": "56e74cfe-95ba-4d1c-a9da-a83e46223bdd",
   "metadata": {},
   "outputs": [
    {
     "name": "stdout",
     "output_type": "stream",
     "text": [
      "False\n"
     ]
    }
   ],
   "source": [
    "print(num1 is not num2)"
   ]
  },
  {
   "cell_type": "code",
   "execution_count": 31,
   "id": "60301fc3-8632-4eae-a797-743d8f32af78",
   "metadata": {},
   "outputs": [],
   "source": [
    "str1 = 'Python'\n",
    "str2 = 'Program'"
   ]
  },
  {
   "cell_type": "code",
   "execution_count": 32,
   "id": "cf991442-fc76-42bb-acdd-de1f1eddadbf",
   "metadata": {},
   "outputs": [
    {
     "name": "stdout",
     "output_type": "stream",
     "text": [
      "True\n"
     ]
    }
   ],
   "source": [
    "print(str1 is not str2)"
   ]
  },
  {
   "cell_type": "code",
   "execution_count": 33,
   "id": "6b60ae6b-81fe-4e86-88b1-082139f72115",
   "metadata": {},
   "outputs": [],
   "source": [
    "list1 = [2, 4, 6, 8, 10]\n",
    "list2 = [12, 14, 16]"
   ]
  },
  {
   "cell_type": "code",
   "execution_count": 34,
   "id": "d3bd3b97-3c70-4060-b804-bca78587d273",
   "metadata": {},
   "outputs": [
    {
     "name": "stdout",
     "output_type": "stream",
     "text": [
      "True\n"
     ]
    }
   ],
   "source": [
    "print(list1 is not list2)"
   ]
  },
  {
   "cell_type": "code",
   "execution_count": 35,
   "id": "f07e5154-8e1f-44df-916c-069c3b40cf05",
   "metadata": {},
   "outputs": [],
   "source": [
    "num1 = 20\n",
    "num2 = 20"
   ]
  },
  {
   "cell_type": "code",
   "execution_count": 36,
   "id": "38813f53-cbca-4187-8ac0-a5e39667c62e",
   "metadata": {},
   "outputs": [
    {
     "name": "stdout",
     "output_type": "stream",
     "text": [
      "num1 =  20   id(num1):  9754472\n"
     ]
    }
   ],
   "source": [
    "print(\"num1 = \", num1, \" \", \"id(num1): \", id(num1))"
   ]
  },
  {
   "cell_type": "code",
   "execution_count": 37,
   "id": "dd842b2a-8b53-4bbe-8840-07085e83cc5a",
   "metadata": {},
   "outputs": [
    {
     "name": "stdout",
     "output_type": "stream",
     "text": [
      "num2 =  20   id(num2):  9754472\n"
     ]
    }
   ],
   "source": [
    "print(\"num2 = \", num2, \" \", \"id(num2): \", id(num2))"
   ]
  },
  {
   "cell_type": "code",
   "execution_count": 38,
   "id": "affb0c2f-774a-47a6-b71a-c5b6632e4711",
   "metadata": {},
   "outputs": [
    {
     "name": "stdout",
     "output_type": "stream",
     "text": [
      "num1 and num2 have the same identity\n",
      "num1 and num2 have the same identity\n"
     ]
    }
   ],
   "source": [
    "if(num1 is num2):\n",
    "    print('num1 and num2 have the same identity')\n",
    "else:\n",
    "    print('num1 and num2 do not have the same identity')\n",
    "\n",
    "if(id(num1) == id(num2)):\n",
    "    print('num1 and num2 have the same identity')\n",
    "else:\n",
    "    print('num1 and num2 do not have the same identity')"
   ]
  },
  {
   "cell_type": "code",
   "execution_count": 39,
   "id": "b0ffb6b2-14bc-4e60-a56c-c819e198237c",
   "metadata": {},
   "outputs": [
    {
     "name": "stdout",
     "output_type": "stream",
     "text": [
      "num1 =  20   id(num1):  9754472\n",
      "num2 =  40   id(num2):  9755112\n",
      "num1 and num2 do not have the same identity\n"
     ]
    }
   ],
   "source": [
    "num2 = 40\n",
    "print(\"num1 = \", num1, \" \", \"id(num1): \", id(num1))\n",
    "print(\"num2 = \", num2, \" \", \"id(num2): \", id(num2))\n",
    "\n",
    "if(num1 is not num2):\n",
    "    print('num1 and num2 do not have the same identity')\n",
    "else:\n",
    "    print('num1 and num2 have the same identity')"
   ]
  },
  {
   "cell_type": "code",
   "execution_count": null,
   "id": "033ccbb3-f8a3-49dc-b59a-d11695710f0e",
   "metadata": {},
   "outputs": [],
   "source": []
  }
 ],
 "metadata": {
  "kernelspec": {
   "display_name": "Python 3 (ipykernel)",
   "language": "python",
   "name": "python3"
  },
  "language_info": {
   "codemirror_mode": {
    "name": "ipython",
    "version": 3
   },
   "file_extension": ".py",
   "mimetype": "text/x-python",
   "name": "python",
   "nbconvert_exporter": "python",
   "pygments_lexer": "ipython3",
   "version": "3.12.11"
  }
 },
 "nbformat": 4,
 "nbformat_minor": 5
}
