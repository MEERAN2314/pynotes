{
 "cells": [
  {
   "cell_type": "code",
   "execution_count": 1,
   "id": "bc2eea28-023f-44ed-8770-de775a378eec",
   "metadata": {},
   "outputs": [],
   "source": [
    "#  Collection literals in Python"
   ]
  },
  {
   "cell_type": "code",
   "execution_count": 2,
   "id": "a8be9e27-64c4-458e-8935-8de130892b42",
   "metadata": {},
   "outputs": [],
   "source": [
    "#  List literals"
   ]
  },
  {
   "cell_type": "code",
   "execution_count": 3,
   "id": "2a8d5b27-b8a4-46be-a42c-2b8ef8a540dc",
   "metadata": {},
   "outputs": [],
   "source": [
    "address = ['Scientech Easy', 'Joraphatak Road', 'Dhanbad']"
   ]
  },
  {
   "cell_type": "code",
   "execution_count": 4,
   "id": "8941bfb2-4cea-4a9d-a92d-b1cb15ddd07f",
   "metadata": {},
   "outputs": [
    {
     "name": "stdout",
     "output_type": "stream",
     "text": [
      "['Scientech Easy', 'Joraphatak Road', 'Dhanbad']\n"
     ]
    }
   ],
   "source": [
    "print(address)"
   ]
  },
  {
   "cell_type": "code",
   "execution_count": 5,
   "id": "56414548-710d-46f3-b8ce-dc93b4fdf407",
   "metadata": {},
   "outputs": [],
   "source": [
    "num = [1, 2, 3, 4, 5, 6, 7, 8, 9, 10]"
   ]
  },
  {
   "cell_type": "code",
   "execution_count": 6,
   "id": "b1ceeced-6632-4833-bcd5-4aaf7b46effa",
   "metadata": {},
   "outputs": [
    {
     "name": "stdout",
     "output_type": "stream",
     "text": [
      "[1, 2, 3, 4, 5, 6, 7, 8, 9, 10]\n"
     ]
    }
   ],
   "source": [
    "print(num)"
   ]
  },
  {
   "cell_type": "code",
   "execution_count": 7,
   "id": "c11818df-a3ba-4191-8f97-d7554fe79a7f",
   "metadata": {},
   "outputs": [],
   "source": [
    "mix=[1,1,2,3,'jerin',0.8,-1]"
   ]
  },
  {
   "cell_type": "code",
   "execution_count": 8,
   "id": "053fb864-493b-4d41-ac48-a0278836f69e",
   "metadata": {},
   "outputs": [
    {
     "name": "stdout",
     "output_type": "stream",
     "text": [
      "[1, 1, 2, 3, 'jerin', 0.8, -1]\n"
     ]
    }
   ],
   "source": [
    "print(mix)"
   ]
  },
  {
   "cell_type": "code",
   "execution_count": 9,
   "id": "fe597372-87c7-4ae1-bfb4-b118810a1868",
   "metadata": {},
   "outputs": [],
   "source": [
    "#  Dictionary Literals"
   ]
  },
  {
   "cell_type": "code",
   "execution_count": 10,
   "id": "6e0e7711-01e1-4646-9f6a-a141eacd4863",
   "metadata": {},
   "outputs": [],
   "source": [
    "fruits_dict = {\n",
    "    'a': 'apple',\n",
    "    'o': 'orange',\n",
    "    'b': 'banana'\n",
    "}"
   ]
  },
  {
   "cell_type": "code",
   "execution_count": 11,
   "id": "d0caf388-2620-4d05-a3f2-94a4e7f5f5f8",
   "metadata": {},
   "outputs": [
    {
     "name": "stdout",
     "output_type": "stream",
     "text": [
      "{'a': 'apple', 'o': 'orange', 'b': 'banana'}\n"
     ]
    }
   ],
   "source": [
    "print(fruits_dict)"
   ]
  },
  {
   "cell_type": "code",
   "execution_count": 12,
   "id": "c9b4f1f1-2068-4079-a4ec-10d4d2d2c71c",
   "metadata": {},
   "outputs": [],
   "source": [
    "info_dict = {\n",
    "    \"name\":\"jerin\",\n",
    "    \"age\":23,\n",
    "    \"studies\":\"python\"\n",
    "}"
   ]
  },
  {
   "cell_type": "code",
   "execution_count": 13,
   "id": "52949557-9e1f-4da1-ad72-2f031b5cecbc",
   "metadata": {},
   "outputs": [
    {
     "name": "stdout",
     "output_type": "stream",
     "text": [
      "{'name': 'jerin', 'age': 23, 'studies': 'python'}\n"
     ]
    }
   ],
   "source": [
    "print(info_dict)"
   ]
  },
  {
   "cell_type": "code",
   "execution_count": 14,
   "id": "196ac173-358e-4a33-afc2-a110c3859e66",
   "metadata": {},
   "outputs": [],
   "source": [
    "#  Tuple Literals"
   ]
  },
  {
   "cell_type": "code",
   "execution_count": 15,
   "id": "e13442df-4245-433d-87a9-6468d7a01bb4",
   "metadata": {},
   "outputs": [],
   "source": [
    "even_numbers = (2, 4, 6, 8, 10, 12)"
   ]
  },
  {
   "cell_type": "code",
   "execution_count": 16,
   "id": "9a73f6c7-a77d-4f65-94d3-072fd5b75825",
   "metadata": {},
   "outputs": [],
   "source": [
    "vowels = ('a','e','i','o','u')"
   ]
  },
  {
   "cell_type": "code",
   "execution_count": 17,
   "id": "5b9e75ac-fe84-4638-a7f1-288355a1ec31",
   "metadata": {},
   "outputs": [],
   "source": [
    "direction = ('North', 'South', 'East', 'West')"
   ]
  },
  {
   "cell_type": "code",
   "execution_count": 18,
   "id": "e5dca1ee-118c-4ef1-82be-dc44610e76e6",
   "metadata": {},
   "outputs": [
    {
     "name": "stdout",
     "output_type": "stream",
     "text": [
      "(2, 4, 6, 8, 10, 12)\n"
     ]
    }
   ],
   "source": [
    "print(even_numbers)"
   ]
  },
  {
   "cell_type": "code",
   "execution_count": null,
   "id": "084fbcef-dce9-478a-b52d-90b7e1dd16dd",
   "metadata": {},
   "outputs": [],
   "source": []
  },
  {
   "cell_type": "code",
   "execution_count": 19,
   "id": "1d88ee6f-9223-4269-a8a2-9b2c1584dbe4",
   "metadata": {},
   "outputs": [
    {
     "name": "stdout",
     "output_type": "stream",
     "text": [
      "('a', 'e', 'i', 'o', 'u')\n"
     ]
    }
   ],
   "source": [
    "print(vowels)"
   ]
  },
  {
   "cell_type": "code",
   "execution_count": 20,
   "id": "75089ee2-d629-436e-8d53-813196dee372",
   "metadata": {},
   "outputs": [
    {
     "name": "stdout",
     "output_type": "stream",
     "text": [
      "('North', 'South', 'East', 'West')\n"
     ]
    }
   ],
   "source": [
    "print(direction)"
   ]
  },
  {
   "cell_type": "code",
   "execution_count": 21,
   "id": "eaf0b87e-9474-4996-a143-ee6e248d7f5a",
   "metadata": {},
   "outputs": [
    {
     "name": "stdout",
     "output_type": "stream",
     "text": [
      "(2, 4, 6, 8, 10, 12)\n",
      "('a', 'e', 'i', 'o', 'u')\n",
      "('North', 'South', 'East', 'West')\n"
     ]
    }
   ],
   "source": [
    "print(even_numbers)\n",
    "print(vowels)\n",
    "print(direction)"
   ]
  },
  {
   "cell_type": "code",
   "execution_count": 22,
   "id": "1e13da39-8e5e-4627-9415-9da7de15ae93",
   "metadata": {},
   "outputs": [
    {
     "name": "stdout",
     "output_type": "stream",
     "text": [
      "<class 'tuple'>\n",
      "<class 'tuple'>\n",
      "<class 'tuple'>\n"
     ]
    }
   ],
   "source": [
    "print(type(even_numbers))\n",
    "print(type(vowels))\n",
    "print(type(direction))"
   ]
  },
  {
   "cell_type": "code",
   "execution_count": 23,
   "id": "e5043857-37f6-4eb8-802e-dab1f3255843",
   "metadata": {},
   "outputs": [
    {
     "name": "stdout",
     "output_type": "stream",
     "text": [
      "<class 'tuple'>\n"
     ]
    }
   ],
   "source": [
    "print(type(even_numbers))"
   ]
  },
  {
   "cell_type": "code",
   "execution_count": 24,
   "id": "8f89ddbc-64f3-496a-a980-b177c66ccb3c",
   "metadata": {},
   "outputs": [
    {
     "name": "stdout",
     "output_type": "stream",
     "text": [
      "<class 'tuple'>\n"
     ]
    }
   ],
   "source": [
    "print(type(vowels))"
   ]
  },
  {
   "cell_type": "code",
   "execution_count": 25,
   "id": "491f90e4-336e-4e6f-991f-37fa1d971f3d",
   "metadata": {},
   "outputs": [
    {
     "name": "stdout",
     "output_type": "stream",
     "text": [
      "<class 'tuple'>\n"
     ]
    }
   ],
   "source": [
    "print(type(direction))"
   ]
  },
  {
   "cell_type": "code",
   "execution_count": 26,
   "id": "520bc965-c241-4af6-a7ed-27af141aaa77",
   "metadata": {},
   "outputs": [],
   "source": [
    "# Set Literals"
   ]
  },
  {
   "cell_type": "code",
   "execution_count": 27,
   "id": "187f68f9-eb8b-492b-b456-8dd43bcd5303",
   "metadata": {},
   "outputs": [],
   "source": [
    "fruits = {'Apple', 'Mango', 'Banana', 'Orange', 'Grape'}\n"
   ]
  },
  {
   "cell_type": "code",
   "execution_count": 28,
   "id": "267e49b0-69ba-424a-9d7b-25d23635cd1a",
   "metadata": {},
   "outputs": [
    {
     "name": "stdout",
     "output_type": "stream",
     "text": [
      "{'Banana', 'Grape', 'Orange', 'Apple', 'Mango'}\n"
     ]
    }
   ],
   "source": [
    "print(fruits)"
   ]
  },
  {
   "cell_type": "code",
   "execution_count": 29,
   "id": "68748d70-26d8-4a63-aeae-90a593559ee3",
   "metadata": {},
   "outputs": [],
   "source": [
    "name = {\"jerin\",\"jerin\",\"anbu\",\"jeno\",\"ram\"}"
   ]
  },
  {
   "cell_type": "code",
   "execution_count": 30,
   "id": "aa461231-4f91-4e3a-b60a-a48d88f0701f",
   "metadata": {},
   "outputs": [
    {
     "name": "stdout",
     "output_type": "stream",
     "text": [
      "{'jeno', 'jerin', 'ram', 'anbu'}\n"
     ]
    }
   ],
   "source": [
    "print(name)"
   ]
  },
  {
   "cell_type": "code",
   "execution_count": 31,
   "id": "c57f695c-4279-40f0-9a3a-649d07d32118",
   "metadata": {},
   "outputs": [
    {
     "name": "stdout",
     "output_type": "stream",
     "text": [
      "{'jeno', 'jerin', 'ram', 'anbu'}\n"
     ]
    }
   ],
   "source": [
    "print(name)\n"
   ]
  },
  {
   "cell_type": "code",
   "execution_count": null,
   "id": "730b5661-004e-4ea7-b7f3-7f43d51b0ce6",
   "metadata": {},
   "outputs": [],
   "source": []
  }
 ],
 "metadata": {
  "kernelspec": {
   "display_name": "Python 3 (ipykernel)",
   "language": "python",
   "name": "python3"
  },
  "language_info": {
   "codemirror_mode": {
    "name": "ipython",
    "version": 3
   },
   "file_extension": ".py",
   "mimetype": "text/x-python",
   "name": "python",
   "nbconvert_exporter": "python",
   "pygments_lexer": "ipython3",
   "version": "3.12.11"
  }
 },
 "nbformat": 4,
 "nbformat_minor": 5
}
