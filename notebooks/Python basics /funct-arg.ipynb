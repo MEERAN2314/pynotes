{
 "cells": [
  {
   "cell_type": "code",
   "execution_count": 1,
   "id": "9519a552-fe05-4a00-b22f-036011431eaa",
   "metadata": {},
   "outputs": [],
   "source": [
    "# Default Arguments in Python"
   ]
  },
  {
   "cell_type": "code",
   "execution_count": 2,
   "id": "62451201-05d2-4821-b613-c555295ab3c2",
   "metadata": {},
   "outputs": [
    {
     "ename": "SyntaxError",
     "evalue": "incomplete input (1721933286.py, line 1)",
     "output_type": "error",
     "traceback": [
      "\u001b[0;36m  Cell \u001b[0;32mIn[2], line 1\u001b[0;36m\u001b[0m\n\u001b[0;31m    def studentInfo(name, gender = 'Male'):\u001b[0m\n\u001b[0m                                           ^\u001b[0m\n\u001b[0;31mSyntaxError\u001b[0m\u001b[0;31m:\u001b[0m incomplete input\n"
     ]
    }
   ],
   "source": [
    "def studentInfo(name, gender = 'Male'):"
   ]
  },
  {
   "cell_type": "code",
   "execution_count": 3,
   "id": "e8771e9b-bace-44fb-8bbc-d08b995752b2",
   "metadata": {},
   "outputs": [],
   "source": [
    "def studentInfo(name, gender = 'Male'):\n",
    "# This function displays the student's info passed in the function parameters.\n",
    "    print('Name:',name)\n",
    "    print('Gender:',gender)"
   ]
  },
  {
   "cell_type": "code",
   "execution_count": 4,
   "id": "26948af6-6c33-4b57-8468-c9e1028f1c1f",
   "metadata": {},
   "outputs": [],
   "source": [
    "# Main program."
   ]
  },
  {
   "cell_type": "code",
   "execution_count": 5,
   "id": "278b8550-6903-463e-9870-fac72818bd1c",
   "metadata": {},
   "outputs": [],
   "source": [
    "# Function call 1."
   ]
  },
  {
   "cell_type": "code",
   "execution_count": 6,
   "id": "15e83498-0a08-47b2-a59a-55c65e027b39",
   "metadata": {},
   "outputs": [
    {
     "name": "stdout",
     "output_type": "stream",
     "text": [
      "Name: Deepak\n",
      "Gender: Male\n"
     ]
    }
   ],
   "source": [
    "studentInfo('Deepak')"
   ]
  },
  {
   "cell_type": "code",
   "execution_count": 7,
   "id": "464db4d7-7e99-4dd5-9cfe-817a5f999c57",
   "metadata": {},
   "outputs": [],
   "source": [
    "# Function call 2."
   ]
  },
  {
   "cell_type": "code",
   "execution_count": 8,
   "id": "06b99a56-f4b0-4cb5-a1d0-66a6f3c9503f",
   "metadata": {},
   "outputs": [
    {
     "name": "stdout",
     "output_type": "stream",
     "text": [
      "Name: Tripti\n",
      "Gender: Female\n"
     ]
    }
   ],
   "source": [
    "studentInfo('Tripti', gender = 'Female')"
   ]
  },
  {
   "cell_type": "code",
   "execution_count": 9,
   "id": "7c2f0dab-5c5d-413a-a8a1-9cccce38a6c6",
   "metadata": {},
   "outputs": [],
   "source": [
    "def studentInfo(name, rollNo = 20, branch = 'Electrical'):\n",
    "    print('Name:',name,'Roll no:',rollNo,'Branch:',branch)"
   ]
  },
  {
   "cell_type": "code",
   "execution_count": 10,
   "id": "6c42b1aa-cdd5-405a-845b-be0745921caa",
   "metadata": {},
   "outputs": [],
   "source": [
    "# Main program."
   ]
  },
  {
   "cell_type": "code",
   "execution_count": 11,
   "id": "a5d009ce-a70f-4610-8672-51340d06c0a5",
   "metadata": {},
   "outputs": [],
   "source": [
    "# Function call 1."
   ]
  },
  {
   "cell_type": "code",
   "execution_count": 12,
   "id": "537e3f1c-4676-423a-9d61-c19df3460ef2",
   "metadata": {},
   "outputs": [
    {
     "name": "stdout",
     "output_type": "stream",
     "text": [
      "Name: John Roll no: 20 Branch: Electrical\n"
     ]
    }
   ],
   "source": [
    "studentInfo(name = 'John')"
   ]
  },
  {
   "cell_type": "code",
   "execution_count": 13,
   "id": "08d1c50f-3980-4305-afca-92e6e250088e",
   "metadata": {},
   "outputs": [],
   "source": [
    "# Function call 2."
   ]
  },
  {
   "cell_type": "code",
   "execution_count": 14,
   "id": "ec8d2aae-77e4-4bb9-8447-2aac6a34bb1e",
   "metadata": {},
   "outputs": [
    {
     "name": "stdout",
     "output_type": "stream",
     "text": [
      "Name: Bob Roll no: 10 Branch: Electrical\n"
     ]
    }
   ],
   "source": [
    "studentInfo(name = 'Bob', rollNo = 10)"
   ]
  },
  {
   "cell_type": "code",
   "execution_count": 15,
   "id": "b9de2e72-63c9-4e7a-9cdb-cea9297190cc",
   "metadata": {},
   "outputs": [],
   "source": [
    "# Function call 3."
   ]
  },
  {
   "cell_type": "code",
   "execution_count": 16,
   "id": "23a6cc35-3354-4833-9059-bddc4fe465cf",
   "metadata": {},
   "outputs": [
    {
     "name": "stdout",
     "output_type": "stream",
     "text": [
      "Name: Jenny Roll no: 5 Branch: Computer Science\n"
     ]
    }
   ],
   "source": [
    "studentInfo(name = 'Jenny', rollNo = 5, branch = 'Computer Science')"
   ]
  },
  {
   "cell_type": "code",
   "execution_count": 17,
   "id": "52b26017-8f4b-468d-a435-c71285423556",
   "metadata": {},
   "outputs": [],
   "source": [
    "# Required Arguments in Python"
   ]
  },
  {
   "cell_type": "code",
   "execution_count": 18,
   "id": "eadd7820-ba47-4f51-ae4a-41d0eac4e305",
   "metadata": {},
   "outputs": [],
   "source": [
    "\n",
    "# example error code"
   ]
  },
  {
   "cell_type": "code",
   "execution_count": 19,
   "id": "f66198d6-7c4b-43d4-9317-4b312065f8e0",
   "metadata": {},
   "outputs": [],
   "source": [
    "# Program to find the area and perimeter of rectangle using function required arguments.\n"
   ]
  },
  {
   "cell_type": "code",
   "execution_count": 20,
   "id": "ee44a7d3-2ed6-46aa-8249-7c93c06d8cf6",
   "metadata": {},
   "outputs": [],
   "source": [
    "def rectangle(length, breadth):\n",
    "    areaRec = length * breadth # Area of rectangle.\n",
    "    perRec = 2 * (length + breadth) # Perimeter of rectangle.\n",
    "    print(\"Area of rectangle = \",areaRec)\n",
    "    print(\"Perimeter of rectangle = \",perRec)"
   ]
  },
  {
   "cell_type": "code",
   "execution_count": 21,
   "id": "38f48284-d640-4552-980b-8ceffac45342",
   "metadata": {},
   "outputs": [],
   "source": [
    "# Main program."
   ]
  },
  {
   "cell_type": "code",
   "execution_count": 22,
   "id": "a68a96da-bb1b-421a-9b04-f81641ba3764",
   "metadata": {},
   "outputs": [],
   "source": [
    "def main():\n",
    "    ln = int(input(\"Enter the length of rectangle: \"))\n",
    "    br = int(input(\"Enter the breadth of rectangle: \"))\n",
    "    rectangle(ln) # Intentionaly missing one argument value."
   ]
  },
  {
   "cell_type": "code",
   "execution_count": 23,
   "id": "c9a77653-debd-4238-9364-d68dea05622d",
   "metadata": {},
   "outputs": [
    {
     "name": "stdin",
     "output_type": "stream",
     "text": [
      "Enter the length of rectangle:  43\n",
      "Enter the breadth of rectangle:  43\n"
     ]
    },
    {
     "ename": "TypeError",
     "evalue": "rectangle() missing 1 required positional argument: 'breadth'",
     "output_type": "error",
     "traceback": [
      "\u001b[0;31m---------------------------------------------------------------------------\u001b[0m",
      "\u001b[0;31mTypeError\u001b[0m                                 Traceback (most recent call last)",
      "Cell \u001b[0;32mIn[23], line 1\u001b[0m\n\u001b[0;32m----> 1\u001b[0m \u001b[43mmain\u001b[49m\u001b[43m(\u001b[49m\u001b[43m)\u001b[49m \u001b[38;5;66;03m# function calling.\u001b[39;00m\n",
      "Cell \u001b[0;32mIn[22], line 4\u001b[0m, in \u001b[0;36mmain\u001b[0;34m()\u001b[0m\n\u001b[1;32m      2\u001b[0m ln \u001b[38;5;241m=\u001b[39m \u001b[38;5;28mint\u001b[39m(\u001b[38;5;28minput\u001b[39m(\u001b[38;5;124m\"\u001b[39m\u001b[38;5;124mEnter the length of rectangle: \u001b[39m\u001b[38;5;124m\"\u001b[39m))\n\u001b[1;32m      3\u001b[0m br \u001b[38;5;241m=\u001b[39m \u001b[38;5;28mint\u001b[39m(\u001b[38;5;28minput\u001b[39m(\u001b[38;5;124m\"\u001b[39m\u001b[38;5;124mEnter the breadth of rectangle: \u001b[39m\u001b[38;5;124m\"\u001b[39m))\n\u001b[0;32m----> 4\u001b[0m \u001b[43mrectangle\u001b[49m\u001b[43m(\u001b[49m\u001b[43mln\u001b[49m\u001b[43m)\u001b[49m\n",
      "\u001b[0;31mTypeError\u001b[0m: rectangle() missing 1 required positional argument: 'breadth'"
     ]
    }
   ],
   "source": [
    "main() # function calling."
   ]
  },
  {
   "cell_type": "code",
   "execution_count": 24,
   "id": "54762b70-62b6-419b-93f2-3dfff49365ef",
   "metadata": {},
   "outputs": [],
   "source": [
    "# Keyword Arguments in Python"
   ]
  },
  {
   "cell_type": "code",
   "execution_count": 25,
   "id": "1896db9b-d3a3-4803-b8c7-8620aedbdd6f",
   "metadata": {},
   "outputs": [],
   "source": [
    "# Displaying persons info."
   ]
  },
  {
   "cell_type": "code",
   "execution_count": 26,
   "id": "9498d44d-17f1-4ee1-999a-47d8bcc9a2b0",
   "metadata": {},
   "outputs": [],
   "source": [
    "def display(name, age, gender):\n",
    "    print('Name:',name)\n",
    "    print('Age:',age)\n",
    "    print('Gender:',gender)"
   ]
  },
  {
   "cell_type": "code",
   "execution_count": 27,
   "id": "abcb69f0-1f48-4552-81d7-041a35314f62",
   "metadata": {},
   "outputs": [],
   "source": [
    "def main():\n",
    " # First function call.\n",
    "    display('John', 20, 'M') # function calling from another function.\n",
    " # Second function call.\n",
    "    display('Jenny', 18, 'F')"
   ]
  },
  {
   "cell_type": "code",
   "execution_count": 28,
   "id": "246d6e22-caab-4279-aeee-61c6504e6df3",
   "metadata": {},
   "outputs": [
    {
     "name": "stdout",
     "output_type": "stream",
     "text": [
      "Name: John\n",
      "Age: 20\n",
      "Gender: M\n",
      "Name: Jenny\n",
      "Age: 18\n",
      "Gender: F\n"
     ]
    }
   ],
   "source": [
    "main() # function calling."
   ]
  },
  {
   "cell_type": "code",
   "execution_count": 29,
   "id": "87b903e1-d926-42ad-b8c7-15889c32f55e",
   "metadata": {},
   "outputs": [],
   "source": [
    "# Displaying persons info."
   ]
  },
  {
   "cell_type": "code",
   "execution_count": 30,
   "id": "1080c4e7-e166-47e2-8e0c-68187c5a7b70",
   "metadata": {},
   "outputs": [
    {
     "name": "stdout",
     "output_type": "stream",
     "text": [
      "Name: Herry\n",
      "Age: 20\n",
      "Gender: M\n",
      "Name: Jimmy\n",
      "Age: 18\n",
      "Gender: F\n"
     ]
    }
   ],
   "source": [
    "def display(name, age, gender):\n",
    "    print('Name:',name)\n",
    "    print('Age:',age)\n",
    "    print('Gender:',gender)\n",
    "def main():\n",
    "  # First function call.\n",
    "    display('Herry', age = 20, gender = 'M') # function calling from another function.\n",
    "  # Second function call.\n",
    "    display(age = 18, gender = 'F', name = 'Jimmy')\n",
    "main() # function calling."
   ]
  },
  {
   "cell_type": "code",
   "execution_count": 31,
   "id": "8c66fcde-2475-43ff-acd8-4cf3436cb10b",
   "metadata": {},
   "outputs": [],
   "source": [
    "# Variable length Arguments"
   ]
  },
  {
   "cell_type": "code",
   "execution_count": 32,
   "id": "c0896e10-af75-41b5-8ccd-8e2c7881630a",
   "metadata": {},
   "outputs": [],
   "source": [
    "# args is the name of variable length parameters."
   ]
  },
  {
   "cell_type": "code",
   "execution_count": 33,
   "id": "3d63a710-e279-4582-a6c7-6a29cfd0a1a4",
   "metadata": {},
   "outputs": [],
   "source": [
    "def my_function(*args):\n",
    "    \"function docstring\"\n",
    "    # body of the function\n",
    "    return [expression]"
   ]
  },
  {
   "cell_type": "code",
   "execution_count": 34,
   "id": "2ab01767-797c-4032-92d0-27ad7e2d7459",
   "metadata": {},
   "outputs": [],
   "source": [
    "# Example 1:"
   ]
  },
  {
   "cell_type": "code",
   "execution_count": 35,
   "id": "2b24378d-5400-40c3-83f2-6a3cd75260fa",
   "metadata": {},
   "outputs": [],
   "source": [
    "# Function definition with variable length parameters. \n"
   ]
  },
  {
   "cell_type": "code",
   "execution_count": 36,
   "id": "df6e8363-250b-441d-845c-5f1c4a7ea2b0",
   "metadata": {},
   "outputs": [
    {
     "name": "stdout",
     "output_type": "stream",
     "text": [
      "Calling function with two arguments\n",
      "(10, 20)\n",
      "Calling function with three arguments\n",
      "(10, 20, 30)\n",
      "Calling function with four arguments\n",
      "(20, 30, 40, 50)\n"
     ]
    }
   ],
   "source": [
    "def my_function(*args): # Here, args is name of formal parameter.\n",
    "    print(args)\n",
    "print('Calling function with two arguments')\n",
    "my_function(10, 20)\n",
    "\n",
    "print('Calling function with three arguments')\n",
    "my_function(10, 20, 30)\n",
    "print('Calling function with four arguments')\n",
    "my_function(20, 30, 40, 50)"
   ]
  },
  {
   "cell_type": "code",
   "execution_count": 37,
   "id": "c9877125-7b2f-40be-87b3-988c7747c39d",
   "metadata": {},
   "outputs": [],
   "source": [
    "# Function definition with one formal parameter and variable length parameters.\n"
   ]
  },
  {
   "cell_type": "code",
   "execution_count": 38,
   "id": "a52cc88c-2381-4556-8de9-b7a1936168ce",
   "metadata": {},
   "outputs": [
    {
     "name": "stdout",
     "output_type": "stream",
     "text": [
      "Name of days are:('Sunday', 'Monday', 'Tuesday', 'Wednesday', 'Thursday', 'Friday', 'Saturday')\n"
     ]
    }
   ],
   "source": [
    "def listDay(arg1, *arg2):\n",
    "    print(arg1, arg2, sep=\"\")\n",
    "def main():\n",
    "    listDay('Name of days are:', 'Sunday', 'Monday', 'Tuesday', 'Wednesday', 'Thursday', 'Friday', 'Saturday')\n",
    "main() # function calling."
   ]
  },
  {
   "cell_type": "code",
   "execution_count": 39,
   "id": "d2504b1f-336c-45fc-b6a9-46d99b2bf4ac",
   "metadata": {},
   "outputs": [
    {
     "name": "stdout",
     "output_type": "stream",
     "text": [
      "Name of days are:('Sunday', 'Monday', 'Tuesday', 'Wednesday', 'Thursday', 'Friday', 'Saturday')\n"
     ]
    }
   ],
   "source": [
    "def listDay(arg1, *arg2):\n",
    "    print(arg1, arg2, sep=\"\")\n",
    "def main():\n",
    "    listDay('Name of days are:', 'Sunday', 'Monday', 'Tuesday', 'Wednesday', 'Thursday', 'Friday', 'Saturday')\n",
    "main() # function calling."
   ]
  },
  {
   "cell_type": "code",
   "execution_count": null,
   "id": "14a44e97-2e1e-442f-9064-440dd8de7fe2",
   "metadata": {},
   "outputs": [],
   "source": []
  }
 ],
 "metadata": {
  "kernelspec": {
   "display_name": "Python 3 (ipykernel)",
   "language": "python",
   "name": "python3"
  },
  "language_info": {
   "codemirror_mode": {
    "name": "ipython",
    "version": 3
   },
   "file_extension": ".py",
   "mimetype": "text/x-python",
   "name": "python",
   "nbconvert_exporter": "python",
   "pygments_lexer": "ipython3",
   "version": "3.12.11"
  }
 },
 "nbformat": 4,
 "nbformat_minor": 5
}
