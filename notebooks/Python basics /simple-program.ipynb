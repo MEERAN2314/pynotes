{
 "cells": [
  {
   "cell_type": "code",
   "execution_count": 1,
   "id": "60e9bc30-3978-4dbf-93b8-a228495351bd",
   "metadata": {},
   "outputs": [],
   "source": [
    "#  simple programe in python "
   ]
  },
  {
   "cell_type": "code",
   "execution_count": 2,
   "id": "74fc40be-f555-464a-b1cf-791df63a150c",
   "metadata": {},
   "outputs": [
    {
     "name": "stdout",
     "output_type": "stream",
     "text": [
      "Hi Meeran\n"
     ]
    }
   ],
   "source": [
    "print(\"Hi Meeran\")"
   ]
  },
  {
   "cell_type": "code",
   "execution_count": 3,
   "id": "594ce963-aafb-44c0-841c-f148b8fb279a",
   "metadata": {},
   "outputs": [
    {
     "name": "stdout",
     "output_type": "stream",
     "text": [
      "Hello World\n"
     ]
    }
   ],
   "source": [
    "print(\"Hello World\")"
   ]
  },
  {
   "cell_type": "code",
   "execution_count": 4,
   "id": "498a4a29-ed2b-4b30-a396-f59248e26081",
   "metadata": {},
   "outputs": [
    {
     "name": "stdin",
     "output_type": "stream",
     "text": [
      "enter your name Meeran\n"
     ]
    }
   ],
   "source": [
    "person = input(\"enter your name\")"
   ]
  },
  {
   "cell_type": "code",
   "execution_count": 5,
   "id": "9bdabfbc-2ef3-47b8-9bf7-b7caf1e83b36",
   "metadata": {},
   "outputs": [
    {
     "name": "stdout",
     "output_type": "stream",
     "text": [
      "Hello Meeran\n"
     ]
    }
   ],
   "source": [
    "print(\"Hello\",person)"
   ]
  },
  {
   "cell_type": "code",
   "execution_count": 6,
   "id": "3b599c7b-4127-4462-b35c-dbeeb38bc0b5",
   "metadata": {},
   "outputs": [
    {
     "name": "stdin",
     "output_type": "stream",
     "text": [
      "enter your name Meeran\n"
     ]
    },
    {
     "name": "stdout",
     "output_type": "stream",
     "text": [
      "Hello Meeran\n"
     ]
    }
   ],
   "source": [
    "person = input(\"enter your name\")\n",
    "print(\"Hello\",person)\n"
   ]
  },
  {
   "cell_type": "code",
   "execution_count": 7,
   "id": "d6dcc3ca-f931-42da-9ea4-4b724ddfe6a9",
   "metadata": {},
   "outputs": [],
   "source": [
    "num1 = 10 "
   ]
  },
  {
   "cell_type": "code",
   "execution_count": 8,
   "id": "6590cdfb-9a11-4a8d-8a70-228e13f69102",
   "metadata": {},
   "outputs": [],
   "source": [
    "num2 = 20 "
   ]
  },
  {
   "cell_type": "code",
   "execution_count": 9,
   "id": "106c777b-48f7-47f7-a38b-21b873d6b1b8",
   "metadata": {},
   "outputs": [
    {
     "name": "stdout",
     "output_type": "stream",
     "text": [
      "30\n"
     ]
    }
   ],
   "source": [
    "print(num1+num2)"
   ]
  },
  {
   "cell_type": "code",
   "execution_count": 10,
   "id": "5348303e-5983-4a7f-a501-4ae877de506c",
   "metadata": {},
   "outputs": [],
   "source": [
    "num1 = 10 \n",
    "\n",
    "num2 = 20 "
   ]
  },
  {
   "cell_type": "code",
   "execution_count": 11,
   "id": "5e2054e7-8e3f-43d5-a662-b97412411e5a",
   "metadata": {},
   "outputs": [
    {
     "name": "stdout",
     "output_type": "stream",
     "text": [
      "30\n"
     ]
    }
   ],
   "source": [
    "print(num1+num2)"
   ]
  },
  {
   "cell_type": "code",
   "execution_count": 12,
   "id": "5dd1795a-8436-4749-a0f2-b50003a38ae3",
   "metadata": {},
   "outputs": [],
   "source": [
    "num1 = 837\n",
    "\n",
    "num2 = 4235"
   ]
  },
  {
   "cell_type": "code",
   "execution_count": 13,
   "id": "e20893f6-d385-4c75-8952-cd090bff5eef",
   "metadata": {},
   "outputs": [
    {
     "name": "stdout",
     "output_type": "stream",
     "text": [
      "5072\n"
     ]
    }
   ],
   "source": [
    "print(num1+num2)\n"
   ]
  },
  {
   "cell_type": "code",
   "execution_count": 14,
   "id": "23f438bd-39a8-4ca2-a9f1-b3e778355dd6",
   "metadata": {},
   "outputs": [
    {
     "name": "stdin",
     "output_type": "stream",
     "text": [
      "enter the number : 235\n",
      "enter another number : 33\n"
     ]
    }
   ],
   "source": [
    "number1 = int(input(\"enter the number :\"))\n",
    "number2 = int(input(\"enter another number :\"))"
   ]
  },
  {
   "cell_type": "code",
   "execution_count": 15,
   "id": "c353344b-ef3c-446a-8975-3206f3d81a23",
   "metadata": {},
   "outputs": [
    {
     "name": "stdout",
     "output_type": "stream",
     "text": [
      "268\n"
     ]
    }
   ],
   "source": [
    "print(number1+number2)"
   ]
  },
  {
   "cell_type": "code",
   "execution_count": null,
   "id": "69c2b427-05c8-43dd-87c1-54cac382f1d4",
   "metadata": {},
   "outputs": [],
   "source": []
  },
  {
   "cell_type": "code",
   "execution_count": null,
   "id": "fd89b864-51c8-49e5-a8c4-cc051e54a5d8",
   "metadata": {},
   "outputs": [],
   "source": []
  }
 ],
 "metadata": {
  "kernelspec": {
   "display_name": "Python 3 (ipykernel)",
   "language": "python",
   "name": "python3"
  },
  "language_info": {
   "codemirror_mode": {
    "name": "ipython",
    "version": 3
   },
   "file_extension": ".py",
   "mimetype": "text/x-python",
   "name": "python",
   "nbconvert_exporter": "python",
   "pygments_lexer": "ipython3",
   "version": "3.12.11"
  }
 },
 "nbformat": 4,
 "nbformat_minor": 5
}
