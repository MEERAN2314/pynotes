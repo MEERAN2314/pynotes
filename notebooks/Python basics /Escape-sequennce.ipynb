{
 "cells": [
  {
   "cell_type": "code",
   "execution_count": 1,
   "id": "74d9497f-13b7-4ae5-b755-c767a9d1c3dc",
   "metadata": {},
   "outputs": [],
   "source": [
    "#  Escape Sequence in Python"
   ]
  },
  {
   "cell_type": "code",
   "execution_count": 2,
   "id": "24a3164f-6569-4701-ab26-67dd68599292",
   "metadata": {},
   "outputs": [],
   "source": [
    "#  error code for escape sequence \n"
   ]
  },
  {
   "cell_type": "code",
   "execution_count": 4,
   "id": "dc363080-cfac-47fb-adc3-9d2611fa7609",
   "metadata": {},
   "outputs": [
    {
     "name": "stdout",
     "output_type": "stream",
     "text": [
      "he said 'python is fun ultimated'\n"
     ]
    }
   ],
   "source": [
    "print(\"he said 'python is fun ultimated'\")"
   ]
  },
  {
   "cell_type": "code",
   "execution_count": 5,
   "id": "8fcc0c88-ce02-425c-92dd-ba49c40b942d",
   "metadata": {},
   "outputs": [
    {
     "name": "stdout",
     "output_type": "stream",
     "text": [
      "He said \"Python is fun unlimited\"\n"
     ]
    }
   ],
   "source": [
    "print('He said \"Python is fun unlimited\"')"
   ]
  },
  {
   "cell_type": "code",
   "execution_count": 6,
   "id": "4c33f183-837d-42c4-99a7-90c3e313ea05",
   "metadata": {},
   "outputs": [
    {
     "name": "stdout",
     "output_type": "stream",
     "text": [
      "He said 'Python is fun unlimited'\n"
     ]
    }
   ],
   "source": [
    "print('He said \\'Python is fun unlimited\\'')"
   ]
  },
  {
   "cell_type": "code",
   "execution_count": 7,
   "id": "5301c460-d80c-4d79-866e-3b3eea24faba",
   "metadata": {},
   "outputs": [
    {
     "name": "stdout",
     "output_type": "stream",
     "text": [
      "Welcome to\tScientech Easy\n"
     ]
    }
   ],
   "source": [
    "print(\"Welcome to\\tScientech Easy\") # --> gives a tab between words"
   ]
  },
  {
   "cell_type": "code",
   "execution_count": 8,
   "id": "2e8466a3-a001-49e9-ba67-97314351e7b5",
   "metadata": {},
   "outputs": [
    {
     "name": "stdout",
     "output_type": "stream",
     "text": [
      "Good Morning \n",
      "Scientech Easy\n"
     ]
    }
   ],
   "source": [
    "print(\"Good Morning \\nScientech Easy\")  #--> breaks one line into two lines "
   ]
  },
  {
   "cell_type": "code",
   "execution_count": 9,
   "id": "89c1dffb-789b-4ec6-a7f0-37b249e291ed",
   "metadata": {},
   "outputs": [
    {
     "name": "stdout",
     "output_type": "stream",
     "text": [
      "*\n",
      "**\n",
      "***\n",
      "\n"
     ]
    }
   ],
   "source": [
    "print(\"*\\n**\\n***\\n\")"
   ]
  },
  {
   "cell_type": "code",
   "execution_count": 10,
   "id": "b9daab6a-3827-4895-8af8-9af26f4b2169",
   "metadata": {},
   "outputs": [
    {
     "name": "stdout",
     "output_type": "stream",
     "text": [
      "Good Evening \\Scientech Easy\\\n"
     ]
    }
   ],
   "source": [
    "print('Good Evening \\\\Scientech Easy\\\\') #--> prints the text with backslash\n"
   ]
  },
  {
   "cell_type": "code",
   "execution_count": 11,
   "id": "6163732f-50f5-43f6-bcae-5680bb8a4be2",
   "metadata": {},
   "outputs": [
    {
     "name": "stdout",
     "output_type": "stream",
     "text": [
      "Scientech Easy\n"
     ]
    }
   ],
   "source": [
    "print('Good Morning \\rScientech Easy') # --> moves the output means it will not print the string before \\r\n"
   ]
  },
  {
   "cell_type": "code",
   "execution_count": 12,
   "id": "2937c894-4e97-436c-b60d-0ad2ff6115c9",
   "metadata": {},
   "outputs": [],
   "source": [
    "emp_code = \"IT-35264\""
   ]
  },
  {
   "cell_type": "code",
   "execution_count": 13,
   "id": "301ab8da-7226-4afc-a88d-10f219b32fef",
   "metadata": {},
   "outputs": [],
   "source": [
    "name = \"Jerin\"\n"
   ]
  },
  {
   "cell_type": "code",
   "execution_count": 14,
   "id": "c3b1ee29-c3f6-4e82-b6bc-d41b9b631262",
   "metadata": {},
   "outputs": [],
   "source": [
    "desig = \"Jr. Python Developer\""
   ]
  },
  {
   "cell_type": "code",
   "execution_count": 15,
   "id": "d81d24fe-ccdf-4da7-868e-ca630099db4f",
   "metadata": {},
   "outputs": [],
   "source": [
    "comp = \"tact\""
   ]
  },
  {
   "cell_type": "code",
   "execution_count": 16,
   "id": "8f6edff5-424b-4e72-9aef-a693e117d21a",
   "metadata": {},
   "outputs": [],
   "source": [
    "salary = \"USD 40000\""
   ]
  },
  {
   "cell_type": "code",
   "execution_count": 17,
   "id": "f2adfe5f-5b98-4a61-a6b5-de019062c02c",
   "metadata": {},
   "outputs": [
    {
     "name": "stdout",
     "output_type": "stream",
     "text": [
      "Employee code:  IT-35264 \n",
      "Name:  Jerin\n"
     ]
    }
   ],
   "source": [
    "print(\"Employee code: \", emp_code, \"\\nName: \", name)"
   ]
  },
  {
   "cell_type": "code",
   "execution_count": 18,
   "id": "df2b768f-4bc2-4057-8eae-77d2d9151650",
   "metadata": {},
   "outputs": [
    {
     "name": "stdout",
     "output_type": "stream",
     "text": [
      "Designation:  Jr. Python Developer \tCompany:  tact\n"
     ]
    }
   ],
   "source": [
    "print(\"Designation: \",desig, \"\\tCompany: \", comp)"
   ]
  },
  {
   "cell_type": "code",
   "execution_count": 19,
   "id": "3de07fac-2b9e-4598-a948-c04a5f2a0705",
   "metadata": {},
   "outputs": [
    {
     "name": "stdout",
     "output_type": "stream",
     "text": [
      "Annual Salary:  USD 40000\n"
     ]
    }
   ],
   "source": [
    "print(\"Annual Salary: \", salary)"
   ]
  },
  {
   "cell_type": "code",
   "execution_count": 20,
   "id": "8750dd42-c15f-4f9c-b6b0-e7ef0d52e346",
   "metadata": {},
   "outputs": [
    {
     "name": "stdout",
     "output_type": "stream",
     "text": [
      "Employee code:  IT-35264 \n",
      "Name:  Jerin\n",
      "Designation:  Jr. Python Developer \tCompany:  tact\n",
      "Annual Salary:  USD 40000\n"
     ]
    }
   ],
   "source": [
    "print(\"Employee code: \", emp_code, \"\\nName: \", name)\n",
    "print(\"Designation: \",desig, \"\\tCompany: \", comp)\n",
    "print(\"Annual Salary: \", salary)\n"
   ]
  },
  {
   "cell_type": "code",
   "execution_count": null,
   "id": "54c76ebe-24dc-4a11-8ab7-05b48a6a3546",
   "metadata": {},
   "outputs": [],
   "source": []
  }
 ],
 "metadata": {
  "kernelspec": {
   "display_name": "Python 3 (ipykernel)",
   "language": "python",
   "name": "python3"
  },
  "language_info": {
   "codemirror_mode": {
    "name": "ipython",
    "version": 3
   },
   "file_extension": ".py",
   "mimetype": "text/x-python",
   "name": "python",
   "nbconvert_exporter": "python",
   "pygments_lexer": "ipython3",
   "version": "3.12.11"
  }
 },
 "nbformat": 4,
 "nbformat_minor": 5
}
