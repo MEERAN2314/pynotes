{
 "cells": [
  {
   "cell_type": "code",
   "execution_count": 1,
   "id": "c0e8be3a-846e-4dce-8506-b9f83c38a398",
   "metadata": {},
   "outputs": [],
   "source": [
    "#  Arithmetic Expression"
   ]
  },
  {
   "cell_type": "code",
   "execution_count": 2,
   "id": "5516914d-a872-486e-bf26-e04778a66e53",
   "metadata": {},
   "outputs": [],
   "source": [
    "num1 = 20"
   ]
  },
  {
   "cell_type": "code",
   "execution_count": 3,
   "id": "f86f7f87-cd06-4387-b021-61fa3ccd6c42",
   "metadata": {},
   "outputs": [],
   "source": [
    "num2 = 40"
   ]
  },
  {
   "cell_type": "code",
   "execution_count": 4,
   "id": "53e9d6cb-6fc7-487f-be76-66cb810b12af",
   "metadata": {},
   "outputs": [],
   "source": [
    "sum = num1 + num2 # An arithmetic expression."
   ]
  },
  {
   "cell_type": "code",
   "execution_count": 5,
   "id": "99702b27-8943-4f16-b5a6-baa06982b47d",
   "metadata": {},
   "outputs": [
    {
     "name": "stdout",
     "output_type": "stream",
     "text": [
      "Sum of two numbers is  60\n"
     ]
    }
   ],
   "source": [
    "print(\"Sum of two numbers is \", sum)"
   ]
  },
  {
   "cell_type": "code",
   "execution_count": 6,
   "id": "e61e28c6-8155-465e-a112-bf00031f2fd5",
   "metadata": {},
   "outputs": [
    {
     "name": "stdout",
     "output_type": "stream",
     "text": [
      "Sum of two numbers is  110\n"
     ]
    }
   ],
   "source": [
    "num1 = 88\n",
    "num2 = 22\n",
    "sum = num1 + num2 # An arithmetic expression.\n",
    "print(\"Sum of two numbers is \", sum)\n"
   ]
  },
  {
   "cell_type": "code",
   "execution_count": 7,
   "id": "ce2660c9-35a2-4816-937e-4ed3bd9c81e0",
   "metadata": {},
   "outputs": [],
   "source": [
    "# Relational/Conditional Expression"
   ]
  },
  {
   "cell_type": "code",
   "execution_count": 8,
   "id": "42786574-66d8-4eba-8982-50c4f22d8f24",
   "metadata": {},
   "outputs": [
    {
     "name": "stdin",
     "output_type": "stream",
     "text": [
      "Enter the first number:  45\n"
     ]
    }
   ],
   "source": [
    "num1 = int(input(\"Enter the first number: \"))"
   ]
  },
  {
   "cell_type": "code",
   "execution_count": 9,
   "id": "b78fcc08-7e41-4a58-bcbd-d9f04cbd318e",
   "metadata": {},
   "outputs": [
    {
     "name": "stdin",
     "output_type": "stream",
     "text": [
      "Enter the second number:  12\n"
     ]
    }
   ],
   "source": [
    "num2 = int(input(\"Enter the second number: \"))"
   ]
  },
  {
   "cell_type": "code",
   "execution_count": 10,
   "id": "7d4595b9-7085-4072-87b6-d309a3cbe460",
   "metadata": {},
   "outputs": [
    {
     "name": "stdin",
     "output_type": "stream",
     "text": [
      "Enter the third number:  69\n"
     ]
    }
   ],
   "source": [
    "num3 = int(input(\"Enter the third number: \"))"
   ]
  },
  {
   "cell_type": "code",
   "execution_count": 11,
   "id": "30ddf3dd-5b93-4a0f-b577-0f44baa484ce",
   "metadata": {},
   "outputs": [
    {
     "name": "stdout",
     "output_type": "stream",
     "text": [
      "69 is a greater number among the three numbers.\n"
     ]
    }
   ],
   "source": [
    "if num1 > num2 and num1 > num3:\n",
    "    print(num1, 'is a greater number among the three numbers.')\n",
    "elif num2 > num1 and num2 > num3:\n",
    "    print(num2, 'is a greater number among the three numbers.')\n",
    "else:\n",
    "    print(num3, 'is a greater number among the three numbers.')"
   ]
  },
  {
   "cell_type": "code",
   "execution_count": 12,
   "id": "e2e594c3-8f27-439c-96bf-59597275499f",
   "metadata": {},
   "outputs": [
    {
     "name": "stdin",
     "output_type": "stream",
     "text": [
      "Enter the first number:  67\n",
      "Enter the second number:  88\n",
      "Enter the third number:  23\n"
     ]
    },
    {
     "name": "stdout",
     "output_type": "stream",
     "text": [
      "88 is a greater number among the three numbers.\n"
     ]
    }
   ],
   "source": [
    "num1 = int(input(\"Enter the first number: \"))\n",
    "num2 = int(input(\"Enter the second number: \"))\n",
    "num3 = int(input(\"Enter the third number: \"))\n",
    "\n",
    "if num1 > num2 and num1 > num3:\n",
    "    print(num1, 'is a greater number among the three numbers.')\n",
    "elif num2 > num1 and num2 > num3:\n",
    "    print(num2, 'is a greater number among the three numbers.')\n",
    "else:\n",
    "    print(num3, 'is a greater number among the three numbers.')\n"
   ]
  },
  {
   "cell_type": "code",
   "execution_count": 13,
   "id": "f124f199-5a1c-44e0-84f0-74a4cd5977a9",
   "metadata": {},
   "outputs": [
    {
     "name": "stdin",
     "output_type": "stream",
     "text": [
      "Enter your age:  20\n"
     ]
    }
   ],
   "source": [
    "Age = int(input(\"Enter your age: \"))"
   ]
  },
  {
   "cell_type": "code",
   "execution_count": 14,
   "id": "06150581-419d-4366-8ad6-17fd1a38b1cd",
   "metadata": {},
   "outputs": [
    {
     "name": "stdout",
     "output_type": "stream",
     "text": [
      "You can cast vote.\n"
     ]
    }
   ],
   "source": [
    "if Age >= 18:\n",
    "    print('You can cast vote.')\n",
    "else:\n",
    "    print('You cannot cast vote.')"
   ]
  },
  {
   "cell_type": "code",
   "execution_count": 15,
   "id": "b8c52e3b-49f8-47f3-aa98-55f1a2e222b9",
   "metadata": {},
   "outputs": [
    {
     "name": "stdin",
     "output_type": "stream",
     "text": [
      "Enter your age:  12\n"
     ]
    },
    {
     "name": "stdout",
     "output_type": "stream",
     "text": [
      "You cannot cast vote.\n"
     ]
    }
   ],
   "source": [
    "Age = int(input(\"Enter your age: \"))\n",
    "if Age >= 18:\n",
    "    print('You can cast vote.')\n",
    "else:\n",
    "    print('You cannot cast vote.')\n"
   ]
  },
  {
   "cell_type": "code",
   "execution_count": 16,
   "id": "ab005a76-1660-42a2-b315-17deb8b11a85",
   "metadata": {},
   "outputs": [],
   "source": [
    "# Logical Expression"
   ]
  },
  {
   "cell_type": "code",
   "execution_count": 17,
   "id": "aaf37969-236e-49d9-8735-b2b156655f64",
   "metadata": {},
   "outputs": [],
   "source": [
    "p = 10"
   ]
  },
  {
   "cell_type": "code",
   "execution_count": 18,
   "id": "ba40a95b-ce7a-4f8a-97c3-36391e467e76",
   "metadata": {},
   "outputs": [],
   "source": [
    "q = 15"
   ]
  },
  {
   "cell_type": "code",
   "execution_count": 19,
   "id": "ed3a0b9d-3981-4dac-940a-d4db56d02514",
   "metadata": {},
   "outputs": [],
   "source": [
    "r = 5"
   ]
  },
  {
   "cell_type": "code",
   "execution_count": 20,
   "id": "004fa886-9b88-4366-946b-0e5b2b73da92",
   "metadata": {},
   "outputs": [],
   "source": [
    "s = 20"
   ]
  },
  {
   "cell_type": "code",
   "execution_count": 21,
   "id": "90369883-d9a8-43a5-ae31-8d3e1d9ff5ea",
   "metadata": {},
   "outputs": [],
   "source": [
    "result = p > q and r > s"
   ]
  },
  {
   "cell_type": "code",
   "execution_count": 22,
   "id": "4e7ee9f2-5431-4311-a9a7-fcea213a0e2d",
   "metadata": {},
   "outputs": [
    {
     "name": "stdout",
     "output_type": "stream",
     "text": [
      "Logical expression (p > q and r > s) returns  False\n"
     ]
    }
   ],
   "source": [
    "print(\"Logical expression (p > q and r > s) returns \", result)"
   ]
  },
  {
   "cell_type": "code",
   "execution_count": 23,
   "id": "521a623a-3e1d-4282-811a-e88e22b405bb",
   "metadata": {},
   "outputs": [
    {
     "name": "stdout",
     "output_type": "stream",
     "text": [
      "Logical expression (p > q and r > s) returns  False\n"
     ]
    }
   ],
   "source": [
    "p = 10\n",
    "q = 15\n",
    "r = 5\n",
    "s = 20\n",
    "result = p > q and r > s\n",
    "print(\"Logical expression (p > q and r > s) returns \", result)"
   ]
  },
  {
   "cell_type": "code",
   "execution_count": null,
   "id": "9073a972-8f3d-4b56-afc2-dfb3030cd0bc",
   "metadata": {},
   "outputs": [],
   "source": []
  }
 ],
 "metadata": {
  "kernelspec": {
   "display_name": "Python 3 (ipykernel)",
   "language": "python",
   "name": "python3"
  },
  "language_info": {
   "codemirror_mode": {
    "name": "ipython",
    "version": 3
   },
   "file_extension": ".py",
   "mimetype": "text/x-python",
   "name": "python",
   "nbconvert_exporter": "python",
   "pygments_lexer": "ipython3",
   "version": "3.12.11"
  }
 },
 "nbformat": 4,
 "nbformat_minor": 5
}
