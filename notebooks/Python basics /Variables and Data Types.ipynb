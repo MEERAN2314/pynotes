{
 "cells": [
  {
   "cell_type": "code",
   "execution_count": 5,
   "id": "69c4476b-c63b-435f-9a26-7da4bbcf8df2",
   "metadata": {},
   "outputs": [
    {
     "name": "stdout",
     "output_type": "stream",
     "text": [
      "<class 'int'>\n",
      "3.14 converted to int: 3\n",
      "42 is now a string\n",
      "Hello, Python!\n",
      "Its true\n"
     ]
    }
   ],
   "source": [
    "integer_var = 42\n",
    "float_var = 3.14\n",
    "string_var = \"Hello, Python!\"\n",
    "boolean_var = True\n",
    "none_var = None\n",
    "\n",
    "\n",
    "print(type(integer_var))  \n",
    "print(float_var, \"converted to int:\", int(float_var))  \n",
    "print(str(integer_var) + \" is now a string\")  \n",
    "print(str(string_var))\n",
    "\n",
    "if(boolean_var):\n",
    "    print(\"Its true\")\n",
    "else:\n",
    "    print(\"Its false\")\n",
    "\n",
    "\n",
    "a, b, c = 1, 2.0, \"three\""
   ]
  },
  {
   "cell_type": "code",
   "execution_count": null,
   "id": "d5b67777-9bb7-45bf-99f4-25bcf619ed0b",
   "metadata": {},
   "outputs": [],
   "source": []
  }
 ],
 "metadata": {
  "kernelspec": {
   "display_name": "Python 3 (ipykernel)",
   "language": "python",
   "name": "python3"
  },
  "language_info": {
   "codemirror_mode": {
    "name": "ipython",
    "version": 3
   },
   "file_extension": ".py",
   "mimetype": "text/x-python",
   "name": "python",
   "nbconvert_exporter": "python",
   "pygments_lexer": "ipython3",
   "version": "3.12.11"
  }
 },
 "nbformat": 4,
 "nbformat_minor": 5
}
